{
  "nbformat": 4,
  "nbformat_minor": 0,
  "metadata": {
    "colab": {
      "provenance": [],
      "authorship_tag": "ABX9TyOKLtWYaD+6/aWo3pRh6viz",
      "include_colab_link": true
    },
    "kernelspec": {
      "name": "python3",
      "display_name": "Python 3"
    },
    "language_info": {
      "name": "python"
    }
  },
  "cells": [
    {
      "cell_type": "markdown",
      "metadata": {
        "id": "view-in-github",
        "colab_type": "text"
      },
      "source": [
        "<a href=\"https://colab.research.google.com/github/JSJeong-me/AI-Innovation-2024/blob/main/1-3-WineDataSet-Load.ipynb\" target=\"_parent\"><img src=\"https://colab.research.google.com/assets/colab-badge.svg\" alt=\"Open In Colab\"/></a>"
      ]
    },
    {
      "cell_type": "code",
      "execution_count": 1,
      "metadata": {
        "colab": {
          "base_uri": "https://localhost:8080/"
        },
        "id": "2M5JtQ_Tb1Rk",
        "outputId": "7973ddfb-ddc9-4dec-9068-46070744a62c"
      },
      "outputs": [
        {
          "output_type": "execute_result",
          "data": {
            "text/plain": [
              "torch.Size([1599, 12])"
            ]
          },
          "metadata": {},
          "execution_count": 1
        }
      ],
      "source": [
        "import torch\n",
        "import pandas as pd\n",
        "\n",
        "# Load the CSV file into a pandas DataFrame\n",
        "file_path = './winequality-red.csv'\n",
        "df = pd.read_csv(file_path)\n",
        "\n",
        "# Convert the DataFrame to a PyTorch tensor\n",
        "tensor_data = torch.tensor(df.values, dtype=torch.float32)\n",
        "\n",
        "# Get the shape (dimensions) of the tensor\n",
        "tensor_shape = tensor_data.shape\n",
        "\n",
        "tensor_shape\n"
      ]
    }
  ]
}