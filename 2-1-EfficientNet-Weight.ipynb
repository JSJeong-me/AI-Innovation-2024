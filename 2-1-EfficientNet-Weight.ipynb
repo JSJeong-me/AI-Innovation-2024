{
  "nbformat": 4,
  "nbformat_minor": 0,
  "metadata": {
    "colab": {
      "provenance": [],
      "authorship_tag": "ABX9TyOgf2j8j/S6ttMBRGv3TTey",
      "include_colab_link": true
    },
    "kernelspec": {
      "name": "python3",
      "display_name": "Python 3"
    },
    "language_info": {
      "name": "python"
    }
  },
  "cells": [
    {
      "cell_type": "markdown",
      "metadata": {
        "id": "view-in-github",
        "colab_type": "text"
      },
      "source": [
        "<a href=\"https://colab.research.google.com/github/JSJeong-me/AI-Innovation-2024/blob/main/2-1-EfficientNet-Weight.ipynb\" target=\"_parent\"><img src=\"https://colab.research.google.com/assets/colab-badge.svg\" alt=\"Open In Colab\"/></a>"
      ]
    },
    {
      "cell_type": "code",
      "source": [
        "!pip install torch torchvision efficientnet-pytorch"
      ],
      "metadata": {
        "id": "rbs2rViqLY9s"
      },
      "execution_count": null,
      "outputs": []
    },
    {
      "cell_type": "code",
      "execution_count": 2,
      "metadata": {
        "colab": {
          "base_uri": "https://localhost:8080/"
        },
        "id": "VrBf3mJgLKdQ",
        "outputId": "0c952740-707c-4088-c6d1-1beeeed16aa1"
      },
      "outputs": [
        {
          "output_type": "stream",
          "name": "stderr",
          "text": [
            "Downloading: \"https://github.com/lukemelas/EfficientNet-PyTorch/releases/download/1.0/efficientnet-b0-355c32eb.pth\" to /root/.cache/torch/hub/checkpoints/efficientnet-b0-355c32eb.pth\n",
            "100%|██████████| 20.4M/20.4M [00:00<00:00, 363MB/s]\n"
          ]
        },
        {
          "output_type": "stream",
          "name": "stdout",
          "text": [
            "Loaded pretrained weights for efficientnet-b0\n",
            "African bush elephant: 0.36\n",
            "tusker: 0.27\n",
            "Asian elephant: 0.20\n"
          ]
        }
      ],
      "source": [
        "import torch\n",
        "from torchvision import transforms\n",
        "from PIL import Image\n",
        "from efficientnet_pytorch import EfficientNet\n",
        "\n",
        "# Load the image\n",
        "img_path = './elephant1.jpg'  # Replace with your image path\n",
        "img = Image.open(img_path)\n",
        "\n",
        "# Define the transformations to apply to the image\n",
        "transform = transforms.Compose([\n",
        "    transforms.Resize(224),\n",
        "    transforms.CenterCrop(224),\n",
        "    transforms.ToTensor(),\n",
        "    transforms.Normalize(mean=[0.485, 0.456, 0.406], std=[0.229, 0.224, 0.225]),\n",
        "])\n",
        "\n",
        "# Apply the transformations to the image\n",
        "img = transform(img).unsqueeze(0)  # Add batch dimension\n",
        "\n",
        "# Load the pre-trained EfficientNet model (e.g., EfficientNet-B0)\n",
        "model = EfficientNet.from_pretrained('efficientnet-b0')\n",
        "\n",
        "# Put the model in evaluation mode\n",
        "model.eval()\n",
        "\n",
        "# Make the prediction\n",
        "with torch.no_grad():\n",
        "    outputs = model(img)\n",
        "    probabilities = torch.nn.functional.softmax(outputs[0], dim=0)\n",
        "\n",
        "# Load ImageNet class labels\n",
        "LABELS_URL = \"https://raw.githubusercontent.com/anishathalye/imagenet-simple-labels/master/imagenet-simple-labels.json\"\n",
        "import urllib\n",
        "import json\n",
        "\n",
        "with urllib.request.urlopen(LABELS_URL) as url:\n",
        "    labels = json.loads(url.read().decode())\n",
        "\n",
        "# Get the top 3 predictions\n",
        "top3_prob, top3_catid = torch.topk(probabilities, 3)\n",
        "\n",
        "for i in range(top3_prob.size(0)):\n",
        "    print(f\"{labels[top3_catid[i]]}: {top3_prob[i].item():.2f}\")\n"
      ]
    }
  ]
}