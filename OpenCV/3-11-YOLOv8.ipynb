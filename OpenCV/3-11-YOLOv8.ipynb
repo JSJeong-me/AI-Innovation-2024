{
  "cells": [
    {
      "cell_type": "markdown",
      "metadata": {
        "id": "view-in-github",
        "colab_type": "text"
      },
      "source": [
        "<a href=\"https://colab.research.google.com/github/JSJeong-me/AI-Innovation-2024/blob/main/OpenCV/3-11-YOLOv8.ipynb\" target=\"_parent\"><img src=\"https://colab.research.google.com/assets/colab-badge.svg\" alt=\"Open In Colab\"/></a>"
      ]
    },
    {
      "cell_type": "code",
      "execution_count": null,
      "id": "e8c6bbb1-68dd-4b44-a2ac-89e7f9160a12",
      "metadata": {
        "id": "e8c6bbb1-68dd-4b44-a2ac-89e7f9160a12"
      },
      "outputs": [],
      "source": [
        "!pip install ultralytics"
      ]
    },
    {
      "cell_type": "code",
      "source": [
        "import urllib.request\n",
        "\n",
        "# URL of the file to download\n",
        "url = \"https://github.com/ultralytics/ultralytics/raw/main/ultralytics/cfg/trackers/bytetrack.yaml\"\n",
        "\n",
        "# Path where the file will be saved\n",
        "save_path = \"/content/bytetrack.yaml\"\n",
        "\n",
        "# Download the file\n",
        "urllib.request.urlretrieve(url, save_path)"
      ],
      "metadata": {
        "id": "WialWy03hopP",
        "outputId": "d93ca130-a167-473b-a5a7-3e0f02e64e17",
        "colab": {
          "base_uri": "https://localhost:8080/"
        }
      },
      "id": "WialWy03hopP",
      "execution_count": null,
      "outputs": [
        {
          "output_type": "execute_result",
          "data": {
            "text/plain": [
              "('/content/bytetrack.yaml', <http.client.HTTPMessage at 0x7c0381f502d0>)"
            ]
          },
          "metadata": {},
          "execution_count": 2
        }
      ]
    },
    {
      "cell_type": "code",
      "source": [
        "!pip install gdown"
      ],
      "metadata": {
        "id": "TEBgYvz1ufIZ"
      },
      "id": "TEBgYvz1ufIZ",
      "execution_count": null,
      "outputs": []
    },
    {
      "cell_type": "code",
      "source": [
        "!gdown https://drive.google.com/uc?id=1xamvh-VvGZHNV8vVbHXJtkx1YxbiGbJH"
      ],
      "metadata": {
        "colab": {
          "base_uri": "https://localhost:8080/"
        },
        "id": "BkoewcmVukJw",
        "outputId": "737228e9-064b-4895-8559-58384f411e6c"
      },
      "id": "BkoewcmVukJw",
      "execution_count": null,
      "outputs": [
        {
          "output_type": "stream",
          "name": "stdout",
          "text": [
            "Downloading...\n",
            "From: https://drive.google.com/uc?id=1xamvh-VvGZHNV8vVbHXJtkx1YxbiGbJH\n",
            "To: /content/vtest.avi\n",
            "\r  0% 0.00/8.13M [00:00<?, ?B/s]\r 58% 4.72M/8.13M [00:00<00:00, 36.1MB/s]\r100% 8.13M/8.13M [00:00<00:00, 52.4MB/s]\n"
          ]
        }
      ]
    },
    {
      "cell_type": "code",
      "execution_count": null,
      "id": "d309e4e0-9834-4b85-9eb5-dd180717eae1",
      "metadata": {
        "tags": [],
        "id": "d309e4e0-9834-4b85-9eb5-dd180717eae1"
      },
      "outputs": [],
      "source": [
        "from ultralytics import YOLO\n",
        "\n",
        "# Load an official or custom model\n",
        "model = YOLO(\"yolov8n.pt\")  # Load an official Detect model\n",
        "# model = YOLO(\"yolov8n-seg.pt\")  # Load an official Segment model\n",
        "# model = YOLO(\"yolov8n-pose.pt\")  # Load an official Pose model\n",
        "# model = YOLO(\"path/to/best.pt\")  # Load a custom trained model\n",
        "\n",
        "# Perform tracking with the model\n",
        "# results = model.track(\"B3-ParkingEXIT.mp4\", show=True)  # Tracking with default tracker\n",
        "results = model.track(\"vtest.avi\",conf=0.5, iou=0.7, show=False, tracker=\"bytetrack.yaml\")  # with ByteTrack"
      ]
    },
    {
      "cell_type": "code",
      "execution_count": null,
      "id": "7c0410c7-0184-4315-aac1-99c39d541253",
      "metadata": {
        "id": "7c0410c7-0184-4315-aac1-99c39d541253"
      },
      "outputs": [],
      "source": [
        "results"
      ]
    }
  ],
  "metadata": {
    "kernelspec": {
      "display_name": "Python 3",
      "name": "python3"
    },
    "language_info": {
      "codemirror_mode": {
        "name": "ipython",
        "version": 3
      },
      "file_extension": ".py",
      "mimetype": "text/x-python",
      "name": "python",
      "nbconvert_exporter": "python",
      "pygments_lexer": "ipython3",
      "version": "3.11.3"
    },
    "colab": {
      "provenance": [],
      "gpuType": "T4",
      "include_colab_link": true
    },
    "accelerator": "GPU"
  },
  "nbformat": 4,
  "nbformat_minor": 5
}