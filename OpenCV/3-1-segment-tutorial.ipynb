{
  "cells": [
    {
      "cell_type": "markdown",
      "metadata": {
        "id": "view-in-github",
        "colab_type": "text"
      },
      "source": [
        "<a href=\"https://colab.research.google.com/github/JSJeong-me/AI-Innovation-2024/blob/main/OpenCV/3-1-segment-tutorial.ipynb\" target=\"_parent\"><img src=\"https://colab.research.google.com/assets/colab-badge.svg\" alt=\"Open In Colab\"/></a>"
      ]
    },
    {
      "cell_type": "markdown",
      "metadata": {
        "id": "LGZMO4TGtpoC"
      },
      "source": [
        "# YOLOv5 Instance Segmentation Tutorial\n",
        "\n",
        "YOLOv5 supports instance segmentation tasks too. This is the official YOLOv5 instance segmentation notebook tutorial. YOLOv5 is maintained by [Ultralytics](https://github.com/ultralytics/yolov5).\n",
        "\n",
        "This notebook covers:\n",
        "\n",
        "*   Inference with out-of-the-box YOLOv5 instance segmentation on COCO-128 Segmentatation\n",
        "*  [Training YOLOv5 instance segmentation](https://blog.roboflow.com//train-yolov5-instance-segmentation-custom-dataset) on custom data\n",
        "\n",
        "*Looking for custom data? Explore over 66M community datasets on [Roboflow Universe](https://universe.roboflow.com).*\n",
        "\n",
        "This notebook was created with Google Colab. [Click here](https://colab.research.google.com/drive/1JTz7kpmHsg-5qwVz2d2IH3AaenI1tv0N?usp=sharing) to run it."
      ]
    },
    {
      "cell_type": "markdown",
      "metadata": {
        "id": "FOrS8kLhtpoE"
      },
      "source": [
        "# Setup\n",
        "Pull in respective libraries to prepare the notebook environment"
      ]
    },
    {
      "cell_type": "code",
      "execution_count": 1,
      "metadata": {
        "colab": {
          "base_uri": "https://localhost:8080/"
        },
        "id": "OS4FLRHuwmjN",
        "outputId": "69832a5c-a3cd-4fe2-ab6d-bac9249b4380"
      },
      "outputs": [
        {
          "output_type": "stream",
          "name": "stderr",
          "text": [
            "YOLOv5 🚀 v7.0-365-g12b577c8 Python-3.10.12 torch-2.4.0+cu121 CUDA:0 (Tesla T4, 15102MiB)\n"
          ]
        },
        {
          "output_type": "stream",
          "name": "stdout",
          "text": [
            "Setup complete ✅ (2 CPUs, 12.7 GB RAM, 32.9/235.7 GB disk)\n"
          ]
        }
      ],
      "source": [
        "!git clone https://github.com/ultralytics/yolov5.git # clone\n",
        "%cd yolov5\n",
        "%pip install -r requirements.txt # install\n",
        "\n",
        "import torch\n",
        "import utils\n",
        "display = utils.notebook_init()  # checks"
      ]
    },
    {
      "cell_type": "markdown",
      "metadata": {
        "id": "A_TYD7ZstpoF"
      },
      "source": [
        "# 1. Infer on COCO-128\n",
        "\n",
        "To demonstrate YOLOv5 instance segmentation, we'll leverage an already trained model. In this case, we'll download the COCO-128 trained models pretrained on COCO-128 using YOLOv5 Utils.\n",
        "\n",
        "If you'd like to skip to custom trainining, jump to section 3 below."
      ]
    },
    {
      "cell_type": "code",
      "execution_count": 2,
      "metadata": {
        "colab": {
          "base_uri": "https://localhost:8080/"
        },
        "id": "AgwmpFOawx6c",
        "outputId": "5c620748-cd79-4f7a-da6b-058eaa6f18cc"
      },
      "outputs": [
        {
          "output_type": "stream",
          "name": "stderr",
          "text": [
            "Downloading https://github.com/ultralytics/yolov5/releases/download/v7.0/yolov5n-seg.pt to weights/yolov5n-seg.pt...\n",
            "100%|██████████| 4.11M/4.11M [00:00<00:00, 79.6MB/s]\n",
            "\n",
            "Downloading https://github.com/ultralytics/yolov5/releases/download/v7.0/yolov5s-seg.pt to weights/yolov5s-seg.pt...\n",
            "100%|██████████| 14.9M/14.9M [00:00<00:00, 113MB/s] \n",
            "\n",
            "Downloading https://github.com/ultralytics/yolov5/releases/download/v7.0/yolov5m-seg.pt to weights/yolov5m-seg.pt...\n",
            "100%|██████████| 42.4M/42.4M [00:00<00:00, 119MB/s]\n",
            "\n",
            "Downloading https://github.com/ultralytics/yolov5/releases/download/v7.0/yolov5l-seg.pt to weights/yolov5l-seg.pt...\n",
            "100%|██████████| 91.9M/91.9M [00:00<00:00, 121MB/s]\n",
            "\n",
            "Downloading https://github.com/ultralytics/yolov5/releases/download/v7.0/yolov5x-seg.pt to weights/yolov5x-seg.pt...\n",
            "100%|██████████| 170M/170M [00:01<00:00, 106MB/s]\n",
            "\n"
          ]
        }
      ],
      "source": [
        "from utils.downloads import attempt_download\n",
        "\n",
        "p5 = ['n', 's', 'm', 'l', 'x']  # P5 models\n",
        "cls = [f'{x}-seg' for x in p5]  # segmentation models\n",
        "\n",
        "for x in cls:\n",
        "    attempt_download(f'weights/yolov5{x}.pt')"
      ]
    },
    {
      "cell_type": "markdown",
      "metadata": {
        "id": "Xf_O-19ZtpoG"
      },
      "source": [
        "Now, we can infer on an example image from the COCO-128 dataset."
      ]
    },
    {
      "cell_type": "code",
      "execution_count": 8,
      "metadata": {
        "id": "mLJ9V67px8AO"
      },
      "outputs": [],
      "source": [
        "#Download example image\n",
        "import requests\n",
        "image_url = \"https://i.imgur.com/EbOBS5l.jpg\"\n",
        "img_data = requests.get(image_url).content\n",
        "with open('zebra.jpg', 'wb') as handler:\n",
        "    handler.write(img_data)"
      ]
    },
    {
      "cell_type": "code",
      "source": [
        "!pwd"
      ],
      "metadata": {
        "id": "3zcO9Y4-u1Zt",
        "outputId": "3944c086-c7ea-4858-e623-6b8dc6b83e3c",
        "colab": {
          "base_uri": "https://localhost:8080/"
        }
      },
      "execution_count": 7,
      "outputs": [
        {
          "output_type": "stream",
          "name": "stdout",
          "text": [
            "/content/yolov5\n"
          ]
        }
      ]
    },
    {
      "cell_type": "code",
      "source": [
        "!ls -l zebra.jpeg"
      ],
      "metadata": {
        "id": "UHEC7GEkvT_C",
        "outputId": "797a92a8-c7a0-4390-904c-0131e93fefb5",
        "colab": {
          "base_uri": "https://localhost:8080/"
        }
      },
      "execution_count": 11,
      "outputs": [
        {
          "output_type": "stream",
          "name": "stdout",
          "text": [
            "-rw-r--r-- 1 root root 103761 Sep  9 07:42 zebra.jpeg\n"
          ]
        }
      ]
    },
    {
      "cell_type": "code",
      "execution_count": null,
      "metadata": {
        "id": "QwheIrVZ0mAl"
      },
      "outputs": [],
      "source": [
        "#Infer using segment/predict.py\n",
        "!python segment/predict.py --weights ./weights/yolov5s-seg.pt --source ./zebra.jpeg"
      ]
    },
    {
      "cell_type": "code",
      "source": [
        "display.Image(filename='runs/predict-seg/exp/zebra.jpg', width=600)"
      ],
      "metadata": {
        "id": "rfXaPDfKuo0z"
      },
      "execution_count": null,
      "outputs": []
    },
    {
      "cell_type": "markdown",
      "metadata": {
        "id": "JYgLUWYdtpoH"
      },
      "source": [
        "## 2. (Optional) Validate\n",
        "\n",
        "Use the `segment/val.py` script to run validation for the model. This will show us the model's performance.\n",
        "\n",
        "First, we need to download COCO-128."
      ]
    },
    {
      "cell_type": "code",
      "execution_count": null,
      "metadata": {
        "colab": {
          "base_uri": "https://localhost:8080/",
          "height": 49,
          "referenced_widgets": [
            "b819dc54b42e48ae84967aabd7d72e1f",
            "a2a7f2f89a704c01ba5c1f3c32034199",
            "38f53aa0514b48a3a643d3190d947c89",
            "85dff8cc21bd45f69c3ca57610b95829",
            "e662aa5415b5428ba4e23b29344094cb",
            "c9b9d61919ae4df1b17bc9c37901a0a9",
            "4931410b02bf4737b86ea75dab6dd02c",
            "167e0327c22b4eef8d2261b4949c9f85",
            "c684fce526234f19999aab018dc35ead",
            "c80b9ca948ff4296ba01dde492c15c4e",
            "04be92af6ce641b89981f63c28d1d56a"
          ]
        },
        "id": "ykGYRklD_Bqn",
        "outputId": "610e8f03-d769-414f-ddc2-81a59477cc71"
      },
      "outputs": [
        {
          "output_type": "display_data",
          "data": {
            "text/plain": [
              "  0%|          | 0.00/6.79M [00:00<?, ?B/s]"
            ],
            "application/vnd.jupyter.widget-view+json": {
              "version_major": 2,
              "version_minor": 0,
              "model_id": "b819dc54b42e48ae84967aabd7d72e1f"
            }
          },
          "metadata": {}
        }
      ],
      "source": [
        "torch.hub.download_url_to_file('https://ultralytics.com/assets/coco128-seg.zip', 'tmp.zip')\n",
        "!unzip -q tmp.zip -d ../datasets && rm tmp.zip  # unzip"
      ]
    },
    {
      "cell_type": "code",
      "execution_count": null,
      "metadata": {
        "colab": {
          "base_uri": "https://localhost:8080/"
        },
        "id": "eQUhbqy7FfpG",
        "outputId": "467103ea-91cb-447d-d667-5cef80a7271d"
      },
      "outputs": [
        {
          "output_type": "stream",
          "name": "stdout",
          "text": [
            "\u001b[34m\u001b[1msegment/val: \u001b[0mdata=/content/yolov5/data/coco128-seg.yaml, weights=['yolov5s-seg.pt'], batch_size=32, imgsz=640, conf_thres=0.001, iou_thres=0.6, max_det=300, task=val, device=, workers=8, single_cls=False, augment=False, verbose=False, save_txt=False, save_hybrid=False, save_conf=False, save_json=False, project=runs/val-seg, name=exp, exist_ok=False, half=False, dnn=False\n",
            "YOLOv5 🚀 v6.2-149-g77dcf55 Python-3.7.14 torch-1.12.1+cu113 CUDA:0 (Tesla P100-PCIE-16GB, 16281MiB)\n",
            "\n",
            "Downloading https://github.com/ultralytics/yolov5/releases/download/v6.2/yolov5s-seg.pt to yolov5s-seg.pt...\n",
            "100% 14.9M/14.9M [00:00<00:00, 252MB/s]\n",
            "\n",
            "Fusing layers... \n",
            "YOLOv5s-seg summary: 224 layers, 7611485 parameters, 0 gradients, 26.4 GFLOPs\n",
            "\u001b[34m\u001b[1mval: \u001b[0mScanning '/content/datasets/coco128-seg/labels/train2017' images and labels...126 found, 2 missing, 0 empty, 0 corrupt: 100% 128/128 [00:00<00:00, 1216.50it/s]\n",
            "\u001b[34m\u001b[1mval: \u001b[0mNew cache created: /content/datasets/coco128-seg/labels/train2017.cache\n",
            "                 Class     Images  Instances      Box(P          R      mAP50  mAP50-95)     Mask(P          R      mAP50  mAP50-95): 100% 4/4 [00:11<00:00,  2.95s/it]\n",
            "                   all        128        929      0.709      0.651      0.711      0.487      0.677      0.626      0.661      0.403\n",
            "Speed: 2.9ms pre-process, 4.9ms inference, 4.8ms NMS per image at shape (32, 3, 640, 640)\n",
            "Results saved to \u001b[1mruns/val-seg/exp\u001b[0m\n"
          ]
        }
      ],
      "source": [
        "!python segment/val.py --weights yolov5s-seg.pt --data coco128-seg.yaml --img 640"
      ]
    },
    {
      "cell_type": "markdown",
      "metadata": {
        "id": "5zgX0LMDtpoI"
      },
      "source": [
        "The output shows performance metrics for the COCO-128 validation dataset."
      ]
    },
    {
      "cell_type": "markdown",
      "metadata": {
        "id": "tEFcAs9wtpoI"
      },
      "source": [
        "# 3. Train On Custom Data\n",
        "\n",
        "To train on custom data, we need to prepare a dataset with custom labels.\n",
        "\n",
        "To prepare custom data, we'll use [Roboflow](https://roboflow.com). Roboflow enables easy dataset prep with your team, including labeling, formatting into the right export format, deploying, and active learning with a `pip` package.\n",
        "\n",
        "If you need custom data, there are over 66M open source images from the community on [Roboflow Universe](https://universe.roboflow.com).\n",
        "\n",
        "(For more guidance, here's a detailed blog on [training YOLOv5 instance segmentation on custom data](https://blog.roboflow.com/train-yolov5-instance-segmentation-custom-dataset).)\n",
        "\n",
        "\n",
        "Create a free Roboflow account, upload your data, and label.\n",
        "\n",
        "![](https://robflow-public-assets.s3.amazonaws.com/how-to-train-yolov5-segmentation-annotation.gif)"
      ]
    },
    {
      "cell_type": "markdown",
      "metadata": {
        "id": "I0BH738HtpoI"
      },
      "source": [
        "### Load Custom Dataset\n",
        "\n",
        "Next, we'll export our dataset into the right directory structure for training YOLOv5 segmentation to load into this notebook. Select the `Export` button at the top of the version page, `YOLO v5 Pytorch` type, and `show download code`.\n",
        "\n",
        "This ensures all our directories are in the right format with the needed data.yaml file:\n",
        "\n",
        "```\n",
        "dataset\n",
        "├── train\n",
        "│   ├── images\n",
        "│   │   ├── IMG_123.jpg\n",
        "│   └── labels\n",
        "│       ├── IMG_123.txt\n",
        "├── valid\n",
        "│   ├── images\n",
        "│   │   ├── IMG_456.jpg\n",
        "│   └── labels\n",
        "│       ├── IMG_456.txt\n",
        "├── test\n",
        "│   ├── images\n",
        "│   │   ├── IMG_789.jpg\n",
        "│   └── labels\n",
        "│       ├── IMG_789.txt\n",
        "├── data.yaml\n",
        "├── README.roboflow.txt\n",
        "```\n",
        "\n",
        "![](https://robflow-public-assets.s3.amazonaws.com/how-to-train-yolov5-segmentation-format.gif)\n",
        "\n",
        "\n",
        "Copy and paste that snippet into the cell below."
      ]
    },
    {
      "cell_type": "code",
      "execution_count": null,
      "metadata": {
        "id": "wtqZdTl4GG8N"
      },
      "outputs": [],
      "source": [
        "# REPLACE the below with your exported code snippet from above\n",
        "!pip install roboflow\n",
        "\n",
        "from roboflow import Roboflow\n",
        "rf = Roboflow(api_key=\"YOUR API KEY\")\n",
        "project = rf.workspace(\"paul-guerrie-tang1\").project(\"asl-poly-instance-seg\")\n",
        "dataset = project.version(24).download(\"yolov5\")"
      ]
    },
    {
      "cell_type": "markdown",
      "metadata": {
        "id": "zZwzVuLTtpoI"
      },
      "source": [
        "### Train On Custom Data 🎉\n",
        "Here, we use the `dataset.location` attribute to pass our dataset to the `--data` parameter.\n",
        "\n",
        "Note: we're training for 100 epochs here. We're also starting training from the pretrained weights. Larger datasets will likely benefit from longer training."
      ]
    },
    {
      "cell_type": "code",
      "execution_count": null,
      "metadata": {
        "id": "LSBVTWnAMU0k"
      },
      "outputs": [],
      "source": [
        "!python segment/train.py --img 320 --batch 128 --epochs 100 --data {dataset.location}/data.yaml --weights yolov5s-seg.pt\n",
        "display.Image(filename=f'runs/train-seg/exp/results.png', width=1200)"
      ]
    },
    {
      "cell_type": "markdown",
      "metadata": {
        "id": "gD8gmSaAtpoJ"
      },
      "source": [
        "Above we see training plots for our custom trained model. This plot along with other detailed results and sample predictions are all automatically generated and stored in the `runs` folder. See `runs/train-seg/exp`."
      ]
    },
    {
      "cell_type": "markdown",
      "metadata": {
        "id": "IZjIfCzftpoJ"
      },
      "source": [
        "### Validate Your Custom Model\n",
        "\n",
        "Repeat step 2 from above to test and validate your custom model."
      ]
    },
    {
      "cell_type": "code",
      "execution_count": null,
      "metadata": {
        "id": "Y6DFBei-tpoJ"
      },
      "outputs": [],
      "source": [
        "!python segment/val.py --weights runs/train-seg/exp/weights/best.pt --data {dataset.location}/data.yaml --img 320"
      ]
    },
    {
      "cell_type": "markdown",
      "metadata": {
        "id": "v4SGEO0VtpoJ"
      },
      "source": [
        "### Infer With Your Custom Model"
      ]
    },
    {
      "cell_type": "code",
      "execution_count": null,
      "metadata": {
        "id": "abjYoz8itpoJ",
        "outputId": "c57c1c01-2f18-45f8-a0a5-f44f34d96e74",
        "colab": {
          "base_uri": "https://localhost:8080/",
          "height": 776
        }
      },
      "outputs": [
        {
          "output_type": "stream",
          "name": "stdout",
          "text": [
            "\u001b[34m\u001b[1msegment/predict: \u001b[0mweights=['runs/train-seg/exp/weights/best.pt'], source=/content/yolov5/yolov5/ASL-Poly-Instance-Seg-24/test/images/A17_jpg.rf.416a33bd1b741efaaf3fbe753abdbd7c.jpg, data=data/coco128.yaml, imgsz=[320, 320], conf_thres=0.25, iou_thres=0.45, max_det=1000, device=, view_img=False, save_txt=False, save_conf=False, save_crop=False, nosave=False, classes=None, agnostic_nms=False, augment=False, visualize=False, update=False, project=runs/predict-seg, name=exp, exist_ok=False, line_thickness=3, hide_labels=False, hide_conf=False, half=False, dnn=False, vid_stride=1, retina_masks=False\n",
            "YOLOv5 🚀 v6.2-224-g82a5585 Python-3.7.15 torch-1.12.1+cu113 CUDA:0 (Tesla T4, 15110MiB)\n",
            "\n",
            "Fusing layers... \n",
            "Model summary: 165 layers, 7465847 parameters, 0 gradients, 25.9 GFLOPs\n",
            "image 1/1 /content/yolov5/yolov5/ASL-Poly-Instance-Seg-24/test/images/A17_jpg.rf.416a33bd1b741efaaf3fbe753abdbd7c.jpg: 320x320 1 A, 7.9ms\n",
            "Speed: 0.3ms pre-process, 7.9ms inference, 1.3ms NMS per image at shape (1, 3, 320, 320)\n",
            "Results saved to \u001b[1mruns/predict-seg/exp3\u001b[0m\n"
          ]
        },
        {
          "output_type": "execute_result",
          "data": {
            "image/jpeg": "[encoded data removed]",
            "text/plain": [
              "<IPython.core.display.Image object>"
            ]
          },
          "metadata": {
            "image/jpeg": {
              "width": 600
            }
          },
          "execution_count": 17
        }
      ],
      "source": [
        "import os\n",
        "#Get the path of an image from the test or validation set\n",
        "if os.path.exists(os.path.join(dataset.location, \"test\")):\n",
        "  split_path = os.path.join(dataset.location, \"test\", \"images\")\n",
        "else:\n",
        "  split_path = os.path.join(dataset.location, \"valid\", \"images\")\n",
        "example_image_name = os.listdir(split_path)[0]\n",
        "example_image_path = os.path.join(split_path, example_image_name)\n",
        "\n",
        "#Infer\n",
        "!python segment/predict.py --img 320 --weights runs/train-seg/exp/weights/best.pt --source {example_image_path}\n",
        "display.Image(filename=f'runs/predict-seg/exp2/{example_image_name}', width=600)"
      ]
    },
    {
      "cell_type": "markdown",
      "metadata": {
        "id": "HIbCkxfPtpoJ"
      },
      "source": [
        "The image above shows the resulting prediction overlayed on the input image."
      ]
    },
    {
      "cell_type": "markdown",
      "metadata": {
        "id": "ird2cKXGtpoK"
      },
      "source": [
        "## (OPTIONAL) Improve Our Model with Active Learning\n",
        "\n",
        "Now that we've trained our model once, we will want to continue to improve its performance. Improvement is largely dependent on improving our dataset.\n",
        "\n",
        "We can programmatically upload example failure images back to our custom dataset based on conditions (like seeing an underrpresented class or a low confidence score) using the same `pip` package."
      ]
    },
    {
      "cell_type": "code",
      "execution_count": null,
      "metadata": {
        "id": "Jw-LVMEatpoK"
      },
      "outputs": [],
      "source": [
        "#Prepare Our Example Image Directory\n",
        "#To run on your own images, replace the directory on the line below with a\n",
        "#directory you provide (by uploading to the colab environment, for example)\n",
        "example_image_dir = \"../example_images\"\n",
        "\n",
        "#We are going to download example images from the web for the purposes of this\n",
        "#demo. These images are relevant to the ASL Poly dataset. Skip the rest of this\n",
        "#cell if you are providing your own example image directory.\n",
        "os.makedirs(example_image_dir, exist_ok=True)\n",
        "image_links = [\n",
        "    \"https://i.imgur.com/rFsDnHC.jpg\",\n",
        "    \"https://i.imgur.com/aEcceXm.jpg\",\n",
        "    \"https://i.imgur.com/s4N63fx.jpg\",\n",
        "    ]\n",
        "\n",
        "for i,link in enumerate(image_links):\n",
        "  img_data = requests.get(link).content\n",
        "  with open(os.path.join(example_image_dir,f'example_{i}.jpg'), 'wb') as handler:\n",
        "    handler.write(img_data)"
      ]
    },
    {
      "cell_type": "code",
      "source": [
        "#Infer On Directory\n",
        "!python segment/predict.py --img 320 --weights runs/train-seg/exp/weights/best.pt --source {example_image_dir} --save-txt --save-conf"
      ],
      "metadata": {
        "colab": {
          "base_uri": "https://localhost:8080/"
        },
        "id": "yq46nfIk8s7x",
        "outputId": "fba1e842-c91f-4e23-bac9-c904aea517ef"
      },
      "execution_count": null,
      "outputs": [
        {
          "output_type": "stream",
          "name": "stdout",
          "text": [
            "\u001b[34m\u001b[1msegment/predict: \u001b[0mweights=['runs/train-seg/exp/weights/best.pt'], source=../example_images, data=data/coco128.yaml, imgsz=[320, 320], conf_thres=0.25, iou_thres=0.45, max_det=1000, device=, view_img=False, save_txt=True, save_conf=True, save_crop=False, nosave=False, classes=None, agnostic_nms=False, augment=False, visualize=False, update=False, project=runs/predict-seg, name=exp, exist_ok=False, line_thickness=3, hide_labels=False, hide_conf=False, half=False, dnn=False, vid_stride=1, retina_masks=False\n",
            "YOLOv5 🚀 v6.2-149-g77dcf55 Python-3.7.14 torch-1.12.1+cu113 CUDA:0 (Tesla P100-PCIE-16GB, 16281MiB)\n",
            "\n",
            "Fusing layers... \n",
            "Model summary: 165 layers, 7465847 parameters, 0 gradients, 25.9 GFLOPs\n",
            "image 1/3 /content/example_images/example_0.jpg: 320x320 1 L, 1 Y, 8.2ms\n",
            "image 2/3 /content/example_images/example_1.jpg: 320x320 1 G, 1 I, 8.7ms\n",
            "image 3/3 /content/example_images/example_2.jpg: 320x320 1 H, 6.9ms\n",
            "Speed: 0.3ms pre-process, 8.0ms inference, 1.0ms NMS per image at shape (1, 3, 320, 320)\n",
            "Results saved to \u001b[1mruns/predict-seg/exp3\u001b[0m\n",
            "3 labels saved to runs/predict-seg/exp3/labels\n"
          ]
        }
      ]
    },
    {
      "cell_type": "code",
      "source": [
        "#Read Results Files and Conditionally Upload\n",
        "\n",
        "#If my model has a confidence of less than 80% for a prediction, let's help it\n",
        "#out by uploading this image back to our dataset. Then we can add a ground truth\n",
        "#label to it so that it will be included in our next training run and future\n",
        "#prediction results will improve.\n",
        "MIN_CONF_THRESHOLD = 0.8\n",
        "\n",
        "for i,txt_file in enumerate(os.listdir(\"runs/predict-seg/exp3/labels\")):\n",
        "  with open(os.path.join(\"runs/predict-seg/exp3/labels\",txt_file), 'r') as fid:\n",
        "    for line in fid:\n",
        "      label, x1, y1, x2, y2, conf = line.split(\" \")\n",
        "      conf = float(conf)\n",
        "      if conf < MIN_CONF_THRESHOLD:\n",
        "        print(f\"Image has a low confidence prediction, uploading to project: example_{i}.jpg\")\n",
        "        #Upload via Roboflow pip package\n",
        "        project.upload(os.path.join(example_image_dir,f'example_{i}.jpg'))\n",
        "        break"
      ],
      "metadata": {
        "colab": {
          "base_uri": "https://localhost:8080/"
        },
        "id": "im54PYtA-A_5",
        "outputId": "c9cf593d-4d7c-4fd9-ba03-bae2018667ae"
      },
      "execution_count": null,
      "outputs": [
        {
          "output_type": "stream",
          "name": "stdout",
          "text": [
            "Image has a low confidence prediction, uploading to project: example_0.jpg\n",
            "Image has a low confidence prediction, uploading to project: example_1.jpg\n",
            "Image has a low confidence prediction, uploading to project: example_2.jpg\n"
          ]
        }
      ]
    }
  ],
  "metadata": {
    "colab": {
      "provenance": [],
      "include_colab_link": true
    },
    "kernelspec": {
      "display_name": "Python 3 (ipykernel)",
      "language": "python",
      "name": "python3"
    },
    "language_info": {
      "codemirror_mode": {
        "name": "ipython",
        "version": 3
      },
      "file_extension": ".py",
      "mimetype": "text/x-python",
      "name": "python",
      "nbconvert_exporter": "python",
      "pygments_lexer": "ipython3",
      "version": "3.8.10"
    },
    "widgets": {
      "application/vnd.jupyter.widget-state+json": {
        "b819dc54b42e48ae84967aabd7d72e1f": {
          "model_module": "@jupyter-widgets/controls",
          "model_name": "HBoxModel",
          "model_module_version": "1.5.0",
          "state": {
            "_dom_classes": [],
            "_model_module": "@jupyter-widgets/controls",
            "_model_module_version": "1.5.0",
            "_model_name": "HBoxModel",
            "_view_count": null,
            "_view_module": "@jupyter-widgets/controls",
            "_view_module_version": "1.5.0",
            "_view_name": "HBoxView",
            "box_style": "",
            "children": [
              "IPY_MODEL_a2a7f2f89a704c01ba5c1f3c32034199",
              "IPY_MODEL_38f53aa0514b48a3a643d3190d947c89",
              "IPY_MODEL_85dff8cc21bd45f69c3ca57610b95829"
            ],
            "layout": "IPY_MODEL_e662aa5415b5428ba4e23b29344094cb"
          }
        },
        "a2a7f2f89a704c01ba5c1f3c32034199": {
          "model_module": "@jupyter-widgets/controls",
          "model_name": "HTMLModel",
          "model_module_version": "1.5.0",
          "state": {
            "_dom_classes": [],
            "_model_module": "@jupyter-widgets/controls",
            "_model_module_version": "1.5.0",
            "_model_name": "HTMLModel",
            "_view_count": null,
            "_view_module": "@jupyter-widgets/controls",
            "_view_module_version": "1.5.0",
            "_view_name": "HTMLView",
            "description": "",
            "description_tooltip": null,
            "layout": "IPY_MODEL_c9b9d61919ae4df1b17bc9c37901a0a9",
            "placeholder": "​",
            "style": "IPY_MODEL_4931410b02bf4737b86ea75dab6dd02c",
            "value": "100%"
          }
        },
        "38f53aa0514b48a3a643d3190d947c89": {
          "model_module": "@jupyter-widgets/controls",
          "model_name": "FloatProgressModel",
          "model_module_version": "1.5.0",
          "state": {
            "_dom_classes": [],
            "_model_module": "@jupyter-widgets/controls",
            "_model_module_version": "1.5.0",
            "_model_name": "FloatProgressModel",
            "_view_count": null,
            "_view_module": "@jupyter-widgets/controls",
            "_view_module_version": "1.5.0",
            "_view_name": "ProgressView",
            "bar_style": "success",
            "description": "",
            "description_tooltip": null,
            "layout": "IPY_MODEL_167e0327c22b4eef8d2261b4949c9f85",
            "max": 7119623,
            "min": 0,
            "orientation": "horizontal",
            "style": "IPY_MODEL_c684fce526234f19999aab018dc35ead",
            "value": 7119623
          }
        },
        "85dff8cc21bd45f69c3ca57610b95829": {
          "model_module": "@jupyter-widgets/controls",
          "model_name": "HTMLModel",
          "model_module_version": "1.5.0",
          "state": {
            "_dom_classes": [],
            "_model_module": "@jupyter-widgets/controls",
            "_model_module_version": "1.5.0",
            "_model_name": "HTMLModel",
            "_view_count": null,
            "_view_module": "@jupyter-widgets/controls",
            "_view_module_version": "1.5.0",
            "_view_name": "HTMLView",
            "description": "",
            "description_tooltip": null,
            "layout": "IPY_MODEL_c80b9ca948ff4296ba01dde492c15c4e",
            "placeholder": "​",
            "style": "IPY_MODEL_04be92af6ce641b89981f63c28d1d56a",
            "value": " 6.79M/6.79M [00:00&lt;00:00, 15.9MB/s]"
          }
        },
        "e662aa5415b5428ba4e23b29344094cb": {
          "model_module": "@jupyter-widgets/base",
          "model_name": "LayoutModel",
          "model_module_version": "1.2.0",
          "state": {
            "_model_module": "@jupyter-widgets/base",
            "_model_module_version": "1.2.0",
            "_model_name": "LayoutModel",
            "_view_count": null,
            "_view_module": "@jupyter-widgets/base",
            "_view_module_version": "1.2.0",
            "_view_name": "LayoutView",
            "align_content": null,
            "align_items": null,
            "align_self": null,
            "border": null,
            "bottom": null,
            "display": null,
            "flex": null,
            "flex_flow": null,
            "grid_area": null,
            "grid_auto_columns": null,
            "grid_auto_flow": null,
            "grid_auto_rows": null,
            "grid_column": null,
            "grid_gap": null,
            "grid_row": null,
            "grid_template_areas": null,
            "grid_template_columns": null,
            "grid_template_rows": null,
            "height": null,
            "justify_content": null,
            "justify_items": null,
            "left": null,
            "margin": null,
            "max_height": null,
            "max_width": null,
            "min_height": null,
            "min_width": null,
            "object_fit": null,
            "object_position": null,
            "order": null,
            "overflow": null,
            "overflow_x": null,
            "overflow_y": null,
            "padding": null,
            "right": null,
            "top": null,
            "visibility": null,
            "width": null
          }
        },
        "c9b9d61919ae4df1b17bc9c37901a0a9": {
          "model_module": "@jupyter-widgets/base",
          "model_name": "LayoutModel",
          "model_module_version": "1.2.0",
          "state": {
            "_model_module": "@jupyter-widgets/base",
            "_model_module_version": "1.2.0",
            "_model_name": "LayoutModel",
            "_view_count": null,
            "_view_module": "@jupyter-widgets/base",
            "_view_module_version": "1.2.0",
            "_view_name": "LayoutView",
            "align_content": null,
            "align_items": null,
            "align_self": null,
            "border": null,
            "bottom": null,
            "display": null,
            "flex": null,
            "flex_flow": null,
            "grid_area": null,
            "grid_auto_columns": null,
            "grid_auto_flow": null,
            "grid_auto_rows": null,
            "grid_column": null,
            "grid_gap": null,
            "grid_row": null,
            "grid_template_areas": null,
            "grid_template_columns": null,
            "grid_template_rows": null,
            "height": null,
            "justify_content": null,
            "justify_items": null,
            "left": null,
            "margin": null,
            "max_height": null,
            "max_width": null,
            "min_height": null,
            "min_width": null,
            "object_fit": null,
            "object_position": null,
            "order": null,
            "overflow": null,
            "overflow_x": null,
            "overflow_y": null,
            "padding": null,
            "right": null,
            "top": null,
            "visibility": null,
            "width": null
          }
        },
        "4931410b02bf4737b86ea75dab6dd02c": {
          "model_module": "@jupyter-widgets/controls",
          "model_name": "DescriptionStyleModel",
          "model_module_version": "1.5.0",
          "state": {
            "_model_module": "@jupyter-widgets/controls",
            "_model_module_version": "1.5.0",
            "_model_name": "DescriptionStyleModel",
            "_view_count": null,
            "_view_module": "@jupyter-widgets/base",
            "_view_module_version": "1.2.0",
            "_view_name": "StyleView",
            "description_width": ""
          }
        },
        "167e0327c22b4eef8d2261b4949c9f85": {
          "model_module": "@jupyter-widgets/base",
          "model_name": "LayoutModel",
          "model_module_version": "1.2.0",
          "state": {
            "_model_module": "@jupyter-widgets/base",
            "_model_module_version": "1.2.0",
            "_model_name": "LayoutModel",
            "_view_count": null,
            "_view_module": "@jupyter-widgets/base",
            "_view_module_version": "1.2.0",
            "_view_name": "LayoutView",
            "align_content": null,
            "align_items": null,
            "align_self": null,
            "border": null,
            "bottom": null,
            "display": null,
            "flex": null,
            "flex_flow": null,
            "grid_area": null,
            "grid_auto_columns": null,
            "grid_auto_flow": null,
            "grid_auto_rows": null,
            "grid_column": null,
            "grid_gap": null,
            "grid_row": null,
            "grid_template_areas": null,
            "grid_template_columns": null,
            "grid_template_rows": null,
            "height": null,
            "justify_content": null,
            "justify_items": null,
            "left": null,
            "margin": null,
            "max_height": null,
            "max_width": null,
            "min_height": null,
            "min_width": null,
            "object_fit": null,
            "object_position": null,
            "order": null,
            "overflow": null,
            "overflow_x": null,
            "overflow_y": null,
            "padding": null,
            "right": null,
            "top": null,
            "visibility": null,
            "width": null
          }
        },
        "c684fce526234f19999aab018dc35ead": {
          "model_module": "@jupyter-widgets/controls",
          "model_name": "ProgressStyleModel",
          "model_module_version": "1.5.0",
          "state": {
            "_model_module": "@jupyter-widgets/controls",
            "_model_module_version": "1.5.0",
            "_model_name": "ProgressStyleModel",
            "_view_count": null,
            "_view_module": "@jupyter-widgets/base",
            "_view_module_version": "1.2.0",
            "_view_name": "StyleView",
            "bar_color": null,
            "description_width": ""
          }
        },
        "c80b9ca948ff4296ba01dde492c15c4e": {
          "model_module": "@jupyter-widgets/base",
          "model_name": "LayoutModel",
          "model_module_version": "1.2.0",
          "state": {
            "_model_module": "@jupyter-widgets/base",
            "_model_module_version": "1.2.0",
            "_model_name": "LayoutModel",
            "_view_count": null,
            "_view_module": "@jupyter-widgets/base",
            "_view_module_version": "1.2.0",
            "_view_name": "LayoutView",
            "align_content": null,
            "align_items": null,
            "align_self": null,
            "border": null,
            "bottom": null,
            "display": null,
            "flex": null,
            "flex_flow": null,
            "grid_area": null,
            "grid_auto_columns": null,
            "grid_auto_flow": null,
            "grid_auto_rows": null,
            "grid_column": null,
            "grid_gap": null,
            "grid_row": null,
            "grid_template_areas": null,
            "grid_template_columns": null,
            "grid_template_rows": null,
            "height": null,
            "justify_content": null,
            "justify_items": null,
            "left": null,
            "margin": null,
            "max_height": null,
            "max_width": null,
            "min_height": null,
            "min_width": null,
            "object_fit": null,
            "object_position": null,
            "order": null,
            "overflow": null,
            "overflow_x": null,
            "overflow_y": null,
            "padding": null,
            "right": null,
            "top": null,
            "visibility": null,
            "width": null
          }
        },
        "04be92af6ce641b89981f63c28d1d56a": {
          "model_module": "@jupyter-widgets/controls",
          "model_name": "DescriptionStyleModel",
          "model_module_version": "1.5.0",
          "state": {
            "_model_module": "@jupyter-widgets/controls",
            "_model_module_version": "1.5.0",
            "_model_name": "DescriptionStyleModel",
            "_view_count": null,
            "_view_module": "@jupyter-widgets/base",
            "_view_module_version": "1.2.0",
            "_view_name": "StyleView",
            "description_width": ""
          }
        }
      }
    },
    "accelerator": "GPU"
  },
  "nbformat": 4,
  "nbformat_minor": 0
}