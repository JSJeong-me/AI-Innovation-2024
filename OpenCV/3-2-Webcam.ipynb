{
  "cells": [
    {
      "cell_type": "markdown",
      "metadata": {
        "id": "Lej9ba_Lcurx"
      },
      "source": [
        "# 1. Import Dependencies"
      ]
    },
    {
      "cell_type": "code",
      "execution_count": null,
      "metadata": {
        "id": "Yfqxh-EUcurz"
      },
      "outputs": [],
      "source": [
        "# Import opencv for computer vision stuff\n",
        "import cv2\n",
        "# Import matplotlib so we can visualize an image\n",
        "from matplotlib import pyplot as plt"
      ]
    },
    {
      "cell_type": "markdown",
      "metadata": {
        "id": "OFu6RlGecur0"
      },
      "source": [
        "# 2. Connecting to Your Webcam"
      ]
    },
    {
      "cell_type": "code",
      "execution_count": null,
      "metadata": {
        "id": "UaCkpgAgcur0"
      },
      "outputs": [],
      "source": [
        "# Connect to capture device\n",
        "cap = cv2.VideoCapture(3)"
      ]
    },
    {
      "cell_type": "code",
      "execution_count": null,
      "metadata": {
        "id": "OTN3ZUNrcur0"
      },
      "outputs": [],
      "source": [
        "# Get a frame from the capture device\n",
        "ret, frame = cap.read()"
      ]
    },
    {
      "cell_type": "code",
      "execution_count": null,
      "metadata": {
        "id": "NcEjlJQ2cur1"
      },
      "outputs": [],
      "source": [
        "print(ret)"
      ]
    },
    {
      "cell_type": "code",
      "execution_count": null,
      "metadata": {
        "collapsed": true,
        "jupyter": {
          "outputs_hidden": true
        },
        "tags": [],
        "id": "wmXclU0ocur1"
      },
      "outputs": [],
      "source": [
        "print(frame)"
      ]
    },
    {
      "cell_type": "code",
      "execution_count": null,
      "metadata": {
        "tags": [],
        "id": "V9pOcYwncur2"
      },
      "outputs": [],
      "source": [
        "plt.imshow(cv2.cvtColor(frame, cv2.COLOR_BGR2RGB))\n",
        "plt.show()"
      ]
    },
    {
      "cell_type": "code",
      "execution_count": null,
      "metadata": {
        "id": "uTzXN6gAcur2"
      },
      "outputs": [],
      "source": [
        "# Releases capture back into the wild\n",
        "cap.release()"
      ]
    },
    {
      "cell_type": "code",
      "execution_count": null,
      "metadata": {
        "id": "k43z4qnacur2"
      },
      "outputs": [],
      "source": [
        "def take_photo():\n",
        "    cap = cv2.VideoCapture(3)\n",
        "    ret, frame = cap.read()\n",
        "    cv2.imwrite('webcamphoto.jpg', frame)\n",
        "    cap.release()"
      ]
    },
    {
      "cell_type": "code",
      "execution_count": null,
      "metadata": {
        "id": "M2csbRizcur2"
      },
      "outputs": [],
      "source": [
        "take_photo()"
      ]
    },
    {
      "cell_type": "markdown",
      "metadata": {
        "id": "p8YbyfNlcur3"
      },
      "source": [
        "# 3. Rendering in Real Time"
      ]
    },
    {
      "cell_type": "code",
      "execution_count": null,
      "metadata": {
        "id": "AMUAu_4wcur3"
      },
      "outputs": [],
      "source": [
        "# Connect to webcam\n",
        "cap = cv2.VideoCapture(3)\n",
        "# Loop through every frame until we close our webcam\n",
        "while cap.isOpened():\n",
        "    ret, frame = cap.read()\n",
        "\n",
        "    # Show image\n",
        "    cv2.imshow('Webcam', frame)\n",
        "\n",
        "    # Checks whether q has been hit and stops the loop\n",
        "    if cv2.waitKey(1) & 0xFF == ord('q'):\n",
        "        break\n",
        "\n",
        "# Releases the webcam\n",
        "cap.release()\n",
        "# Closes the frame\n",
        "cv2.destroyAllWindows()"
      ]
    }
  ],
  "metadata": {
    "kernelspec": {
      "display_name": "opencv",
      "language": "python",
      "name": "opencv"
    },
    "language_info": {
      "codemirror_mode": {
        "name": "ipython",
        "version": 3
      },
      "file_extension": ".py",
      "mimetype": "text/x-python",
      "name": "python",
      "nbconvert_exporter": "python",
      "pygments_lexer": "ipython3",
      "version": "3.7.3"
    },
    "colab": {
      "provenance": []
    }
  },
  "nbformat": 4,
  "nbformat_minor": 0
}