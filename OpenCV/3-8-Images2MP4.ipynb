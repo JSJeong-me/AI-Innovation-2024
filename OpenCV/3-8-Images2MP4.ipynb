{
  "nbformat": 4,
  "nbformat_minor": 0,
  "metadata": {
    "colab": {
      "provenance": [],
      "authorship_tag": "ABX9TyNrAujYPV9KKIvGu2Kcmfgy",
      "include_colab_link": true
    },
    "kernelspec": {
      "name": "python3",
      "display_name": "Python 3"
    },
    "language_info": {
      "name": "python"
    }
  },
  "cells": [
    {
      "cell_type": "markdown",
      "metadata": {
        "id": "view-in-github",
        "colab_type": "text"
      },
      "source": [
        "<a href=\"https://colab.research.google.com/github/JSJeong-me/AI-Innovation-2024/blob/main/OpenCV/3-8-Images2MP4.ipynb\" target=\"_parent\"><img src=\"https://colab.research.google.com/assets/colab-badge.svg\" alt=\"Open In Colab\"/></a>"
      ]
    },
    {
      "cell_type": "code",
      "execution_count": 1,
      "metadata": {
        "id": "zE3sp-zMeZvm"
      },
      "outputs": [],
      "source": [
        "!mkdir data"
      ]
    },
    {
      "cell_type": "code",
      "source": [
        "import zipfile\n",
        "import os\n",
        "\n",
        "# Define the path for the uploaded zip file\n",
        "zip_file_path = './bedroom.zip'\n",
        "extract_folder = './data/bedroom_images'\n",
        "\n",
        "# Extract the zip file\n",
        "with zipfile.ZipFile(zip_file_path, 'r') as zip_ref:\n",
        "    zip_ref.extractall(extract_folder)\n",
        "\n",
        "# Check the extracted files\n",
        "extracted_files = sorted(os.listdir(extract_folder))\n",
        "\n",
        "# Filter the files that match the pattern from 00000.jpg to 00199.jpg\n",
        "filtered_files = [f for f in extracted_files if f.endswith('.jpg') and '00000' <= f.split('.')[0] <= '00199']\n",
        "\n",
        "filtered_files[:10], len(filtered_files)  # Displaying the first 10 files and total count of filtered files\n"
      ],
      "metadata": {
        "colab": {
          "base_uri": "https://localhost:8080/"
        },
        "id": "z5Xf_i5CeucL",
        "outputId": "0a53dbf1-4f40-439e-9e8f-c8a591906132"
      },
      "execution_count": 2,
      "outputs": [
        {
          "output_type": "execute_result",
          "data": {
            "text/plain": [
              "([], 0)"
            ]
          },
          "metadata": {},
          "execution_count": 2
        }
      ]
    },
    {
      "cell_type": "code",
      "source": [
        "# Redefining the process to ensure the video is created properly based on user request\n",
        "\n",
        "import cv2\n",
        "import os\n",
        "\n",
        "# Define the folder where images were extracted\n",
        "image_folder = os.path.join(extract_folder, 'bedroom')\n",
        "\n",
        "# Prepare the list of images from 00000.jpg to 00199.jpg\n",
        "image_files = sorted([os.path.join(image_folder, f) for f in os.listdir(image_folder) if f.endswith('.jpg') and '00000' <= f.split('.')[0] <= '00199'])\n",
        "\n",
        "# Get the first image to determine the frame size\n",
        "if image_files:\n",
        "    first_image = cv2.imread(image_files[0])\n",
        "    if first_image is not None:\n",
        "        frame_size = (first_image.shape[1], first_image.shape[0])  # width, height based on first image\n",
        "    else:\n",
        "        frame_size = (1920, 1080)  # Default to 1080p if unable to read image\n",
        "else:\n",
        "    frame_size = (1920, 1080)  # Default to 1080p if no images found\n",
        "\n",
        "# Define the output video file path and parameters\n",
        "output_video_path = '../data/bedroom_video_v2.mp4'\n",
        "fps = 30  # Frames per second\n",
        "\n",
        "# Create a video writer object\n",
        "fourcc = cv2.VideoWriter_fourcc(*'mp4v')\n",
        "video_writer = cv2.VideoWriter(output_video_path, fourcc, fps, frame_size)\n",
        "\n",
        "# Read images and write to video\n",
        "for image_file in image_files:\n",
        "    img = cv2.imread(image_file)\n",
        "    if img is None:\n",
        "        continue\n",
        "\n",
        "    # Resize image to match the frame size (if necessary)\n",
        "    resized_img = cv2.resize(img, frame_size)\n",
        "\n",
        "    # Write the image to the video\n",
        "    video_writer.write(resized_img)\n",
        "\n",
        "# Release the video writer\n",
        "video_writer.release()\n",
        "\n",
        "# Output the video file path for download\n",
        "output_video_path\n"
      ],
      "metadata": {
        "colab": {
          "base_uri": "https://localhost:8080/",
          "height": 36
        },
        "id": "sdpsfJFBgvOD",
        "outputId": "90599b81-556a-432d-e1b6-2932d1abdf28"
      },
      "execution_count": 6,
      "outputs": [
        {
          "output_type": "execute_result",
          "data": {
            "text/plain": [
              "'../data/bedroom_video_v2.mp4'"
            ],
            "application/vnd.google.colaboratory.intrinsic+json": {
              "type": "string"
            }
          },
          "metadata": {},
          "execution_count": 6
        }
      ]
    }
  ]
}