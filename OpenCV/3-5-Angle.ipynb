{
 "cells": [
  {
   "cell_type": "code",
   "execution_count": null,
   "id": "23aea45f-e760-4726-9f1b-9d044912069e",
   "metadata": {
    "tags": []
   },
   "outputs": [
    {
     "name": "stdout",
     "output_type": "stream",
     "text": [
      "Angle between points: 53.09 degrees\n"
     ]
    }
   ],
   "source": [
    "import cv2\n",
    "import math\n",
    "import numpy as np\n",
    "\n",
    "# 각도를 계산하는 함수\n",
    "def calculate_angle(x1, y1, x2, y2):\n",
    "    angle = math.degrees(math.atan2(y2 - y1, x2 - x1))\n",
    "    return angle\n",
    "\n",
    "# 마우스 콜백 함수\n",
    "def mouse_callback(event, x, y, flags, param):\n",
    "    global points\n",
    "    if event == cv2.EVENT_LBUTTONDOWN:\n",
    "        points.append((x, y))\n",
    "        if len(points) == 2:\n",
    "            x1, y1 = points[0]\n",
    "            x2, y2 = points[1]\n",
    "            angle = calculate_angle(x1, y1, x2, y2)\n",
    "            print(f\"Angle between points: {angle:.2f} degrees\")\n",
    "            points = []  # Reset points after calculating\n",
    "\n",
    "# 이미지 창 설정\n",
    "points = []\n",
    "image = 255 * np.ones((500, 500, 3), dtype=np.uint8)  # 빈 이미지 생성\n",
    "cv2.namedWindow('Angle Calculation')\n",
    "cv2.setMouseCallback('Angle Calculation', mouse_callback)\n",
    "\n",
    "while True:\n",
    "    cv2.imshow('Angle Calculation', image)\n",
    "    if cv2.waitKey(1) & 0xFF == 27:  # ESC 키를 누르면 종료\n",
    "        break\n",
    "\n",
    "cv2.destroyAllWindows()\n"
   ]
  },
  {
   "cell_type": "code",
   "execution_count": null,
   "id": "a58ed0ab-af9d-4aa8-a1f3-2e26834dba9a",
   "metadata": {},
   "outputs": [],
   "source": []
  },
  {
   "cell_type": "code",
   "execution_count": null,
   "id": "59c47fb2-33b6-4d0a-8ed3-4a83c716e4a2",
   "metadata": {},
   "outputs": [],
   "source": []
  }
 ],
 "metadata": {
  "kernelspec": {
   "display_name": "Python 3 (ipykernel)",
   "language": "python",
   "name": "python3"
  },
  "language_info": {
   "codemirror_mode": {
    "name": "ipython",
    "version": 3
   },
   "file_extension": ".py",
   "mimetype": "text/x-python",
   "name": "python",
   "nbconvert_exporter": "python",
   "pygments_lexer": "ipython3",
   "version": "3.11.3"
  }
 },
 "nbformat": 4,
 "nbformat_minor": 5
}
