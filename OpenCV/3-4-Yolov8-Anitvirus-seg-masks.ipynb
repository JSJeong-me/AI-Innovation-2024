{
  "nbformat": 4,
  "nbformat_minor": 0,
  "metadata": {
    "colab": {
      "provenance": [],
      "authorship_tag": "ABX9TyMYBENOW3D9KtwlcZqmFURw",
      "include_colab_link": true
    },
    "kernelspec": {
      "name": "python3",
      "display_name": "Python 3"
    },
    "language_info": {
      "name": "python"
    }
  },
  "cells": [
    {
      "cell_type": "markdown",
      "metadata": {
        "id": "view-in-github",
        "colab_type": "text"
      },
      "source": [
        "<a href=\"https://colab.research.google.com/github/JSJeong-me/AI-Innovation-2024/blob/main/OpenCV/3-4-Yolov8-Anitvirus-seg-masks.ipynb\" target=\"_parent\"><img src=\"https://colab.research.google.com/assets/colab-badge.svg\" alt=\"Open In Colab\"/></a>"
      ]
    },
    {
      "cell_type": "code",
      "source": [
        "%pip install ultralytics\n",
        "import ultralytics\n",
        "ultralytics.checks()"
      ],
      "metadata": {
        "colab": {
          "base_uri": "https://localhost:8080/"
        },
        "id": "Q80QpAeithi3",
        "outputId": "8746a3fd-5754-411e-f24b-234aa6e51703"
      },
      "execution_count": 1,
      "outputs": [
        {
          "output_type": "stream",
          "name": "stdout",
          "text": [
            "Ultralytics YOLOv8.2.92 🚀 Python-3.10.12 torch-2.4.0+cu121 CPU (Intel Xeon 2.20GHz)\n",
            "Setup complete ✅ (2 CPUs, 12.7 GB RAM, 32.8/225.8 GB disk)\n"
          ]
        }
      ]
    },
    {
      "cell_type": "code",
      "source": [
        "!wget --no-check-certificate 'https://docs.google.com/uc?export=download&id=11NPxArphDybU91qA-9O6toYPx0d5ZRzv' -O antivirus.jpg"
      ],
      "metadata": {
        "colab": {
          "base_uri": "https://localhost:8080/"
        },
        "id": "pd_TrVyTw1KT",
        "outputId": "2517c486-da1e-4d8a-9a03-5472f6fd87d9"
      },
      "execution_count": 2,
      "outputs": [
        {
          "output_type": "stream",
          "name": "stdout",
          "text": [
            "--2024-09-12 07:55:34--  https://docs.google.com/uc?export=download&id=11NPxArphDybU91qA-9O6toYPx0d5ZRzv\n",
            "Resolving docs.google.com (docs.google.com)... 74.125.135.113, 74.125.135.138, 74.125.135.101, ...\n",
            "Connecting to docs.google.com (docs.google.com)|74.125.135.113|:443... connected.\n",
            "HTTP request sent, awaiting response... 303 See Other\n",
            "Location: https://drive.usercontent.google.com/download?id=11NPxArphDybU91qA-9O6toYPx0d5ZRzv&export=download [following]\n",
            "--2024-09-12 07:55:34--  https://drive.usercontent.google.com/download?id=11NPxArphDybU91qA-9O6toYPx0d5ZRzv&export=download\n",
            "Resolving drive.usercontent.google.com (drive.usercontent.google.com)... 74.125.199.132, 2607:f8b0:400e:c02::84\n",
            "Connecting to drive.usercontent.google.com (drive.usercontent.google.com)|74.125.199.132|:443... connected.\n",
            "HTTP request sent, awaiting response... 200 OK\n",
            "Length: 55562 (54K) [image/jpeg]\n",
            "Saving to: ‘antivirus.jpg’\n",
            "\n",
            "antivirus.jpg       100%[===================>]  54.26K  --.-KB/s    in 0.001s  \n",
            "\n",
            "2024-09-12 07:55:37 (75.2 MB/s) - ‘antivirus.jpg’ saved [55562/55562]\n",
            "\n"
          ]
        }
      ]
    },
    {
      "cell_type": "code",
      "source": [
        "from ultralytics import YOLO\n",
        "import cv2\n",
        "\n",
        "# Load your model\n",
        "model = YOLO('yolov8n-seg.pt')  # Adjust model path as needed\n",
        "\n",
        "# Run prediction\n",
        "results = model('antivirus.jpg')\n",
        "\n",
        "# Access the masks\n",
        "masks = results[0].masks.data.numpy() # Access the numpy array within the Masks object\n",
        "\n",
        "# Assuming single class segmentation for simplicity, adjust as needed\n",
        "mask = masks[0]  # For multi-class, iterate over masks\n",
        "\n",
        "# Save the mask\n",
        "cv2.imwrite('segmented_mask.png', mask * 255)  # Convert mask to uint8 if needed"
      ],
      "metadata": {
        "colab": {
          "base_uri": "https://localhost:8080/"
        },
        "id": "Cq964N0Tvvnm",
        "outputId": "af36f017-f770-4f8a-9fce-7bfe7105c0aa"
      },
      "execution_count": 3,
      "outputs": [
        {
          "output_type": "stream",
          "name": "stdout",
          "text": [
            "Downloading https://github.com/ultralytics/assets/releases/download/v8.2.0/yolov8n-seg.pt to 'yolov8n-seg.pt'...\n"
          ]
        },
        {
          "output_type": "stream",
          "name": "stderr",
          "text": [
            "100%|██████████| 6.74M/6.74M [00:00<00:00, 124MB/s]\n"
          ]
        },
        {
          "output_type": "stream",
          "name": "stdout",
          "text": [
            "\n",
            "image 1/1 /content/antivirus.jpg: 480x640 6 bowls, 599.1ms\n",
            "Speed: 19.3ms preprocess, 599.1ms inference, 73.6ms postprocess per image at shape (1, 3, 480, 640)\n"
          ]
        },
        {
          "output_type": "execute_result",
          "data": {
            "text/plain": [
              "True"
            ]
          },
          "metadata": {},
          "execution_count": 3
        }
      ]
    },
    {
      "cell_type": "code",
      "source": [
        "# Assuming single class segmentation for simplicity, adjust as needed\n",
        "mask = masks[1]  # For multi-class, iterate over masks\n",
        "\n",
        "# Save the mask\n",
        "cv2.imwrite('segmented_mask2.png', mask * 255)  # Convert mask to uint8 if needed"
      ],
      "metadata": {
        "colab": {
          "base_uri": "https://localhost:8080/"
        },
        "id": "v3MMUgJPv9vX",
        "outputId": "7f706498-551c-4aba-c6dd-e9f13183596a"
      },
      "execution_count": 4,
      "outputs": [
        {
          "output_type": "execute_result",
          "data": {
            "text/plain": [
              "True"
            ]
          },
          "metadata": {},
          "execution_count": 4
        }
      ]
    }
  ]
}