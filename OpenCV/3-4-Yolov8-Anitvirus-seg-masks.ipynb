{
  "nbformat": 4,
  "nbformat_minor": 0,
  "metadata": {
    "colab": {
      "provenance": [],
      "authorship_tag": "ABX9TyPs7G1nhVjH9KT1UCMOLvCN",
      "include_colab_link": true
    },
    "kernelspec": {
      "name": "python3",
      "display_name": "Python 3"
    },
    "language_info": {
      "name": "python"
    }
  },
  "cells": [
    {
      "cell_type": "markdown",
      "metadata": {
        "id": "view-in-github",
        "colab_type": "text"
      },
      "source": [
        "<a href=\"https://colab.research.google.com/github/JSJeong-me/AI-Innovation-2024/blob/main/OpenCV/3-4-Yolov8-Anitvirus-seg-masks.ipynb\" target=\"_parent\"><img src=\"https://colab.research.google.com/assets/colab-badge.svg\" alt=\"Open In Colab\"/></a>"
      ]
    },
    {
      "cell_type": "code",
      "source": [
        "%pip install ultralytics\n",
        "import ultralytics\n",
        "ultralytics.checks()"
      ],
      "metadata": {
        "colab": {
          "base_uri": "https://localhost:8080/"
        },
        "id": "Q80QpAeithi3",
        "outputId": "0d431737-2358-4da9-c5c7-68c3d75ab4a3"
      },
      "execution_count": 1,
      "outputs": [
        {
          "output_type": "stream",
          "name": "stdout",
          "text": [
            "Ultralytics YOLOv8.2.92 🚀 Python-3.10.12 torch-2.4.0+cu121 CPU (Intel Xeon 2.20GHz)\n",
            "Setup complete ✅ (2 CPUs, 12.7 GB RAM, 32.8/225.8 GB disk)\n"
          ]
        }
      ]
    },
    {
      "cell_type": "code",
      "source": [
        "!wget --no-check-certificate 'https://docs.google.com/uc?export=download&id=1IcBrgcx8NP85gYg5XrhPhr12GgGDPweu' -O elephant2.png"
      ],
      "metadata": {
        "colab": {
          "base_uri": "https://localhost:8080/"
        },
        "id": "pd_TrVyTw1KT",
        "outputId": "b80e0265-ff91-43e3-ed90-d3ac8f79834f"
      },
      "execution_count": null,
      "outputs": [
        {
          "output_type": "stream",
          "name": "stdout",
          "text": [
            "--2024-09-11 06:27:24--  https://docs.google.com/uc?export=download&id=1IcBrgcx8NP85gYg5XrhPhr12GgGDPweu\n",
            "Resolving docs.google.com (docs.google.com)... 172.217.204.102, 172.217.204.100, 172.217.204.113, ...\n",
            "Connecting to docs.google.com (docs.google.com)|172.217.204.102|:443... connected.\n",
            "HTTP request sent, awaiting response... 303 See Other\n",
            "Location: https://drive.usercontent.google.com/download?id=1IcBrgcx8NP85gYg5XrhPhr12GgGDPweu&export=download [following]\n",
            "--2024-09-11 06:27:24--  https://drive.usercontent.google.com/download?id=1IcBrgcx8NP85gYg5XrhPhr12GgGDPweu&export=download\n",
            "Resolving drive.usercontent.google.com (drive.usercontent.google.com)... 173.194.216.132, 2607:f8b0:400c:c12::84\n",
            "Connecting to drive.usercontent.google.com (drive.usercontent.google.com)|173.194.216.132|:443... connected.\n",
            "HTTP request sent, awaiting response... 200 OK\n",
            "Length: 843231 (823K) [image/png]\n",
            "Saving to: ‘elephant2.png’\n",
            "\n",
            "elephant2.png       100%[===================>] 823.47K  --.-KB/s    in 0.007s  \n",
            "\n",
            "2024-09-11 06:27:26 (111 MB/s) - ‘elephant2.png’ saved [843231/843231]\n",
            "\n"
          ]
        }
      ]
    },
    {
      "cell_type": "code",
      "source": [
        "from ultralytics import YOLO\n",
        "import cv2\n",
        "\n",
        "# Load your model\n",
        "model = YOLO('yolov8n-seg.pt')  # Adjust model path as needed\n",
        "\n",
        "# Run prediction\n",
        "results = model('antivirus.jpg')\n",
        "\n",
        "# Access the masks\n",
        "masks = results[0].masks.data.numpy() # Access the numpy array within the Masks object\n",
        "\n",
        "# Assuming single class segmentation for simplicity, adjust as needed\n",
        "mask = masks[0]  # For multi-class, iterate over masks\n",
        "\n",
        "# Save the mask\n",
        "cv2.imwrite('segmented_mask.png', mask * 255)  # Convert mask to uint8 if needed"
      ],
      "metadata": {
        "colab": {
          "base_uri": "https://localhost:8080/"
        },
        "id": "Cq964N0Tvvnm",
        "outputId": "f67085e7-b5af-44fa-ecf8-fe95b9c147ab"
      },
      "execution_count": 2,
      "outputs": [
        {
          "output_type": "stream",
          "name": "stdout",
          "text": [
            "Downloading https://github.com/ultralytics/assets/releases/download/v8.2.0/yolov8n-seg.pt to 'yolov8n-seg.pt'...\n"
          ]
        },
        {
          "output_type": "stream",
          "name": "stderr",
          "text": [
            "100%|██████████| 6.74M/6.74M [00:00<00:00, 55.2MB/s]\n"
          ]
        },
        {
          "output_type": "stream",
          "name": "stdout",
          "text": [
            "\n",
            "image 1/1 /content/antivirus.jpg: 480x640 6 bowls, 420.3ms\n",
            "Speed: 16.6ms preprocess, 420.3ms inference, 57.3ms postprocess per image at shape (1, 3, 480, 640)\n"
          ]
        },
        {
          "output_type": "execute_result",
          "data": {
            "text/plain": [
              "True"
            ]
          },
          "metadata": {},
          "execution_count": 2
        }
      ]
    },
    {
      "cell_type": "code",
      "source": [
        "# Assuming single class segmentation for simplicity, adjust as needed\n",
        "mask = masks[1]  # For multi-class, iterate over masks\n",
        "\n",
        "# Save the mask\n",
        "cv2.imwrite('segmented_mask2.png', mask * 255)  # Convert mask to uint8 if needed"
      ],
      "metadata": {
        "colab": {
          "base_uri": "https://localhost:8080/"
        },
        "id": "v3MMUgJPv9vX",
        "outputId": "1f75814f-8dd8-4450-dd43-28b77077fb62"
      },
      "execution_count": 3,
      "outputs": [
        {
          "output_type": "execute_result",
          "data": {
            "text/plain": [
              "True"
            ]
          },
          "metadata": {},
          "execution_count": 3
        }
      ]
    }
  ]
}