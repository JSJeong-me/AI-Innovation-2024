{
  "cells": [
    {
      "cell_type": "markdown",
      "metadata": {
        "id": "view-in-github",
        "colab_type": "text"
      },
      "source": [
        "<a href=\"https://colab.research.google.com/github/JSJeong-me/AI-Innovation-2024/blob/main/OpenCV/3-5-counts_coins_20_hough.ipynb\" target=\"_parent\"><img src=\"https://colab.research.google.com/assets/colab-badge.svg\" alt=\"Open In Colab\"/></a>"
      ]
    },
    {
      "cell_type": "markdown",
      "id": "630278ec",
      "metadata": {
        "id": "630278ec"
      },
      "source": [
        "### OpenCV - Excercise #1\n",
        "\n",
        "### By Joo Soo Jeong / Ph.D\n",
        "\n",
        "### https://github.com/JSJeong-me/KOSA-Vision\n",
        "\n",
        "### email: heinem@naver.com\n",
        "\n",
        "###  Copyrights 2021"
      ]
    },
    {
      "cell_type": "markdown",
      "id": "45783922",
      "metadata": {
        "id": "45783922"
      },
      "source": [
        "# Step 1 - Find red RGB codes"
      ]
    },
    {
      "cell_type": "markdown",
      "id": "e8e9770f",
      "metadata": {
        "id": "e8e9770f"
      },
      "source": [
        "low [0, 0, 220]\n",
        "high [255, 255, 255]"
      ]
    },
    {
      "cell_type": "markdown",
      "id": "f5f6d43f",
      "metadata": {
        "id": "f5f6d43f"
      },
      "source": []
    },
    {
      "cell_type": "code",
      "source": [
        "!wget --no-check-certificate 'https://docs.google.com/uc?export=download&id=1Dj2f5UbImGbI24Mt5FQVWa2Zh8UtjEWi' -O coins-20.jpg"
      ],
      "metadata": {
        "id": "RVs5gep94jB8"
      },
      "id": "RVs5gep94jB8",
      "execution_count": null,
      "outputs": []
    },
    {
      "cell_type": "code",
      "execution_count": null,
      "id": "717fe9fa",
      "metadata": {
        "id": "717fe9fa"
      },
      "outputs": [],
      "source": [
        "import cv2\n",
        "import numpy as np\n",
        "from google.colab.patches import cv2_imshow\n",
        "import sys\n",
        "\n",
        "img = cv2.imread('./coins-20.jpg')"
      ]
    },
    {
      "cell_type": "code",
      "execution_count": null,
      "id": "ce96390c",
      "metadata": {
        "id": "ce96390c"
      },
      "outputs": [],
      "source": [
        "# 그레이 스케일 변환 ---①\n",
        "gray = cv2.cvtColor(img, cv2.COLOR_BGR2GRAY)\n",
        "# 노이즈 제거를 위한 가우시안 블러 ---②\n",
        "blur = cv2.GaussianBlur(gray, (3,3), 0)"
      ]
    },
    {
      "cell_type": "code",
      "execution_count": null,
      "id": "b67ff62e",
      "metadata": {
        "id": "b67ff62e"
      },
      "outputs": [],
      "source": [
        "# 허프 원 변환 적용( dp=1.2, minDist=30, cany_max=200 ) ---③\n",
        "circles = cv2.HoughCircles(blur, cv2.HOUGH_GRADIENT, 1.2, 60, None, 350)\n",
        "print(circles.shape[1])"
      ]
    },
    {
      "cell_type": "markdown",
      "id": "0ebe423f",
      "metadata": {
        "id": "0ebe423f"
      },
      "source": [
        "circle = cv2.HoughCircles(img, method, dp, minDist, circles, param1, param2, minRadius, maxRadius)\n",
        "\n",
        "img: 입력 이미지, 1채널 배열\n",
        "method: 검출 방식 선택 (현재 cv2.HOUGH_GRADIENT만 가능)\n",
        "dp: 입력 영상과 경사 누적의 해상도 반비례율, 1: 입력과 동일, 값이 커질수록 부정확\n",
        "minDist: 원들 중심 간의 최소 거리 (0: 에러, 0이면 동심원이 검출 불가하므로)\n",
        "circles(optional): 검출 원 결과, N x 1 x 3 부동 소수점 배열 (x, y, 반지름)\n",
        "param1(optional): 캐니 엣지에 전달할 스레시홀드 최대 값 (최소 값은 최대 값의 2배 작은 값을 전달)\n",
        "param2(optional): 경사도 누적 경계 값 (값이 작을수록 잘못된 원 검출)\n",
        "minRadius, maxRadius(optional): 원의 최소 반지름, 최대 반지름 (0이면 이미지 전체의 크기)"
      ]
    },
    {
      "cell_type": "code",
      "execution_count": null,
      "id": "70e16298",
      "metadata": {
        "id": "70e16298"
      },
      "outputs": [],
      "source": [
        "if circles is not None:\n",
        "    circles = np.uint16(np.around(circles))\n",
        "    for i in circles[0,:]:\n",
        "        # 원 둘레에 초록색 원 그리기\n",
        "        cv2.circle(img,(i[0], i[1]), i[2], (0, 255, 0), 2)\n",
        "        # 원 중심점에 빨강색 원 그리기\n",
        "        cv2.circle(img, (i[0], i[1]), 2, (0,0,255), 5)\n",
        "\n",
        "# 결과 출력\n",
        "cv2_imshow(img)\n",
        "# cv2.imshow('hough circle', img)\n",
        "# cv2.waitKey(0)\n",
        "# cv2.destroyAllWindows()"
      ]
    },
    {
      "cell_type": "code",
      "execution_count": null,
      "id": "195e376f",
      "metadata": {
        "id": "195e376f"
      },
      "outputs": [],
      "source": []
    },
    {
      "cell_type": "markdown",
      "id": "c84442cc",
      "metadata": {
        "id": "c84442cc"
      },
      "source": [
        "# Draw circles\n",
        "for (i, c) in enumerate(cnts):\n",
        "    ((x, y), _) = cv2.minEnclosingCircle(c)\n",
        "    cv2.drawContours(rgb_src, [c], -1, (0, 255, 0), 5)\n",
        "    cv2.putText(rgb_src, \"{}\".format(i + 1), (int(x)-55, int(y)+50), cv2.FONT_HERSHEY_SIMPLEX, 2, (0, 0, 255), 3)"
      ]
    },
    {
      "cell_type": "code",
      "execution_count": null,
      "id": "3dbde915",
      "metadata": {
        "id": "3dbde915"
      },
      "outputs": [],
      "source": [
        "# Step 1 - Find red RGB codes\n",
        "\n",
        "#### low [111, 29, 18]\n",
        "#### high [200, 50, 50]"
      ]
    },
    {
      "cell_type": "code",
      "execution_count": null,
      "id": "71613fb7",
      "metadata": {
        "id": "71613fb7"
      },
      "outputs": [],
      "source": []
    },
    {
      "cell_type": "code",
      "execution_count": null,
      "id": "1566b6cf",
      "metadata": {
        "id": "1566b6cf"
      },
      "outputs": [],
      "source": [
        "import cv2\n",
        "import numpy as np\n",
        "import sys\n",
        "\n",
        "src = cv2.imread('./coins-20.jpg')\n",
        "\n",
        "if src is None:\n",
        "    print('image load failed')\n",
        "    sys.exit()\n",
        "\n",
        "\n",
        "hsv_src = cv2.cvtColor(src, cv2.COLOR_BGR2HSV)\n",
        "hsv_src = cv2.resize(hsv_src, dsize=(0, 0), fx=0.5, fy=0.5, interpolation=cv2.INTER_AREA)\n",
        "\n",
        "# Google vision api  RGB(161, 32, 30)   RGB(174, 29, 18)  RGB(204, 38, 32)\n",
        "low = np.array([0, 0, 208])\n",
        "high = np.array([255, 255, 255])\n",
        "mask = cv2.inRange(hsv_src, low, high)\n",
        "result = cv2.bitwise_and(hsv_src, hsv_src, mask=mask)\n",
        "\n",
        "\n",
        "cv2_imshow(hsv_src)\n",
        "cv2_imshow(mask)\n",
        "cv2_imshow(result)\n",
        "\n",
        "# cv2.waitKey(0)\n",
        "# cv2.destroyAllWindows()"
      ]
    },
    {
      "cell_type": "code",
      "execution_count": null,
      "id": "ee392634",
      "metadata": {
        "id": "ee392634"
      },
      "outputs": [],
      "source": []
    },
    {
      "cell_type": "code",
      "execution_count": null,
      "id": "7eafc01b",
      "metadata": {
        "id": "7eafc01b"
      },
      "outputs": [],
      "source": []
    },
    {
      "cell_type": "code",
      "execution_count": null,
      "id": "d6b375e4",
      "metadata": {
        "id": "d6b375e4"
      },
      "outputs": [],
      "source": [
        "#Step 2"
      ]
    },
    {
      "cell_type": "code",
      "execution_count": null,
      "id": "e2bfd717",
      "metadata": {
        "id": "e2bfd717"
      },
      "outputs": [],
      "source": [
        "import cv2\n",
        "import numpy as np\n",
        "import sys\n",
        "\n",
        "src = cv2.imread('./coins-20.jpg')\n",
        "\n",
        "if src is None:\n",
        "    print('image load failed')\n",
        "    sys.exit()\n",
        "\n",
        "\n",
        "hsv_src = cv2.cvtColor(src, cv2.COLOR_BGR2HSV)\n",
        "hsv_src = cv2.resize(hsv_src, dsize=(0, 0), fx=0.5, fy=0.5, interpolation=cv2.INTER_AREA)\n",
        "\n",
        "# Google vision api  RGB(161, 32, 30)   RGB(174, 29, 18)  RGB(204, 38, 32)\n",
        "low = np.array([0, 0, 208])\n",
        "high = np.array([255, 255, 255])\n",
        "mask = cv2.inRange(hsv_src, low, high)\n",
        "\n",
        "image_res ,image_thresh = cv2.threshold(mask, 0, 255,cv2.THRESH_BINARY_INV, cv2.THRESH_OTSU)\n",
        "\n",
        "#result = cv2.bitwise_and(src, src, mask=mask)\n",
        "\n",
        "\n",
        "cv2_imshow(hsv_src)\n",
        "cv2_imshow(mask)\n",
        "cv2_imshow(image_thresh)\n",
        "\n",
        "# cv2.waitKey(0)\n",
        "# cv2.destroyAllWindows()"
      ]
    },
    {
      "cell_type": "code",
      "execution_count": null,
      "id": "6c5d22e2",
      "metadata": {
        "id": "6c5d22e2"
      },
      "outputs": [],
      "source": [
        "# Step 3 Blur"
      ]
    },
    {
      "cell_type": "code",
      "execution_count": null,
      "id": "5f8b63b4",
      "metadata": {
        "id": "5f8b63b4"
      },
      "outputs": [],
      "source": [
        "import cv2\n",
        "import numpy as np\n",
        "import sys\n",
        "\n",
        "src = cv2.imread('./coins-20.jpg')\n",
        "\n",
        "if src is None:\n",
        "    print('image load failed')\n",
        "    sys.exit()\n",
        "\n",
        "\n",
        "hsv_src = cv2.cvtColor(src, cv2.COLOR_BGR2HSV)\n",
        "hsv_src = cv2.resize(hsv_src, dsize=(0, 0), fx=0.5, fy=0.5, interpolation=cv2.INTER_AREA)\n",
        "\n",
        "# Google vision api  RGB(161, 32, 30)   RGB(174, 29, 18)  RGB(204, 38, 32)\n",
        "low = np.array([0, 0, 208])\n",
        "high = np.array([255, 255, 255])\n",
        "mask = cv2.inRange(hsv_src, low, high)\n",
        "\n",
        "image_res ,image_thresh = cv2.threshold(mask, 0, 255,cv2.THRESH_BINARY_INV, cv2.THRESH_OTSU)\n",
        "\n",
        "blur = cv2.medianBlur(image_thresh, 3) # 25 -> 17\n",
        "\n",
        "#result = cv2.bitwise_and(src, src, mask=mask)\n",
        "\n",
        "\n",
        "cv2_imshow(src)\n",
        "cv2_imshow(mask)\n",
        "cv2_imshow(blur)\n",
        "\n",
        "# cv2.waitKey(0)\n",
        "# cv2.destroyAllWindows()"
      ]
    },
    {
      "cell_type": "code",
      "execution_count": null,
      "id": "2c3431b9",
      "metadata": {
        "id": "2c3431b9"
      },
      "outputs": [],
      "source": [
        "# Step 4 noise deduction"
      ]
    },
    {
      "cell_type": "code",
      "execution_count": null,
      "id": "922d7547",
      "metadata": {
        "id": "922d7547"
      },
      "outputs": [],
      "source": [
        "import cv2\n",
        "import numpy as np\n",
        "import sys\n",
        "\n",
        "src = cv2.imread('./coins-20.jpg')\n",
        "\n",
        "if src is None:\n",
        "    print('image load failed')\n",
        "    sys.exit()\n",
        "\n",
        "hsv_src = cv2.cvtColor(src, cv2.COLOR_BGR2HSV)\n",
        "hsv_src = cv2.resize(hsv_src, dsize=(0, 0), fx=0.5, fy=0.5, interpolation=cv2.INTER_AREA)\n",
        "\n",
        "# Google vision api  RGB(161, 32, 30)   RGB(174, 29, 18)  RGB(204, 38, 32)\n",
        "low = np.array([0, 0, 208])\n",
        "high = np.array([255, 255, 255])\n",
        "mask = cv2.inRange(hsv_src, low, high)\n",
        "\n",
        "image_res ,image_thresh = cv2.threshold(mask, 0, 255,cv2.THRESH_BINARY_INV, cv2.THRESH_OTSU)\n",
        "\n",
        "blur = cv2.medianBlur(image_thresh, 3) # 25 -> 17\n",
        "\n",
        "kernel = np.ones((3,3),np.uint8)\n",
        "# with the morphologyEx method is that although we blur the picture, some small black or white areas (noise) may remain. We used this method to destroy these.\n",
        "shaved = cv2.morphologyEx(blur,cv2.MORPH_OPEN,kernel)\n",
        "\n",
        "\n",
        "cv2_imshow(src)\n",
        "cv2_imshow(blur)\n",
        "cv2_imshow(shaved)\n",
        "\n",
        "# cv2.waitKey(0)\n",
        "# cv2.destroyAllWindows()"
      ]
    },
    {
      "cell_type": "code",
      "execution_count": null,
      "id": "94ef7902",
      "metadata": {
        "id": "94ef7902"
      },
      "outputs": [],
      "source": [
        "# Step 5 Distance transform"
      ]
    },
    {
      "cell_type": "code",
      "execution_count": null,
      "id": "cc00b6a5",
      "metadata": {
        "id": "cc00b6a5"
      },
      "outputs": [],
      "source": [
        "import cv2\n",
        "import numpy as np\n",
        "import sys\n",
        "\n",
        "src = cv2.imread('./coins-20.jpg')\n",
        "\n",
        "if src is None:\n",
        "    print('image load failed')\n",
        "    sys.exit()\n",
        "\n",
        "\n",
        "hsv_src = cv2.cvtColor(src, cv2.COLOR_BGR2HSV)\n",
        "hsv_src = cv2.resize(hsv_src, dsize=(0, 0), fx=0.5, fy=0.5, interpolation=cv2.INTER_AREA)\n",
        "\n",
        "# Google vision api  RGB(161, 32, 30)   RGB(174, 29, 18)  RGB(204, 38, 32)\n",
        "low = np.array([0, 0, 208])\n",
        "high = np.array([255, 255, 255])\n",
        "mask = cv2.inRange(hsv_src, low, high)\n",
        "\n",
        "image_res ,image_thresh = cv2.threshold(mask, 0, 255,cv2.THRESH_BINARY_INV, cv2.THRESH_OTSU)\n",
        "\n",
        "blur = cv2.medianBlur(image_thresh, 3) # 25 -> 17\n",
        "\n",
        "kernel = np.ones((3,3),np.uint8)\n",
        "# with the morphologyEx method is that although we blur the picture, some small black or white areas (noise) may remain. We used this method to destroy these.\n",
        "shaved = cv2.morphologyEx(blur,cv2.MORPH_OPEN,kernel)\n",
        "\n",
        "# Distance transfrom\n",
        "dist_transform = cv2.distanceTransform(shaved,cv2.DIST_L2,3)\n",
        "ret, isolate_image =  cv2.threshold(dist_transform, 0.5*dist_transform.max(),255,0)\n",
        "\n",
        "cv2_imshow(src)\n",
        "cv2_imshow(shaved)\n",
        "cv2_imshow(dist_transform)\n",
        "# cv2-imshow(isolate_image)\n",
        "\n",
        "# cv2.waitKey(0)\n",
        "# cv2.destroyAllWindows()\n"
      ]
    },
    {
      "cell_type": "code",
      "execution_count": null,
      "id": "e2b99432",
      "metadata": {
        "id": "e2b99432"
      },
      "outputs": [],
      "source": [
        "# Step 6 Contour & counts of number of caps"
      ]
    },
    {
      "cell_type": "code",
      "execution_count": null,
      "id": "b0818dd0",
      "metadata": {
        "id": "b0818dd0"
      },
      "outputs": [],
      "source": [
        "import cv2\n",
        "import numpy as np\n",
        "import sys\n",
        "import imutils\n",
        "\n",
        "src = cv2.imread('./coins-20.jpg')\n",
        "\n",
        "if src is None:\n",
        "    print('image load failed')\n",
        "    sys.exit()\n",
        "\n",
        "\n",
        "hsv_src = cv2.cvtColor(src, cv2.COLOR_BGR2HSV)\n",
        "hsv_src = cv2.resize(hsv_src, dsize=(0, 0), fx=0.5, fy=0.5, interpolation=cv2.INTER_AREA)\n",
        "\n",
        "# Google vision api  RGB(161, 32, 30)   RGB(174, 29, 18)  RGB(204, 38, 32)\n",
        "low = np.array([0, 0, 208])\n",
        "high = np.array([255, 255, 255])\n",
        "mask = cv2.inRange(hsv_src, low, high)\n",
        "\n",
        "image_res ,image_thresh = cv2.threshold(mask, 0, 255,cv2.THRESH_BINARY_INV, cv2.THRESH_OTSU)\n",
        "\n",
        "blur = cv2.medianBlur(image_thresh, 3) # 25 -> 17\n",
        "\n",
        "kernel = np.ones((3,3),np.uint8)\n",
        "# with the morphologyEx method is that although we blur the picture, some small black or white areas (noise) may remain. We used this method to destroy these.\n",
        "shaved = cv2.morphologyEx(blur,cv2.MORPH_OPEN,kernel)\n",
        "\n",
        "# Distance transfrom\n",
        "dist_transform = cv2.distanceTransform(shaved,cv2.DIST_L2,3)\n",
        "ret, isolate_image =  cv2.threshold(dist_transform, 0.5*dist_transform.max(),255,0)\n",
        "\n",
        "# Contours\n",
        "last_image = np.uint8(isolate_image)\n",
        "\n",
        "# the counting of objects and recording the positions of the objects\n",
        "cnts = cv2.findContours(last_image.copy(), cv2.RETR_EXTERNAL, cv2.CHAIN_APPROX_SIMPLE)\n",
        "cnts = imutils.grab_contours(cnts)\n",
        "print(len(cnts))\n",
        "\n",
        "\n",
        "cv2_imshow(src)\n",
        "cv2_imshow(dist_transform)\n",
        "cv2_imshow(isolate_image)\n",
        "cv2_imshow(last_image)\n",
        "\n",
        "# cv2.waitKey(0)\n",
        "# cv2.destroyAllWindows()"
      ]
    },
    {
      "cell_type": "code",
      "execution_count": null,
      "id": "c5153536",
      "metadata": {
        "id": "c5153536"
      },
      "outputs": [],
      "source": [
        "# Step 7 Draw circles"
      ]
    },
    {
      "cell_type": "code",
      "execution_count": null,
      "id": "0ae9de39",
      "metadata": {
        "id": "0ae9de39"
      },
      "outputs": [],
      "source": [
        "import cv2\n",
        "import numpy as np\n",
        "import sys\n",
        "import imutils\n",
        "\n",
        "src = cv2.imread('./coins-20.jpg')\n",
        "\n",
        "if src is None:\n",
        "    print('image load failed')\n",
        "    sys.exit()\n",
        "\n",
        "\n",
        "hsv_src = cv2.cvtColor(src, cv2.COLOR_BGR2HSV)\n",
        "hsv_src = cv2.resize(hsv_src, dsize=(0, 0), fx=0.5, fy=0.5, interpolation=cv2.INTER_AREA)\n",
        "\n",
        "# Google vision api  RGB(161, 32, 30)   RGB(174, 29, 18)  RGB(204, 38, 32)\n",
        "low = np.array([0, 0, 208])\n",
        "high = np.array([255, 255, 255])\n",
        "mask = cv2.inRange(hsv_src, low, high)\n",
        "\n",
        "image_res ,image_thresh = cv2.threshold(mask, 0, 255,cv2.THRESH_BINARY_INV, cv2.THRESH_OTSU)\n",
        "\n",
        "blur = cv2.medianBlur(image_thresh, 3) # 25 -> 17\n",
        "\n",
        "kernel = np.ones((3,3),np.uint8)\n",
        "# with the morphologyEx method is that although we blur the picture, some small black or white areas (noise) may remain. We used this method to destroy these.\n",
        "shaved = cv2.morphologyEx(blur,cv2.MORPH_OPEN,kernel)\n",
        "\n",
        "# Distance transfrom\n",
        "dist_transform = cv2.distanceTransform(shaved,cv2.DIST_L2,3)\n",
        "ret, isolate_image =  cv2.threshold(dist_transform, 0.5*dist_transform.max(),255,0)\n",
        "\n",
        "# Contours\n",
        "last_image = np.uint8(isolate_image)\n",
        "\n",
        "# the counting of objects and recording the positions of the objects\n",
        "cnts = cv2.findContours(last_image.copy(), cv2.RETR_EXTERNAL, cv2.CHAIN_APPROX_SIMPLE)\n",
        "cnts = imutils.grab_contours(cnts)\n",
        "print(len(cnts))\n",
        "\n",
        "# Draw circles\n",
        "for pts in cnts:\n",
        "    perimeter = cv2.arcLength(pts, True)\n",
        "    cv2.drawContours(hsv_src, [pts], 0, (255, 0, 0), 5)\n",
        "    approx = cv2.approxPolyDP(pts, cv2.arcLength(pts, True), True)\n",
        "\n",
        "\n",
        "cv2_imshow(hsv_src)\n",
        "cv2_imshow(last_image)\n",
        "\n",
        "# cv2.waitKey(0)\n",
        "# cv2.destroyAllWindows()"
      ]
    },
    {
      "cell_type": "code",
      "execution_count": null,
      "id": "aa11a795",
      "metadata": {
        "id": "aa11a795"
      },
      "outputs": [],
      "source": [
        "!wget --no-check-certificate 'https://docs.google.com/uc?export=download&id=11NPxArphDybU91qA-9O6toYPx0d5ZRzv' -O antivirus.jpg"
      ]
    },
    {
      "cell_type": "code",
      "execution_count": null,
      "id": "0ca3f4b3",
      "metadata": {
        "id": "0ca3f4b3"
      },
      "outputs": [],
      "source": [
        "import cv2\n",
        "import numpy as np\n",
        "import sys\n",
        "import imutils\n",
        "\n",
        "\n",
        "src = cv2.imread('./antivirus.jpg')\n",
        "\n",
        "if src is None:\n",
        "    print('image load failed')\n",
        "    sys.exit()\n",
        "\n",
        "rgb_src = cv2.cvtColor(src, cv2.COLOR_BGR2RGB)\n",
        "\n",
        "# Every color except white & Green\n",
        "low = np.array([111, 0, 0])\n",
        "high = np.array([204, 55, 55])\n",
        "mask = cv2.inRange(rgb_src, low, high)\n",
        "\n",
        "blur = cv2.medianBlur(mask,15) # 25 -> 17\n",
        "\n",
        "#kernel = np.ones((3,3),np.uint8)\n",
        "# with the morphologyEx method is that although we blur the picture, some small black or white areas (noise) may remain. We used this method to destroy these.\n",
        "#shaved = cv2.morphologyEx(blur,cv2.MORPH_OPEN,kernel)\n",
        "\n",
        "# Distance transfrom\n",
        "dist_transform = cv2.distanceTransform(blur,cv2.DIST_L2,3)\n",
        "ret, isolate_image =  cv2.threshold(dist_transform, 0.5*dist_transform.max(),255,0)\n",
        "\n",
        "\n",
        "# Contours\n",
        "last_image = np.uint8(isolate_image)\n",
        "\n",
        "# the counting of objects and recording the positions of the objects\n",
        "cnts, _ = cv2.findContours(last_image.copy(), cv2.RETR_EXTERNAL, cv2.CHAIN_APPROX_SIMPLE)\n",
        "#cnts = imutils.grab_contours(cnts)\n",
        "print(len(cnts))\n",
        "\n",
        "# Draw circles\n",
        "for (i, c) in enumerate(cnts):\n",
        "    ((x, y), _) = cv2.minEnclosingCircle(c)\n",
        "    cv2.drawContours(rgb_src, [c], -1, (0, 255, 0), 5)\n",
        "    cv2.putText(rgb_src, \"{}\".format(i + 1), (int(x)-55, int(y)+50), cv2.FONT_HERSHEY_SIMPLEX, 2, (0, 0, 255), 3)\n",
        "\n",
        "\n",
        "cv2_imshow(src)\n",
        "cv2_imshow(rgb_src)\n",
        "cv2_imshow(last_image)\n",
        "\n",
        "# cv2.waitKey(0)\n",
        "# cv2.destroyAllWindows()\n"
      ]
    },
    {
      "cell_type": "code",
      "execution_count": null,
      "id": "9e4faf4e",
      "metadata": {
        "id": "9e4faf4e"
      },
      "outputs": [],
      "source": []
    }
  ],
  "metadata": {
    "kernelspec": {
      "display_name": "Python KOSA",
      "language": "python",
      "name": "kosa"
    },
    "language_info": {
      "codemirror_mode": {
        "name": "ipython",
        "version": 3
      },
      "file_extension": ".py",
      "mimetype": "text/x-python",
      "name": "python",
      "nbconvert_exporter": "python",
      "pygments_lexer": "ipython3",
      "version": "3.8.3"
    },
    "colab": {
      "provenance": [],
      "include_colab_link": true
    }
  },
  "nbformat": 4,
  "nbformat_minor": 5
}