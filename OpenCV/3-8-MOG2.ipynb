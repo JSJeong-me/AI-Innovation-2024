{
 "cells": [
  {
   "cell_type": "code",
   "execution_count": 1,
   "id": "0b727433-10a7-453f-b914-64476fbf1da0",
   "metadata": {
    "tags": []
   },
   "outputs": [],
   "source": [
    "import cv2\n",
    "\n",
    "# 동영상 파일 경로 설정\n",
    "video_path = './highway01.mp4'\n",
    "\n",
    "# 동영상 파일 읽기\n",
    "cap = cv2.VideoCapture(video_path)"
   ]
  },
  {
   "cell_type": "code",
   "execution_count": 2,
   "id": "86949199-0789-45de-95a5-f5dfaf869394",
   "metadata": {
    "tags": []
   },
   "outputs": [],
   "source": [
    "# Background Subtractor 설정 (MOG2)\n",
    "fgbg = cv2.createBackgroundSubtractorMOG2(history=100, varThreshold=40, detectShadows=True)\n",
    "\n",
    "while True:\n",
    "    # 프레임 읽기\n",
    "    ret, frame = cap.read()\n",
    "    \n",
    "    if not ret:\n",
    "        break\n",
    "    \n",
    "    # 배경 차분 적용\n",
    "    fgmask = fgbg.apply(frame)\n",
    "    \n",
    "    # 모폴로지 연산을 통해 노이즈 제거\n",
    "    kernel = cv2.getStructuringElement(cv2.MORPH_ELLIPSE, (3, 3))\n",
    "    fgmask = cv2.morphologyEx(fgmask, cv2.MORPH_OPEN, kernel)\n",
    "    \n",
    "    # 윤곽선 찾기\n",
    "    contours, _ = cv2.findContours(fgmask, cv2.RETR_EXTERNAL, cv2.CHAIN_APPROX_SIMPLE)\n",
    "    \n",
    "    for contour in contours:\n",
    "        # 작은 노이즈 제거\n",
    "        if cv2.contourArea(contour) > 500:\n",
    "            # 객체의 경계 상자 그리기\n",
    "            x, y, w, h = cv2.boundingRect(contour)\n",
    "            cv2.rectangle(frame, (x, y), (x + w, y + h), (0, 255, 0), 2)\n",
    "    \n",
    "    # 결과 화면 표시\n",
    "    cv2.imshow('Frame', frame)\n",
    "    cv2.imshow('Foreground Mask', fgmask)\n",
    "    \n",
    "    # ESC 키를 누르면 종료\n",
    "    if cv2.waitKey(30) & 0xFF == 27:\n",
    "        break\n",
    "\n",
    "# 동영상 파일 해제\n",
    "cap.release()\n",
    "cv2.destroyAllWindows()"
   ]
  },
  {
   "cell_type": "code",
   "execution_count": null,
   "id": "fd0f72cf-fec0-44d2-905e-85d7bb3fcf3b",
   "metadata": {},
   "outputs": [],
   "source": []
  }
 ],
 "metadata": {
  "kernelspec": {
   "display_name": "Python 3 (ipykernel)",
   "language": "python",
   "name": "python3"
  },
  "language_info": {
   "codemirror_mode": {
    "name": "ipython",
    "version": 3
   },
   "file_extension": ".py",
   "mimetype": "text/x-python",
   "name": "python",
   "nbconvert_exporter": "python",
   "pygments_lexer": "ipython3",
   "version": "3.11.3"
  }
 },
 "nbformat": 4,
 "nbformat_minor": 5
}
