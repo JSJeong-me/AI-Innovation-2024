{
  "nbformat": 4,
  "nbformat_minor": 0,
  "metadata": {
    "colab": {
      "provenance": [],
      "authorship_tag": "ABX9TyO1guCSk5xrru4enYtCWTBH",
      "include_colab_link": true
    },
    "kernelspec": {
      "name": "python3",
      "display_name": "Python 3"
    },
    "language_info": {
      "name": "python"
    }
  },
  "cells": [
    {
      "cell_type": "markdown",
      "metadata": {
        "id": "view-in-github",
        "colab_type": "text"
      },
      "source": [
        "<a href=\"https://colab.research.google.com/github/JSJeong-me/AI-Innovation-2024/blob/main/OpenCV/3-4-HSV-Signal1.ipynb\" target=\"_parent\"><img src=\"https://colab.research.google.com/assets/colab-badge.svg\" alt=\"Open In Colab\"/></a>"
      ]
    },
    {
      "cell_type": "code",
      "execution_count": 1,
      "metadata": {
        "id": "59UNVSA-bmmq"
      },
      "outputs": [],
      "source": [
        "import sys\n",
        "import numpy as np\n",
        "import cv2\n",
        "from google.colab.patches import cv2_imshow"
      ]
    },
    {
      "cell_type": "code",
      "source": [
        "!wget --no-check-certificate 'https://docs.google.com/uc?export=download&id=1SMDCQDslnsnbKDnd4OBYnOTRgsRdyKt_' -O signal1.jpg"
      ],
      "metadata": {
        "colab": {
          "base_uri": "https://localhost:8080/"
        },
        "id": "BJ9Yp42_btb2",
        "outputId": "5523a926-3591-4c83-af58-a89399a56917"
      },
      "execution_count": 2,
      "outputs": [
        {
          "output_type": "stream",
          "name": "stdout",
          "text": [
            "--2024-09-11 23:36:27--  https://docs.google.com/uc?export=download&id=1SMDCQDslnsnbKDnd4OBYnOTRgsRdyKt_\n",
            "Resolving docs.google.com (docs.google.com)... 74.125.137.101, 74.125.137.102, 74.125.137.100, ...\n",
            "Connecting to docs.google.com (docs.google.com)|74.125.137.101|:443... connected.\n",
            "HTTP request sent, awaiting response... 303 See Other\n",
            "Location: https://drive.usercontent.google.com/download?id=1SMDCQDslnsnbKDnd4OBYnOTRgsRdyKt_&export=download [following]\n",
            "--2024-09-11 23:36:27--  https://drive.usercontent.google.com/download?id=1SMDCQDslnsnbKDnd4OBYnOTRgsRdyKt_&export=download\n",
            "Resolving drive.usercontent.google.com (drive.usercontent.google.com)... 142.251.2.132, 2607:f8b0:4023:c0d::84\n",
            "Connecting to drive.usercontent.google.com (drive.usercontent.google.com)|142.251.2.132|:443... connected.\n",
            "HTTP request sent, awaiting response... 200 OK\n",
            "Length: 39423 (38K) [image/jpeg]\n",
            "Saving to: ‘signal1.jpg’\n",
            "\n",
            "signal1.jpg         100%[===================>]  38.50K  --.-KB/s    in 0.004s  \n",
            "\n",
            "2024-09-11 23:36:30 (9.63 MB/s) - ‘signal1.jpg’ saved [39423/39423]\n",
            "\n"
          ]
        }
      ]
    },
    {
      "cell_type": "code",
      "source": [
        "frame = cv2.imread('.\\\\images\\\\signal1.jpg')"
      ],
      "metadata": {
        "id": "x0N8mpqHcSPf"
      },
      "execution_count": 3,
      "outputs": []
    },
    {
      "cell_type": "code",
      "source": [
        "# Use a forward slash for the file path and ensure the file is in the correct directory\n",
        "frame = cv2.imread('./signal1.jpg')\n",
        "\n",
        "# Check if the image was loaded correctly\n",
        "if frame is None:\n",
        "  print('Error: Could not read image file.')\n",
        "else:\n",
        "  hsv_frame = cv2.cvtColor(frame, cv2.COLOR_BGR2HSV)"
      ],
      "metadata": {
        "id": "7_JIEnzzcphZ"
      },
      "execution_count": 5,
      "outputs": []
    },
    {
      "cell_type": "code",
      "source": [
        "# Red color\n",
        "low_red = np.array([161,155,84])\n",
        "high_red = np.array([179, 255, 255])\n",
        "red_mask = cv2.inRange(hsv_frame, low_red, high_red)\n",
        "red = cv2.bitwise_and(frame, frame, mask=red_mask)\n",
        "\n",
        "# Blue color\n",
        "low_blue = np.array([94, 80, 2])\n",
        "high_blue = np.array([126, 255, 255])\n",
        "blue_mask = cv2.inRange(hsv_frame, low_blue, high_blue)\n",
        "blue = cv2.bitwise_and(frame, frame, mask=blue_mask)\n",
        "\n",
        "# Green color\n",
        "low_green = np.array([25, 52, 72])\n",
        "high_green = np.array([102, 255, 255])\n",
        "green_mask = cv2.inRange(hsv_frame, low_green, high_green)\n",
        "green = cv2.bitwise_and(frame, frame, mask=green_mask)\n",
        "\n",
        "# Every color except white\n",
        "low = np.array([0, 42, 0])\n",
        "high = np.array([179, 255, 255])\n",
        "mask = cv2.inRange(hsv_frame, low, high)\n",
        "result = cv2.bitwise_and(frame, frame, mask=mask)"
      ],
      "metadata": {
        "id": "gDaOA0VZciT4"
      },
      "execution_count": 6,
      "outputs": []
    },
    {
      "cell_type": "code",
      "source": [
        "# cv2.imshow('Image', frame)\n",
        "# cv2.imshow('Blue mask', blue)\n",
        "# cv2.imshow('Red mask', red)\n",
        "#cv2.imshow('Green mask', green)\n",
        "\n",
        "cv2_imshow(frame)"
      ],
      "metadata": {
        "id": "J8pkKq4kcww7"
      },
      "execution_count": null,
      "outputs": []
    },
    {
      "cell_type": "code",
      "source": [
        "cv2_imshow(green)"
      ],
      "metadata": {
        "id": "wUgf3PtidDja"
      },
      "execution_count": null,
      "outputs": []
    },
    {
      "cell_type": "code",
      "source": [
        "cv2_imshow(red)\n",
        "\n",
        "# cv2.waitKey(0)\n",
        "# cv2.destroyAllWindows()"
      ],
      "metadata": {
        "colab": {
          "base_uri": "https://localhost:8080/",
          "height": 942
        },
        "id": "id8zdH_UdIQV",
        "outputId": "3a778e2c-7563-4852-a6f4-b7359013bcf8"
      },
      "execution_count": 10,
      "outputs": [
        {
          "output_type": "display_data",
          "data": {
            "text/plain": [
              "<PIL.Image.Image image mode=RGB size=996x996>"
            ],
            "image/png": "[encoded data removed]"
          },
          "metadata": {}
        }
      ]
    }
  ]
}