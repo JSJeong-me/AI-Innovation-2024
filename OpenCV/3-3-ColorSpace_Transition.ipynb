{
  "cells": [
    {
      "cell_type": "markdown",
      "metadata": {
        "id": "view-in-github",
        "colab_type": "text"
      },
      "source": [
        "<a href=\"https://colab.research.google.com/github/JSJeong-me/AI-Innovation-2024/blob/main/OpenCV/3-3-ColorSpace_Transition.ipynb\" target=\"_parent\"><img src=\"https://colab.research.google.com/assets/colab-badge.svg\" alt=\"Open In Colab\"/></a>"
      ]
    },
    {
      "cell_type": "markdown",
      "id": "257e1efe",
      "metadata": {
        "id": "257e1efe"
      },
      "source": [
        "### OpenCV - Color spaces\n",
        "\n",
        "### By Joo Soo Jeong / Ph.D\n",
        "\n",
        "### email: jsjeong@hansung.ac.kr\n",
        "\n",
        "###  Copyrights 2024"
      ]
    },
    {
      "cell_type": "markdown",
      "id": "722b2abf-0af2-43ee-a796-e4736bcd5a7a",
      "metadata": {
        "id": "722b2abf-0af2-43ee-a796-e4736bcd5a7a"
      },
      "source": [
        "![400px-RGBCube_b.svg.png](attachment:37c5f844-a691-471d-b00d-a03f79b4153c.png)\n",
        "\n",
        "![400px-HSV_cone.jpg](attachment:7948e323-4345-4d33-8c1c-d98b1cc33cf3.jpg)"
      ]
    },
    {
      "cell_type": "markdown",
      "id": "e197da92",
      "metadata": {
        "id": "e197da92"
      },
      "source": [
        "### Convert images to BGR RGB HSV LAB Gray"
      ]
    },
    {
      "cell_type": "code",
      "source": [
        "!wget --no-check-certificate 'https://docs.google.com/uc?export=download&id=1nSWbWKOA-NN0otRR_-8rgFKUw-hZuuP1' -O giraffe.jpg"
      ],
      "metadata": {
        "id": "jeG-ZN8PL12K"
      },
      "id": "jeG-ZN8PL12K",
      "execution_count": null,
      "outputs": []
    },
    {
      "cell_type": "code",
      "execution_count": null,
      "id": "92f03df0",
      "metadata": {
        "id": "92f03df0"
      },
      "outputs": [],
      "source": [
        "from google.colab.patches import cv2_imshow\n",
        "import cv2\n",
        "import sys"
      ]
    },
    {
      "cell_type": "code",
      "source": [
        "src = cv2.imread('./giraffe.jpg')"
      ],
      "metadata": {
        "id": "Mx53x7H3MiMK"
      },
      "id": "Mx53x7H3MiMK",
      "execution_count": null,
      "outputs": []
    },
    {
      "cell_type": "code",
      "execution_count": null,
      "id": "30b05a1d",
      "metadata": {
        "id": "30b05a1d"
      },
      "outputs": [],
      "source": [
        "src.shape"
      ]
    },
    {
      "cell_type": "code",
      "execution_count": null,
      "id": "9afd1d3b",
      "metadata": {
        "id": "9afd1d3b"
      },
      "outputs": [],
      "source": [
        "if src is None:\n",
        "    print('image load failed')\n",
        "    sys.exit()\n",
        "\n",
        "# cv2.imshow('Giraffe', src)\n",
        "cv2_imshow(src)"
      ]
    },
    {
      "cell_type": "code",
      "execution_count": null,
      "id": "50841188-f2fc-4b58-8577-2395de1eda23",
      "metadata": {
        "id": "50841188-f2fc-4b58-8577-2395de1eda23"
      },
      "outputs": [],
      "source": [
        "# cv2.waitKey(0)\n",
        "# cv2.destroyAllWindows()"
      ]
    },
    {
      "cell_type": "code",
      "execution_count": null,
      "id": "57634274-5c79-4ae0-8179-33425cc3bf4a",
      "metadata": {
        "id": "57634274-5c79-4ae0-8179-33425cc3bf4a"
      },
      "outputs": [],
      "source": []
    },
    {
      "cell_type": "code",
      "execution_count": null,
      "id": "66173e37-0a4b-4f3d-a686-a6b84c9d4040",
      "metadata": {
        "id": "66173e37-0a4b-4f3d-a686-a6b84c9d4040"
      },
      "outputs": [],
      "source": []
    },
    {
      "cell_type": "code",
      "execution_count": null,
      "id": "6e45d390-8611-4c9e-bbf7-3ded807cc7a2",
      "metadata": {
        "id": "6e45d390-8611-4c9e-bbf7-3ded807cc7a2"
      },
      "outputs": [],
      "source": []
    },
    {
      "cell_type": "code",
      "execution_count": null,
      "id": "8bff34c9-83c6-41b7-a680-663dd1915df4",
      "metadata": {
        "id": "8bff34c9-83c6-41b7-a680-663dd1915df4"
      },
      "outputs": [],
      "source": []
    },
    {
      "cell_type": "code",
      "execution_count": null,
      "id": "5f64fd04-636f-4069-8e37-8ca9fe6ff9e4",
      "metadata": {
        "id": "5f64fd04-636f-4069-8e37-8ca9fe6ff9e4"
      },
      "outputs": [],
      "source": []
    },
    {
      "cell_type": "markdown",
      "id": "7e1d401b-b02d-4860-90b1-e0ee3383d430",
      "metadata": {
        "id": "7e1d401b-b02d-4860-90b1-e0ee3383d430"
      },
      "source": [
        "![banana0.jpg](attachment:e207f9f9-e6f2-4204-90cf-b49340170737.jpg)\n",
        "\n",
        "![banana0-hsc.jpg](attachment:81656e86-c63d-4acc-840c-b1d0d6764c12.jpg)"
      ]
    },
    {
      "cell_type": "markdown",
      "id": "456e8058-164d-4ab6-ba13-767954f12cc6",
      "metadata": {
        "id": "456e8058-164d-4ab6-ba13-767954f12cc6"
      },
      "source": []
    },
    {
      "cell_type": "markdown",
      "id": "e2b640e5-79a3-4312-a43f-e31a6cf83a49",
      "metadata": {
        "id": "e2b640e5-79a3-4312-a43f-e31a6cf83a49"
      },
      "source": [
        "255,255,0"
      ]
    },
    {
      "cell_type": "code",
      "source": [
        "!wget --no-check-certificate 'https://docs.google.com/uc?export=download&id=1yzwgXmM7ZSvhAOZfGegRGlpSd8S69PLT' -O banana1.jpg"
      ],
      "metadata": {
        "id": "zWE7cqA_CFCm"
      },
      "id": "zWE7cqA_CFCm",
      "execution_count": null,
      "outputs": []
    },
    {
      "cell_type": "code",
      "execution_count": null,
      "id": "c9d3bdb5-4062-49f1-ae6a-2b518e2a7d31",
      "metadata": {
        "id": "c9d3bdb5-4062-49f1-ae6a-2b518e2a7d31"
      },
      "outputs": [],
      "source": [
        "import numpy as np\n",
        "import cv2\n",
        "\n",
        "yellow = np.uint8([[[255,255,0 ]]])\n",
        "hsv_yellow = cv2.cvtColor(yellow,cv2.COLOR_RGB2HSV)\n",
        "print('yellow: {0}'.format(hsv_yellow))"
      ]
    },
    {
      "cell_type": "code",
      "execution_count": null,
      "id": "78f6a527-5754-48c0-af56-8674241960b3",
      "metadata": {
        "id": "78f6a527-5754-48c0-af56-8674241960b3"
      },
      "outputs": [],
      "source": [
        "src = cv2.imread('banana1.jpg', cv2.IMREAD_UNCHANGED)"
      ]
    },
    {
      "cell_type": "code",
      "execution_count": null,
      "id": "3d8c7262-498f-4542-b726-c3dbda16c869",
      "metadata": {
        "id": "3d8c7262-498f-4542-b726-c3dbda16c869"
      },
      "outputs": [],
      "source": [
        "hsv = cv2.cvtColor(src, cv2.COLOR_RGB2HSV)"
      ]
    },
    {
      "cell_type": "code",
      "execution_count": null,
      "id": "aaaba466-a6af-4776-950a-41ba4d204e7f",
      "metadata": {
        "id": "aaaba466-a6af-4776-950a-41ba4d204e7f"
      },
      "outputs": [],
      "source": [
        "lower_yellow = np.array([30, 100, 100])\n",
        "upper_yellow = np.array([95, 255, 255])"
      ]
    },
    {
      "cell_type": "code",
      "execution_count": null,
      "id": "a484f3a2-c11e-4992-a224-2b9c82961ef1",
      "metadata": {
        "id": "a484f3a2-c11e-4992-a224-2b9c82961ef1"
      },
      "outputs": [],
      "source": [
        "mask = cv2.inRange(hsv, lower_yellow, upper_yellow)\n",
        "result = cv2.bitwise_and(hsv, hsv, mask=mask)"
      ]
    },
    {
      "cell_type": "code",
      "source": [
        "cv2_imshow(result)"
      ],
      "metadata": {
        "id": "DG-DLH91OMY_"
      },
      "id": "DG-DLH91OMY_",
      "execution_count": null,
      "outputs": []
    },
    {
      "cell_type": "code",
      "execution_count": null,
      "id": "f0b7a871-37de-48c1-b5f2-4b08fb41f8d2",
      "metadata": {
        "id": "f0b7a871-37de-48c1-b5f2-4b08fb41f8d2"
      },
      "outputs": [],
      "source": [
        "# cv2.imshow('Result', result)\n",
        "# cv2.waitKey(0)\n",
        "# cv2.destroyAllWindows()"
      ]
    },
    {
      "cell_type": "code",
      "execution_count": null,
      "id": "df270fdb-6535-4fee-8ab7-c2eaa3ab7109",
      "metadata": {
        "id": "df270fdb-6535-4fee-8ab7-c2eaa3ab7109"
      },
      "outputs": [],
      "source": []
    },
    {
      "cell_type": "code",
      "execution_count": null,
      "id": "ae3d6342-a4fd-4e98-a480-187ee7b34d67",
      "metadata": {
        "id": "ae3d6342-a4fd-4e98-a480-187ee7b34d67"
      },
      "outputs": [],
      "source": []
    },
    {
      "cell_type": "code",
      "execution_count": null,
      "id": "cd468a05-ab2c-4cdd-8481-61fafb0b3630",
      "metadata": {
        "id": "cd468a05-ab2c-4cdd-8481-61fafb0b3630"
      },
      "outputs": [],
      "source": []
    },
    {
      "cell_type": "code",
      "execution_count": null,
      "id": "079c1866-4878-4910-9634-5aa55730d0c6",
      "metadata": {
        "id": "079c1866-4878-4910-9634-5aa55730d0c6"
      },
      "outputs": [],
      "source": []
    },
    {
      "cell_type": "code",
      "execution_count": null,
      "id": "d6a5c22a-6af6-47f7-98ec-26ca5ab7f2a7",
      "metadata": {
        "id": "d6a5c22a-6af6-47f7-98ec-26ca5ab7f2a7"
      },
      "outputs": [],
      "source": []
    },
    {
      "cell_type": "code",
      "execution_count": null,
      "id": "6ee39a0a-2ac6-4f81-889d-724fc2aaafb1",
      "metadata": {
        "id": "6ee39a0a-2ac6-4f81-889d-724fc2aaafb1"
      },
      "outputs": [],
      "source": []
    },
    {
      "cell_type": "code",
      "execution_count": null,
      "id": "6e50d329-d6e8-47b7-acb1-4e20f88575fc",
      "metadata": {
        "id": "6e50d329-d6e8-47b7-acb1-4e20f88575fc"
      },
      "outputs": [],
      "source": []
    },
    {
      "cell_type": "code",
      "execution_count": null,
      "id": "b4a9bec5-0dd5-4e0c-b836-7b5a3dab6339",
      "metadata": {
        "id": "b4a9bec5-0dd5-4e0c-b836-7b5a3dab6339"
      },
      "outputs": [],
      "source": []
    },
    {
      "cell_type": "code",
      "execution_count": null,
      "id": "6e30f1e1-dd01-4eca-ba85-adf13184719c",
      "metadata": {
        "id": "6e30f1e1-dd01-4eca-ba85-adf13184719c"
      },
      "outputs": [],
      "source": []
    },
    {
      "cell_type": "code",
      "execution_count": null,
      "id": "21680767-5e86-42fa-98da-53a21b3d4ed2",
      "metadata": {
        "id": "21680767-5e86-42fa-98da-53a21b3d4ed2"
      },
      "outputs": [],
      "source": []
    },
    {
      "cell_type": "code",
      "execution_count": null,
      "id": "f6a96de7-8371-40b8-b5fb-508cd53c8d73",
      "metadata": {
        "id": "f6a96de7-8371-40b8-b5fb-508cd53c8d73"
      },
      "outputs": [],
      "source": []
    },
    {
      "cell_type": "code",
      "execution_count": null,
      "id": "49f5c105-4b6b-4230-bc72-131c6d745549",
      "metadata": {
        "id": "49f5c105-4b6b-4230-bc72-131c6d745549"
      },
      "outputs": [],
      "source": [
        "import cv2\n",
        "import numpy as np"
      ]
    },
    {
      "cell_type": "code",
      "execution_count": null,
      "id": "32c0aa5a-1d7f-48c1-b858-17d185476e73",
      "metadata": {
        "id": "32c0aa5a-1d7f-48c1-b858-17d185476e73"
      },
      "outputs": [],
      "source": [
        "yellow = np.uint8([[[255,255,0 ]]])\n",
        "hsv_yellow = cv2.cvtColor(yellow,cv2.COLOR_RGB2HSV)\n",
        "print('yellow: {0}'.format(hsv_yellow))"
      ]
    },
    {
      "cell_type": "code",
      "execution_count": null,
      "id": "ab5c027a-ae6c-4f2c-bca5-001f265812c6",
      "metadata": {
        "id": "ab5c027a-ae6c-4f2c-bca5-001f265812c6"
      },
      "outputs": [],
      "source": []
    },
    {
      "cell_type": "code",
      "execution_count": null,
      "id": "50252d48-5e57-4aad-9799-c4cb798a1e8b",
      "metadata": {
        "id": "50252d48-5e57-4aad-9799-c4cb798a1e8b"
      },
      "outputs": [],
      "source": [
        "!wget --no-check-certificate 'https://docs.google.com/uc?export=download&id=11rMXUVZTbIzC-RsvSsfutRo1a1Po1fCd' -O banana0.jpg\n"
      ]
    },
    {
      "cell_type": "code",
      "execution_count": null,
      "id": "18a72edb-197c-40ae-973d-e78b9b113fd0",
      "metadata": {
        "id": "18a72edb-197c-40ae-973d-e78b9b113fd0"
      },
      "outputs": [],
      "source": [
        "import cv2\n",
        "\n",
        "src = cv2.imread('banana0.jpg')\n",
        "\n",
        "\n",
        "# Convert BGR to HSV\n",
        "hsv = cv2.cvtColor(src, cv2.COLOR_RGB2HSV)"
      ]
    },
    {
      "cell_type": "code",
      "execution_count": null,
      "id": "315e8450-c875-4f91-b65a-b37472bb8523",
      "metadata": {
        "id": "315e8450-c875-4f91-b65a-b37472bb8523"
      },
      "outputs": [],
      "source": [
        "print('yellow: {0}'.format(hsv))"
      ]
    },
    {
      "cell_type": "code",
      "source": [
        "cv2_imshow(hsv)"
      ],
      "metadata": {
        "id": "fdkatiJ4DIPe"
      },
      "id": "fdkatiJ4DIPe",
      "execution_count": null,
      "outputs": []
    },
    {
      "cell_type": "code",
      "execution_count": null,
      "id": "00b0a0e1-2300-4346-af72-2178f6965e31",
      "metadata": {
        "id": "00b0a0e1-2300-4346-af72-2178f6965e31"
      },
      "outputs": [],
      "source": []
    },
    {
      "cell_type": "code",
      "execution_count": null,
      "id": "e73067a5-82d2-4926-9b39-0558b04856e2",
      "metadata": {
        "id": "e73067a5-82d2-4926-9b39-0558b04856e2"
      },
      "outputs": [],
      "source": []
    },
    {
      "cell_type": "code",
      "execution_count": null,
      "id": "f3d59169-10e6-4a34-bcc5-279109cf6cef",
      "metadata": {
        "id": "f3d59169-10e6-4a34-bcc5-279109cf6cef"
      },
      "outputs": [],
      "source": []
    },
    {
      "cell_type": "code",
      "execution_count": null,
      "id": "dcf7c85c-872d-4f28-87a6-c0aca540e822",
      "metadata": {
        "id": "dcf7c85c-872d-4f28-87a6-c0aca540e822"
      },
      "outputs": [],
      "source": []
    },
    {
      "cell_type": "code",
      "execution_count": null,
      "id": "9e14014c-a4fa-4cd3-93ae-ddc88b0962b6",
      "metadata": {
        "id": "9e14014c-a4fa-4cd3-93ae-ddc88b0962b6"
      },
      "outputs": [],
      "source": []
    },
    {
      "cell_type": "code",
      "execution_count": null,
      "id": "259d6e94-c671-4497-863d-a8c195df2342",
      "metadata": {
        "id": "259d6e94-c671-4497-863d-a8c195df2342"
      },
      "outputs": [],
      "source": []
    },
    {
      "cell_type": "markdown",
      "id": "2f7503db-0edf-4687-abb9-2b1b3d49bf3f",
      "metadata": {
        "id": "2f7503db-0edf-4687-abb9-2b1b3d49bf3f"
      },
      "source": [
        "![015.png](attachment:bc06a936-f896-481b-9110-343d22fb916d.png)\n",
        "\n",
        "![015-hsc.png](attachment:cfff0d91-7560-4d57-945b-27306e2f752e.png)"
      ]
    },
    {
      "cell_type": "code",
      "execution_count": null,
      "id": "b923559b-a759-4a07-9483-7eefe85100fd",
      "metadata": {
        "id": "b923559b-a759-4a07-9483-7eefe85100fd"
      },
      "outputs": [],
      "source": []
    },
    {
      "cell_type": "markdown",
      "id": "5cf5b773-a3dd-4374-ad8b-f5c09fd8d731",
      "metadata": {
        "id": "5cf5b773-a3dd-4374-ad8b-f5c09fd8d731"
      },
      "source": [
        "![039.png](attachment:a7a2183a-9952-4cdf-b582-764e3f013616.png)\n",
        "\n",
        "![039-hsv.png](attachment:342116d6-7852-4067-a48b-0a561463f766.png)"
      ]
    },
    {
      "cell_type": "code",
      "execution_count": null,
      "id": "73d6cf44-b495-4797-828e-b6a4e6ecfc86",
      "metadata": {
        "id": "73d6cf44-b495-4797-828e-b6a4e6ecfc86"
      },
      "outputs": [],
      "source": []
    },
    {
      "cell_type": "code",
      "execution_count": null,
      "id": "b6441bd6-d082-41c7-b450-6a04a14e76ed",
      "metadata": {
        "id": "b6441bd6-d082-41c7-b450-6a04a14e76ed"
      },
      "outputs": [],
      "source": []
    },
    {
      "cell_type": "code",
      "execution_count": null,
      "id": "acafcf6d-322f-4d6d-81c6-a089574d4c0e",
      "metadata": {
        "id": "acafcf6d-322f-4d6d-81c6-a089574d4c0e"
      },
      "outputs": [],
      "source": []
    },
    {
      "cell_type": "code",
      "execution_count": null,
      "id": "2362e58b-cf8a-401e-ab9a-c11b6d555910",
      "metadata": {
        "id": "2362e58b-cf8a-401e-ab9a-c11b6d555910"
      },
      "outputs": [],
      "source": []
    },
    {
      "cell_type": "code",
      "execution_count": null,
      "id": "19728d93-30d9-4cc5-8a4e-663294ddf071",
      "metadata": {
        "id": "19728d93-30d9-4cc5-8a4e-663294ddf071"
      },
      "outputs": [],
      "source": []
    },
    {
      "cell_type": "code",
      "execution_count": null,
      "id": "f8b27ae3-dba0-46be-be07-f0d932e37a7c",
      "metadata": {
        "id": "f8b27ae3-dba0-46be-be07-f0d932e37a7c"
      },
      "outputs": [],
      "source": []
    },
    {
      "cell_type": "code",
      "execution_count": null,
      "id": "35e39511-8562-4f63-95b3-ae07274227a3",
      "metadata": {
        "id": "35e39511-8562-4f63-95b3-ae07274227a3"
      },
      "outputs": [],
      "source": [
        "import sys\n",
        "import numpy as np\n",
        "import cv2\n",
        "\n",
        "# src = cv2.imread('banana00.jpg')\n",
        "src = cv2.imread('banana3.jpg')\n",
        "#src = cv2.imread('039.png', flags= cv2.IMREAD_UNCHANGED)\n",
        "# src = cv2.imread('015.png', flags= cv2.IMREAD_COLOR)\n",
        "\n",
        "\n",
        "if src is None:\n",
        "    print('image load failed')\n",
        "    sys.exit()\n",
        "\n",
        "#src = cv2.resize(src, (0, 0), fx=0.3, fy=0.3)\n",
        "\n",
        "# Convert BGR to HSV\n",
        "hsv = cv2.cvtColor(src, cv2.COLOR_RGB2HSV)\n",
        "# define range of blue color in HSV\n",
        "#lower_yellow = np.array([87, 197, 233])\n",
        "#upper_yellow = np.array([107, 243, 257])\n",
        "# https://aishack.in/tutorials/tracking-colored-objects-opencv/\n",
        "# To achieve this thresholding, we'll be using the HSV colour space,\n",
        "#  instead of the more common RGB colour space.\n",
        "# In HSV, each \"tint\" of colour is assigned a particular number (the Hue).\n",
        "# The \"amount\" of colour is assigned another number (the Saturation)\n",
        "# and the brightness of the colour is assigned another number (the Intensity or Value).\n",
        "# This gives us the advantage of having a single number (hue) for\n",
        "# the yellow ball despite multiple shades of yellow (all the way from dark yellow to a bright yellow).\n",
        "#  For more information you might want to read up Colour spaces\n",
        "#  - Grayscale, RGB, HSV and Y'CrCb.\n",
        "lower_yellow = np.array([20, 100, 100])\n",
        "upper_yellow = np.array([100, 255, 255])\n",
        "# the two cvScalars represent the lower and upper bound of values that are yellowish in colour.\n",
        "#  (These bounds should work in almost all conditions.\n",
        "# If they don't, try experimenting with the last two values).\n",
        "\n",
        "\n",
        "mask = cv2.inRange(hsv, lower_yellow, upper_yellow)\n",
        "result = cv2.bitwise_and(hsv, hsv, mask=mask)\n",
        "\n",
        "# cv2.imshow('Image', src)\n",
        "# cv2.imshow('Result', result)\n",
        "cv2_imshow(src)\n",
        "cv2_imshow(result)\n",
        "#cv2.imwrite('.\\\\039-hsv.png', result)\n",
        "# cv2.waitKey(0)\n",
        "# cv2.destroyAllWindows()"
      ]
    },
    {
      "cell_type": "code",
      "execution_count": null,
      "id": "477a2ccb-4e00-4380-a610-8339dbface5f",
      "metadata": {
        "id": "477a2ccb-4e00-4380-a610-8339dbface5f"
      },
      "outputs": [],
      "source": []
    },
    {
      "cell_type": "code",
      "execution_count": null,
      "id": "a42dff70-4cbe-4d67-91cc-31dda2c4480a",
      "metadata": {
        "id": "a42dff70-4cbe-4d67-91cc-31dda2c4480a"
      },
      "outputs": [],
      "source": []
    },
    {
      "cell_type": "code",
      "execution_count": null,
      "id": "fd2f6776-17f5-46c4-964a-458da8d27ff0",
      "metadata": {
        "id": "fd2f6776-17f5-46c4-964a-458da8d27ff0"
      },
      "outputs": [],
      "source": []
    },
    {
      "cell_type": "code",
      "execution_count": null,
      "id": "60446a18-905b-4a05-abec-eb9653fb443e",
      "metadata": {
        "id": "60446a18-905b-4a05-abec-eb9653fb443e"
      },
      "outputs": [],
      "source": []
    },
    {
      "cell_type": "code",
      "execution_count": null,
      "id": "1133d5d2-2375-479a-8990-8e8a0f9c4e58",
      "metadata": {
        "id": "1133d5d2-2375-479a-8990-8e8a0f9c4e58"
      },
      "outputs": [],
      "source": []
    },
    {
      "cell_type": "code",
      "execution_count": null,
      "id": "ca69ba14-777d-4cf1-957c-5e701b673f06",
      "metadata": {
        "id": "ca69ba14-777d-4cf1-957c-5e701b673f06"
      },
      "outputs": [],
      "source": []
    },
    {
      "cell_type": "code",
      "execution_count": null,
      "id": "17478a5c",
      "metadata": {
        "id": "17478a5c"
      },
      "outputs": [],
      "source": [
        "# Image display using Matplotlib"
      ]
    },
    {
      "cell_type": "code",
      "execution_count": null,
      "id": "be6c8555",
      "metadata": {
        "id": "be6c8555"
      },
      "outputs": [],
      "source": [
        "#!pip install matplotlib"
      ]
    },
    {
      "cell_type": "code",
      "execution_count": null,
      "id": "9574d0bf",
      "metadata": {
        "id": "9574d0bf"
      },
      "outputs": [],
      "source": [
        "import matplotlib.pyplot as plt\n",
        "\n",
        "plt.imshow(src)\n",
        "plt.show()"
      ]
    },
    {
      "cell_type": "code",
      "execution_count": null,
      "id": "020e5271",
      "metadata": {
        "id": "020e5271"
      },
      "outputs": [],
      "source": [
        "# Convert image RGB to BGR"
      ]
    },
    {
      "cell_type": "code",
      "execution_count": null,
      "id": "dc9f1389",
      "metadata": {
        "id": "dc9f1389"
      },
      "outputs": [],
      "source": [
        "# BGR to RGB\n",
        "src_rgb = cv2.cvtColor(src, cv2.COLOR_BGR2RGB)"
      ]
    },
    {
      "cell_type": "code",
      "execution_count": null,
      "id": "21c7ee77",
      "metadata": {
        "id": "21c7ee77"
      },
      "outputs": [],
      "source": [
        "cv2.imshow('Image convert to RGB', src_rgb)\n",
        "cv2.waitKey(0)\n",
        "cv2.destroyAllWindows()"
      ]
    },
    {
      "cell_type": "code",
      "execution_count": null,
      "id": "1b7796df",
      "metadata": {
        "id": "1b7796df"
      },
      "outputs": [],
      "source": [
        "plt.imshow(src_rgb)\n",
        "plt.show()"
      ]
    },
    {
      "cell_type": "code",
      "execution_count": null,
      "id": "e5f3cf25",
      "metadata": {
        "id": "e5f3cf25"
      },
      "outputs": [],
      "source": []
    },
    {
      "cell_type": "code",
      "execution_count": null,
      "id": "51440e43",
      "metadata": {
        "id": "51440e43"
      },
      "outputs": [],
      "source": [
        "import cv2\n",
        "import sys\n",
        "\n",
        "src = cv2.imread('banana2.png')\n",
        "\n",
        "if src is None:\n",
        "    print('image load failed')\n",
        "    sys.exit()"
      ]
    },
    {
      "cell_type": "code",
      "execution_count": null,
      "id": "d3e6a774",
      "metadata": {
        "id": "d3e6a774"
      },
      "outputs": [],
      "source": [
        "#BGR to Grayscale\n",
        "gray = cv2.cvtColor(src, cv2.COLOR_BGR2GRAY)\n",
        "# cv2.imshow('Gray', gray)\n",
        "cv2_imshow(gray)\n",
        "# BGR to HSV\n",
        "\n",
        "hsv = cv2.cvtColor(src, cv2.COLOR_BGR2HSV)\n",
        "# cv2.imshow('HSV', hsv)\n",
        "cv2_imshow(hsv)\n",
        "\n",
        "# BGR to L*a*b\n",
        "lab = cv2.cvtColor(src, cv2.COLOR_BGR2LAB)\n",
        "# cv2.imshow('LAB', lab)\n",
        "cv2_imshow(lab)\n",
        "\n",
        "# BGR to RGB\n",
        "rgb = cv2.cvtColor(src, cv2.COLOR_BGR2RGB)\n",
        "# cv2.imshow('RGB', rgb)\n",
        "cv2_imshow(rgb)\n",
        "\n",
        "# HSV to BGR\n",
        "lab_bgr = cv2.cvtColor(lab, cv2.COLOR_LAB2BGR)\n",
        "# cv2.imshow('LAB --> BGR', lab_bgr)\n",
        "cv2_imshow(lab_bgr)\n",
        "\n",
        "# cv2.waitKey(0)\n",
        "# cv2.destroyAllWindows()"
      ]
    },
    {
      "cell_type": "code",
      "execution_count": null,
      "id": "86ad392b-bddb-4601-9bc4-11c846e93fbf",
      "metadata": {
        "id": "86ad392b-bddb-4601-9bc4-11c846e93fbf"
      },
      "outputs": [],
      "source": []
    },
    {
      "cell_type": "markdown",
      "id": "76b8eeed-00f7-4802-8b8d-d55cb09f6a05",
      "metadata": {
        "id": "76b8eeed-00f7-4802-8b8d-d55cb09f6a05"
      },
      "source": [
        "![rgb-screen.jpg](attachment:ef621e99-4bed-48e0-b615-b002cbfa7ff2.jpg)\n",
        "\n",
        "LCD 화면을 자세히 살펴보면 이러한 데이터 저장 방식이 디스플레이의 형광체 레이아웃에 직접적으로 어떻게 영향을 받는지 알 수 있습니다.\n",
        "색상 데이터가 인터리브되기 때문에 RGB 데이터를 포함하는 버퍼의 픽셀 값에 액세스하는 것은 약간 더 복잡합니다. 다음은 주어진 (x, y) 위치에서 RGB 픽셀의 개별 빨간색, 녹색 및 파란색 구성 요소를 나타내는 값을 검색하는 방법입니다."
      ]
    },
    {
      "cell_type": "code",
      "execution_count": null,
      "id": "d95f52dc-aee4-438f-9b76-0f355f3c98c3",
      "metadata": {
        "id": "d95f52dc-aee4-438f-9b76-0f355f3c98c3"
      },
      "outputs": [],
      "source": []
    },
    {
      "cell_type": "code",
      "execution_count": null,
      "id": "251f69e8-d121-4d50-82f1-d571bf8ad207",
      "metadata": {
        "id": "251f69e8-d121-4d50-82f1-d571bf8ad207"
      },
      "outputs": [],
      "source": [
        "#pylint:disable=no-member\n",
        "\n",
        "import cv2\n",
        "import numpy as np\n",
        "\n",
        "img = cv2.imread('antivirus.jpg')\n",
        "# cv2.imshow('Park', img)\n",
        "cv2_imshow(img)\n",
        "\n",
        "blank = np.zeros(img.shape[:2], dtype='uint8')\n",
        "\n",
        "b,g,r = cv2.split(img)\n",
        "\n",
        "blue = cv2.merge([b,blank,blank])\n",
        "green = cv2.merge([blank,g,blank])\n",
        "red = cv2.merge([blank,blank,r])\n",
        "\n",
        "\n",
        "# cv2.imshow('Blue', blue)\n",
        "# cv2.imshow('Green', green)\n",
        "# cv2.imshow('Red', red)\n",
        "cv2_imshow(blue)\n",
        "cv2_imshow(green)\n",
        "cv2_imshow(red)\n",
        "\n",
        "print(img.shape)\n",
        "print(b.shape)\n",
        "print(g.shape)\n",
        "print(r.shape)\n",
        "\n",
        "merged = cv2.merge([b,g,r])\n",
        "# cv2.imshow('Merged Image', merged)\n",
        "cv2_imshow(merged)\n",
        "\n",
        "# cv2.waitKey(0)\n",
        "# cv2.destroyAllWindows()"
      ]
    },
    {
      "cell_type": "code",
      "execution_count": null,
      "id": "252f35fa-a078-4391-8b70-35e3e22e5b42",
      "metadata": {
        "id": "252f35fa-a078-4391-8b70-35e3e22e5b42"
      },
      "outputs": [],
      "source": []
    },
    {
      "cell_type": "code",
      "execution_count": null,
      "id": "1ffefd74",
      "metadata": {
        "id": "1ffefd74"
      },
      "outputs": [],
      "source": [
        "# Color table 변환 방법"
      ]
    },
    {
      "cell_type": "code",
      "execution_count": null,
      "id": "4b32e1a7",
      "metadata": {
        "id": "4b32e1a7"
      },
      "outputs": [],
      "source": [
        "import cv2\n",
        "import numpy as np\n",
        "\n",
        "green = np.uint8([[[0,255,0 ]]])\n",
        "hsv_green = cv2.cvtColor(green,cv2.COLOR_BGR2HSV)\n",
        "print('green: {0}'.format(hsv_green))\n",
        "\n",
        "yellow = np.uint8([[[255,255,0 ]]])\n",
        "hsv_yellow = cv2.cvtColor(yellow,cv2.COLOR_BGR2HSV)\n",
        "print('yellow: {0}'.format(hsv_yellow))"
      ]
    },
    {
      "cell_type": "code",
      "execution_count": null,
      "id": "84e371e2-6742-4b88-85aa-0191fb927dee",
      "metadata": {
        "id": "84e371e2-6742-4b88-85aa-0191fb927dee"
      },
      "outputs": [],
      "source": []
    },
    {
      "cell_type": "code",
      "execution_count": null,
      "id": "bcfcb3dc-6263-40ae-ad4a-fba3bbb08d26",
      "metadata": {
        "id": "bcfcb3dc-6263-40ae-ad4a-fba3bbb08d26"
      },
      "outputs": [],
      "source": []
    },
    {
      "cell_type": "code",
      "execution_count": null,
      "id": "b54f586d-5750-47f1-97c1-daf67bf55d6a",
      "metadata": {
        "id": "b54f586d-5750-47f1-97c1-daf67bf55d6a"
      },
      "outputs": [],
      "source": []
    },
    {
      "cell_type": "code",
      "execution_count": null,
      "id": "f71014ec-710c-4a69-81e8-99de0758bfec",
      "metadata": {
        "id": "f71014ec-710c-4a69-81e8-99de0758bfec"
      },
      "outputs": [],
      "source": []
    },
    {
      "cell_type": "markdown",
      "id": "e006a29a",
      "metadata": {
        "id": "e006a29a"
      },
      "source": [
        "![bicycle.png](attachment:08a9c319-4ef6-4d06-9337-58ab7ff4c3ce.png)"
      ]
    },
    {
      "cell_type": "markdown",
      "id": "2912ba7e-ecd3-44dc-bfdc-c18cc045f942",
      "metadata": {
        "id": "2912ba7e-ecd3-44dc-bfdc-c18cc045f942"
      },
      "source": [
        "251, 208, 22 - 42%\n",
        "255, 213, 5 - 4%"
      ]
    },
    {
      "cell_type": "code",
      "execution_count": null,
      "id": "d3e87e63-70b4-4ad5-8da3-b373c00ea350",
      "metadata": {
        "id": "d3e87e63-70b4-4ad5-8da3-b373c00ea350"
      },
      "outputs": [],
      "source": [
        "import numpy as np\n",
        "\n",
        "low = np.array([251, 208, 5])\n",
        "high = np.array([255, 213, 22])"
      ]
    },
    {
      "cell_type": "code",
      "execution_count": null,
      "id": "1a1bb920-d984-445e-aa17-9a8a842c8d23",
      "metadata": {
        "id": "1a1bb920-d984-445e-aa17-9a8a842c8d23"
      },
      "outputs": [],
      "source": [
        "import cv2\n",
        "\n",
        "src = cv2.imread('bicycle.png', cv2.IMREAD_UNCHANGED)\n",
        "src = cv2.resize(src, (0, 0), fx=0.3, fy=0.3)\n",
        "src_rgb = cv2.cvtColor(src, cv2.COLOR_BGR2RGB)"
      ]
    },
    {
      "cell_type": "code",
      "execution_count": null,
      "id": "eec1ad6b-ee41-4867-9ff2-47002d8551bd",
      "metadata": {
        "id": "eec1ad6b-ee41-4867-9ff2-47002d8551bd"
      },
      "outputs": [],
      "source": [
        "mask = cv2.inRange(src_rgb, low, high)\n",
        "result = cv2.bitwise_and(src, src, mask=mask)"
      ]
    },
    {
      "cell_type": "code",
      "execution_count": null,
      "id": "d4174c90-974b-453e-b2d5-8e2df544eda6",
      "metadata": {
        "id": "d4174c90-974b-453e-b2d5-8e2df544eda6"
      },
      "outputs": [],
      "source": [
        "# cv2.imshow('Image', src)\n",
        "# cv2.imshow('Bicycle yellow', result)\n",
        "# cv2.waitKey(0)\n",
        "# cv2.destroyAllWindows()\n",
        "cv2_imshow(src)\n",
        "cv2_imshow(result)\n",
        "# cv2_waitKey(0)\n",
        "# cv2_destroyAllWindows()"
      ]
    },
    {
      "cell_type": "code",
      "execution_count": null,
      "id": "316401bd-e2e6-44b3-b1de-1fc4bc342a71",
      "metadata": {
        "id": "316401bd-e2e6-44b3-b1de-1fc4bc342a71"
      },
      "outputs": [],
      "source": []
    },
    {
      "cell_type": "code",
      "execution_count": null,
      "id": "523bcb11-e9fa-4217-9c66-28e258a8464e",
      "metadata": {
        "id": "523bcb11-e9fa-4217-9c66-28e258a8464e"
      },
      "outputs": [],
      "source": []
    },
    {
      "cell_type": "markdown",
      "id": "65dbeb5a-3302-43e5-bdea-93ad95f42432",
      "metadata": {
        "id": "65dbeb5a-3302-43e5-bdea-93ad95f42432"
      },
      "source": []
    },
    {
      "cell_type": "markdown",
      "id": "dae8c7b2-7d7a-420e-b9fa-99b72aff6560",
      "metadata": {
        "id": "dae8c7b2-7d7a-420e-b9fa-99b72aff6560"
      },
      "source": []
    },
    {
      "cell_type": "markdown",
      "id": "508db1eb-2237-436c-bdb8-0422f3b74698",
      "metadata": {
        "id": "508db1eb-2237-436c-bdb8-0422f3b74698"
      },
      "source": []
    },
    {
      "cell_type": "markdown",
      "id": "6e29b388-483f-4b76-abc0-9924ddce08ad",
      "metadata": {
        "id": "6e29b388-483f-4b76-abc0-9924ddce08ad"
      },
      "source": []
    },
    {
      "cell_type": "markdown",
      "id": "9c1f90a3-63bf-416c-8f67-9f121fe3b63b",
      "metadata": {
        "id": "9c1f90a3-63bf-416c-8f67-9f121fe3b63b"
      },
      "source": []
    },
    {
      "cell_type": "markdown",
      "id": "a4f4d528-04a7-4d34-89c7-debb2a1a3eb2",
      "metadata": {
        "id": "a4f4d528-04a7-4d34-89c7-debb2a1a3eb2"
      },
      "source": []
    },
    {
      "cell_type": "markdown",
      "id": "4e65c90f-4a18-4e54-be44-2147a8bd435f",
      "metadata": {
        "id": "4e65c90f-4a18-4e54-be44-2147a8bd435f"
      },
      "source": []
    },
    {
      "cell_type": "markdown",
      "id": "196fc403-6bc9-4d9b-92d2-2d8ebaf55842",
      "metadata": {
        "id": "196fc403-6bc9-4d9b-92d2-2d8ebaf55842"
      },
      "source": []
    },
    {
      "cell_type": "markdown",
      "id": "b24b507b-617c-4a51-b1a4-cf0b15b7f010",
      "metadata": {
        "id": "b24b507b-617c-4a51-b1a4-cf0b15b7f010"
      },
      "source": []
    },
    {
      "cell_type": "markdown",
      "id": "becb88f0-43e7-4d9b-a5f7-6ed9533d9cae",
      "metadata": {
        "id": "becb88f0-43e7-4d9b-a5f7-6ed9533d9cae"
      },
      "source": []
    },
    {
      "cell_type": "markdown",
      "id": "3c722197-b357-45c0-886d-b00bb8a21058",
      "metadata": {
        "id": "3c722197-b357-45c0-886d-b00bb8a21058"
      },
      "source": [
        "RGB(251, 208, 22) - yello 42%\n",
        "RGB(255, 213, 5) - yello 4%"
      ]
    },
    {
      "cell_type": "code",
      "execution_count": null,
      "id": "efdc3823-6ce6-45d8-b353-1484663926e7",
      "metadata": {
        "id": "efdc3823-6ce6-45d8-b353-1484663926e7"
      },
      "outputs": [],
      "source": []
    },
    {
      "cell_type": "code",
      "execution_count": null,
      "id": "b7237be2-189a-4078-873b-2abe0558102e",
      "metadata": {
        "id": "b7237be2-189a-4078-873b-2abe0558102e"
      },
      "outputs": [],
      "source": [
        "import numpy as np\n",
        "\n",
        "low = np.array([250, 208, 5])\n",
        "high = np.array([255, 213, 22])\n",
        "\n",
        "print('low yellow: {0}'.format(low))\n",
        "print('high yellow: {0}'.format(high))"
      ]
    },
    {
      "cell_type": "code",
      "execution_count": null,
      "id": "36dab934-844e-4240-a845-b61b5b985e56",
      "metadata": {
        "id": "36dab934-844e-4240-a845-b61b5b985e56"
      },
      "outputs": [],
      "source": [
        "import cv2\n",
        "\n",
        "src = cv2.imread('./bicycle.png', cv2.IMREAD_UNCHANGED)\n",
        "src = cv2.resize(src, (0, 0), fx=0.3, fy=0.3)\n",
        "src_rgb = cv2.cvtColor(src, cv2.COLOR_BGR2RGB)"
      ]
    },
    {
      "cell_type": "code",
      "execution_count": null,
      "id": "4c5754c7-3c86-44c9-b77a-972afa1af8b7",
      "metadata": {
        "id": "4c5754c7-3c86-44c9-b77a-972afa1af8b7"
      },
      "outputs": [],
      "source": [
        "mask = cv2.inRange(src_rgb, low, high)\n",
        "result = cv2.bitwise_and(src, src, mask=mask)"
      ]
    },
    {
      "cell_type": "code",
      "execution_count": null,
      "id": "dd06ea0a-dcfd-4eb2-9a8a-78fdd9757a0b",
      "metadata": {
        "id": "dd06ea0a-dcfd-4eb2-9a8a-78fdd9757a0b"
      },
      "outputs": [],
      "source": [
        "# cv2.imshow('Image', src)\n",
        "# cv2.imshow('Bicycle yellow', result)\n",
        "# cv2.waitKey(0)\n",
        "# cv2.destroyAllWindows()\n",
        "cv2_imshow(src)\n",
        "cv2_imshow(result)"
      ]
    },
    {
      "cell_type": "code",
      "execution_count": null,
      "id": "e04a884d-b5fe-40db-8abc-6a91fbd95042",
      "metadata": {
        "id": "e04a884d-b5fe-40db-8abc-6a91fbd95042"
      },
      "outputs": [],
      "source": []
    },
    {
      "cell_type": "code",
      "execution_count": null,
      "id": "97b539e5-4812-4045-88fa-6f9584a550af",
      "metadata": {
        "id": "97b539e5-4812-4045-88fa-6f9584a550af"
      },
      "outputs": [],
      "source": []
    },
    {
      "cell_type": "code",
      "execution_count": null,
      "id": "5fc11a60-72af-4c4b-a2de-378fefeef896",
      "metadata": {
        "id": "5fc11a60-72af-4c4b-a2de-378fefeef896"
      },
      "outputs": [],
      "source": []
    },
    {
      "cell_type": "code",
      "execution_count": null,
      "id": "4073a255-fadb-4da8-a9e5-128b78499d31",
      "metadata": {
        "id": "4073a255-fadb-4da8-a9e5-128b78499d31"
      },
      "outputs": [],
      "source": []
    },
    {
      "cell_type": "code",
      "execution_count": null,
      "id": "a8149cfe-4258-4f04-9599-81d1f1bf80f6",
      "metadata": {
        "id": "a8149cfe-4258-4f04-9599-81d1f1bf80f6"
      },
      "outputs": [],
      "source": []
    },
    {
      "cell_type": "code",
      "execution_count": null,
      "id": "0df3add0-c00d-49f8-8337-987739118f4c",
      "metadata": {
        "id": "0df3add0-c00d-49f8-8337-987739118f4c"
      },
      "outputs": [],
      "source": []
    },
    {
      "cell_type": "code",
      "execution_count": null,
      "id": "419407f8-98b2-4adf-9712-eabf6f5735d7",
      "metadata": {
        "id": "419407f8-98b2-4adf-9712-eabf6f5735d7"
      },
      "outputs": [],
      "source": []
    },
    {
      "cell_type": "code",
      "execution_count": null,
      "id": "1b983f99-b61c-4f59-ba12-1edfc6f767a8",
      "metadata": {
        "id": "1b983f99-b61c-4f59-ba12-1edfc6f767a8"
      },
      "outputs": [],
      "source": []
    },
    {
      "cell_type": "code",
      "execution_count": null,
      "id": "4881a77e",
      "metadata": {
        "id": "4881a77e"
      },
      "outputs": [],
      "source": [
        "import cv2\n",
        "import numpy as np\n",
        "\n",
        "low = np.uint8([[[250, 205, 5 ]]])\n",
        "hsv_low_yellow = cv2.cvtColor(low,cv2.COLOR_BGR2HSV)\n",
        "print('low_yellow: {0}'.format(hsv_low_yellow))\n",
        "\n",
        "high = np.uint8([[[255, 213, 22 ]]])\n",
        "hsv_high_yellow = cv2.cvtColor(high,cv2.COLOR_BGR2HSV)\n",
        "print('high_yellow: {0}'.format(hsv_high_yellow))"
      ]
    },
    {
      "cell_type": "code",
      "execution_count": null,
      "id": "618884f8",
      "metadata": {
        "id": "618884f8"
      },
      "outputs": [],
      "source": []
    },
    {
      "cell_type": "code",
      "execution_count": null,
      "id": "d20b3609",
      "metadata": {
        "id": "d20b3609"
      },
      "outputs": [],
      "source": [
        "# Google vision api로 biclycle 이미지 RGB(251, 208, 22) 확인"
      ]
    },
    {
      "cell_type": "code",
      "execution_count": null,
      "id": "8d8dd8fa",
      "metadata": {
        "id": "8d8dd8fa"
      },
      "outputs": [],
      "source": [
        "import sys\n",
        "import numpy as np\n",
        "import cv2\n",
        "\n",
        "src = cv2.imread('.\\\\images\\\\bicycle.png', cv2.IMREAD_UNCHANGED)\n",
        "src = cv2.resize(src, (0, 0), fx=0.3, fy=0.3)\n",
        "src_rgb = cv2.cvtColor(src, cv2.COLOR_BGR2RGB)"
      ]
    },
    {
      "cell_type": "code",
      "execution_count": null,
      "id": "0ae16fce",
      "metadata": {
        "id": "0ae16fce"
      },
      "outputs": [],
      "source": [
        "# Every color except white & Green\n",
        "low = np.array([250, 205, 6])\n",
        "high = np.array([255, 213, 21])\n",
        "\n",
        "mask = cv2.inRange(src_rgb, low, high)\n",
        "result = cv2.bitwise_and(src, src, mask=mask)\n",
        "\n",
        "if src is None:\n",
        "    print('image load failed')\n",
        "    sys.exit()"
      ]
    },
    {
      "cell_type": "code",
      "execution_count": null,
      "id": "3b765cd3",
      "metadata": {
        "id": "3b765cd3"
      },
      "outputs": [],
      "source": [
        "cv2.imshow('Image', src)\n",
        "cv2.imshow('Result', result)\n",
        "cv2.waitKey(0)\n",
        "cv2.destroyAllWindows()"
      ]
    },
    {
      "cell_type": "code",
      "execution_count": null,
      "id": "07606540",
      "metadata": {
        "id": "07606540"
      },
      "outputs": [],
      "source": []
    },
    {
      "cell_type": "code",
      "execution_count": null,
      "id": "acc8d98c",
      "metadata": {
        "id": "acc8d98c"
      },
      "outputs": [],
      "source": [
        "src = cv2.resize(src, (0, 0), fx=0.3, fy=0.3)\n",
        "\n",
        "rgb_src = cv2.cvtColor(src, cv2.COLOR_BGR2RGB)\n",
        "\n",
        "# Every color except white & Green\n",
        "low = np.array([250, 205, 6])\n",
        "high = np.array([255, 213, 21])\n",
        "mask = cv2.inRange(rgb_src, low, high)\n",
        "result = cv2.bitwise_and(src, src, mask=mask)\n",
        "\n",
        "cv2.imshow('Image', src)\n",
        "cv2.imshow('Result', result)\n",
        "cv2.waitKey(0)\n",
        "cv2.destroyAllWindows()"
      ]
    },
    {
      "cell_type": "markdown",
      "id": "b7234331",
      "metadata": {
        "id": "b7234331"
      },
      "source": [
        "### RGB to HSV"
      ]
    },
    {
      "cell_type": "code",
      "execution_count": null,
      "id": "14607c77",
      "metadata": {
        "id": "14607c77"
      },
      "outputs": [],
      "source": [
        "import sys\n",
        "import numpy as np\n",
        "import cv2\n",
        "\n",
        "src = cv2.imread('.\\\\images\\\\bicycle.png', cv2.IMREAD_UNCHANGED)"
      ]
    },
    {
      "cell_type": "code",
      "execution_count": null,
      "id": "c744ef9b",
      "metadata": {
        "id": "c744ef9b"
      },
      "outputs": [],
      "source": [
        "if src is None:\n",
        "    print('image load failed')\n",
        "    sys.exit()\n",
        "\n",
        "src = cv2.resize(src, (0, 0), fx=0.3, fy=0.3)"
      ]
    },
    {
      "cell_type": "code",
      "execution_count": null,
      "id": "6252af12",
      "metadata": {
        "id": "6252af12"
      },
      "outputs": [],
      "source": [
        "# Convert BGR to HSV\n",
        "hsv = cv2.cvtColor(src, cv2.COLOR_BGR2HSV)"
      ]
    },
    {
      "cell_type": "code",
      "execution_count": null,
      "id": "c3502a34",
      "metadata": {
        "id": "c3502a34"
      },
      "outputs": [],
      "source": [
        "# define range of blue color in HSV\n",
        "lower_blue = np.array([100,50,50]) # ([110,50,50])\n",
        "upper_blue = np.array([130,255,255])"
      ]
    },
    {
      "cell_type": "code",
      "execution_count": null,
      "id": "8bf61ec4",
      "metadata": {
        "id": "8bf61ec4"
      },
      "outputs": [],
      "source": [
        "# Threshold the HSV image to get only blue colors\n",
        "mask_blue = cv2.inRange(hsv, lower_blue, upper_blue)\n",
        "# Bitwise-AND mask and original image\n",
        "result = cv2.bitwise_and(src, src, mask= mask_blue)\n",
        "\n",
        "cv2.imshow('frame',src)\n",
        "cv2.imshow('mask',mask_blue)\n",
        "cv2.imshow('result',result)\n",
        "\n",
        "k = cv2.waitKey(0) & 0xFF\n",
        "if k == 27:\n",
        "    cv2.destroyAllWindows()"
      ]
    },
    {
      "cell_type": "code",
      "execution_count": null,
      "id": "a733fa13",
      "metadata": {
        "id": "a733fa13"
      },
      "outputs": [],
      "source": []
    },
    {
      "cell_type": "code",
      "execution_count": null,
      "id": "99c527c6",
      "metadata": {
        "id": "99c527c6"
      },
      "outputs": [],
      "source": [
        "!cd"
      ]
    },
    {
      "cell_type": "code",
      "execution_count": null,
      "id": "b2f1ab5f",
      "metadata": {
        "id": "b2f1ab5f"
      },
      "outputs": [],
      "source": [
        "# RGB to HSV"
      ]
    },
    {
      "cell_type": "code",
      "execution_count": null,
      "id": "bd4cd568",
      "metadata": {
        "id": "bd4cd568"
      },
      "outputs": [],
      "source": [
        "import sys\n",
        "import numpy as np\n",
        "import cv2\n",
        "\n",
        "src = cv2.imread('.\\\\images\\\\bicycle.png')\n",
        "\n",
        "if src is None:\n",
        "    print('image load failed')\n",
        "    sys.exit()\n",
        "\n",
        "src = cv2.resize(src, (0, 0), fx=0.3, fy=0.3)\n",
        "\n",
        "# Convert BGR to HSV\n",
        "hsv = cv2.cvtColor(src, cv2.COLOR_RGB2HSV)\n",
        "\n",
        "# define range of blue color in HSV\n",
        "# low_yellow in HSV: [[[ 96 249 250]]]\n",
        "# high_yellow in HSV: [[[ 95 234 255]]]\n",
        "lower_yellow = np.array([86, 234, 250])\n",
        "upper_yellow = np.array([98, 249, 255])\n",
        "\n",
        "mask = cv2.inRange(hsv, lower_yellow, upper_yellow)\n",
        "result = cv2.bitwise_and(src, hsv, mask=mask)\n",
        "\n",
        "cv2.imshow('Image', src)\n",
        "cv2.imshow('Result', result)\n",
        "cv2.waitKey(0)\n",
        "cv2.destroyAllWindows()"
      ]
    },
    {
      "cell_type": "code",
      "execution_count": null,
      "id": "e7bc29d9",
      "metadata": {
        "id": "e7bc29d9"
      },
      "outputs": [],
      "source": [
        "# BGR to HSV"
      ]
    },
    {
      "cell_type": "code",
      "execution_count": null,
      "id": "96eff9da",
      "metadata": {
        "id": "96eff9da"
      },
      "outputs": [],
      "source": [
        "import cv2\n",
        "import numpy as np\n",
        "\n",
        "green = np.uint8([[[0,255,0 ]]])\n",
        "hsv_green = cv2.cvtColor(green,cv2.COLOR_BGR2HSV)\n",
        "print( hsv_green )\n",
        "\n",
        "blue = np.uint8([[[255,0,0 ]]])\n",
        "hsv_blue = cv2.cvtColor(blue,cv2.COLOR_BGR2HSV)\n",
        "print( hsv_blue )\n",
        "\n",
        "yellow  = np.uint8([[[252, 208, 21 ]]])\n",
        "hsv_yellow  = cv2.cvtColor(yellow ,cv2.COLOR_BGR2HSV)\n",
        "print( hsv_yellow  )\n",
        "\n",
        "banana  = np.uint8([[[247, 195, 31 ]]]) # 242, 196, 53\n",
        "hsv_banana  = cv2.cvtColor(banana ,cv2.COLOR_BGR2HSV)\n",
        "print( hsv_banana  )"
      ]
    },
    {
      "cell_type": "code",
      "execution_count": null,
      "id": "cba5898b",
      "metadata": {
        "id": "cba5898b"
      },
      "outputs": [],
      "source": []
    },
    {
      "cell_type": "markdown",
      "id": "64324dbe",
      "metadata": {
        "id": "64324dbe"
      },
      "source": [
        "![banana1.jpg](attachment:9f961e5b-b0e6-491b-9fc0-db628fd1807e.jpg)"
      ]
    },
    {
      "cell_type": "code",
      "execution_count": null,
      "id": "c910b876",
      "metadata": {
        "id": "c910b876"
      },
      "outputs": [],
      "source": []
    },
    {
      "cell_type": "code",
      "execution_count": null,
      "id": "5797a5b5",
      "metadata": {
        "id": "5797a5b5"
      },
      "outputs": [],
      "source": [
        "import sys\n",
        "import numpy as np\n",
        "import cv2\n",
        "\n",
        "frame = cv2.imread('.\\\\images\\\\banana1.jpg')"
      ]
    },
    {
      "cell_type": "code",
      "execution_count": null,
      "id": "1f664a69",
      "metadata": {
        "id": "1f664a69"
      },
      "outputs": [],
      "source": [
        "hsv_frame = cv2.cvtColor(frame, cv2.COLOR_BGR2HSV)\n",
        "\n",
        "# Every color except white\n",
        "low = np.array([0, 42, 0])\n",
        "high = np.array([179, 255, 255])\n",
        "mask = cv2.inRange(hsv_frame, low, high)\n",
        "result = cv2.bitwise_and(frame, frame, mask=mask)\n",
        "\n",
        "cv2.imshow('Image', frame)\n",
        "\n",
        "cv2.imshow('Result', result)\n",
        "cv2.waitKey(0)\n",
        "cv2.destroyAllWindows()"
      ]
    },
    {
      "cell_type": "code",
      "execution_count": null,
      "id": "d9aea477",
      "metadata": {
        "id": "d9aea477"
      },
      "outputs": [],
      "source": []
    },
    {
      "cell_type": "markdown",
      "id": "97b37716",
      "metadata": {
        "id": "97b37716"
      },
      "source": [
        "![banana3.png](attachment:122d308b-3a11-4853-8ba5-44b7c91f3541.png)"
      ]
    },
    {
      "cell_type": "code",
      "execution_count": null,
      "id": "29b07895",
      "metadata": {
        "id": "29b07895"
      },
      "outputs": [],
      "source": [
        "#lower_yellow = np.array([20, 100, 100])\n",
        "#upper_yellow = np.array([100, 255, 255])\n",
        "#[[[ 97 223 247]]]"
      ]
    },
    {
      "cell_type": "code",
      "execution_count": null,
      "id": "f6ee2403",
      "metadata": {
        "id": "f6ee2403"
      },
      "outputs": [],
      "source": [
        "import sys\n",
        "import numpy as np\n",
        "import cv2\n",
        "\n",
        "frame = cv2.imread('.\\\\images\\\\banana3.png', cv2.IMREAD_UNCHANGED)\n",
        "\n",
        "hsv_frame = cv2.cvtColor(frame, cv2.COLOR_BGR2HSV)\n",
        "\n",
        "\n",
        "# Banana Grade\n",
        "low_yello = np.array([20, 100, 100]) # 0,159,195\n",
        "high_yello = np.array([100, 255, 255]) # 223, 193, 250\n",
        "#high_yello = np.array([247, 222, 250]) # 120,225,248  247, 222, 91\n",
        "banana_mask = cv2.inRange(hsv_frame, low_yello, high_yello)\n",
        "banana = cv2.bitwise_and(frame, frame, mask=banana_mask)\n",
        "\n",
        "\n",
        "cv2.imshow('Image', frame)\n",
        "cv2.imshow('Banana mask', banana)\n",
        "\n",
        "cv2.waitKey(0)\n",
        "cv2.destroyAllWindows()"
      ]
    },
    {
      "cell_type": "code",
      "execution_count": null,
      "id": "298a003f",
      "metadata": {
        "id": "298a003f"
      },
      "outputs": [],
      "source": [
        "# Example banana"
      ]
    },
    {
      "cell_type": "code",
      "execution_count": null,
      "id": "5d77dd69",
      "metadata": {
        "id": "5d77dd69"
      },
      "outputs": [],
      "source": [
        "import sys\n",
        "import numpy as np\n",
        "import cv2\n",
        "\n",
        "frame = cv2.imread('.\\\\images\\\\banana2.jpg')\n",
        "\n",
        "hsv_frame = cv2.cvtColor(frame, cv2.COLOR_BGR2HSV)\n",
        "\n",
        "\n",
        "# Banana Grade\n",
        "low_yello = np.array([20, 100, 100]) # 0,159,195\n",
        "high_yello = np.array([100, 255, 255]) # 223, 193, 250\n",
        "#high_yello = np.array([247, 222, 250]) # 120,225,248  247, 222, 91\n",
        "banana_mask = cv2.inRange(hsv_frame, low_yello, high_yello)\n",
        "banana = cv2.bitwise_and(frame, frame, mask=banana_mask)\n",
        "\n",
        "\n",
        "cv2.imshow('Image', frame)\n",
        "cv2.imshow('Banana mask', banana)\n",
        "\n",
        "cv2.waitKey(0)\n",
        "cv2.destroyAllWindows()"
      ]
    },
    {
      "cell_type": "code",
      "execution_count": null,
      "id": "019eda54",
      "metadata": {
        "id": "019eda54"
      },
      "outputs": [],
      "source": []
    },
    {
      "cell_type": "markdown",
      "id": "1812a59d",
      "metadata": {
        "id": "1812a59d"
      },
      "source": [
        "![signal1.jpg](attachment:65931022-d21c-4f73-8c0f-41a410d97e93.jpg)"
      ]
    },
    {
      "cell_type": "code",
      "execution_count": null,
      "id": "bd9f7a72",
      "metadata": {
        "id": "bd9f7a72"
      },
      "outputs": [],
      "source": []
    },
    {
      "cell_type": "code",
      "execution_count": null,
      "id": "18046a35",
      "metadata": {
        "id": "18046a35"
      },
      "outputs": [],
      "source": [
        "import sys\n",
        "import numpy as np\n",
        "import cv2\n",
        "\n",
        "frame = cv2.imread('.\\\\images\\\\signal1.jpg')\n",
        "\n",
        "\n",
        "hsv_frame = cv2.cvtColor(frame, cv2.COLOR_BGR2HSV)\n",
        "\n",
        "# Red color\n",
        "low_red = np.array([161,155,84])\n",
        "high_red = np.array([179, 255, 255])\n",
        "red_mask = cv2.inRange(hsv_frame, low_red, high_red)\n",
        "red = cv2.bitwise_and(frame, frame, mask=red_mask)\n",
        "\n",
        "# Blue color\n",
        "low_blue = np.array([94, 80, 2])\n",
        "high_blue = np.array([126, 255, 255])\n",
        "blue_mask = cv2.inRange(hsv_frame, low_blue, high_blue)\n",
        "blue = cv2.bitwise_and(frame, frame, mask=blue_mask)\n",
        "\n",
        "# Green color\n",
        "low_green = np.array([25, 52, 72])\n",
        "high_green = np.array([102, 255, 255])\n",
        "green_mask = cv2.inRange(hsv_frame, low_green, high_green)\n",
        "green = cv2.bitwise_and(frame, frame, mask=green_mask)\n",
        "\n",
        "# Every color except white\n",
        "low = np.array([0, 42, 0])\n",
        "high = np.array([179, 255, 255])\n",
        "mask = cv2.inRange(hsv_frame, low, high)\n",
        "result = cv2.bitwise_and(frame, frame, mask=mask)\n",
        "\n",
        "cv2.imshow('Image', frame)\n",
        "cv2.imshow('Blue mask', blue)\n",
        "cv2.imshow('Red mask', red)\n",
        "#cv2.imshow('Green mask', green)\n",
        "\n",
        "cv2.waitKey(0)\n",
        "cv2.destroyAllWindows()"
      ]
    },
    {
      "cell_type": "code",
      "execution_count": null,
      "id": "2d18c161",
      "metadata": {
        "id": "2d18c161"
      },
      "outputs": [],
      "source": []
    },
    {
      "cell_type": "code",
      "execution_count": null,
      "id": "de9c925a",
      "metadata": {
        "id": "de9c925a"
      },
      "outputs": [],
      "source": [
        "import sys\n",
        "import numpy as np\n",
        "import cv2\n",
        "\n",
        "frame = cv2.imread('.\\\\images\\\\signal1.jpg')\n",
        "\n",
        "\n",
        "hsv_frame = cv2.cvtColor(frame, cv2.COLOR_BGR2HSV)\n",
        "\n",
        "# Yellow color\n",
        "low_yellow = np.array([20, 100, 100])\n",
        "high_yellow = np.array([100, 255, 255])\n",
        "#lower_yellow = np.array([20, 100, 100])\n",
        "#upper_yellow = np.array([100, 255, 255])\n",
        "yellow_mask = cv2.inRange(hsv_frame, low_yellow, high_yellow)\n",
        "yellow = cv2.bitwise_and(frame, frame, mask=yellow_mask)\n",
        "\n",
        "\n",
        "\n",
        "\n",
        "# Blue color\n",
        "low_blue = np.array([94, 80, 2])\n",
        "high_blue = np.array([126, 255, 255])\n",
        "blue_mask = cv2.inRange(hsv_frame, low_blue, high_blue)\n",
        "blue = cv2.bitwise_and(frame, frame, mask=blue_mask)\n",
        "\n",
        "# Green color\n",
        "low_green = np.array([25, 52, 72])\n",
        "high_green = np.array([102, 255, 255])\n",
        "green_mask = cv2.inRange(hsv_frame, low_green, high_green)\n",
        "green = cv2.bitwise_and(frame, frame, mask=green_mask)\n",
        "\n",
        "# Every color except white\n",
        "low = np.array([0, 42, 0])\n",
        "high = np.array([179, 255, 255])\n",
        "mask = cv2.inRange(hsv_frame, low, high)\n",
        "result = cv2.bitwise_and(frame, frame, mask=mask)\n",
        "\n",
        "cv2.imshow('Image', frame)\n",
        "cv2.imshow('Blue mask', blue)\n",
        "cv2.imshow('yellow mask', yellow)\n",
        "cv2.imshow('Green mask', green)\n",
        "\n",
        "cv2.waitKey(0)\n",
        "cv2.destroyAllWindows()"
      ]
    },
    {
      "cell_type": "code",
      "execution_count": null,
      "id": "9cce000b",
      "metadata": {
        "id": "9cce000b"
      },
      "outputs": [],
      "source": []
    }
  ],
  "metadata": {
    "kernelspec": {
      "display_name": "Python KOSA",
      "language": "python",
      "name": "kosa"
    },
    "language_info": {
      "codemirror_mode": {
        "name": "ipython",
        "version": 3
      },
      "file_extension": ".py",
      "mimetype": "text/x-python",
      "name": "python",
      "nbconvert_exporter": "python",
      "pygments_lexer": "ipython3",
      "version": "3.8.3"
    },
    "colab": {
      "provenance": [],
      "include_colab_link": true
    }
  },
  "nbformat": 4,
  "nbformat_minor": 5
}