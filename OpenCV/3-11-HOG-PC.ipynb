{
 "cells": [
  {
   "cell_type": "code",
   "execution_count": 1,
   "id": "dd0ed1fa-96e8-4467-8bda-ec29621c6f39",
   "metadata": {
    "tags": []
   },
   "outputs": [
    {
     "data": {
      "text/plain": [
       "'./HOG/hog_pedestrian_detection_example.jpg'"
      ]
     },
     "execution_count": 1,
     "metadata": {},
     "output_type": "execute_result"
    }
   ],
   "source": [
    "import cv2\n",
    "\n",
    "# Path to the uploaded video file\n",
    "video_path = './vtest.avi'\n",
    "\n",
    "# Initialize HOG descriptor/person detector\n",
    "hog = cv2.HOGDescriptor()\n",
    "hog.setSVMDetector(cv2.HOGDescriptor_getDefaultPeopleDetector())\n",
    "\n",
    "# Open the video file\n",
    "cap = cv2.VideoCapture(video_path)\n",
    "\n",
    "# Create a list to store frames with detected pedestrians\n",
    "frames_with_detections = []\n",
    "\n",
    "# Process video frames\n",
    "while cap.isOpened():\n",
    "    ret, frame = cap.read()\n",
    "    if not ret:\n",
    "        break\n",
    "\n",
    "    # Resize frame to speed up detection\n",
    "    frame = cv2.resize(frame, (640, 360))\n",
    "\n",
    "    # Detect people in the frame\n",
    "    boxes, weights = hog.detectMultiScale(frame, winStride=(8, 8), padding=(16, 16), scale=1.05)\n",
    "\n",
    "    # Draw bounding boxes\n",
    "    for (x, y, w, h) in boxes:\n",
    "        cv2.rectangle(frame, (x, y), (x + w, y + h), (0, 255, 0), 2)\n",
    "\n",
    "    # Add the processed frame to the list\n",
    "    frames_with_detections.append(frame)\n",
    "\n",
    "    # For demonstration, break after processing 10 frames\n",
    "    if len(frames_with_detections) >= 10:\n",
    "        break\n",
    "\n",
    "# Release the video capture object\n",
    "cap.release()\n",
    "\n",
    "# Save one of the processed frames as an example image\n",
    "output_image_path = './HOG/hog_pedestrian_detection_example.jpg'\n",
    "cv2.imwrite(output_image_path, frames_with_detections[0])\n",
    "\n",
    "output_image_path\n"
   ]
  },
  {
   "cell_type": "code",
   "execution_count": 2,
   "id": "b0ff9128-1579-4ea6-b91c-2d2fb13d2500",
   "metadata": {
    "tags": []
   },
   "outputs": [
    {
     "data": {
      "text/plain": [
       "'./HOG/hog_pedestrian_detection_output_short.avi'"
      ]
     },
     "execution_count": 2,
     "metadata": {},
     "output_type": "execute_result"
    }
   ],
   "source": [
    "# Define the output video path\n",
    "output_video_path = './HOG/hog_pedestrian_detection_output_short.avi'\n",
    "\n",
    "# Define video writer with the same properties as the input video\n",
    "fourcc = cv2.VideoWriter_fourcc(*'XVID')\n",
    "out = cv2.VideoWriter(output_video_path, fourcc, 20.0, (640, 360))\n",
    "\n",
    "# Re-open the video file for processing\n",
    "cap = cv2.VideoCapture(video_path)\n",
    "\n",
    "# Counter for the number of frames to process\n",
    "frame_count = 0\n",
    "max_frames = 500  # Limiting the number of frames to process\n",
    "\n",
    "# Process video frames and write them to the output video\n",
    "while cap.isOpened() and frame_count < max_frames:\n",
    "    ret, frame = cap.read()\n",
    "    if not ret:\n",
    "        break\n",
    "\n",
    "    # Resize frame to speed up detection\n",
    "    frame = cv2.resize(frame, (640, 360))\n",
    "\n",
    "    # Detect people in the frame\n",
    "    boxes, weights = hog.detectMultiScale(frame, winStride=(8, 8), padding=(16, 16), scale=1.1)\n",
    "\n",
    "    # Draw bounding boxes\n",
    "    for (x, y, w, h) in boxes:\n",
    "        cv2.rectangle(frame, (x, y), (x + w, y + h), (0, 255, 0), 2)\n",
    "\n",
    "    # Write the processed frame to the output video\n",
    "    out.write(frame)\n",
    "\n",
    "    # Increment frame counter\n",
    "    frame_count += 1\n",
    "\n",
    "# Release the video capture and writer objects\n",
    "cap.release()\n",
    "out.release()\n",
    "\n",
    "output_video_path\n"
   ]
  },
  {
   "cell_type": "code",
   "execution_count": null,
   "id": "8ec5cbe7-f98e-4e74-b71d-cba59ed5ff9a",
   "metadata": {},
   "outputs": [],
   "source": []
  }
 ],
 "metadata": {
  "kernelspec": {
   "display_name": "Python 3 (ipykernel)",
   "language": "python",
   "name": "python3"
  },
  "language_info": {
   "codemirror_mode": {
    "name": "ipython",
    "version": 3
   },
   "file_extension": ".py",
   "mimetype": "text/x-python",
   "name": "python",
   "nbconvert_exporter": "python",
   "pygments_lexer": "ipython3",
   "version": "3.11.3"
  }
 },
 "nbformat": 4,
 "nbformat_minor": 5
}
