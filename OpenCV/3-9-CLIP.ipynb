{
  "nbformat": 4,
  "nbformat_minor": 0,
  "metadata": {
    "colab": {
      "provenance": [],
      "authorship_tag": "ABX9TyMVKjFvEH2VXF7BH26++8yg",
      "include_colab_link": true
    },
    "kernelspec": {
      "name": "python3",
      "display_name": "Python 3"
    },
    "language_info": {
      "name": "python"
    }
  },
  "cells": [
    {
      "cell_type": "markdown",
      "metadata": {
        "id": "view-in-github",
        "colab_type": "text"
      },
      "source": [
        "<a href=\"https://colab.research.google.com/github/JSJeong-me/AI-Innovation-2024/blob/main/OpenCV/3-9-CLIP.ipynb\" target=\"_parent\"><img src=\"https://colab.research.google.com/assets/colab-badge.svg\" alt=\"Open In Colab\"/></a>"
      ]
    },
    {
      "cell_type": "code",
      "execution_count": null,
      "metadata": {
        "id": "rxWRck38y0Wn"
      },
      "outputs": [],
      "source": [
        "!pip install inference inference[clip]"
      ]
    },
    {
      "cell_type": "code",
      "source": [
        "export ROBOFLOW_API_KEY=\"\""
      ],
      "metadata": {
        "id": "73XNYK0bz0R2"
      },
      "execution_count": null,
      "outputs": []
    },
    {
      "cell_type": "code",
      "source": [
        "# from google.colab import userdata\n",
        "# userdata.get('ROBOFLOW_API_KEY')"
      ],
      "metadata": {
        "id": "jqc_8nmpy_N8"
      },
      "execution_count": null,
      "outputs": []
    },
    {
      "cell_type": "code",
      "source": [
        "# from google.colab.patches import cv2_imshow"
      ],
      "metadata": {
        "id": "gH7uhFCfzP4j"
      },
      "execution_count": 3,
      "outputs": []
    },
    {
      "cell_type": "code",
      "source": [
        "import cv2\n",
        "import inference\n",
        "from inference.core.utils.postprocess import cosine_similarity\n",
        "\n",
        "from inference.models import Clip\n",
        "clip = Clip()\n",
        "\n",
        "prompt = \"a coffee cup\"\n",
        "text_embedding = clip.embed_text(prompt)\n",
        "\n",
        "def render(result, image):\n",
        "    # get the cosine similarity between the prompt & the image\n",
        "    similarity = cosine_similarity(result[\"embeddings\"][0], text_embedding[0])\n",
        "\n",
        "    # scale the result to 0-100 based on heuristic (~the best & worst values I've observed)\n",
        "    range = (0.15, 0.40)\n",
        "    similarity = (similarity-range[0])/(range[1]-range[0])\n",
        "    similarity = max(min(similarity, 1), 0)*100\n",
        "\n",
        "    # print the similarity\n",
        "    text = f\"{similarity:.1f}%\"\n",
        "    cv2.putText(image, text, (10, 310), cv2.FONT_HERSHEY_SIMPLEX, 12, (255, 255, 255), 30)\n",
        "    cv2.putText(image, text, (10, 310), cv2.FONT_HERSHEY_SIMPLEX, 12, (206, 6, 103), 16)\n",
        "\n",
        "    # print the prompt\n",
        "    cv2.putText(image, prompt, (20, 1050), cv2.FONT_HERSHEY_SIMPLEX, 2, (255, 255, 255), 10)\n",
        "    cv2.putText(image, prompt, (20, 1050), cv2.FONT_HERSHEY_SIMPLEX, 2, (206, 6, 103), 5)\n",
        "\n",
        "    # display the image\n",
        "    cv2.imshow(\"CLIP\", image)\n",
        "    # cv2_imshow(image)\n",
        "    cv2.waitKey(1)\n",
        "\n",
        "# start the stream\n",
        "inference.Stream(\n",
        "    source=\"webcam\",\n",
        "    model=clip,\n",
        "\n",
        "    output_channel_order=\"BGR\",\n",
        "    use_main_thread=True,\n",
        "\n",
        "    on_prediction=render\n",
        ")"
      ],
      "metadata": {
        "colab": {
          "base_uri": "https://localhost:8080/",
          "height": 473
        },
        "id": "UW_Sp-DRzHfY",
        "outputId": "8a6428e9-ed03-4b5b-eee6-83f395533022"
      },
      "execution_count": 4,
      "outputs": [
        {
          "output_type": "stream",
          "name": "stderr",
          "text": [
            "SupervisionWarnings: BoundingBoxAnnotator is deprecated: `BoundingBoxAnnotator` is deprecated and has been renamed to `BoxAnnotator`. `BoundingBoxAnnotator` will be removed in supervision-0.26.0.\n"
          ]
        },
        {
          "output_type": "stream",
          "name": "stdout",
          "text": [
            "Creating inference sessions\n"
          ]
        },
        {
          "output_type": "stream",
          "name": "stderr",
          "text": [
            "UserWarning: Specified provider 'CUDAExecutionProvider' is not in available provider names.Available providers: 'CPUExecutionProvider'\n",
            "UserWarning: Specified provider 'OpenVINOExecutionProvider' is not in available provider names.Available providers: 'CPUExecutionProvider'\n"
          ]
        },
        {
          "output_type": "stream",
          "name": "stdout",
          "text": [
            "CLIP model loaded in 13.24 seconds\n"
          ]
        },
        {
          "output_type": "error",
          "ename": "NameError",
          "evalue": "name 'exit' is not defined",
          "traceback": [
            "\u001b[0;31m---------------------------------------------------------------------------\u001b[0m",
            "\u001b[0;31mNameError\u001b[0m                                 Traceback (most recent call last)",
            "\u001b[0;32m<ipython-input-4-1e3e802ce3d9>\u001b[0m in \u001b[0;36m<cell line: 35>\u001b[0;34m()\u001b[0m\n\u001b[1;32m     33\u001b[0m \u001b[0;34m\u001b[0m\u001b[0m\n\u001b[1;32m     34\u001b[0m \u001b[0;31m# start the stream\u001b[0m\u001b[0;34m\u001b[0m\u001b[0;34m\u001b[0m\u001b[0m\n\u001b[0;32m---> 35\u001b[0;31m inference.Stream(\n\u001b[0m\u001b[1;32m     36\u001b[0m     \u001b[0msource\u001b[0m\u001b[0;34m=\u001b[0m\u001b[0;34m\"webcam\"\u001b[0m\u001b[0;34m,\u001b[0m\u001b[0;34m\u001b[0m\u001b[0;34m\u001b[0m\u001b[0m\n\u001b[1;32m     37\u001b[0m     \u001b[0mmodel\u001b[0m\u001b[0;34m=\u001b[0m\u001b[0mclip\u001b[0m\u001b[0;34m,\u001b[0m\u001b[0;34m\u001b[0m\u001b[0;34m\u001b[0m\u001b[0m\n",
            "\u001b[0;32m/usr/local/lib/python3.10/dist-packages/inference/core/interfaces/stream/stream.py\u001b[0m in \u001b[0;36m__init__\u001b[0;34m(self, api_key, class_agnostic_nms, confidence, enforce_fps, iou_threshold, max_candidates, max_detections, model, source, use_bytetrack, use_main_thread, output_channel_order, on_prediction, on_start, on_stop)\u001b[0m\n\u001b[1;32m    132\u001b[0m         )\n\u001b[1;32m    133\u001b[0m \u001b[0;34m\u001b[0m\u001b[0m\n\u001b[0;32m--> 134\u001b[0;31m         self.webcam_stream = WebcamStream(\n\u001b[0m\u001b[1;32m    135\u001b[0m             \u001b[0mstream_id\u001b[0m\u001b[0;34m=\u001b[0m\u001b[0mself\u001b[0m\u001b[0;34m.\u001b[0m\u001b[0mstream_id\u001b[0m\u001b[0;34m,\u001b[0m \u001b[0menforce_fps\u001b[0m\u001b[0;34m=\u001b[0m\u001b[0menforce_fps\u001b[0m\u001b[0;34m\u001b[0m\u001b[0;34m\u001b[0m\u001b[0m\n\u001b[1;32m    136\u001b[0m         )\n",
            "\u001b[0;32m/usr/local/lib/python3.10/dist-packages/inference/core/interfaces/camera/camera.py\u001b[0m in \u001b[0;36m__init__\u001b[0;34m(self, stream_id, enforce_fps)\u001b[0m\n\u001b[1;32m     59\u001b[0m         \u001b[0;32mif\u001b[0m \u001b[0mself\u001b[0m\u001b[0;34m.\u001b[0m\u001b[0mvcap\u001b[0m\u001b[0;34m.\u001b[0m\u001b[0misOpened\u001b[0m\u001b[0;34m(\u001b[0m\u001b[0;34m)\u001b[0m \u001b[0;32mis\u001b[0m \u001b[0;32mFalse\u001b[0m\u001b[0;34m:\u001b[0m\u001b[0;34m\u001b[0m\u001b[0;34m\u001b[0m\u001b[0m\n\u001b[1;32m     60\u001b[0m             \u001b[0mlogger\u001b[0m\u001b[0;34m.\u001b[0m\u001b[0mdebug\u001b[0m\u001b[0;34m(\u001b[0m\u001b[0;34m\"[Exiting]: Error accessing webcam stream.\"\u001b[0m\u001b[0;34m)\u001b[0m\u001b[0;34m\u001b[0m\u001b[0;34m\u001b[0m\u001b[0m\n\u001b[0;32m---> 61\u001b[0;31m             \u001b[0mexit\u001b[0m\u001b[0;34m(\u001b[0m\u001b[0;36m0\u001b[0m\u001b[0;34m)\u001b[0m\u001b[0;34m\u001b[0m\u001b[0;34m\u001b[0m\u001b[0m\n\u001b[0m\u001b[1;32m     62\u001b[0m         \u001b[0mself\u001b[0m\u001b[0;34m.\u001b[0m\u001b[0mfps_input_stream\u001b[0m \u001b[0;34m=\u001b[0m \u001b[0mint\u001b[0m\u001b[0;34m(\u001b[0m\u001b[0mself\u001b[0m\u001b[0;34m.\u001b[0m\u001b[0mvcap\u001b[0m\u001b[0;34m.\u001b[0m\u001b[0mget\u001b[0m\u001b[0;34m(\u001b[0m\u001b[0mcv2\u001b[0m\u001b[0;34m.\u001b[0m\u001b[0mCAP_PROP_FPS\u001b[0m\u001b[0;34m)\u001b[0m\u001b[0;34m)\u001b[0m\u001b[0;34m\u001b[0m\u001b[0;34m\u001b[0m\u001b[0m\n\u001b[1;32m     63\u001b[0m         logger.debug(\n",
            "\u001b[0;31mNameError\u001b[0m: name 'exit' is not defined"
          ]
        }
      ]
    }
  ]
}