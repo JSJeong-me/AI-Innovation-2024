{
  "cells": [
    {
      "cell_type": "markdown",
      "metadata": {
        "id": "view-in-github",
        "colab_type": "text"
      },
      "source": [
        "<a href=\"https://colab.research.google.com/github/JSJeong-me/AI-Innovation-2024/blob/main/OpenCV/3-3-RNX-otsu_contours.ipynb\" target=\"_parent\"><img src=\"https://colab.research.google.com/assets/colab-badge.svg\" alt=\"Open In Colab\"/></a>"
      ]
    },
    {
      "cell_type": "code",
      "execution_count": null,
      "id": "29467ede-8193-485b-bdc3-fc975bae5ecc",
      "metadata": {
        "id": "29467ede-8193-485b-bdc3-fc975bae5ecc"
      },
      "outputs": [],
      "source": []
    },
    {
      "cell_type": "code",
      "execution_count": null,
      "id": "68fee6a7-c276-4654-93b1-37735552d58d",
      "metadata": {
        "id": "68fee6a7-c276-4654-93b1-37735552d58d"
      },
      "outputs": [],
      "source": [
        "import sys\n",
        "import cv2\n",
        "import numpy as np"
      ]
    },
    {
      "cell_type": "code",
      "source": [
        "!wget --no-check-certificate 'https://docs.google.com/uc?export=download&id=1eY1I7j2KzZGC8M6Sfz9oM3g3Wi-P4rew' -O image01.jpg"
      ],
      "metadata": {
        "id": "AV4Tts3CMiey"
      },
      "id": "AV4Tts3CMiey",
      "execution_count": null,
      "outputs": []
    },
    {
      "cell_type": "code",
      "execution_count": null,
      "id": "d9ae3621-54bd-44dd-9ae1-9e49d8ef123a",
      "metadata": {
        "id": "d9ae3621-54bd-44dd-9ae1-9e49d8ef123a"
      },
      "outputs": [],
      "source": [
        "filename = 'image01.jpg'"
      ]
    },
    {
      "cell_type": "code",
      "execution_count": null,
      "id": "2c39e5cd-26a9-4b52-ad64-3571bc70846e",
      "metadata": {
        "id": "2c39e5cd-26a9-4b52-ad64-3571bc70846e",
        "outputId": "ee032a92-6585-486a-c46b-613c4750b76e"
      },
      "outputs": [
        {
          "data": {
            "text/plain": [
              "(2992, 2992, 3)"
            ]
          },
          "execution_count": 3,
          "metadata": {},
          "output_type": "execute_result"
        }
      ],
      "source": [
        "src = cv2.imread(filename, cv2.IMREAD_COLOR)\n",
        "\n",
        "src.shape"
      ]
    },
    {
      "cell_type": "code",
      "execution_count": null,
      "id": "beecd68d-d806-4a40-b5f4-462336be75e9",
      "metadata": {
        "id": "beecd68d-d806-4a40-b5f4-462336be75e9"
      },
      "outputs": [],
      "source": [
        "src = src[450:2300, 450:2300]"
      ]
    },
    {
      "cell_type": "code",
      "execution_count": null,
      "id": "e89a5155-db45-4870-8604-d0bf9d8aa4ee",
      "metadata": {
        "id": "e89a5155-db45-4870-8604-d0bf9d8aa4ee",
        "outputId": "3458257c-5afe-48b4-f430-5b7817b22e65"
      },
      "outputs": [
        {
          "name": "stdout",
          "output_type": "stream",
          "text": [
            "threshold: 145.0\n"
          ]
        }
      ],
      "source": [
        "if src is None:\n",
        "    print('Image load failed!')\n",
        "    sys.exit()\n",
        "\n",
        "src = cv2.resize(src, (0, 0), fx=0.5, fy=0.5)\n",
        "src_gray = cv2.cvtColor(src, cv2.COLOR_BGR2GRAY)\n",
        "\n",
        "h, w = src.shape[:2]\n",
        "dst1 = np.zeros((h, w, 3), np.uint8)\n",
        "dst2 = np.zeros((h, w, 3), np.uint8)\n",
        "\n",
        "th, dst = cv2.threshold(src_gray, 0, 255, cv2.THRESH_BINARY | cv2.THRESH_OTSU)\n",
        "print('threshold:', th)\n",
        "\n",
        "\n",
        "contours1, _ = cv2.findContours(dst, cv2.RETR_EXTERNAL, cv2.CHAIN_APPROX_NONE)\n",
        "contours2, _ = cv2.findContours(dst, cv2.RETR_LIST, cv2.CHAIN_APPROX_NONE)\n",
        "\n",
        "for i in range(len(contours1)):\n",
        "#    c = (random.randint(0, 255), random.randint(0, 255), random.randint(0, 255))\n",
        "    cv2.drawContours(dst1, contours1, i, (0,255,255), 1)\n",
        "\n",
        "for i in range(len(contours2)):\n",
        "#    c = (random.randint(0, 255), random.randint(0, 255), random.randint(0, 255))\n",
        "    cv2.drawContours(dst2, contours2, i, (255,255,255), 1)\n",
        "\n",
        "len(contours1)\n",
        "len(contours2)\n",
        "\n",
        "# cv2.imshow('src', src)\n",
        "# cv2.imshow('src_gray', src_gray)\n",
        "cv2.imshow('dst', dst)\n",
        "cv2.imshow('dst1', dst1)\n",
        "cv2.imshow('dst2', dst2)\n",
        "cv2.waitKey()\n",
        "\n",
        "cv2.imwrite('0.jpg', src)\n",
        "cv2.imwrite('1.jpg', src_gray)\n",
        "cv2.imwrite('2.jpg', dst)\n",
        "cv2.imwrite('3.jpg', dst1)\n",
        "cv2.imwrite('4.jpg', dst2)\n",
        "\n",
        "cv2.destroyAllWindows()"
      ]
    },
    {
      "cell_type": "code",
      "execution_count": null,
      "id": "e813baea-0828-49cc-aa57-da2a4dc5c837",
      "metadata": {
        "id": "e813baea-0828-49cc-aa57-da2a4dc5c837",
        "outputId": "881eb740-e492-428a-f239-91127c2eea14"
      },
      "outputs": [
        {
          "data": {
            "text/plain": [
              "632"
            ]
          },
          "execution_count": 6,
          "metadata": {},
          "output_type": "execute_result"
        }
      ],
      "source": [
        "len(contours1)"
      ]
    },
    {
      "cell_type": "code",
      "execution_count": null,
      "id": "90a53427-7589-414f-a0a6-32f77abbc762",
      "metadata": {
        "id": "90a53427-7589-414f-a0a6-32f77abbc762",
        "outputId": "3fd3c4e6-7f0a-4b18-d9f5-843485a243dc"
      },
      "outputs": [
        {
          "data": {
            "text/plain": [
              "807"
            ]
          },
          "execution_count": 7,
          "metadata": {},
          "output_type": "execute_result"
        }
      ],
      "source": [
        "len(contours2)"
      ]
    },
    {
      "cell_type": "code",
      "execution_count": null,
      "id": "1f88ee47-34ec-4bd8-a3d1-54dcedca25ec",
      "metadata": {
        "id": "1f88ee47-34ec-4bd8-a3d1-54dcedca25ec",
        "outputId": "59d8cd25-1b6c-46e6-ca22-acf7428cc3c2"
      },
      "outputs": [
        {
          "name": "stdout",
          "output_type": "stream",
          "text": [
            "number of lemons found via contour detection =  732\n"
          ]
        }
      ],
      "source": [
        "copy2 = dst.copy()\n",
        "count = []\n",
        "for x in contours2:\n",
        "    area = cv2.contourArea(x)\n",
        "    if area > 5:\n",
        "        count.append(x)\n",
        "cv2.drawContours(src, count, -1, (0,255,0), 3)\n",
        "cv2.imshow('dst4',src)\n",
        "cv2.waitKey()\n",
        "print(\"number of lemons found via contour detection = \", len(count))\n",
        "cv2.destroyAllWindows()"
      ]
    },
    {
      "cell_type": "code",
      "execution_count": null,
      "id": "5d7c2b8a-d75e-440b-9b69-4cb4ed157e65",
      "metadata": {
        "id": "5d7c2b8a-d75e-440b-9b69-4cb4ed157e65"
      },
      "outputs": [],
      "source": []
    }
  ],
  "metadata": {
    "kernelspec": {
      "display_name": "Python 3 (ipykernel)",
      "language": "python",
      "name": "python3"
    },
    "language_info": {
      "codemirror_mode": {
        "name": "ipython",
        "version": 3
      },
      "file_extension": ".py",
      "mimetype": "text/x-python",
      "name": "python",
      "nbconvert_exporter": "python",
      "pygments_lexer": "ipython3",
      "version": "3.9.12"
    },
    "colab": {
      "provenance": [],
      "include_colab_link": true
    }
  },
  "nbformat": 4,
  "nbformat_minor": 5
}