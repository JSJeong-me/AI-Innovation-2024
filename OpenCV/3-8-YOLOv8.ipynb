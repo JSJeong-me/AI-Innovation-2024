{
  "cells": [
    {
      "cell_type": "markdown",
      "metadata": {
        "id": "view-in-github",
        "colab_type": "text"
      },
      "source": [
        "<a href=\"https://colab.research.google.com/github/JSJeong-me/AI-Innovation-2024/blob/main/OpenCV/3-8-YOLOv8.ipynb\" target=\"_parent\"><img src=\"https://colab.research.google.com/assets/colab-badge.svg\" alt=\"Open In Colab\"/></a>"
      ]
    },
    {
      "cell_type": "code",
      "execution_count": null,
      "id": "e8c6bbb1-68dd-4b44-a2ac-89e7f9160a12",
      "metadata": {
        "id": "e8c6bbb1-68dd-4b44-a2ac-89e7f9160a12"
      },
      "outputs": [],
      "source": [
        "!pip install ultralytics"
      ]
    },
    {
      "cell_type": "code",
      "execution_count": null,
      "id": "d309e4e0-9834-4b85-9eb5-dd180717eae1",
      "metadata": {
        "tags": [],
        "id": "d309e4e0-9834-4b85-9eb5-dd180717eae1"
      },
      "outputs": [],
      "source": [
        "from ultralytics import YOLO\n",
        "\n",
        "# Load an official or custom model\n",
        "# model = YOLO(\"yolov8n.pt\")  # Load an official Detect model\n",
        "model = YOLO(\"yolov8n-seg.pt\")  # Load an official Segment model\n",
        "# model = YOLO(\"yolov8n-pose.pt\")  # Load an official Pose model\n",
        "# model = YOLO(\"path/to/best.pt\")  # Load a custom trained model\n",
        "\n",
        "# Perform tracking with the model\n",
        "# results = model.track(\"B3-ParkingEXIT.mp4\", show=True)  # Tracking with default tracker\n",
        "results = model.track(\"B3-ParkingEXIT.mp4\",conf=0.5, iou=0.7, show=False, tracker=\"bytetrack.yaml\")  # with ByteTrack"
      ]
    },
    {
      "cell_type": "code",
      "execution_count": null,
      "id": "7c0410c7-0184-4315-aac1-99c39d541253",
      "metadata": {
        "id": "7c0410c7-0184-4315-aac1-99c39d541253"
      },
      "outputs": [],
      "source": []
    }
  ],
  "metadata": {
    "kernelspec": {
      "display_name": "Python 3 (ipykernel)",
      "language": "python",
      "name": "python3"
    },
    "language_info": {
      "codemirror_mode": {
        "name": "ipython",
        "version": 3
      },
      "file_extension": ".py",
      "mimetype": "text/x-python",
      "name": "python",
      "nbconvert_exporter": "python",
      "pygments_lexer": "ipython3",
      "version": "3.11.3"
    },
    "colab": {
      "provenance": [],
      "include_colab_link": true
    }
  },
  "nbformat": 4,
  "nbformat_minor": 5
}