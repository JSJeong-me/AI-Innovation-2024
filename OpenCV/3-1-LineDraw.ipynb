{
  "nbformat": 4,
  "nbformat_minor": 0,
  "metadata": {
    "colab": {
      "provenance": [],
      "authorship_tag": "ABX9TyNSzJ5cvz1spsytd6q7GRLf",
      "include_colab_link": true
    },
    "kernelspec": {
      "name": "python3",
      "display_name": "Python 3"
    },
    "language_info": {
      "name": "python"
    }
  },
  "cells": [
    {
      "cell_type": "markdown",
      "metadata": {
        "id": "view-in-github",
        "colab_type": "text"
      },
      "source": [
        "<a href=\"https://colab.research.google.com/github/JSJeong-me/AI-Innovation-2024/blob/main/OpenCV/3-1-LineDraw.ipynb\" target=\"_parent\"><img src=\"https://colab.research.google.com/assets/colab-badge.svg\" alt=\"Open In Colab\"/></a>"
      ]
    },
    {
      "cell_type": "code",
      "source": [
        "import cv2\n",
        "import numpy as np\n",
        "import matplotlib.pyplot as plt\n",
        "\n",
        "# 빈 이미지 생성 (검정 배경, 3 채널, 512x512)\n",
        "image = np.zeros((512, 512, 3), dtype=np.uint8)\n",
        "\n",
        "# 라인 그리기\n",
        "# cv2.line(image, 시작점, 끝점, 색상(BGR 형식), 두께)\n",
        "cv2.line(image, (50, 100), (450, 100), (0, 255, 0), 5)  # 초록색 라인\n",
        "cv2.line(image, (50, 200), (450, 300), (255, 0, 0), 3)  # 파란색 라인\n",
        "cv2.line(image, (50, 400), (450, 400), (0, 0, 255), 2)  # 빨간색 라인\n",
        "\n",
        "# 이미지 출력\n",
        "plt.imshow(cv2.cvtColor(image, cv2.COLOR_BGR2RGB))\n",
        "plt.axis('off')\n",
        "plt.show()\n"
      ],
      "metadata": {
        "colab": {
          "base_uri": "https://localhost:8080/",
          "height": 406
        },
        "id": "KNLbJibslpSA",
        "outputId": "439d5e72-5f26-4b15-b4ed-05c64e47444e"
      },
      "execution_count": 1,
      "outputs": [
        {
          "output_type": "display_data",
          "data": {
            "text/plain": [
              "<Figure size 640x480 with 1 Axes>"
            ],
            "image/png": "[encoded data removed]"
          },
          "metadata": {}
        }
      ]
    }
  ]
}