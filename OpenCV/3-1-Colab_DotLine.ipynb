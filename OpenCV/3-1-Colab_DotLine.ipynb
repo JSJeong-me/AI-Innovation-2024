{
  "nbformat": 4,
  "nbformat_minor": 0,
  "metadata": {
    "colab": {
      "provenance": [],
      "authorship_tag": "ABX9TyM4aS/LSl7HV2QFMUW/LF0T",
      "include_colab_link": true
    },
    "kernelspec": {
      "name": "python3",
      "display_name": "Python 3"
    },
    "language_info": {
      "name": "python"
    }
  },
  "cells": [
    {
      "cell_type": "markdown",
      "metadata": {
        "id": "view-in-github",
        "colab_type": "text"
      },
      "source": [
        "<a href=\"https://colab.research.google.com/github/JSJeong-me/AI-Innovation-2024/blob/main/OpenCV/3-1-Colab_DotLine.ipynb\" target=\"_parent\"><img src=\"https://colab.research.google.com/assets/colab-badge.svg\" alt=\"Open In Colab\"/></a>"
      ]
    },
    {
      "cell_type": "code",
      "source": [
        "def foo():\n",
        "    print(\"foo\")"
      ],
      "metadata": {
        "id": "cHLkzxYAD-s6"
      },
      "execution_count": 1,
      "outputs": []
    },
    {
      "cell_type": "code",
      "source": [
        "def abc():\n",
        "  \"\"\"\n",
        "\n",
        "  \"\"\"\n",
        "  print(\"abc\")"
      ],
      "metadata": {
        "id": "A3lmuu6zJhxe"
      },
      "execution_count": 2,
      "outputs": []
    },
    {
      "cell_type": "code",
      "source": [
        "pip install opencv-python==4.7.0.72"
      ],
      "metadata": {
        "id": "ooOn1midP9fK",
        "outputId": "8c7ece5c-6249-4219-c10f-5585213fcda6",
        "colab": {
          "base_uri": "https://localhost:8080/"
        }
      },
      "execution_count": 1,
      "outputs": [
        {
          "output_type": "stream",
          "name": "stdout",
          "text": [
            "Collecting opencv-python==4.7.0.72\n",
            "  Downloading opencv_python-4.7.0.72-cp37-abi3-manylinux_2_17_x86_64.manylinux2014_x86_64.whl.metadata (18 kB)\n",
            "Requirement already satisfied: numpy>=1.21.2 in /usr/local/lib/python3.10/dist-packages (from opencv-python==4.7.0.72) (1.26.4)\n",
            "Downloading opencv_python-4.7.0.72-cp37-abi3-manylinux_2_17_x86_64.manylinux2014_x86_64.whl (61.8 MB)\n",
            "\u001b[2K   \u001b[90m━━━━━━━━━━━━━━━━━━━━━━━━━━━━━━━━━━━━━━━━\u001b[0m \u001b[32m61.8/61.8 MB\u001b[0m \u001b[31m10.5 MB/s\u001b[0m eta \u001b[36m0:00:00\u001b[0m\n",
            "\u001b[?25hInstalling collected packages: opencv-python\n",
            "  Attempting uninstall: opencv-python\n",
            "    Found existing installation: opencv-python 4.10.0.84\n",
            "    Uninstalling opencv-python-4.10.0.84:\n",
            "      Successfully uninstalled opencv-python-4.10.0.84\n",
            "Successfully installed opencv-python-4.7.0.72\n"
          ]
        }
      ]
    },
    {
      "cell_type": "code",
      "source": [
        "# !pip install opencv-python\n",
        "import cv2 # imports the cv2 module\n",
        "\n",
        "cv2.__version__"
      ],
      "metadata": {
        "id": "Ip-aj-_DPRpV",
        "outputId": "8a54b06a-67c4-40d9-9914-3371b2b0f734",
        "colab": {
          "base_uri": "https://localhost:8080/",
          "height": 35
        }
      },
      "execution_count": 2,
      "outputs": [
        {
          "output_type": "execute_result",
          "data": {
            "text/plain": [
              "'4.7.0'"
            ],
            "application/vnd.google.colaboratory.intrinsic+json": {
              "type": "string"
            }
          },
          "metadata": {},
          "execution_count": 2
        }
      ]
    },
    {
      "cell_type": "code",
      "source": [
        "cv2.__version__"
      ],
      "metadata": {
        "id": "Jr7M36RuKYJG",
        "outputId": "a91dead7-5075-4e8d-f57c-09abe5a05db0",
        "colab": {
          "base_uri": "https://localhost:8080/",
          "height": 35
        }
      },
      "execution_count": 3,
      "outputs": [
        {
          "output_type": "execute_result",
          "data": {
            "text/plain": [
              "'4.7.0'"
            ],
            "application/vnd.google.colaboratory.intrinsic+json": {
              "type": "string"
            }
          },
          "metadata": {},
          "execution_count": 3
        }
      ]
    },
    {
      "cell_type": "code",
      "source": [
        "!pip install opencv-python"
      ],
      "metadata": {
        "id": "1Ivr9rsFPNSl"
      },
      "execution_count": null,
      "outputs": []
    },
    {
      "cell_type": "code",
      "source": [
        "# Import necessary packages for Colab display\n",
        "import cv2\n",
        "import numpy as np\n",
        "from google.colab.patches import cv2_imshow\n",
        "\n",
        "# Function to draw a dotted line\n",
        "def draw_dotted_line(image, pt1, pt2, color, thickness, gap):\n",
        "    dist = np.linalg.norm(np.array(pt2) - np.array(pt1))  # Calculate distance between points\n",
        "    num_dots = int(dist // gap)\n",
        "    for i in range(num_dots):\n",
        "        start = pt1 + (pt2 - pt1) * (i / num_dots)\n",
        "        cv2.circle(image, tuple(start.astype(int)), thickness, color, -1)\n",
        "\n",
        "# Function to draw a dashed line\n",
        "def draw_dashed_line(image, pt1, pt2, color, thickness, dash_length, gap):\n",
        "    dist = np.linalg.norm(np.array(pt2) - np.array(pt1))  # Calculate distance between points\n",
        "    num_dashes = int(dist // (dash_length + gap))\n",
        "    for i in range(num_dashes):\n",
        "        start = pt1 + (pt2 - pt1) * (i / num_dashes)\n",
        "        end = pt1 + (pt2 - pt1) * ((i + 0.5) / num_dashes)  # Half of the dash length\n",
        "        cv2.line(image, tuple(start.astype(int)), tuple(end.astype(int)), color, thickness)\n",
        "\n",
        "# Create a blank image\n",
        "dotted_dashed_image = np.zeros((300, 300, 3), dtype=np.uint8)\n",
        "\n",
        "# Draw a dotted line\n",
        "draw_dotted_line(dotted_dashed_image, np.array([50, 100]), np.array([250, 100]), (0, 255, 0), 3, 15)\n",
        "\n",
        "# Draw a dashed line\n",
        "draw_dashed_line(dotted_dashed_image, np.array([50, 200]), np.array([250, 200]), (255, 0, 0), 3, 20, 10)\n",
        "\n",
        "# Display the result using cv2_imshow for Google Colab\n",
        "cv2_imshow(dotted_dashed_image)\n"
      ],
      "metadata": {
        "id": "tfhk1JY7R9bv",
        "outputId": "1c88b3ae-a560-454d-a6fc-4f5a6e1a665b",
        "colab": {
          "base_uri": "https://localhost:8080/",
          "height": 317
        }
      },
      "execution_count": 4,
      "outputs": [
        {
          "output_type": "display_data",
          "data": {
            "text/plain": [
              "<PIL.Image.Image image mode=RGB size=300x300>"
            ],
            "image/png": "[encoded data removed]"
          },
          "metadata": {}
        }
      ]
    }
  ]
}