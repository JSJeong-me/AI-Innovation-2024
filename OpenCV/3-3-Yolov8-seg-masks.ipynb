{
  "nbformat": 4,
  "nbformat_minor": 0,
  "metadata": {
    "colab": {
      "provenance": [],
      "authorship_tag": "ABX9TyPFOdcOApQUOnZb8MxRG2X9",
      "include_colab_link": true
    },
    "kernelspec": {
      "name": "python3",
      "display_name": "Python 3"
    },
    "language_info": {
      "name": "python"
    }
  },
  "cells": [
    {
      "cell_type": "markdown",
      "metadata": {
        "id": "view-in-github",
        "colab_type": "text"
      },
      "source": [
        "<a href=\"https://colab.research.google.com/github/JSJeong-me/AI-Innovation-2024/blob/main/OpenCV/3-3-Yolov8-seg-masks.ipynb\" target=\"_parent\"><img src=\"https://colab.research.google.com/assets/colab-badge.svg\" alt=\"Open In Colab\"/></a>"
      ]
    },
    {
      "cell_type": "code",
      "source": [
        "%pip install ultralytics\n",
        "import ultralytics\n",
        "ultralytics.checks()"
      ],
      "metadata": {
        "colab": {
          "base_uri": "https://localhost:8080/"
        },
        "id": "Q80QpAeithi3",
        "outputId": "f240df52-a6be-4b01-985e-3189e41df4be"
      },
      "execution_count": 1,
      "outputs": [
        {
          "output_type": "stream",
          "name": "stdout",
          "text": [
            "Ultralytics YOLOv8.2.91 🚀 Python-3.10.12 torch-2.4.0+cu121 CPU (Intel Xeon 2.20GHz)\n",
            "Setup complete ✅ (2 CPUs, 12.7 GB RAM, 32.9/225.8 GB disk)\n"
          ]
        }
      ]
    },
    {
      "cell_type": "code",
      "source": [
        "from ultralytics import YOLO\n",
        "import cv2\n",
        "\n",
        "# Load your model\n",
        "model = YOLO('yolov8n-seg.pt')  # Adjust model path as needed\n",
        "\n",
        "# Run prediction\n",
        "results = model('elephant2.png')\n",
        "\n",
        "# Access the masks\n",
        "masks = results[0].masks.data.numpy() # Access the numpy array within the Masks object\n",
        "\n",
        "# Assuming single class segmentation for simplicity, adjust as needed\n",
        "mask = masks[0]  # For multi-class, iterate over masks\n",
        "\n",
        "# Save the mask\n",
        "cv2.imwrite('segmented_mask.png', mask * 255)  # Convert mask to uint8 if needed"
      ],
      "metadata": {
        "colab": {
          "base_uri": "https://localhost:8080/"
        },
        "id": "Cq964N0Tvvnm",
        "outputId": "0caef616-9f5c-4363-8734-c5564b47bccc"
      },
      "execution_count": 4,
      "outputs": [
        {
          "output_type": "stream",
          "name": "stdout",
          "text": [
            "\n",
            "image 1/1 /content/elephant2.png: 384x640 2 elephants, 231.3ms\n",
            "Speed: 5.0ms preprocess, 231.3ms inference, 7.9ms postprocess per image at shape (1, 3, 384, 640)\n"
          ]
        },
        {
          "output_type": "execute_result",
          "data": {
            "text/plain": [
              "True"
            ]
          },
          "metadata": {},
          "execution_count": 4
        }
      ]
    },
    {
      "cell_type": "code",
      "source": [
        "# Assuming single class segmentation for simplicity, adjust as needed\n",
        "mask = masks[1]  # For multi-class, iterate over masks\n",
        "\n",
        "# Save the mask\n",
        "cv2.imwrite('segmented_mask2.png', mask * 255)  # Convert mask to uint8 if needed"
      ],
      "metadata": {
        "colab": {
          "base_uri": "https://localhost:8080/"
        },
        "id": "v3MMUgJPv9vX",
        "outputId": "47be5912-5d66-4b3f-8043-60bd7ef81849"
      },
      "execution_count": 5,
      "outputs": [
        {
          "output_type": "execute_result",
          "data": {
            "text/plain": [
              "True"
            ]
          },
          "metadata": {},
          "execution_count": 5
        }
      ]
    }
  ]
}