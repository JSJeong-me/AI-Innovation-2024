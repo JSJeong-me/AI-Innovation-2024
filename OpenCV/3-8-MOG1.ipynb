{
 "cells": [
  {
   "cell_type": "code",
   "execution_count": null,
   "id": "c7bccfa5-d04c-4503-9a38-9ae1fc13111a",
   "metadata": {},
   "outputs": [],
   "source": []
  },
  {
   "cell_type": "code",
   "execution_count": 1,
   "id": "56b82359-6707-44ed-bacd-4317afb59966",
   "metadata": {
    "tags": []
   },
   "outputs": [],
   "source": [
    "import cv2\n",
    "\n",
    "# 동영상 파일 경로 설정\n",
    "video_path = './highway01.mp4'\n",
    "\n",
    "# 동영상 열기\n",
    "cap = cv2.VideoCapture(video_path)"
   ]
  },
  {
   "cell_type": "code",
   "execution_count": 2,
   "id": "a0890254-6c0e-4fb8-aa32-20b0f67565e7",
   "metadata": {
    "tags": []
   },
   "outputs": [],
   "source": [
    "# 배경 제거 알고리즘 설정 (MOG 방식)\n",
    "bg_subtractor = cv2.createBackgroundSubtractorMOG2()\n",
    "\n",
    "# 동영상이 열리는지 확인\n",
    "if not cap.isOpened():\n",
    "    print(\"Error: Could not open video.\")\n",
    "    exit()\n",
    "\n",
    "while True:\n",
    "    ret, frame = cap.read()\n",
    "    \n",
    "    # 프레임 읽기 실패 시 종료\n",
    "    if not ret:\n",
    "        break\n",
    "\n",
    "    # 배경 제거 마스크 생성\n",
    "    fg_mask = bg_subtractor.apply(frame)\n",
    "\n",
    "    # 마스크를 통해 객체 추출 후 윤곽선 찾기\n",
    "    contours, _ = cv2.findContours(fg_mask, cv2.RETR_EXTERNAL, cv2.CHAIN_APPROX_SIMPLE)\n",
    "\n",
    "    # 윤곽선을 그리기\n",
    "    for contour in contours:\n",
    "        if cv2.contourArea(contour) > 500:  # 노이즈 제거를 위한 최소 크기 설정\n",
    "            x, y, w, h = cv2.boundingRect(contour)\n",
    "            cv2.rectangle(frame, (x, y), (x + w, y + h), (0, 255, 0), 2)\n",
    "\n",
    "    # 결과 프레임 출력\n",
    "    cv2.imshow('Tracking', frame)\n",
    "    cv2.imshow('Foreground Mask', fg_mask)\n",
    "\n",
    "    # ESC 키를 누르면 종료\n",
    "    if cv2.waitKey(30) & 0xFF == 27:\n",
    "        break\n",
    "\n",
    "# 모든 창 닫기\n",
    "cap.release()\n",
    "cv2.destroyAllWindows()"
   ]
  },
  {
   "cell_type": "code",
   "execution_count": null,
   "id": "062d1486-8a0e-4638-a2f2-75001e544de7",
   "metadata": {},
   "outputs": [],
   "source": []
  }
 ],
 "metadata": {
  "kernelspec": {
   "display_name": "Python 3 (ipykernel)",
   "language": "python",
   "name": "python3"
  },
  "language_info": {
   "codemirror_mode": {
    "name": "ipython",
    "version": 3
   },
   "file_extension": ".py",
   "mimetype": "text/x-python",
   "name": "python",
   "nbconvert_exporter": "python",
   "pygments_lexer": "ipython3",
   "version": "3.11.3"
  }
 },
 "nbformat": 4,
 "nbformat_minor": 5
}
