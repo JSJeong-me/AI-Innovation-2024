{
 "cells": [
  {
   "cell_type": "code",
   "execution_count": null,
   "id": "29467ede-8193-485b-bdc3-fc975bae5ecc",
   "metadata": {},
   "outputs": [],
   "source": []
  },
  {
   "cell_type": "code",
   "execution_count": 1,
   "id": "68fee6a7-c276-4654-93b1-37735552d58d",
   "metadata": {},
   "outputs": [],
   "source": [
    "import sys\n",
    "import cv2\n",
    "import numpy as np"
   ]
  },
  {
   "cell_type": "code",
   "execution_count": 2,
   "id": "d9ae3621-54bd-44dd-9ae1-9e49d8ef123a",
   "metadata": {},
   "outputs": [],
   "source": [
    "#filenames = ['namecard1.jpg', 'namecard2.jpg', 'namecard3.jpg']\n",
    "# filenames = ['crack1.jpg', '2_11_11.png', '1-00017.jpg']\n",
    "\n",
    "filename = '.\\\\image01.jpg'"
   ]
  },
  {
   "cell_type": "code",
   "execution_count": 3,
   "id": "2c39e5cd-26a9-4b52-ad64-3571bc70846e",
   "metadata": {},
   "outputs": [
    {
     "data": {
      "text/plain": [
       "(2992, 2992, 3)"
      ]
     },
     "execution_count": 3,
     "metadata": {},
     "output_type": "execute_result"
    }
   ],
   "source": [
    "src = cv2.imread(filename, cv2.IMREAD_COLOR)\n",
    "\n",
    "src.shape"
   ]
  },
  {
   "cell_type": "code",
   "execution_count": 4,
   "id": "beecd68d-d806-4a40-b5f4-462336be75e9",
   "metadata": {},
   "outputs": [],
   "source": [
    "src = src[450:2300, 450:2300]"
   ]
  },
  {
   "cell_type": "code",
   "execution_count": 5,
   "id": "e89a5155-db45-4870-8604-d0bf9d8aa4ee",
   "metadata": {},
   "outputs": [
    {
     "name": "stdout",
     "output_type": "stream",
     "text": [
      "threshold: 145.0\n"
     ]
    },
    {
     "data": {
      "text/plain": [
       "807"
      ]
     },
     "execution_count": 5,
     "metadata": {},
     "output_type": "execute_result"
    }
   ],
   "source": [
    "if src is None:\n",
    "    print('Image load failed!')\n",
    "    sys.exit()\n",
    "\n",
    "src = cv2.resize(src, (0, 0), fx=0.5, fy=0.5)\n",
    "src_gray = cv2.cvtColor(src, cv2.COLOR_BGR2GRAY)\n",
    "\n",
    "h, w = src.shape[:2]\n",
    "dst1 = np.zeros((h, w, 3), np.uint8)\n",
    "dst2 = np.zeros((h, w, 3), np.uint8)\n",
    "\n",
    "th, dst = cv2.threshold(src_gray, 0, 255, cv2.THRESH_BINARY | cv2.THRESH_OTSU)\n",
    "print('threshold:', th)\n",
    "\n",
    "\n",
    "contours1, _ = cv2.findContours(dst, cv2.RETR_EXTERNAL, cv2.CHAIN_APPROX_NONE)\n",
    "contours2, _ = cv2.findContours(dst, cv2.RETR_LIST, cv2.CHAIN_APPROX_NONE)\n",
    "\n",
    "for i in range(len(contours1)):\n",
    "#    c = (random.randint(0, 255), random.randint(0, 255), random.randint(0, 255))\n",
    "    cv2.drawContours(dst1, contours1, i, (0,255,255), 1)\n",
    "\n",
    "for i in range(len(contours2)):\n",
    "#    c = (random.randint(0, 255), random.randint(0, 255), random.randint(0, 255))\n",
    "    cv2.drawContours(dst2, contours2, i, (255,255,255), 1)\n",
    "\n",
    "len(contours1)\n",
    "len(contours2)\n",
    "\n",
    "\n",
    "# cv2.imshow('dst', dst)\n",
    "# cv2.imshow('dst1', dst1)\n",
    "# cv2.imshow('dst2', dst2)\n",
    "# cv2.waitKey()\n",
    "\n",
    "# cv2.imwrite('0.jpg', src)\n",
    "# cv2.imwrite('1.jpg', src_gray)\n",
    "# cv2.imwrite('2.jpg', dst)\n",
    "# cv2.imwrite('3.jpg', dst1)\n",
    "# cv2.imwrite('4.jpg', dst2)\n",
    "\n",
    "# cv2.destroyAllWindows()"
   ]
  },
  {
   "cell_type": "code",
   "execution_count": 6,
   "id": "e813baea-0828-49cc-aa57-da2a4dc5c837",
   "metadata": {},
   "outputs": [
    {
     "data": {
      "text/plain": [
       "632"
      ]
     },
     "execution_count": 6,
     "metadata": {},
     "output_type": "execute_result"
    }
   ],
   "source": [
    "len(contours1)"
   ]
  },
  {
   "cell_type": "code",
   "execution_count": 7,
   "id": "90a53427-7589-414f-a0a6-32f77abbc762",
   "metadata": {},
   "outputs": [
    {
     "data": {
      "text/plain": [
       "807"
      ]
     },
     "execution_count": 7,
     "metadata": {},
     "output_type": "execute_result"
    }
   ],
   "source": [
    "len(contours2)"
   ]
  },
  {
   "cell_type": "code",
   "execution_count": 8,
   "id": "1f88ee47-34ec-4bd8-a3d1-54dcedca25ec",
   "metadata": {},
   "outputs": [
    {
     "name": "stdout",
     "output_type": "stream",
     "text": [
      "number of lemons found via contour detection =  779\n"
     ]
    }
   ],
   "source": [
    "copy2 = dst.copy()\n",
    "count = []\n",
    "for x in contours2:\n",
    "    area = cv2.contourArea(x)\n",
    "    if area > 1:\n",
    "        count.append(x)\n",
    "cv2.drawContours(src, count, -1, (0,255,0), 1)\n",
    "cv2.imshow('dst4',src)\n",
    "print(\"number of lemons found via contour detection = \", len(count))\n",
    "cv2.waitKey()\n",
    "cv2.destroyAllWindows()\n"
   ]
  },
  {
   "cell_type": "code",
   "execution_count": 9,
   "id": "5d7c2b8a-d75e-440b-9b69-4cb4ed157e65",
   "metadata": {},
   "outputs": [
    {
     "data": {
      "text/plain": [
       "True"
      ]
     },
     "execution_count": 9,
     "metadata": {},
     "output_type": "execute_result"
    }
   ],
   "source": [
    "cv2.imwrite('5.jpg', src)"
   ]
  },
  {
   "cell_type": "code",
   "execution_count": 10,
   "id": "04c6faa0-7983-4c12-9702-7feb0a808736",
   "metadata": {},
   "outputs": [
    {
     "name": "stdout",
     "output_type": "stream",
     "text": [
      "number of lemons found via contour detection =  779\n"
     ]
    }
   ],
   "source": [
    "copy2 = dst.copy()\n",
    "count = []\n",
    "for x in contours2:\n",
    "    area = cv2.contourArea(x)\n",
    "    if area > 1:\n",
    "        count.append(x)\n",
    "cv2.drawContours(src, count, -1, (0,255,0), 1)\n",
    "cv2.imshow('dst5',dst2)\n",
    "print(\"number of lemons found via contour detection = \", len(count))\n",
    "cv2.waitKey()\n",
    "cv2.destroyAllWindows()"
   ]
  },
  {
   "cell_type": "code",
   "execution_count": 11,
   "id": "4da4b7b9-275f-4a55-8e22-81bbeb1c25c2",
   "metadata": {},
   "outputs": [
    {
     "ename": "NameError",
     "evalue": "name 'dst5' is not defined",
     "output_type": "error",
     "traceback": [
      "\u001b[1;31m---------------------------------------------------------------------------\u001b[0m",
      "\u001b[1;31mNameError\u001b[0m                                 Traceback (most recent call last)",
      "Input \u001b[1;32mIn [11]\u001b[0m, in \u001b[0;36m<module>\u001b[1;34m\u001b[0m\n\u001b[1;32m----> 1\u001b[0m cv2\u001b[38;5;241m.\u001b[39mimwrite(\u001b[38;5;124m'\u001b[39m\u001b[38;5;124m5.jpg\u001b[39m\u001b[38;5;124m'\u001b[39m, \u001b[43mdst5\u001b[49m)\n",
      "\u001b[1;31mNameError\u001b[0m: name 'dst5' is not defined"
     ]
    }
   ],
   "source": [
    "# cv2.imwrite('5.jpg', dst5)"
   ]
  },
  {
   "cell_type": "code",
   "execution_count": null,
   "id": "29eb776a-2b07-4239-95e1-14fe90d5966b",
   "metadata": {},
   "outputs": [],
   "source": []
  }
 ],
 "metadata": {
  "kernelspec": {
   "display_name": "Python 3 (ipykernel)",
   "language": "python",
   "name": "python3"
  },
  "language_info": {
   "codemirror_mode": {
    "name": "ipython",
    "version": 3
   },
   "file_extension": ".py",
   "mimetype": "text/x-python",
   "name": "python",
   "nbconvert_exporter": "python",
   "pygments_lexer": "ipython3",
   "version": "3.9.12"
  }
 },
 "nbformat": 4,
 "nbformat_minor": 5
}
