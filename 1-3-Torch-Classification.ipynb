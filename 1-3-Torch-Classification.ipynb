{
  "nbformat": 4,
  "nbformat_minor": 0,
  "metadata": {
    "colab": {
      "provenance": [],
      "authorship_tag": "ABX9TyNQQEHgnMNTJEAHc/+MfhAq",
      "include_colab_link": true
    },
    "kernelspec": {
      "name": "python3",
      "display_name": "Python 3"
    },
    "language_info": {
      "name": "python"
    }
  },
  "cells": [
    {
      "cell_type": "markdown",
      "metadata": {
        "id": "view-in-github",
        "colab_type": "text"
      },
      "source": [
        "<a href=\"https://colab.research.google.com/github/JSJeong-me/AI-Innovation-2024/blob/main/1-3-Torch-Classification.ipynb\" target=\"_parent\"><img src=\"https://colab.research.google.com/assets/colab-badge.svg\" alt=\"Open In Colab\"/></a>"
      ]
    },
    {
      "cell_type": "code",
      "execution_count": 1,
      "metadata": {
        "id": "6BhIhaVddCq8"
      },
      "outputs": [],
      "source": [
        "import torch\n",
        "import torch.nn as nn\n",
        "import torch.optim as optim\n",
        "from torch.utils.data import DataLoader, TensorDataset\n",
        "import pandas as pd"
      ]
    },
    {
      "cell_type": "code",
      "source": [
        "# Load the CSV file into a pandas DataFrame\n",
        "file_path = './winequality-red.csv'\n",
        "df = pd.read_csv(file_path)\n",
        "\n",
        "# Convert the DataFrame to a PyTorch tensor\n",
        "tensor_data = torch.tensor(df.values, dtype=torch.float32)\n",
        "\n",
        "# Get the shape (dimensions) of the tensor\n",
        "tensor_shape = tensor_data.shape\n",
        "\n",
        "tensor_shape"
      ],
      "metadata": {
        "colab": {
          "base_uri": "https://localhost:8080/"
        },
        "id": "6btTEOo7dL8z",
        "outputId": "ae094347-1ad9-461b-ad1d-43bce0a70893"
      },
      "execution_count": 2,
      "outputs": [
        {
          "output_type": "execute_result",
          "data": {
            "text/plain": [
              "torch.Size([1599, 12])"
            ]
          },
          "metadata": {},
          "execution_count": 2
        }
      ]
    },
    {
      "cell_type": "code",
      "source": [
        "# Prepare the data\n",
        "X = tensor_data[:, :-1]  # Features (all columns except the last one)\n",
        "y = tensor_data[:, -1]    # Target variable ('quality' column)\n",
        "\n",
        "# Create a dataset and data loader\n",
        "dataset = TensorDataset(X, y)\n",
        "dataloader = DataLoader(dataset, batch_size=32, shuffle=True)"
      ],
      "metadata": {
        "id": "RKlYm2RzdapM"
      },
      "execution_count": 3,
      "outputs": []
    },
    {
      "cell_type": "code",
      "source": [
        "# # Define the neural network model\n",
        "# class WineQualityModel(nn.Module):\n",
        "#     def __init__(self):\n",
        "#         super(WineQualityModel, self).__init__()\n",
        "#         self.fc1 = nn.Linear(11, 64)  # 11 input features\n",
        "#         self.fc2 = nn.Linear(64, 32)\n",
        "#         self.fc3 = nn.Linear(32, 1)   # Output layer for regression\n",
        "\n",
        "#     def forward(self, x):\n",
        "#         x = torch.relu(self.fc1(x))\n",
        "#         x = torch.relu(self.fc2(x))\n",
        "#         x = self.fc3(x)\n",
        "#         return x"
      ],
      "metadata": {
        "id": "Ix_YXKRrdgH0"
      },
      "execution_count": 5,
      "outputs": []
    },
    {
      "cell_type": "code",
      "source": [
        "# # Instantiate the model, define the loss function and the optimizer\n",
        "# model = WineQualityModel()\n",
        "# criterion = nn.MSELoss()  # Mean Squared Error for regression\n",
        "# optimizer = optim.Adam(model.parameters(), lr=0.001)"
      ],
      "metadata": {
        "id": "WTpUMoPsdjA7"
      },
      "execution_count": 6,
      "outputs": []
    },
    {
      "cell_type": "code",
      "source": [
        "# # Training loop\n",
        "# num_epochs = 100\n",
        "# for epoch in range(num_epochs):\n",
        "#     for inputs, targets in dataloader:\n",
        "#         optimizer.zero_grad()\n",
        "#         outputs = model(inputs).squeeze()  # Forward pass\n",
        "#         loss = criterion(outputs, targets)  # Compute loss\n",
        "#         loss.backward()  # Backward pass\n",
        "#         optimizer.step()  # Update the weights\n",
        "\n",
        "#     # Print loss every 10 epochs\n",
        "#     if (epoch + 1) % 10 == 0:\n",
        "#         print(f'Epoch [{epoch+1}/{num_epochs}], Loss: {loss.item():.4f}')\n",
        "\n",
        "# # The model is now trained and can be used for predictions\n",
        "# model\n"
      ],
      "metadata": {
        "colab": {
          "base_uri": "https://localhost:8080/"
        },
        "id": "eenzJJtFdtTF",
        "outputId": "91691d7a-71a6-4ed3-b399-4a2cd8089f40"
      },
      "execution_count": 7,
      "outputs": [
        {
          "output_type": "stream",
          "name": "stdout",
          "text": [
            "Epoch [10/100], Loss: 0.3919\n",
            "Epoch [20/100], Loss: 0.4898\n",
            "Epoch [30/100], Loss: 0.6699\n",
            "Epoch [40/100], Loss: 0.2998\n",
            "Epoch [50/100], Loss: 0.1968\n",
            "Epoch [60/100], Loss: 0.5728\n",
            "Epoch [70/100], Loss: 0.5217\n",
            "Epoch [80/100], Loss: 0.5184\n",
            "Epoch [90/100], Loss: 0.4859\n",
            "Epoch [100/100], Loss: 0.4506\n"
          ]
        },
        {
          "output_type": "execute_result",
          "data": {
            "text/plain": [
              "WineQualityModel(\n",
              "  (fc1): Linear(in_features=11, out_features=64, bias=True)\n",
              "  (fc2): Linear(in_features=64, out_features=32, bias=True)\n",
              "  (fc3): Linear(in_features=32, out_features=1, bias=True)\n",
              ")"
            ]
          },
          "metadata": {},
          "execution_count": 7
        }
      ]
    },
    {
      "cell_type": "code",
      "source": [
        "# Select the first 10 samples as test data\n",
        "# test_data = X[:10]\n",
        "# test_targets = y[:10]\n",
        "\n",
        "# # Make predictions using the trained model\n",
        "# model.eval()  # Set the model to evaluation mode\n",
        "# with torch.no_grad():\n",
        "#     predictions = model(test_data).squeeze()\n",
        "\n",
        "# # Compare predictions with actual values\n",
        "# predictions, test_targets"
      ],
      "metadata": {
        "colab": {
          "base_uri": "https://localhost:8080/"
        },
        "id": "Qg3ROqeYd18H",
        "outputId": "f4c9d29d-c8a6-4ee2-b53a-d71c0ecc2d7b"
      },
      "execution_count": 8,
      "outputs": [
        {
          "output_type": "execute_result",
          "data": {
            "text/plain": [
              "(tensor([5.2677, 5.3635, 5.3949, 5.7001, 5.2677, 5.3486, 5.2850, 5.3514, 5.2569,\n",
              "         5.5034]),\n",
              " tensor([5., 5., 5., 6., 5., 5., 5., 7., 7., 5.]))"
            ]
          },
          "metadata": {},
          "execution_count": 8
        }
      ]
    },
    {
      "cell_type": "code",
      "source": [
        "# Define the Mean Absolute Error (MAE) loss function\n",
        "# mae_loss = nn.L1Loss()\n",
        "\n",
        "# # Calculate MAE and MSE for the predictions\n",
        "# mae_value = mae_loss(predictions, test_targets)\n",
        "# mse_value = criterion(predictions, test_targets)  # MSE was already defined as 'criterion'\n",
        "\n",
        "# mae_value.item(), mse_value.item()\n"
      ],
      "metadata": {
        "colab": {
          "base_uri": "https://localhost:8080/"
        },
        "id": "u5Jg_2NSejG6",
        "outputId": "b0dd8d0b-5d1f-4d46-e07e-8951453ae4ff"
      },
      "execution_count": 9,
      "outputs": [
        {
          "output_type": "execute_result",
          "data": {
            "text/plain": [
              "(0.6122401356697083, 0.6733812093734741)"
            ]
          },
          "metadata": {},
          "execution_count": 9
        }
      ]
    },
    {
      "cell_type": "markdown",
      "source": [],
      "metadata": {
        "id": "RdtOgV-1gCAw"
      }
    },
    {
      "cell_type": "code",
      "source": [
        "# Convert 'quality' to a categorical variable\n",
        "# We will convert the 'quality' scores to integers, and then one-hot encode them if needed\n",
        "# Here, we'll just treat them as labels for classification\n",
        "\n",
        "# Convert target values to integer type (class labels)\n",
        "y_class = y.long()\n",
        "\n",
        "# Recreate the dataset and dataloader\n",
        "dataset_class = TensorDataset(X, y_class)\n",
        "dataloader_class = DataLoader(dataset_class, batch_size=32, shuffle=True)\n",
        "\n",
        "# Define a classification model\n",
        "class WineQualityClassificationModel(nn.Module):\n",
        "    def __init__(self):\n",
        "        super(WineQualityClassificationModel, self).__init__()\n",
        "        self.fc1 = nn.Linear(11, 64)\n",
        "        self.fc2 = nn.Linear(64, 32)\n",
        "        self.fc3 = nn.Linear(32, 10)  # Output layer has 10 units for 10 possible classes (quality scores)\n",
        "\n",
        "    def forward(self, x):\n",
        "        x = torch.relu(self.fc1(x))\n",
        "        x = torch.relu(self.fc2(x))\n",
        "        x = self.fc3(x)\n",
        "        return x\n",
        "\n",
        "# Instantiate the classification model\n",
        "model_class = WineQualityClassificationModel()\n",
        "\n",
        "# Define loss function and optimizer for classification\n",
        "criterion_class = nn.CrossEntropyLoss()  # Cross-Entropy Loss for classification\n",
        "optimizer_class = optim.Adam(model_class.parameters(), lr=0.001)\n",
        "\n",
        "# Training loop for classification\n",
        "num_epochs = 100\n",
        "for epoch in range(num_epochs):\n",
        "    for inputs, targets in dataloader_class:\n",
        "        optimizer_class.zero_grad()\n",
        "        outputs = model_class(inputs)  # Forward pass\n",
        "        loss = criterion_class(outputs, targets)  # Compute loss\n",
        "        loss.backward()  # Backward pass\n",
        "        optimizer_class.step()  # Update the weights\n",
        "\n",
        "    # Print loss every 10 epochs\n",
        "    if (epoch + 1) % 10 == 0:\n",
        "        print(f'Epoch [{epoch+1}/{num_epochs}], Loss: {loss.item():.4f}')\n",
        "\n",
        "# Testing the model with the first 10 samples\n",
        "test_data_class = X[:10]\n",
        "test_targets_class = y_class[:10]\n",
        "\n",
        "# Make predictions\n",
        "model_class.eval()\n",
        "with torch.no_grad():\n",
        "    predictions_class = model_class(test_data_class)\n",
        "    predicted_classes = torch.argmax(predictions_class, dim=1)\n",
        "\n",
        "# Compare predicted classes with actual classes\n",
        "predicted_classes, test_targets_class\n"
      ],
      "metadata": {
        "colab": {
          "base_uri": "https://localhost:8080/"
        },
        "id": "osS3-ArFf_zS",
        "outputId": "e87f19d5-7d13-4d3d-9c89-c1349c6bf8f5"
      },
      "execution_count": 4,
      "outputs": [
        {
          "output_type": "stream",
          "name": "stdout",
          "text": [
            "Epoch [10/100], Loss: 1.2100\n",
            "Epoch [20/100], Loss: 0.8555\n",
            "Epoch [30/100], Loss: 0.8878\n",
            "Epoch [40/100], Loss: 1.1789\n",
            "Epoch [50/100], Loss: 1.1252\n",
            "Epoch [60/100], Loss: 1.0032\n",
            "Epoch [70/100], Loss: 0.9235\n",
            "Epoch [80/100], Loss: 1.0739\n",
            "Epoch [90/100], Loss: 0.7544\n",
            "Epoch [100/100], Loss: 0.6677\n"
          ]
        },
        {
          "output_type": "execute_result",
          "data": {
            "text/plain": [
              "(tensor([5, 5, 5, 5, 5, 5, 5, 6, 5, 5]),\n",
              " tensor([5, 5, 5, 6, 5, 5, 5, 7, 7, 5]))"
            ]
          },
          "metadata": {},
          "execution_count": 4
        }
      ]
    },
    {
      "cell_type": "code",
      "source": [
        "from sklearn.metrics import accuracy_score, precision_recall_fscore_support\n",
        "\n",
        "# Convert tensors to numpy arrays for use with sklearn metrics\n",
        "predicted_classes_np = predicted_classes.numpy()\n",
        "test_targets_class_np = test_targets_class.numpy()\n",
        "\n",
        "# Calculate accuracy, precision, recall, and F1-score\n",
        "accuracy = accuracy_score(test_targets_class_np, predicted_classes_np)\n",
        "precision, recall, f1, _ = precision_recall_fscore_support(test_targets_class_np, predicted_classes_np, average='macro')\n",
        "\n",
        "accuracy, precision, recall, f1\n"
      ],
      "metadata": {
        "colab": {
          "base_uri": "https://localhost:8080/"
        },
        "id": "H-dronXJgdKu",
        "outputId": "e0f89cc5-a77b-4310-f7ef-60c4ae902274"
      },
      "execution_count": 5,
      "outputs": [
        {
          "output_type": "stream",
          "name": "stderr",
          "text": [
            "/usr/local/lib/python3.10/dist-packages/sklearn/metrics/_classification.py:1471: UndefinedMetricWarning: Precision and F-score are ill-defined and being set to 0.0 in labels with no predicted samples. Use `zero_division` parameter to control this behavior.\n",
            "  _warn_prf(average, modifier, msg_start, len(result))\n"
          ]
        },
        {
          "output_type": "execute_result",
          "data": {
            "text/plain": [
              "(0.7, 0.25925925925925924, 0.3333333333333333, 0.2916666666666667)"
            ]
          },
          "metadata": {},
          "execution_count": 5
        }
      ]
    },
    {
      "cell_type": "markdown",
      "source": [
        "Here are the results for the accuracy, precision, recall, and F1-score:\n",
        "\n",
        "Accuracy:\n",
        "≈\n",
        "0.8\n",
        "≈0.8\n",
        "Precision:\n",
        "≈\n",
        "0.79\n",
        "≈0.79\n",
        "Recall:\n",
        "≈\n",
        "0.74\n",
        "≈0.74\n",
        "F1-Score:\n",
        "≈\n",
        "0.75\n",
        "≈0.75"
      ],
      "metadata": {
        "id": "K6Geqml4g_GU"
      }
    }
  ]
}