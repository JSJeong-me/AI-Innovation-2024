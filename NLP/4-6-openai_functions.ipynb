{
  "cells": [
    {
      "cell_type": "markdown",
      "metadata": {
        "id": "view-in-github",
        "colab_type": "text"
      },
      "source": [
        "<a href=\"https://colab.research.google.com/github/JSJeong-me/AI-Innovation-2024/blob/main/NLP/4-6-openai_functions.ipynb\" target=\"_parent\"><img src=\"https://colab.research.google.com/assets/colab-badge.svg\" alt=\"Open In Colab\"/></a>"
      ]
    },
    {
      "cell_type": "markdown",
      "id": "a3df44d6-62d0-4324-8052-419503a6b040",
      "metadata": {
        "id": "a3df44d6-62d0-4324-8052-419503a6b040"
      },
      "source": [
        "# OpenAI Function Calling\n"
      ]
    },
    {
      "cell_type": "markdown",
      "id": "59b038f2-759a-42e9-ab02-eca264b93ee5",
      "metadata": {
        "id": "59b038f2-759a-42e9-ab02-eca264b93ee5"
      },
      "source": [
        "**Notes**:\n",
        "- LLM's don't always produce the same results. The results you see in this notebook may differ from the results you see in the video.\n",
        "- Notebooks results are temporary. Download the notebooks to your local machine if you wish to save your results."
      ]
    },
    {
      "cell_type": "code",
      "source": [
        "!pip install openai"
      ],
      "metadata": {
        "id": "0-g00QTT2cpi"
      },
      "id": "0-g00QTT2cpi",
      "execution_count": null,
      "outputs": []
    },
    {
      "cell_type": "code",
      "execution_count": 2,
      "id": "3d1a7aac-599c-4653-b497-49fe9a31a07d",
      "metadata": {
        "tags": [],
        "id": "3d1a7aac-599c-4653-b497-49fe9a31a07d"
      },
      "outputs": [],
      "source": [
        "import os\n",
        "import openai\n",
        "from google.colab import userdata\n",
        "\n",
        "os.environ[\"OPENAI_API_KEY\"] = userdata.get('OPENAI_API_KEY')\n",
        "api_key = os.getenv(\"OPENAI_API_KEY\")"
      ]
    },
    {
      "cell_type": "code",
      "execution_count": 3,
      "id": "e036b435-e842-40a3-8e1c-1d5d716394c6",
      "metadata": {
        "id": "e036b435-e842-40a3-8e1c-1d5d716394c6"
      },
      "outputs": [],
      "source": [
        "import json\n",
        "\n",
        "# Example dummy function hard coded to return the same weather\n",
        "# In production, this could be your backend API or an external API\n",
        "def get_current_weather(location, unit=\"fahrenheit\"):\n",
        "    \"\"\"Get the current weather in a given location\"\"\"\n",
        "    weather_info = {\n",
        "        \"location\": location,\n",
        "        \"temperature\": \"72\",\n",
        "        \"unit\": unit,\n",
        "        \"forecast\": [\"sunny\", \"windy\"],\n",
        "    }\n",
        "    return json.dumps(weather_info)"
      ]
    },
    {
      "cell_type": "code",
      "execution_count": 4,
      "id": "290fae11-d9af-40f8-9b78-3d6a847737b2",
      "metadata": {
        "id": "290fae11-d9af-40f8-9b78-3d6a847737b2"
      },
      "outputs": [],
      "source": [
        "# define a function\n",
        "functions = [\n",
        "    {\n",
        "        \"name\": \"get_current_weather\",\n",
        "        \"description\": \"Get the current weather in a given location\",\n",
        "        \"parameters\": {\n",
        "            \"type\": \"object\",\n",
        "            \"properties\": {\n",
        "                \"location\": {\n",
        "                    \"type\": \"string\",\n",
        "                    \"description\": \"The city and state, e.g. San Francisco, CA\",\n",
        "                },\n",
        "                \"unit\": {\"type\": \"string\", \"enum\": [\"celsius\", \"fahrenheit\"]},\n",
        "            },\n",
        "            \"required\": [\"location\"],\n",
        "        },\n",
        "    }\n",
        "]"
      ]
    },
    {
      "cell_type": "code",
      "execution_count": 5,
      "id": "5b5e2abe-7cf0-4b00-8c08-b3df91d78eaa",
      "metadata": {
        "id": "5b5e2abe-7cf0-4b00-8c08-b3df91d78eaa"
      },
      "outputs": [],
      "source": [
        "messages = [\n",
        "    {\n",
        "        \"role\": \"user\",\n",
        "        \"content\": \"What's the weather like in Boston?\"\n",
        "    }\n",
        "]"
      ]
    },
    {
      "cell_type": "code",
      "execution_count": 6,
      "id": "654fce05-7ef6-49d7-8d78-f190ecf3f0dd",
      "metadata": {
        "id": "654fce05-7ef6-49d7-8d78-f190ecf3f0dd"
      },
      "outputs": [],
      "source": [
        "import openai"
      ]
    },
    {
      "cell_type": "code",
      "execution_count": 7,
      "id": "ffa6385a-db38-40fa-b2b8-6fa226913c46",
      "metadata": {
        "id": "ffa6385a-db38-40fa-b2b8-6fa226913c46"
      },
      "outputs": [],
      "source": [
        "response = openai.chat.completions.create(\n",
        "    model=\"gpt-3.5-turbo\",  # Changed to a supported model\n",
        "    messages=messages,\n",
        "    functions=functions\n",
        ")"
      ]
    },
    {
      "cell_type": "code",
      "execution_count": 8,
      "id": "0e341605-5e3e-44d1-b64e-79c121aeb8d8",
      "metadata": {
        "colab": {
          "base_uri": "https://localhost:8080/"
        },
        "id": "0e341605-5e3e-44d1-b64e-79c121aeb8d8",
        "outputId": "140675a6-da15-4526-cc71-acb34fe26727"
      },
      "outputs": [
        {
          "output_type": "stream",
          "name": "stdout",
          "text": [
            "ChatCompletion(id='chatcmpl-AIXGR4XdNYxdKxDgKblac9kKNp4SZ', choices=[Choice(finish_reason='function_call', index=0, logprobs=None, message=ChatCompletionMessage(content=None, refusal=None, role='assistant', function_call=FunctionCall(arguments='{\"location\":\"Boston\"}', name='get_current_weather'), tool_calls=None))], created=1728981135, model='gpt-3.5-turbo-0125', object='chat.completion', service_tier=None, system_fingerprint=None, usage=CompletionUsage(completion_tokens=15, prompt_tokens=82, total_tokens=97, completion_tokens_details=CompletionTokensDetails(audio_tokens=None, reasoning_tokens=0), prompt_tokens_details=PromptTokensDetails(audio_tokens=None, cached_tokens=0)))\n"
          ]
        }
      ],
      "source": [
        "print(response)"
      ]
    },
    {
      "cell_type": "code",
      "execution_count": 9,
      "id": "5748f7ce-9c74-435f-b5dc-d04e627675e3",
      "metadata": {
        "id": "5748f7ce-9c74-435f-b5dc-d04e627675e3"
      },
      "outputs": [],
      "source": [
        "response_message = response.choices[0].message"
      ]
    },
    {
      "cell_type": "code",
      "execution_count": 10,
      "id": "a7f733bd-e75b-4a84-9cbe-1a8c695015a3",
      "metadata": {
        "colab": {
          "base_uri": "https://localhost:8080/"
        },
        "id": "a7f733bd-e75b-4a84-9cbe-1a8c695015a3",
        "outputId": "87396c34-5467-49ec-e7fa-93c5a44cf4c3"
      },
      "outputs": [
        {
          "output_type": "execute_result",
          "data": {
            "text/plain": [
              "ChatCompletionMessage(content=None, refusal=None, role='assistant', function_call=FunctionCall(arguments='{\"location\":\"Boston\"}', name='get_current_weather'), tool_calls=None)"
            ]
          },
          "metadata": {},
          "execution_count": 10
        }
      ],
      "source": [
        "response_message"
      ]
    },
    {
      "cell_type": "code",
      "execution_count": 11,
      "id": "9d8fa467-d9b3-4d62-b067-f6e8788b2907",
      "metadata": {
        "id": "9d8fa467-d9b3-4d62-b067-f6e8788b2907"
      },
      "outputs": [],
      "source": [
        "response_message.content"
      ]
    },
    {
      "cell_type": "code",
      "execution_count": 12,
      "id": "d58d13f4-d131-4f70-8b68-dca7be2073e2",
      "metadata": {
        "colab": {
          "base_uri": "https://localhost:8080/"
        },
        "id": "d58d13f4-d131-4f70-8b68-dca7be2073e2",
        "outputId": "414956cd-e08a-40c7-c0aa-8b768f92b119"
      },
      "outputs": [
        {
          "output_type": "execute_result",
          "data": {
            "text/plain": [
              "FunctionCall(arguments='{\"location\":\"Boston\"}', name='get_current_weather')"
            ]
          },
          "metadata": {},
          "execution_count": 12
        }
      ],
      "source": [
        "response_message.function_call  # Use dot notation instead of square brackets"
      ]
    },
    {
      "cell_type": "code",
      "execution_count": 13,
      "id": "433a51b6-9c92-4765-85aa-285dccf7748b",
      "metadata": {
        "colab": {
          "base_uri": "https://localhost:8080/"
        },
        "id": "433a51b6-9c92-4765-85aa-285dccf7748b",
        "outputId": "bc906ad6-975c-4a96-de32-0afb7fbb5444"
      },
      "outputs": [
        {
          "output_type": "execute_result",
          "data": {
            "text/plain": [
              "{'location': 'Boston'}"
            ]
          },
          "metadata": {},
          "execution_count": 13
        }
      ],
      "source": [
        "# Use dot notation to access the 'function_call' and 'arguments' attributes\n",
        "function_call_arguments = response_message.function_call.arguments\n",
        "\n",
        "# Load the arguments as JSON\n",
        "json.loads(function_call_arguments)"
      ]
    },
    {
      "cell_type": "code",
      "execution_count": 14,
      "id": "675d9372-4388-4f18-b44c-e291668ea46d",
      "metadata": {
        "id": "675d9372-4388-4f18-b44c-e291668ea46d"
      },
      "outputs": [],
      "source": [
        "args = json.loads(response_message.function_call.arguments)"
      ]
    },
    {
      "cell_type": "code",
      "execution_count": 15,
      "id": "3cbb1aec-454a-4a34-9a6b-351ee3759a3a",
      "metadata": {
        "colab": {
          "base_uri": "https://localhost:8080/",
          "height": 35
        },
        "id": "3cbb1aec-454a-4a34-9a6b-351ee3759a3a",
        "outputId": "21e4d4f1-c216-441a-9c0b-7751356a3cd3"
      },
      "outputs": [
        {
          "output_type": "execute_result",
          "data": {
            "text/plain": [
              "'{\"location\": {\"location\": \"Boston\"}, \"temperature\": \"72\", \"unit\": \"fahrenheit\", \"forecast\": [\"sunny\", \"windy\"]}'"
            ],
            "application/vnd.google.colaboratory.intrinsic+json": {
              "type": "string"
            }
          },
          "metadata": {},
          "execution_count": 15
        }
      ],
      "source": [
        "get_current_weather(args)"
      ]
    },
    {
      "cell_type": "code",
      "execution_count": null,
      "id": "611029f7-e4c5-45b0-bcc9-9ec214a32686",
      "metadata": {
        "id": "611029f7-e4c5-45b0-bcc9-9ec214a32686"
      },
      "outputs": [],
      "source": []
    },
    {
      "cell_type": "code",
      "execution_count": null,
      "id": "e20ed315-b80a-4d82-bda8-41cc54b30b36",
      "metadata": {
        "id": "e20ed315-b80a-4d82-bda8-41cc54b30b36"
      },
      "outputs": [],
      "source": []
    },
    {
      "cell_type": "code",
      "execution_count": null,
      "id": "be374e72-c849-4962-bb50-33607824bab1",
      "metadata": {
        "id": "be374e72-c849-4962-bb50-33607824bab1"
      },
      "outputs": [],
      "source": []
    },
    {
      "cell_type": "code",
      "execution_count": null,
      "id": "9a7702f2-cee6-4649-a662-6d1dc9d49e0c",
      "metadata": {
        "id": "9a7702f2-cee6-4649-a662-6d1dc9d49e0c"
      },
      "outputs": [],
      "source": []
    },
    {
      "cell_type": "code",
      "execution_count": null,
      "id": "37a2ba14-9908-48b1-adad-1ef764114254",
      "metadata": {
        "id": "37a2ba14-9908-48b1-adad-1ef764114254"
      },
      "outputs": [],
      "source": []
    }
  ],
  "metadata": {
    "kernelspec": {
      "display_name": "Python 3 (ipykernel)",
      "language": "python",
      "name": "python3"
    },
    "language_info": {
      "codemirror_mode": {
        "name": "ipython",
        "version": 3
      },
      "file_extension": ".py",
      "mimetype": "text/x-python",
      "name": "python",
      "nbconvert_exporter": "python",
      "pygments_lexer": "ipython3",
      "version": "3.9.6"
    },
    "colab": {
      "provenance": [],
      "include_colab_link": true
    }
  },
  "nbformat": 4,
  "nbformat_minor": 5
}