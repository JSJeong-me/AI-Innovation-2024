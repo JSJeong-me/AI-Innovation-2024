{
  "cells": [
    {
      "cell_type": "markdown",
      "metadata": {
        "id": "view-in-github",
        "colab_type": "text"
      },
      "source": [
        "<a href=\"https://colab.research.google.com/github/JSJeong-me/AI-Innovation-2024/blob/main/NLP/4-6-openai_functions.ipynb\" target=\"_parent\"><img src=\"https://colab.research.google.com/assets/colab-badge.svg\" alt=\"Open In Colab\"/></a>"
      ]
    },
    {
      "cell_type": "markdown",
      "id": "a3df44d6-62d0-4324-8052-419503a6b040",
      "metadata": {
        "id": "a3df44d6-62d0-4324-8052-419503a6b040"
      },
      "source": [
        "# OpenAI Function Calling\n"
      ]
    },
    {
      "cell_type": "markdown",
      "id": "59b038f2-759a-42e9-ab02-eca264b93ee5",
      "metadata": {
        "id": "59b038f2-759a-42e9-ab02-eca264b93ee5"
      },
      "source": [
        "**Notes**:\n",
        "- LLM's don't always produce the same results. The results you see in this notebook may differ from the results you see in the video.\n",
        "- Notebooks results are temporary. Download the notebooks to your local machine if you wish to save your results."
      ]
    },
    {
      "cell_type": "code",
      "source": [
        "!pip install openai"
      ],
      "metadata": {
        "id": "0-g00QTT2cpi"
      },
      "id": "0-g00QTT2cpi",
      "execution_count": null,
      "outputs": []
    },
    {
      "cell_type": "code",
      "execution_count": 2,
      "id": "3d1a7aac-599c-4653-b497-49fe9a31a07d",
      "metadata": {
        "tags": [],
        "id": "3d1a7aac-599c-4653-b497-49fe9a31a07d"
      },
      "outputs": [],
      "source": [
        "import os\n",
        "import openai\n",
        "from google.colab import userdata\n",
        "\n",
        "os.environ[\"OPENAI_API_KEY\"] = userdata.get('OPENAI_API_KEY')\n",
        "api_key = os.getenv(\"OPENAI_API_KEY\")"
      ]
    },
    {
      "cell_type": "code",
      "execution_count": 3,
      "id": "e036b435-e842-40a3-8e1c-1d5d716394c6",
      "metadata": {
        "id": "e036b435-e842-40a3-8e1c-1d5d716394c6"
      },
      "outputs": [],
      "source": [
        "import json\n",
        "\n",
        "# Example dummy function hard coded to return the same weather\n",
        "# In production, this could be your backend API or an external API\n",
        "def get_current_weather(location, unit=\"fahrenheit\"):\n",
        "    \"\"\"Get the current weather in a given location\"\"\"\n",
        "    weather_info = {\n",
        "        \"location\": location,\n",
        "        \"temperature\": \"72\",\n",
        "        \"unit\": unit,\n",
        "        \"forecast\": [\"sunny\", \"windy\"],\n",
        "    }\n",
        "    return json.dumps(weather_info)"
      ]
    },
    {
      "cell_type": "code",
      "execution_count": 4,
      "id": "290fae11-d9af-40f8-9b78-3d6a847737b2",
      "metadata": {
        "id": "290fae11-d9af-40f8-9b78-3d6a847737b2"
      },
      "outputs": [],
      "source": [
        "# define a function\n",
        "functions = [\n",
        "    {\n",
        "        \"name\": \"get_current_weather\",\n",
        "        \"description\": \"Get the current weather in a given location\",\n",
        "        \"parameters\": {\n",
        "            \"type\": \"object\",\n",
        "            \"properties\": {\n",
        "                \"location\": {\n",
        "                    \"type\": \"string\",\n",
        "                    \"description\": \"The city and state, e.g. San Francisco, CA\",\n",
        "                },\n",
        "                \"unit\": {\"type\": \"string\", \"enum\": [\"celsius\", \"fahrenheit\"]},\n",
        "            },\n",
        "            \"required\": [\"location\"],\n",
        "        },\n",
        "    }\n",
        "]"
      ]
    },
    {
      "cell_type": "code",
      "execution_count": 5,
      "id": "5b5e2abe-7cf0-4b00-8c08-b3df91d78eaa",
      "metadata": {
        "id": "5b5e2abe-7cf0-4b00-8c08-b3df91d78eaa"
      },
      "outputs": [],
      "source": [
        "messages = [\n",
        "    {\n",
        "        \"role\": \"user\",\n",
        "        \"content\": \"What's the weather like in Boston?\"\n",
        "    }\n",
        "]"
      ]
    },
    {
      "cell_type": "code",
      "execution_count": 6,
      "id": "654fce05-7ef6-49d7-8d78-f190ecf3f0dd",
      "metadata": {
        "id": "654fce05-7ef6-49d7-8d78-f190ecf3f0dd"
      },
      "outputs": [],
      "source": [
        "import openai"
      ]
    },
    {
      "cell_type": "code",
      "execution_count": 9,
      "id": "ffa6385a-db38-40fa-b2b8-6fa226913c46",
      "metadata": {
        "id": "ffa6385a-db38-40fa-b2b8-6fa226913c46"
      },
      "outputs": [],
      "source": [
        "response = openai.chat.completions.create(\n",
        "    model=\"gpt-3.5-turbo\",  # Changed to a supported model\n",
        "    messages=messages,\n",
        "    functions=functions\n",
        ")"
      ]
    },
    {
      "cell_type": "code",
      "execution_count": 10,
      "id": "0e341605-5e3e-44d1-b64e-79c121aeb8d8",
      "metadata": {
        "colab": {
          "base_uri": "https://localhost:8080/"
        },
        "id": "0e341605-5e3e-44d1-b64e-79c121aeb8d8",
        "outputId": "1b2b5095-f222-4617-8bec-264479875c69"
      },
      "outputs": [
        {
          "output_type": "stream",
          "name": "stdout",
          "text": [
            "ChatCompletion(id='chatcmpl-AFtpg4AUThGqF8CCF8MvzaywzyDlv', choices=[Choice(finish_reason='function_call', index=0, logprobs=None, message=ChatCompletionMessage(content=None, refusal=None, role='assistant', function_call=FunctionCall(arguments='{\"location\":\"Boston, MA\"}', name='get_current_weather'), tool_calls=None))], created=1728352904, model='gpt-3.5-turbo-0125', object='chat.completion', service_tier=None, system_fingerprint=None, usage=CompletionUsage(completion_tokens=17, prompt_tokens=82, total_tokens=99, completion_tokens_details=CompletionTokensDetails(audio_tokens=None, reasoning_tokens=0), prompt_tokens_details=PromptTokensDetails(audio_tokens=None, cached_tokens=0)))\n"
          ]
        }
      ],
      "source": [
        "print(response)"
      ]
    },
    {
      "cell_type": "code",
      "execution_count": 12,
      "id": "5748f7ce-9c74-435f-b5dc-d04e627675e3",
      "metadata": {
        "id": "5748f7ce-9c74-435f-b5dc-d04e627675e3"
      },
      "outputs": [],
      "source": [
        "response_message = response.choices[0].message"
      ]
    },
    {
      "cell_type": "code",
      "execution_count": 14,
      "id": "a7f733bd-e75b-4a84-9cbe-1a8c695015a3",
      "metadata": {
        "colab": {
          "base_uri": "https://localhost:8080/"
        },
        "id": "a7f733bd-e75b-4a84-9cbe-1a8c695015a3",
        "outputId": "5e64e0a0-c2f9-4945-a79b-aa1aca77ec2f"
      },
      "outputs": [
        {
          "output_type": "execute_result",
          "data": {
            "text/plain": [
              "ChatCompletionMessage(content=None, refusal=None, role='assistant', function_call=FunctionCall(arguments='{\"location\":\"Boston, MA\"}', name='get_current_weather'), tool_calls=None)"
            ]
          },
          "metadata": {},
          "execution_count": 14
        }
      ],
      "source": [
        "response_message"
      ]
    },
    {
      "cell_type": "code",
      "execution_count": 16,
      "id": "9d8fa467-d9b3-4d62-b067-f6e8788b2907",
      "metadata": {
        "id": "9d8fa467-d9b3-4d62-b067-f6e8788b2907"
      },
      "outputs": [],
      "source": [
        "response_message.content"
      ]
    },
    {
      "cell_type": "code",
      "execution_count": 18,
      "id": "d58d13f4-d131-4f70-8b68-dca7be2073e2",
      "metadata": {
        "colab": {
          "base_uri": "https://localhost:8080/"
        },
        "id": "d58d13f4-d131-4f70-8b68-dca7be2073e2",
        "outputId": "3374e405-94aa-4243-8ccc-7ac819f048b0"
      },
      "outputs": [
        {
          "output_type": "execute_result",
          "data": {
            "text/plain": [
              "FunctionCall(arguments='{\"location\":\"Boston, MA\"}', name='get_current_weather')"
            ]
          },
          "metadata": {},
          "execution_count": 18
        }
      ],
      "source": [
        "response_message.function_call  # Use dot notation instead of square brackets"
      ]
    },
    {
      "cell_type": "code",
      "execution_count": 20,
      "id": "433a51b6-9c92-4765-85aa-285dccf7748b",
      "metadata": {
        "colab": {
          "base_uri": "https://localhost:8080/"
        },
        "id": "433a51b6-9c92-4765-85aa-285dccf7748b",
        "outputId": "c9d5d035-da9d-44d8-9543-39b5193b892d"
      },
      "outputs": [
        {
          "output_type": "execute_result",
          "data": {
            "text/plain": [
              "{'location': 'Boston, MA'}"
            ]
          },
          "metadata": {},
          "execution_count": 20
        }
      ],
      "source": [
        "# Use dot notation to access the 'function_call' and 'arguments' attributes\n",
        "function_call_arguments = response_message.function_call.arguments\n",
        "\n",
        "# Load the arguments as JSON\n",
        "json.loads(function_call_arguments)"
      ]
    },
    {
      "cell_type": "code",
      "execution_count": 22,
      "id": "675d9372-4388-4f18-b44c-e291668ea46d",
      "metadata": {
        "id": "675d9372-4388-4f18-b44c-e291668ea46d"
      },
      "outputs": [],
      "source": [
        "args = json.loads(response_message.function_call.arguments)"
      ]
    },
    {
      "cell_type": "code",
      "execution_count": 23,
      "id": "3cbb1aec-454a-4a34-9a6b-351ee3759a3a",
      "metadata": {
        "colab": {
          "base_uri": "https://localhost:8080/",
          "height": 54
        },
        "id": "3cbb1aec-454a-4a34-9a6b-351ee3759a3a",
        "outputId": "d28b06c5-f423-4ee1-d779-229c1fbccd7d"
      },
      "outputs": [
        {
          "output_type": "execute_result",
          "data": {
            "text/plain": [
              "'{\"location\": {\"location\": \"Boston, MA\"}, \"temperature\": \"72\", \"unit\": \"fahrenheit\", \"forecast\": [\"sunny\", \"windy\"]}'"
            ],
            "application/vnd.google.colaboratory.intrinsic+json": {
              "type": "string"
            }
          },
          "metadata": {},
          "execution_count": 23
        }
      ],
      "source": [
        "get_current_weather(args)"
      ]
    },
    {
      "cell_type": "code",
      "execution_count": 24,
      "id": "8c2cbe66-784a-40ff-a268-7bd0f984d5b8",
      "metadata": {
        "id": "8c2cbe66-784a-40ff-a268-7bd0f984d5b8"
      },
      "outputs": [],
      "source": [
        "messages = [\n",
        "    {\n",
        "        \"role\": \"user\",\n",
        "        \"content\": \"hi!\",\n",
        "    }\n",
        "]"
      ]
    },
    {
      "cell_type": "code",
      "execution_count": 26,
      "id": "8300232d-4f02-478b-bba2-d47173422866",
      "metadata": {
        "colab": {
          "base_uri": "https://localhost:8080/",
          "height": 512
        },
        "id": "8300232d-4f02-478b-bba2-d47173422866",
        "outputId": "48aacaaa-719c-4307-aef4-ece3dcb18032"
      },
      "outputs": [
        {
          "output_type": "error",
          "ename": "APIRemovedInV1",
          "evalue": "\n\nYou tried to access openai.ChatCompletion, but this is no longer supported in openai>=1.0.0 - see the README at https://github.com/openai/openai-python for the API.\n\nYou can run `openai migrate` to automatically upgrade your codebase to use the 1.0.0 interface. \n\nAlternatively, you can pin your installation to the old version, e.g. `pip install openai==0.28`\n\nA detailed migration guide is available here: https://github.com/openai/openai-python/discussions/742\n",
          "traceback": [
            "\u001b[0;31m---------------------------------------------------------------------------\u001b[0m",
            "\u001b[0;31mAPIRemovedInV1\u001b[0m                            Traceback (most recent call last)",
            "\u001b[0;32m<ipython-input-26-bdecaf0a41d6>\u001b[0m in \u001b[0;36m<cell line: 1>\u001b[0;34m()\u001b[0m\n\u001b[0;32m----> 1\u001b[0;31m response = openai.ChatCompletion.create(\n\u001b[0m\u001b[1;32m      2\u001b[0m     \u001b[0mmodel\u001b[0m\u001b[0;34m=\u001b[0m\u001b[0;34m\"gpt-3.5-turbo-0613\"\u001b[0m\u001b[0;34m,\u001b[0m\u001b[0;34m\u001b[0m\u001b[0;34m\u001b[0m\u001b[0m\n\u001b[1;32m      3\u001b[0m     \u001b[0mmessages\u001b[0m\u001b[0;34m=\u001b[0m\u001b[0mmessages\u001b[0m\u001b[0;34m,\u001b[0m\u001b[0;34m\u001b[0m\u001b[0;34m\u001b[0m\u001b[0m\n\u001b[1;32m      4\u001b[0m     \u001b[0mfunctions\u001b[0m\u001b[0;34m=\u001b[0m\u001b[0mfunctions\u001b[0m  \u001b[0;31m# Make sure 'functions' is compatible\u001b[0m\u001b[0;34m\u001b[0m\u001b[0;34m\u001b[0m\u001b[0m\n\u001b[1;32m      5\u001b[0m )\n",
            "\u001b[0;32m/usr/local/lib/python3.10/dist-packages/openai/lib/_old_api.py\u001b[0m in \u001b[0;36m__call__\u001b[0;34m(self, *_args, **_kwargs)\u001b[0m\n\u001b[1;32m     37\u001b[0m \u001b[0;34m\u001b[0m\u001b[0m\n\u001b[1;32m     38\u001b[0m     \u001b[0;32mdef\u001b[0m \u001b[0m__call__\u001b[0m\u001b[0;34m(\u001b[0m\u001b[0mself\u001b[0m\u001b[0;34m,\u001b[0m \u001b[0;34m*\u001b[0m\u001b[0m_args\u001b[0m\u001b[0;34m:\u001b[0m \u001b[0mAny\u001b[0m\u001b[0;34m,\u001b[0m \u001b[0;34m**\u001b[0m\u001b[0m_kwargs\u001b[0m\u001b[0;34m:\u001b[0m \u001b[0mAny\u001b[0m\u001b[0;34m)\u001b[0m \u001b[0;34m->\u001b[0m \u001b[0mAny\u001b[0m\u001b[0;34m:\u001b[0m\u001b[0;34m\u001b[0m\u001b[0;34m\u001b[0m\u001b[0m\n\u001b[0;32m---> 39\u001b[0;31m         \u001b[0;32mraise\u001b[0m \u001b[0mAPIRemovedInV1\u001b[0m\u001b[0;34m(\u001b[0m\u001b[0msymbol\u001b[0m\u001b[0;34m=\u001b[0m\u001b[0mself\u001b[0m\u001b[0;34m.\u001b[0m\u001b[0m_symbol\u001b[0m\u001b[0;34m)\u001b[0m\u001b[0;34m\u001b[0m\u001b[0;34m\u001b[0m\u001b[0m\n\u001b[0m\u001b[1;32m     40\u001b[0m \u001b[0;34m\u001b[0m\u001b[0m\n\u001b[1;32m     41\u001b[0m \u001b[0;34m\u001b[0m\u001b[0m\n",
            "\u001b[0;31mAPIRemovedInV1\u001b[0m: \n\nYou tried to access openai.ChatCompletion, but this is no longer supported in openai>=1.0.0 - see the README at https://github.com/openai/openai-python for the API.\n\nYou can run `openai migrate` to automatically upgrade your codebase to use the 1.0.0 interface. \n\nAlternatively, you can pin your installation to the old version, e.g. `pip install openai==0.28`\n\nA detailed migration guide is available here: https://github.com/openai/openai-python/discussions/742\n"
          ]
        }
      ],
      "source": [
        "response = openai.ChatCompletion.create(\n",
        "    model=\"gpt-3.5-turbo-0613\",\n",
        "    messages=messages,\n",
        "    functions=functions  # Make sure 'functions' is compatible\n",
        ")\n",
        "\n",
        "# Access the response content\n",
        "response_message = response.choices[0].message"
      ]
    },
    {
      "cell_type": "code",
      "execution_count": null,
      "id": "3e35564e-8f66-4b06-b14a-03e24a202a47",
      "metadata": {
        "id": "3e35564e-8f66-4b06-b14a-03e24a202a47"
      },
      "outputs": [],
      "source": [
        "print(response)"
      ]
    },
    {
      "cell_type": "code",
      "execution_count": null,
      "id": "e2af9f72-1cb9-4a97-b030-22562ecab99d",
      "metadata": {
        "id": "e2af9f72-1cb9-4a97-b030-22562ecab99d"
      },
      "outputs": [],
      "source": [
        "messages = [\n",
        "    {\n",
        "        \"role\": \"user\",\n",
        "        \"content\": \"hi!\",\n",
        "    }\n",
        "]\n",
        "response = openai.ChatCompletion.create(\n",
        "    model=\"gpt-3.5-turbo-0613\",\n",
        "    messages=messages,\n",
        "    functions=functions,\n",
        "    function_call=\"auto\",\n",
        ")\n",
        "print(response)"
      ]
    },
    {
      "cell_type": "code",
      "execution_count": null,
      "id": "6ba8cafc-f785-4595-9e3c-48b06424ee8b",
      "metadata": {
        "id": "6ba8cafc-f785-4595-9e3c-48b06424ee8b"
      },
      "outputs": [],
      "source": [
        "messages = [\n",
        "    {\n",
        "        \"role\": \"user\",\n",
        "        \"content\": \"hi!\",\n",
        "    }\n",
        "]\n",
        "response = openai.ChatCompletion.create(\n",
        "    model=\"gpt-3.5-turbo-0613\",\n",
        "    messages=messages,\n",
        "    functions=functions,\n",
        "    function_call=\"none\",\n",
        ")\n",
        "print(response)"
      ]
    },
    {
      "cell_type": "code",
      "execution_count": null,
      "id": "ca7cc5a7-1572-4171-9016-9ec2871d389b",
      "metadata": {
        "id": "ca7cc5a7-1572-4171-9016-9ec2871d389b"
      },
      "outputs": [],
      "source": [
        "messages = [\n",
        "    {\n",
        "        \"role\": \"user\",\n",
        "        \"content\": \"What's the weather in Boston?\",\n",
        "    }\n",
        "]\n",
        "response = openai.ChatCompletion.create(\n",
        "    model=\"gpt-3.5-turbo-0613\",\n",
        "    messages=messages,\n",
        "    functions=functions,\n",
        "    function_call=\"none\",\n",
        ")\n",
        "print(response)"
      ]
    },
    {
      "cell_type": "code",
      "execution_count": null,
      "id": "282a92ba-5677-4c72-b556-d29e6a4152a0",
      "metadata": {
        "id": "282a92ba-5677-4c72-b556-d29e6a4152a0"
      },
      "outputs": [],
      "source": [
        "messages = [\n",
        "    {\n",
        "        \"role\": \"user\",\n",
        "        \"content\": \"hi!\",\n",
        "    }\n",
        "]\n",
        "response = openai.ChatCompletion.create(\n",
        "    model=\"gpt-3.5-turbo-0613\",\n",
        "    messages=messages,\n",
        "    functions=functions,\n",
        "    function_call={\"name\": \"get_current_weather\"},\n",
        ")\n",
        "print(response)"
      ]
    },
    {
      "cell_type": "code",
      "execution_count": null,
      "id": "3c5229a4-2700-48b4-b2b9-3b1e1535f903",
      "metadata": {
        "id": "3c5229a4-2700-48b4-b2b9-3b1e1535f903"
      },
      "outputs": [],
      "source": [
        "messages = [\n",
        "    {\n",
        "        \"role\": \"user\",\n",
        "        \"content\": \"What's the weather like in Boston!\",\n",
        "    }\n",
        "]\n",
        "response = openai.ChatCompletion.create(\n",
        "    model=\"gpt-3.5-turbo-0613\",\n",
        "    messages=messages,\n",
        "    functions=functions,\n",
        "    function_call={\"name\": \"get_current_weather\"},\n",
        ")\n",
        "print(response)"
      ]
    },
    {
      "cell_type": "code",
      "execution_count": null,
      "id": "e2f3a9d7-9f30-4524-a952-5dd87c6d2eef",
      "metadata": {
        "id": "e2f3a9d7-9f30-4524-a952-5dd87c6d2eef"
      },
      "outputs": [],
      "source": [
        "messages.append(response[\"choices\"][0][\"message\"])"
      ]
    },
    {
      "cell_type": "code",
      "execution_count": null,
      "id": "c817376f-3a7f-4448-acdd-1639c70d42e4",
      "metadata": {
        "id": "c817376f-3a7f-4448-acdd-1639c70d42e4"
      },
      "outputs": [],
      "source": [
        "args = json.loads(response[\"choices\"][0][\"message\"]['function_call']['arguments'])\n",
        "observation = get_current_weather(args)"
      ]
    },
    {
      "cell_type": "code",
      "execution_count": null,
      "id": "63454808-10a2-4301-9977-89aa79018152",
      "metadata": {
        "id": "63454808-10a2-4301-9977-89aa79018152"
      },
      "outputs": [],
      "source": [
        "messages.append(\n",
        "        {\n",
        "            \"role\": \"function\",\n",
        "            \"name\": \"get_current_weather\",\n",
        "            \"content\": observation,\n",
        "        }\n",
        ")"
      ]
    },
    {
      "cell_type": "code",
      "execution_count": null,
      "id": "f323fb69-c907-4f19-a2d9-80d828b4a5c2",
      "metadata": {
        "id": "f323fb69-c907-4f19-a2d9-80d828b4a5c2"
      },
      "outputs": [],
      "source": [
        "response = openai.ChatCompletion.create(\n",
        "    model=\"gpt-3.5-turbo-0613\",\n",
        "    messages=messages,\n",
        ")\n",
        "print(response)"
      ]
    },
    {
      "cell_type": "code",
      "execution_count": null,
      "id": "bf4bedc6-6342-4d69-9e19-181d2b0aa243",
      "metadata": {
        "id": "bf4bedc6-6342-4d69-9e19-181d2b0aa243"
      },
      "outputs": [],
      "source": []
    },
    {
      "cell_type": "code",
      "execution_count": null,
      "id": "fad839a6-83e9-46a2-9d39-d7be8cbcc6f8",
      "metadata": {
        "id": "fad839a6-83e9-46a2-9d39-d7be8cbcc6f8"
      },
      "outputs": [],
      "source": []
    },
    {
      "cell_type": "code",
      "execution_count": null,
      "id": "7f71b4b8-3a1c-4c19-9d65-d50340207dca",
      "metadata": {
        "id": "7f71b4b8-3a1c-4c19-9d65-d50340207dca"
      },
      "outputs": [],
      "source": []
    },
    {
      "cell_type": "code",
      "execution_count": null,
      "id": "ca98ceb2-0feb-49c6-9889-70e9b52300e1",
      "metadata": {
        "id": "ca98ceb2-0feb-49c6-9889-70e9b52300e1"
      },
      "outputs": [],
      "source": []
    },
    {
      "cell_type": "code",
      "execution_count": null,
      "id": "ec827289-00c7-444e-aeb2-1e7404fbc15c",
      "metadata": {
        "id": "ec827289-00c7-444e-aeb2-1e7404fbc15c"
      },
      "outputs": [],
      "source": []
    },
    {
      "cell_type": "code",
      "execution_count": null,
      "id": "1fcd3cb6-a782-427a-bd34-46ce47e5f707",
      "metadata": {
        "id": "1fcd3cb6-a782-427a-bd34-46ce47e5f707"
      },
      "outputs": [],
      "source": []
    },
    {
      "cell_type": "code",
      "execution_count": null,
      "id": "7eef7189-688b-4d79-b11b-67b147a00352",
      "metadata": {
        "id": "7eef7189-688b-4d79-b11b-67b147a00352"
      },
      "outputs": [],
      "source": []
    },
    {
      "cell_type": "code",
      "execution_count": null,
      "id": "a6733b4e-a958-421c-a3c8-635e91428f34",
      "metadata": {
        "id": "a6733b4e-a958-421c-a3c8-635e91428f34"
      },
      "outputs": [],
      "source": []
    },
    {
      "cell_type": "code",
      "execution_count": null,
      "id": "93d4ecd5-14c1-492e-84ec-b4f6bb508e1c",
      "metadata": {
        "id": "93d4ecd5-14c1-492e-84ec-b4f6bb508e1c"
      },
      "outputs": [],
      "source": []
    },
    {
      "cell_type": "code",
      "execution_count": null,
      "id": "8e262ae6-092b-4f9e-a1cc-cc1704ecfe76",
      "metadata": {
        "id": "8e262ae6-092b-4f9e-a1cc-cc1704ecfe76"
      },
      "outputs": [],
      "source": []
    },
    {
      "cell_type": "code",
      "execution_count": null,
      "id": "a5bc5cd3-84f4-4d05-b941-575cafd3e14e",
      "metadata": {
        "id": "a5bc5cd3-84f4-4d05-b941-575cafd3e14e"
      },
      "outputs": [],
      "source": []
    },
    {
      "cell_type": "code",
      "execution_count": null,
      "id": "e0ca8690-50b3-42dc-b95c-364bbcd14581",
      "metadata": {
        "id": "e0ca8690-50b3-42dc-b95c-364bbcd14581"
      },
      "outputs": [],
      "source": []
    },
    {
      "cell_type": "code",
      "execution_count": null,
      "id": "48e64656-d3ee-47a5-96e0-766652f28138",
      "metadata": {
        "id": "48e64656-d3ee-47a5-96e0-766652f28138"
      },
      "outputs": [],
      "source": []
    },
    {
      "cell_type": "code",
      "execution_count": null,
      "id": "a27659fe-3720-4e13-83d0-fe2d52b03075",
      "metadata": {
        "id": "a27659fe-3720-4e13-83d0-fe2d52b03075"
      },
      "outputs": [],
      "source": []
    },
    {
      "cell_type": "code",
      "execution_count": null,
      "id": "b5c16168-2988-4540-a921-b78e299ab5d2",
      "metadata": {
        "id": "b5c16168-2988-4540-a921-b78e299ab5d2"
      },
      "outputs": [],
      "source": []
    },
    {
      "cell_type": "code",
      "execution_count": null,
      "id": "53a1d9ed-fb4e-4f3f-a8df-4a6d67c3ec1a",
      "metadata": {
        "id": "53a1d9ed-fb4e-4f3f-a8df-4a6d67c3ec1a"
      },
      "outputs": [],
      "source": []
    },
    {
      "cell_type": "code",
      "execution_count": null,
      "id": "94ed11cb-5a90-49a5-aecb-48081d146af6",
      "metadata": {
        "id": "94ed11cb-5a90-49a5-aecb-48081d146af6"
      },
      "outputs": [],
      "source": []
    },
    {
      "cell_type": "code",
      "execution_count": 11,
      "id": "206f0256-9cb4-4f3b-8614-0b69a4eeaac9",
      "metadata": {
        "id": "206f0256-9cb4-4f3b-8614-0b69a4eeaac9"
      },
      "outputs": [],
      "source": []
    },
    {
      "cell_type": "code",
      "execution_count": 11,
      "id": "e442de8e-ad55-4730-a43b-0c2bc2066b31",
      "metadata": {
        "id": "e442de8e-ad55-4730-a43b-0c2bc2066b31"
      },
      "outputs": [],
      "source": []
    },
    {
      "cell_type": "code",
      "execution_count": 11,
      "id": "5854155b-57f8-49f2-b595-6b6163d9db2a",
      "metadata": {
        "id": "5854155b-57f8-49f2-b595-6b6163d9db2a"
      },
      "outputs": [],
      "source": []
    },
    {
      "cell_type": "code",
      "execution_count": 11,
      "id": "e8637d7d-d6cc-4c55-b3cc-8dc51a35efb5",
      "metadata": {
        "id": "e8637d7d-d6cc-4c55-b3cc-8dc51a35efb5"
      },
      "outputs": [],
      "source": []
    },
    {
      "cell_type": "code",
      "execution_count": 11,
      "id": "9a450da3-ef87-44f7-872c-39a1a714a015",
      "metadata": {
        "id": "9a450da3-ef87-44f7-872c-39a1a714a015"
      },
      "outputs": [],
      "source": []
    },
    {
      "cell_type": "code",
      "execution_count": 11,
      "id": "abd24043-91e6-4838-8ce0-7f02802cf62a",
      "metadata": {
        "id": "abd24043-91e6-4838-8ce0-7f02802cf62a"
      },
      "outputs": [],
      "source": []
    },
    {
      "cell_type": "code",
      "execution_count": 11,
      "id": "63167545-4805-4534-a8c0-9e3161edc02a",
      "metadata": {
        "id": "63167545-4805-4534-a8c0-9e3161edc02a"
      },
      "outputs": [],
      "source": []
    },
    {
      "cell_type": "code",
      "execution_count": 11,
      "id": "eea5a420-9c52-441c-b868-6ce69c498477",
      "metadata": {
        "id": "eea5a420-9c52-441c-b868-6ce69c498477"
      },
      "outputs": [],
      "source": []
    },
    {
      "cell_type": "code",
      "execution_count": 11,
      "id": "1ab51675-a078-4704-b63b-9f722d86b0d9",
      "metadata": {
        "id": "1ab51675-a078-4704-b63b-9f722d86b0d9"
      },
      "outputs": [],
      "source": []
    },
    {
      "cell_type": "code",
      "execution_count": 11,
      "id": "0d4c2a24-c011-4c44-a78e-611143ff3034",
      "metadata": {
        "id": "0d4c2a24-c011-4c44-a78e-611143ff3034"
      },
      "outputs": [],
      "source": []
    },
    {
      "cell_type": "code",
      "execution_count": 11,
      "id": "600778a5-a4d5-44aa-b3a7-172c82e74eed",
      "metadata": {
        "id": "600778a5-a4d5-44aa-b3a7-172c82e74eed"
      },
      "outputs": [],
      "source": []
    },
    {
      "cell_type": "code",
      "execution_count": 11,
      "id": "60557042-93b5-4172-8aaa-1219ea35addb",
      "metadata": {
        "id": "60557042-93b5-4172-8aaa-1219ea35addb"
      },
      "outputs": [],
      "source": []
    },
    {
      "cell_type": "code",
      "execution_count": 11,
      "id": "693f24b4-0796-4c2d-86ab-0d23766551d3",
      "metadata": {
        "id": "693f24b4-0796-4c2d-86ab-0d23766551d3"
      },
      "outputs": [],
      "source": []
    },
    {
      "cell_type": "code",
      "execution_count": 11,
      "id": "611029f7-e4c5-45b0-bcc9-9ec214a32686",
      "metadata": {
        "id": "611029f7-e4c5-45b0-bcc9-9ec214a32686"
      },
      "outputs": [],
      "source": []
    },
    {
      "cell_type": "code",
      "execution_count": 11,
      "id": "e20ed315-b80a-4d82-bda8-41cc54b30b36",
      "metadata": {
        "id": "e20ed315-b80a-4d82-bda8-41cc54b30b36"
      },
      "outputs": [],
      "source": []
    },
    {
      "cell_type": "code",
      "execution_count": 11,
      "id": "be374e72-c849-4962-bb50-33607824bab1",
      "metadata": {
        "id": "be374e72-c849-4962-bb50-33607824bab1"
      },
      "outputs": [],
      "source": []
    },
    {
      "cell_type": "code",
      "execution_count": 11,
      "id": "9a7702f2-cee6-4649-a662-6d1dc9d49e0c",
      "metadata": {
        "id": "9a7702f2-cee6-4649-a662-6d1dc9d49e0c"
      },
      "outputs": [],
      "source": []
    },
    {
      "cell_type": "code",
      "execution_count": 11,
      "id": "37a2ba14-9908-48b1-adad-1ef764114254",
      "metadata": {
        "id": "37a2ba14-9908-48b1-adad-1ef764114254"
      },
      "outputs": [],
      "source": []
    }
  ],
  "metadata": {
    "kernelspec": {
      "display_name": "Python 3 (ipykernel)",
      "language": "python",
      "name": "python3"
    },
    "language_info": {
      "codemirror_mode": {
        "name": "ipython",
        "version": 3
      },
      "file_extension": ".py",
      "mimetype": "text/x-python",
      "name": "python",
      "nbconvert_exporter": "python",
      "pygments_lexer": "ipython3",
      "version": "3.9.6"
    },
    "colab": {
      "provenance": [],
      "include_colab_link": true
    }
  },
  "nbformat": 4,
  "nbformat_minor": 5
}