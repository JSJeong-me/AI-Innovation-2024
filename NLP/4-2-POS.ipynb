{
  "nbformat": 4,
  "nbformat_minor": 0,
  "metadata": {
    "colab": {
      "provenance": [],
      "authorship_tag": "ABX9TyNFSDRSmweuminEjpl0gKUP",
      "include_colab_link": true
    },
    "kernelspec": {
      "name": "python3",
      "display_name": "Python 3"
    },
    "language_info": {
      "name": "python"
    }
  },
  "cells": [
    {
      "cell_type": "markdown",
      "metadata": {
        "id": "view-in-github",
        "colab_type": "text"
      },
      "source": [
        "<a href=\"https://colab.research.google.com/github/JSJeong-me/AI-Innovation-2024/blob/main/NLP/4-2-POS.ipynb\" target=\"_parent\"><img src=\"https://colab.research.google.com/assets/colab-badge.svg\" alt=\"Open In Colab\"/></a>"
      ]
    },
    {
      "cell_type": "code",
      "execution_count": 1,
      "metadata": {
        "colab": {
          "base_uri": "https://localhost:8080/"
        },
        "id": "Mez-TIUp2Xni",
        "outputId": "451f7f24-6986-4d41-8d4d-dca0b6a1c5ad"
      },
      "outputs": [
        {
          "output_type": "stream",
          "name": "stdout",
          "text": [
            "Collecting konlpy\n",
            "  Downloading konlpy-0.6.0-py2.py3-none-any.whl.metadata (1.9 kB)\n",
            "Collecting JPype1>=0.7.0 (from konlpy)\n",
            "  Downloading JPype1-1.5.0-cp310-cp310-manylinux_2_17_x86_64.manylinux2014_x86_64.whl.metadata (4.9 kB)\n",
            "Requirement already satisfied: lxml>=4.1.0 in /usr/local/lib/python3.10/dist-packages (from konlpy) (4.9.4)\n",
            "Requirement already satisfied: numpy>=1.6 in /usr/local/lib/python3.10/dist-packages (from konlpy) (1.26.4)\n",
            "Requirement already satisfied: packaging in /usr/local/lib/python3.10/dist-packages (from JPype1>=0.7.0->konlpy) (24.1)\n",
            "Downloading konlpy-0.6.0-py2.py3-none-any.whl (19.4 MB)\n",
            "\u001b[2K   \u001b[90m━━━━━━━━━━━━━━━━━━━━━━━━━━━━━━━━━━━━━━━━\u001b[0m \u001b[32m19.4/19.4 MB\u001b[0m \u001b[31m23.6 MB/s\u001b[0m eta \u001b[36m0:00:00\u001b[0m\n",
            "\u001b[?25hDownloading JPype1-1.5.0-cp310-cp310-manylinux_2_17_x86_64.manylinux2014_x86_64.whl (488 kB)\n",
            "\u001b[2K   \u001b[90m━━━━━━━━━━━━━━━━━━━━━━━━━━━━━━━━━━━━━━━━\u001b[0m \u001b[32m488.6/488.6 kB\u001b[0m \u001b[31m18.3 MB/s\u001b[0m eta \u001b[36m0:00:00\u001b[0m\n",
            "\u001b[?25hInstalling collected packages: JPype1, konlpy\n",
            "Successfully installed JPype1-1.5.0 konlpy-0.6.0\n",
            "Original Text: 안녕하세요, 오늘 날씨가 정말 좋네요!\n",
            "Morphs: ['안녕하세요', ',', '오늘', '날씨', '가', '정말', '좋네요', '!']\n",
            "POS Tags: [('안녕하세요', 'Adjective'), (',', 'Punctuation'), ('오늘', 'Noun'), ('날씨', 'Noun'), ('가', 'Josa'), ('정말', 'Noun'), ('좋네요', 'Adjective'), ('!', 'Punctuation')]\n",
            "Nouns: ['오늘', '날씨', '정말']\n"
          ]
        }
      ],
      "source": [
        "# 필요한 라이브러리 설치\n",
        "!pip install konlpy\n",
        "\n",
        "# KoNLPy에서 Okt 형태소 분석기 가져오기\n",
        "from konlpy.tag import Okt\n",
        "\n",
        "# 형태소 분석기 생성\n",
        "okt = Okt()\n",
        "\n",
        "# 분석할 한글 문장\n",
        "text = \"안녕하세요, 오늘 날씨가 정말 좋네요!\"\n",
        "\n",
        "# 형태소 분석\n",
        "morphs = okt.morphs(text)\n",
        "pos_tags = okt.pos(text)\n",
        "nouns = okt.nouns(text)\n",
        "\n",
        "print(f\"Original Text: {text}\")\n",
        "print(f\"Morphs: {morphs}\")\n",
        "print(f\"POS Tags: {pos_tags}\")\n",
        "print(f\"Nouns: {nouns}\")\n"
      ]
    }
  ]
}