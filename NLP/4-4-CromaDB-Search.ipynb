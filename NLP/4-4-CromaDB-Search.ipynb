{
  "nbformat": 4,
  "nbformat_minor": 0,
  "metadata": {
    "colab": {
      "provenance": [],
      "gpuType": "T4",
      "authorship_tag": "ABX9TyMHry/KJnJIV8zKQSzmmop9",
      "include_colab_link": true
    },
    "kernelspec": {
      "name": "python3",
      "display_name": "Python 3"
    },
    "language_info": {
      "name": "python"
    },
    "accelerator": "GPU"
  },
  "cells": [
    {
      "cell_type": "markdown",
      "metadata": {
        "id": "view-in-github",
        "colab_type": "text"
      },
      "source": [
        "<a href=\"https://colab.research.google.com/github/JSJeong-me/AI-Innovation-2024/blob/main/NLP/4-4-CromaDB-Search.ipynb\" target=\"_parent\"><img src=\"https://colab.research.google.com/assets/colab-badge.svg\" alt=\"Open In Colab\"/></a>"
      ]
    },
    {
      "cell_type": "code",
      "execution_count": null,
      "metadata": {
        "id": "mXze__HCgLyx"
      },
      "outputs": [],
      "source": [
        "!pip install sentence-transformers chromadb pandas"
      ]
    },
    {
      "cell_type": "code",
      "source": [
        "import warnings\n",
        "warnings.filterwarnings('ignore')"
      ],
      "metadata": {
        "id": "h5EjKSMVI8r-"
      },
      "execution_count": 2,
      "outputs": []
    },
    {
      "cell_type": "code",
      "source": [
        "from sentence_transformers import SentenceTransformer\n",
        "import chromadb\n",
        "from chromadb.utils import embedding_functions"
      ],
      "metadata": {
        "id": "5ZbIH57fgY-w"
      },
      "execution_count": 3,
      "outputs": []
    },
    {
      "cell_type": "code",
      "source": [
        "!wget --no-check-certificate 'https://drive.google.com/uc?export=download&id=1nUjOtPsWy17U-m-HjkMBpDdz-l9t2c2C' -O ./fine_food_reviews_1k.csv"
      ],
      "metadata": {
        "id": "Wc0czDLVHGl8",
        "outputId": "53da01cd-1d04-47b4-b094-b7a3b8d57112",
        "colab": {
          "base_uri": "https://localhost:8080/"
        }
      },
      "execution_count": 4,
      "outputs": [
        {
          "output_type": "stream",
          "name": "stdout",
          "text": [
            "--2024-10-07 08:46:45--  https://drive.google.com/uc?export=download&id=1nUjOtPsWy17U-m-HjkMBpDdz-l9t2c2C\n",
            "Resolving drive.google.com (drive.google.com)... 142.251.2.101, 142.251.2.138, 142.251.2.139, ...\n",
            "Connecting to drive.google.com (drive.google.com)|142.251.2.101|:443... connected.\n",
            "HTTP request sent, awaiting response... 303 See Other\n",
            "Location: https://drive.usercontent.google.com/download?id=1nUjOtPsWy17U-m-HjkMBpDdz-l9t2c2C&export=download [following]\n",
            "--2024-10-07 08:46:45--  https://drive.usercontent.google.com/download?id=1nUjOtPsWy17U-m-HjkMBpDdz-l9t2c2C&export=download\n",
            "Resolving drive.usercontent.google.com (drive.usercontent.google.com)... 142.250.101.132, 2607:f8b0:4023:c06::84\n",
            "Connecting to drive.usercontent.google.com (drive.usercontent.google.com)|142.250.101.132|:443... connected.\n",
            "HTTP request sent, awaiting response... 200 OK\n",
            "Length: 436148 (426K) [application/octet-stream]\n",
            "Saving to: ‘./fine_food_reviews_1k.csv’\n",
            "\n",
            "./fine_food_reviews 100%[===================>] 425.93K  --.-KB/s    in 0.09s   \n",
            "\n",
            "2024-10-07 08:46:48 (4.43 MB/s) - ‘./fine_food_reviews_1k.csv’ saved [436148/436148]\n",
            "\n"
          ]
        }
      ]
    },
    {
      "cell_type": "code",
      "source": [
        "# Load the data\n",
        "import pandas as pd\n",
        "df = pd.read_csv('./fine_food_reviews_1k.csv')"
      ],
      "metadata": {
        "id": "2fBBKKMXG0b_"
      },
      "execution_count": 5,
      "outputs": []
    },
    {
      "cell_type": "code",
      "source": [
        "\n",
        "\n",
        "# Initialize the embedding model (using a smaller model for demonstration purposes)\n",
        "embedding_model = SentenceTransformer('all-MiniLM-L6-v2')"
      ],
      "metadata": {
        "id": "y0sYJKq6G133"
      },
      "execution_count": 6,
      "outputs": []
    },
    {
      "cell_type": "code",
      "source": [
        "\n",
        "\n",
        "# Generate embeddings for the 'Text' column\n",
        "embeddings = embedding_model.encode(df['Text'].tolist())\n",
        "\n",
        "# Initialize ChromaDB client and create a collection\n",
        "client = chromadb.Client()\n",
        "collection = client.create_collection(name=\"reviews\")\n",
        "\n",
        "# Insert data into the ChromaDB collection\n",
        "collection.add(\n",
        "    embeddings=embeddings,\n",
        "    metadatas=[{'text': text, 'summary': summary} for text, summary in zip(df['Text'], df['Summary'])],\n",
        "    ids=[str(i) for i in df.index]\n",
        ")\n",
        "\n",
        "# Sample search using a query\n",
        "query_text = \"good quality product\"\n",
        "query_embedding = embedding_model.encode([query_text])[0]\n",
        "\n",
        "# Perform the search\n",
        "results = collection.query(\n",
        "    query_embeddings=[query_embedding],\n",
        "    n_results=5,\n",
        "    include=['metadatas', 'distances']\n",
        ")\n",
        "\n",
        "# Display the search results\n",
        "print(results)\n"
      ],
      "metadata": {
        "id": "PNN3BDCvG6DI",
        "outputId": "73598aef-5627-40e4-cd37-29ac4004a9de",
        "colab": {
          "base_uri": "https://localhost:8080/"
        }
      },
      "execution_count": 7,
      "outputs": [
        {
          "output_type": "stream",
          "name": "stdout",
          "text": [
            "{'ids': [['816', '563', '384', '900', '149']], 'distances': [[0.9377105236053467, 0.9595870971679688, 1.0355348587036133, 1.0388377904891968, 1.050167441368103]], 'metadatas': [[{'summary': 'Great product!!!!!!!!!!!!', 'text': 'price and quality are awesome!! Buy recommendation only!!!!!!!!!!!!!!!! We ordered several of them and we loved them.  Price is so great and they offer free shipping if you buy certain amount.'}, {'summary': 'Good stuff', 'text': \"Very good product, helps with a lot of ailments. It's great help stocking up on vitimain that you are deficient in.\"}, {'summary': 'Great taste', 'text': 'This product is great.  My husband and I both love it.  It is good as a supplement, and for cooking.  It has a wonderful scent and a soft taste.  It is a very healthy product.  We are pleased.'}, {'summary': 'Excellent', 'text': \"Great product at a good price. Will definitely be ordering this product again once it's all used up and the bottles empty.\"}, {'summary': 'buttons', 'text': 'They were ok but I was not impressed by them.  The cost is too high and is not worth it for this product.'}]], 'embeddings': None, 'documents': None, 'uris': None, 'data': None, 'included': ['metadatas', 'distances']}\n"
          ]
        }
      ]
    },
    {
      "cell_type": "code",
      "source": [
        "# Sample search using a query\n",
        "query_text = \"pet food\"\n",
        "query_embedding = embedding_model.encode([query_text])[0]\n",
        "\n",
        "# Perform the search\n",
        "results = collection.query(\n",
        "    query_embeddings=[query_embedding],\n",
        "    n_results=5,\n",
        "    include=['metadatas', 'distances']\n",
        ")\n",
        "\n",
        "# Display the search results\n",
        "print(results)"
      ],
      "metadata": {
        "colab": {
          "base_uri": "https://localhost:8080/"
        },
        "id": "io50w3Y7g1Ae",
        "outputId": "1d8aa836-d9fd-44b4-a408-fa255d6d8a36"
      },
      "execution_count": 8,
      "outputs": [
        {
          "output_type": "stream",
          "name": "stdout",
          "text": [
            "{'ids': [['818', '444', '127', '752', '184']], 'distances': [[0.7441419959068298, 0.8426192998886108, 0.89345782995224, 0.9527755975723267, 0.9711098074913025]], 'metadatas': [[{'summary': 'Good food', 'text': 'The only dry food my queen cat will eat. Helps prevent hair balls. Good packaging. Arrives promptly. Recommended by a friend who sells pet food.'}, {'summary': 'Healthy Dog Food', 'text': 'This is a very healthy dog food. Good for their digestion. Also good for small puppies. My dog eats her required amount at every feeding.'}, {'summary': 'Great for small breeds with sensitive systems', 'text': 'I have two small mixed breed dogs each under 10 pounds. This is to only food I have found that they can eat with out any problems.'}, {'summary': 'Tepid Response from My Cat', 'text': \"It's difficult to write a review for food that I have not personally eaten or been able to obtain a verbal response for from its intended consumer. I don't think my normally voracious cat loved this product though; she would often take a few bites, then walk away from it, then come back to it only when she became very hungry. Of course, this is only one case, and I have no explanation--the ingredients seem to be good and it didn't smell or look particularly offensive.\"}, {'summary': 'The cats like it', 'text': 'My 7 cats like this food but it is a little yucky for the human. Pieces of mackerel swimming in a dark broth. It is billed as a \"complete\" food and contains carrots, peas and pasta. Why, I don\\'t know, since these are not foods that a cat would eat in the wild. An OK alternative to go along with their dry food.'}]], 'embeddings': None, 'documents': None, 'uris': None, 'data': None, 'included': ['metadatas', 'distances']}\n"
          ]
        }
      ]
    },
    {
      "cell_type": "code",
      "source": [
        "# Initialize ChromaDB client\n",
        "client = chromadb.Client()\n",
        "\n",
        "# Try to get the collection, create it if it doesn't exist.\n",
        "collection = client.get_or_create_collection(name=\"reviews\")\n",
        "\n",
        "# Insert data into the ChromaDB collection\n",
        "collection.add(\n",
        "    embeddings=embeddings,\n",
        "    metadatas=[{'text': text, 'summary': summary} for text, summary in zip(df['Text'], df['Summary'])],\n",
        "    ids=[str(i) for i in df.index]\n",
        ")\n"
      ],
      "metadata": {
        "id": "SmUFIA9diK7W"
      },
      "execution_count": null,
      "outputs": []
    },
    {
      "cell_type": "code",
      "source": [
        "\n",
        "# Function to convert distance to a descriptive word\n",
        "def distance_to_word(distance):\n",
        "    if distance < 0.2:\n",
        "        return \"very close\"\n",
        "    elif distance < 0.4:\n",
        "        return \"close\"\n",
        "    elif distance < 0.6:\n",
        "        return \"somewhat close\"\n",
        "    else:\n",
        "        return \"distant\"\n"
      ],
      "metadata": {
        "id": "4MhRTYQnJHug"
      },
      "execution_count": 10,
      "outputs": []
    },
    {
      "cell_type": "code",
      "source": [
        "# Sample search using a query\n",
        "query_text = \"pet food\"\n",
        "query_embedding = embedding_model.encode([query_text])[0]\n",
        "\n",
        "# Perform the search\n",
        "results = collection.query(\n",
        "    query_embeddings=[query_embedding],\n",
        "    n_results=5,\n",
        "    include=['metadatas', 'distances'] # removed 'documents' from include\n",
        ")\n",
        "\n",
        "# Access the 'documents' list directly from results\n",
        "formatted_results = [\n",
        "    {\n",
        "        'text': res['text'], # Access text directly from the dictionary\n",
        "        'summary': res['summary'], # Access summary directly from the dictionary\n",
        "        'distance': distance_to_word(dist) # Use dist from enumerate\n",
        "    }\n",
        "    for res, dist in zip(results['metadatas'][0], results['distances'][0]) # Iterate through metadatas and distances using zip\n",
        "]"
      ],
      "metadata": {
        "id": "cbASs8D8JuKS"
      },
      "execution_count": 11,
      "outputs": []
    },
    {
      "cell_type": "code",
      "source": [
        "\n",
        "# Display the formatted results\n",
        "for result in formatted_results:\n",
        "    print(f\"Summary: {result['summary']}, Distance: {result['distance']}\")\n",
        "    print(f\"Text: {result['text']}\\n\")"
      ],
      "metadata": {
        "id": "4XkksIYJI2s9",
        "outputId": "9c1c2459-3396-4488-dc4f-b33f7b2a1aa5",
        "colab": {
          "base_uri": "https://localhost:8080/"
        }
      },
      "execution_count": 12,
      "outputs": [
        {
          "output_type": "stream",
          "name": "stdout",
          "text": [
            "Summary: Good food, Distance: distant\n",
            "Text: The only dry food my queen cat will eat. Helps prevent hair balls. Good packaging. Arrives promptly. Recommended by a friend who sells pet food.\n",
            "\n",
            "Summary: Healthy Dog Food, Distance: distant\n",
            "Text: This is a very healthy dog food. Good for their digestion. Also good for small puppies. My dog eats her required amount at every feeding.\n",
            "\n",
            "Summary: Great for small breeds with sensitive systems, Distance: distant\n",
            "Text: I have two small mixed breed dogs each under 10 pounds. This is to only food I have found that they can eat with out any problems.\n",
            "\n",
            "Summary: Tepid Response from My Cat, Distance: distant\n",
            "Text: It's difficult to write a review for food that I have not personally eaten or been able to obtain a verbal response for from its intended consumer. I don't think my normally voracious cat loved this product though; she would often take a few bites, then walk away from it, then come back to it only when she became very hungry. Of course, this is only one case, and I have no explanation--the ingredients seem to be good and it didn't smell or look particularly offensive.\n",
            "\n",
            "Summary: The cats like it, Distance: distant\n",
            "Text: My 7 cats like this food but it is a little yucky for the human. Pieces of mackerel swimming in a dark broth. It is billed as a \"complete\" food and contains carrots, peas and pasta. Why, I don't know, since these are not foods that a cat would eat in the wild. An OK alternative to go along with their dry food.\n",
            "\n"
          ]
        }
      ]
    },
    {
      "cell_type": "markdown",
      "source": [
        ""
      ],
      "metadata": {
        "id": "VM61hSznJzpN"
      }
    }
  ]
}