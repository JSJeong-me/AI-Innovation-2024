{
  "nbformat": 4,
  "nbformat_minor": 0,
  "metadata": {
    "colab": {
      "provenance": [],
      "authorship_tag": "ABX9TyPR3mvv2rfiPMhthV32yg9x",
      "include_colab_link": true
    },
    "kernelspec": {
      "name": "python3",
      "display_name": "Python 3"
    },
    "language_info": {
      "name": "python"
    }
  },
  "cells": [
    {
      "cell_type": "markdown",
      "metadata": {
        "id": "view-in-github",
        "colab_type": "text"
      },
      "source": [
        "<a href=\"https://colab.research.google.com/github/JSJeong-me/AI-Innovation-2024/blob/main/NLP/4-6-Attention-VKQ.ipynb\" target=\"_parent\"><img src=\"https://colab.research.google.com/assets/colab-badge.svg\" alt=\"Open In Colab\"/></a>"
      ]
    },
    {
      "cell_type": "code",
      "execution_count": 1,
      "metadata": {
        "colab": {
          "base_uri": "https://localhost:8080/"
        },
        "id": "a3WTPnDy2CQF",
        "outputId": "5b77eb18-b073-4c4c-9e23-2852a7feffd2"
      },
      "outputs": [
        {
          "output_type": "stream",
          "name": "stdout",
          "text": [
            "[[0.98522025 1.74174051 0.75652026]\n",
            " [0.90965265 1.40965265 0.5       ]\n",
            " [0.99851226 1.75849334 0.75998108]\n",
            " [0.99560386 1.90407309 0.90846923]]\n"
          ]
        }
      ],
      "source": [
        "from numpy import array\n",
        "from numpy import random\n",
        "from numpy import dot\n",
        "from scipy.special import softmax"
      ]
    },
    {
      "cell_type": "code",
      "source": [
        "\n",
        "\n",
        "# 네 가지 다른 단어의 인코더 표현\n",
        "word_1 = array([1, 0, 0])\n",
        "word_2 = array([0, 1, 0])\n",
        "word_3 = array([1, 1, 0])\n",
        "word_4 = array([0, 0, 1])"
      ],
      "metadata": {
        "id": "dUyDP775rh2j"
      },
      "execution_count": null,
      "outputs": []
    },
    {
      "cell_type": "code",
      "source": [
        "\n",
        "\n",
        "# 단어 임베딩을 단일 배열로 쌓기\n",
        "words = array([word_1, word_2, word_3, word_4])"
      ],
      "metadata": {
        "id": "vdcRgatfrjPD"
      },
      "execution_count": null,
      "outputs": []
    },
    {
      "cell_type": "code",
      "source": [
        "\n",
        "\n",
        "# 가중치 행렬 생성\n",
        "random.seed(42)\n",
        "W_Q = random.randint(3, size=(3, 3))\n",
        "W_K = random.randint(3, size=(3, 3))\n",
        "W_V = random.randint(3, size=(3, 3))"
      ],
      "metadata": {
        "id": "ZJFdq09Yrk0L"
      },
      "execution_count": null,
      "outputs": []
    },
    {
      "cell_type": "code",
      "source": [
        "\n",
        "\n",
        "# 쿼리, 키, 값 생성\n",
        "Q = words @ W_Q\n",
        "K = words @ W_K\n",
        "V = words @ W_V"
      ],
      "metadata": {
        "id": "XQ5SbT7Jrl0K"
      },
      "execution_count": null,
      "outputs": []
    },
    {
      "cell_type": "code",
      "source": [
        "\n",
        "\n",
        "# 모든 주요 벡터에 대해 쿼리 벡터의 점수를 매깁니다.\n",
        "scores = Q @ K.transpose()"
      ],
      "metadata": {
        "id": "t0OlTYccrnGz"
      },
      "execution_count": null,
      "outputs": []
    },
    {
      "cell_type": "code",
      "source": [
        "\n",
        "\n",
        "# 소프트맥스 연산으로 가중치 계산\n",
        "weights = softmax(scores / K.shape[1] ** 0.5, axis=1)"
      ],
      "metadata": {
        "id": "oOyeLlLtrn0D"
      },
      "execution_count": null,
      "outputs": []
    },
    {
      "cell_type": "code",
      "source": [
        "\n",
        "\n",
        "# 값 벡터의 가중 합으로 주의를 계산합니다.\n",
        "attention = weights @ V\n",
        "\n",
        "print(attention)"
      ],
      "metadata": {
        "id": "dVFq-zfCroiq"
      },
      "execution_count": null,
      "outputs": []
    },
    {
      "cell_type": "code",
      "source": [
        "words @ W_Q"
      ],
      "metadata": {
        "id": "_VhCasVcbduO",
        "outputId": "65a8341c-bbe0-47e4-f25c-394a1f51e270",
        "colab": {
          "base_uri": "https://localhost:8080/"
        }
      },
      "execution_count": 2,
      "outputs": [
        {
          "output_type": "execute_result",
          "data": {
            "text/plain": [
              "array([[2, 0, 2],\n",
              "       [2, 0, 0],\n",
              "       [4, 0, 2],\n",
              "       [2, 1, 2]])"
            ]
          },
          "metadata": {},
          "execution_count": 2
        }
      ]
    },
    {
      "cell_type": "code",
      "source": [],
      "metadata": {
        "id": "y7Mqavc_bbdr"
      },
      "execution_count": 2,
      "outputs": []
    }
  ]
}