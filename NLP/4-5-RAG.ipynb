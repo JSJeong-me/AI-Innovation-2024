{
  "nbformat": 4,
  "nbformat_minor": 0,
  "metadata": {
    "colab": {
      "provenance": [],
      "gpuType": "T4",
      "authorship_tag": "ABX9TyPKG5crWXJbcj3tQHAd6RXd",
      "include_colab_link": true
    },
    "kernelspec": {
      "name": "python3",
      "display_name": "Python 3"
    },
    "language_info": {
      "name": "python"
    },
    "accelerator": "GPU"
  },
  "cells": [
    {
      "cell_type": "markdown",
      "metadata": {
        "id": "view-in-github",
        "colab_type": "text"
      },
      "source": [
        "<a href=\"https://colab.research.google.com/github/JSJeong-me/AI-Innovation-2024/blob/main/NLP/4-5-RAG.ipynb\" target=\"_parent\"><img src=\"https://colab.research.google.com/assets/colab-badge.svg\" alt=\"Open In Colab\"/></a>"
      ]
    },
    {
      "cell_type": "code",
      "source": [
        "!pip install langchain langchain_community openai chromadb tiktoken --quiet"
      ],
      "metadata": {
        "id": "ZLAz7k5Q_d7b"
      },
      "execution_count": null,
      "outputs": []
    },
    {
      "cell_type": "code",
      "execution_count": null,
      "metadata": {
        "id": "qPiKgQ4L_X4A"
      },
      "outputs": [],
      "source": [
        "from langchain.embeddings.openai import OpenAIEmbeddings\n",
        "from langchain.vectorstores import Chroma\n",
        "from langchain.chains import RetrievalQA\n",
        "from langchain.llms import OpenAI\n",
        "from langchain.document_loaders import TextLoader"
      ]
    },
    {
      "cell_type": "code",
      "source": [
        "from google.colab import userdata\n",
        "import os\n",
        "\n",
        "userdata.get('OPENAI_API_KEY')\n",
        "os.environ[\"OPENAI_API_KEY\"] = userdata.get('OPENAI_API_KEY')\n",
        "api_key = os.getenv(\"OPENAI_API_KEY\")"
      ],
      "metadata": {
        "id": "XKYni_To_ixH"
      },
      "execution_count": null,
      "outputs": []
    },
    {
      "cell_type": "code",
      "source": [
        "!mkdir data\n",
        "!wget https://github.com/JSJeong-me/GPT-Web/raw/main/images/paul_graham_essay.txt -O ./data/paul_graham_essay.txt"
      ],
      "metadata": {
        "id": "qY-PbaoP_pj_"
      },
      "execution_count": null,
      "outputs": []
    },
    {
      "cell_type": "code",
      "source": [
        "# Step 1: 문서 로드\n",
        "# 여기에 분석하고자 하는 텍스트 파일을 넣으세요.\n",
        "loader = TextLoader('./data/paul_graham_essay-cat.txt')\n",
        "documents = loader.load()\n"
      ],
      "metadata": {
        "id": "uqPUfvfO_dFe"
      },
      "execution_count": null,
      "outputs": []
    },
    {
      "cell_type": "code",
      "source": [
        "len(documents)"
      ],
      "metadata": {
        "id": "yb8OqfSznOeC"
      },
      "execution_count": null,
      "outputs": []
    },
    {
      "cell_type": "code",
      "source": [
        "documents[0].page_content[:100]"
      ],
      "metadata": {
        "id": "X3PpUClsnKcc"
      },
      "execution_count": null,
      "outputs": []
    },
    {
      "cell_type": "code",
      "source": [
        "# Step 2: 텍스트 분할\n",
        "from langchain.text_splitter import CharacterTextSplitter # import the CharacterTextSplitter class\n",
        "\n",
        "# 문서를 최대 1000 토큰의 청크로 분할합니다.\n",
        "text_splitter = CharacterTextSplitter(chunk_size=100000, chunk_overlap=0) # reduced chunk size to 1000\n",
        "documents = text_splitter.split_documents(documents)"
      ],
      "metadata": {
        "id": "nnwB4CxY_yye"
      },
      "execution_count": null,
      "outputs": []
    },
    {
      "cell_type": "code",
      "source": [
        "len(documents)"
      ],
      "metadata": {
        "id": "OEb-CsDqnqnB"
      },
      "execution_count": null,
      "outputs": []
    },
    {
      "cell_type": "code",
      "source": [
        "# Step 2: 임베딩 및 Chroma 벡터 스토어 생성\n",
        "embeddings = OpenAIEmbeddings()"
      ],
      "metadata": {
        "id": "mjuuva_lnoXI"
      },
      "execution_count": null,
      "outputs": []
    },
    {
      "cell_type": "code",
      "source": [
        "vectorstore = Chroma.from_documents(documents, embeddings)"
      ],
      "metadata": {
        "id": "02vFjlxpnvyg"
      },
      "execution_count": null,
      "outputs": []
    },
    {
      "cell_type": "code",
      "source": [
        "from langchain.chat_models import ChatOpenAI\n",
        "from langchain.llms import OpenAI\n",
        "\n",
        "# Step 3: OpenAI LLM 설정 (GPT-4 모델 사용)\n",
        "# llm = OpenAI(model=\"gpt-4\") # This line is using the incorrect API for this model\n",
        "llm = ChatOpenAI(model=\"gpt-4.1\", temperature=0.0, top_p=0.3) # Use ChatOpenAI for chat models"
      ],
      "metadata": {
        "id": "OVOSZvWT_042"
      },
      "execution_count": null,
      "outputs": []
    },
    {
      "cell_type": "code",
      "source": [
        "# Step 4: 검색 및 QA 체인 생성\n",
        "qa = RetrievalQA.from_chain_type(\n",
        "    llm=llm,\n",
        "    chain_type=\"stuff\", # map reduce, rerank\n",
        "    retriever=vectorstore.as_retriever()\n",
        ")"
      ],
      "metadata": {
        "id": "RtNAf6Y2_2jO"
      },
      "execution_count": null,
      "outputs": []
    },
    {
      "cell_type": "code",
      "source": [
        "\n",
        "# Step 5: 질문에 답변\n",
        "query = \"How many legs does a cat have?\""
      ],
      "metadata": {
        "id": "pdoVF_ap_6Yx"
      },
      "execution_count": null,
      "outputs": []
    },
    {
      "cell_type": "code",
      "source": [
        "\n",
        "answer = qa.run(query)"
      ],
      "metadata": {
        "id": "oIv0L4Ulvc6u"
      },
      "execution_count": null,
      "outputs": []
    },
    {
      "cell_type": "code",
      "source": [
        "\n",
        "print(f\"Answer: {answer}\")\n"
      ],
      "metadata": {
        "id": "Nzl1rPumvfWW"
      },
      "execution_count": null,
      "outputs": []
    },
    {
      "cell_type": "code",
      "source": [
        "# Step 5: 질문에 답변\n",
        "query = \"Who is the author of the essay?\"\n",
        "answer = qa.run(query)\n",
        "print(f\"Answer: {answer}\")"
      ],
      "metadata": {
        "id": "l57KZnJft7EA"
      },
      "execution_count": null,
      "outputs": []
    },
    {
      "cell_type": "code",
      "source": [
        "# Step 5: 질문에 답변\n",
        "query = \"What is the summary ofessay?\"\n",
        "answer = qa.run(query)\n",
        "print(f\"Answer: {answer}\")"
      ],
      "metadata": {
        "id": "bJunrZNOodI9"
      },
      "execution_count": null,
      "outputs": []
    }
  ]
}