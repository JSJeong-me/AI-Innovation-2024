{
  "nbformat": 4,
  "nbformat_minor": 0,
  "metadata": {
    "colab": {
      "provenance": [],
      "machine_shape": "hm",
      "mount_file_id": "https://github.com/JSJeong-me/AI-Innovation-2024/blob/main/1-3-Torch-Tensor.ipynb",
      "authorship_tag": "ABX9TyOrBlU2Ckc7UcmDr3oxsURJ",
      "include_colab_link": true
    },
    "kernelspec": {
      "name": "python3",
      "display_name": "Python 3"
    },
    "language_info": {
      "name": "python"
    }
  },
  "cells": [
    {
      "cell_type": "markdown",
      "metadata": {
        "id": "view-in-github",
        "colab_type": "text"
      },
      "source": [
        "<a href=\"https://colab.research.google.com/github/JSJeong-me/AI-Innovation-2024/blob/main/0-0-test.ipynb\" target=\"_parent\"><img src=\"https://colab.research.google.com/assets/colab-badge.svg\" alt=\"Open In Colab\"/></a>"
      ]
    },
    {
      "cell_type": "code",
      "execution_count": null,
      "metadata": {
        "id": "nV8dN6wUPrOQ"
      },
      "outputs": [],
      "source": [
        "from PIL import Image\n",
        "import torchvision.transforms as transforms\n",
        "import torch\n",
        "\n",
        "# Load the image\n",
        "image_path = 'elephant1.jpg'\n",
        "image = Image.open(image_path)\n",
        "\n",
        "# Define a transform to convert the image to a tensor\n",
        "transform = transforms.Compose([\n",
        "    transforms.ToTensor()  # Converts [0, 255] range to [0.0, 1.0] range\n",
        "])\n",
        "\n",
        "# Apply the transform to the image\n",
        "image_tensor = transform(image)\n",
        "\n",
        "# Display the tensor shape\n",
        "print(f\"Image tensor shape: {image_tensor.shape}\")\n"
      ]
    },
    {
      "cell_type": "code",
      "source": [
        "import matplotlib.pyplot as plt\n",
        "import torchvision.transforms as transforms\n",
        "\n",
        "# Assuming 'image_tensor' is the tensor we created\n",
        "# Convert the tensor back to a PIL Image\n",
        "transform_to_pil = transforms.ToPILImage()\n",
        "image = transform_to_pil(image_tensor)\n",
        "\n",
        "# Display the image\n",
        "plt.imshow(image)\n",
        "plt.axis('off')  # Turn off axis numbers and ticks\n",
        "plt.show()\n"
      ],
      "metadata": {
        "id": "_foLH8idQs_P"
      },
      "execution_count": null,
      "outputs": []
    },
    {
      "cell_type": "code",
      "source": [
        "!ls -l"
      ],
      "metadata": {
        "id": "_W8gcSnqR29k"
      },
      "execution_count": null,
      "outputs": []
    },
    {
      "cell_type": "code",
      "source": [
        "!nvidia-smi"
      ],
      "metadata": {
        "id": "i8E_vlD6SEOQ"
      },
      "execution_count": null,
      "outputs": []
    },
    {
      "cell_type": "code",
      "source": [
        "!pwd"
      ],
      "metadata": {
        "id": "9BupixElTPis"
      },
      "execution_count": null,
      "outputs": []
    },
    {
      "cell_type": "code",
      "source": [
        "%cd /content/drive/MyDrive/"
      ],
      "metadata": {
        "id": "cXKKC7PFTRNE"
      },
      "execution_count": null,
      "outputs": []
    },
    {
      "cell_type": "code",
      "source": [
        "!pwd"
      ],
      "metadata": {
        "id": "gpjiAZ2RTbhc"
      },
      "execution_count": null,
      "outputs": []
    },
    {
      "cell_type": "code",
      "source": [
        "!ls -l el*"
      ],
      "metadata": {
        "id": "c4PevBr9Ttc_"
      },
      "execution_count": null,
      "outputs": []
    },
    {
      "cell_type": "code",
      "source": [
        "!cp ./elephant2.png /content/\n"
      ],
      "metadata": {
        "id": "EtmLpJJgTvNm"
      },
      "execution_count": null,
      "outputs": []
    },
    {
      "cell_type": "code",
      "source": [
        "%cd /content/"
      ],
      "metadata": {
        "id": "WjBPdQhcUA5g"
      },
      "execution_count": null,
      "outputs": []
    },
    {
      "cell_type": "code",
      "source": [
        "!ls -l"
      ],
      "metadata": {
        "id": "3-Cvnn1HULFZ"
      },
      "execution_count": null,
      "outputs": []
    },
    {
      "cell_type": "code",
      "source": [],
      "metadata": {
        "id": "sXC-3aPNUNBJ"
      },
      "execution_count": null,
      "outputs": []
    }
  ]
}