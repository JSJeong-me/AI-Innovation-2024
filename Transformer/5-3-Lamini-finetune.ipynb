{
  "nbformat": 4,
  "nbformat_minor": 0,
  "metadata": {
    "colab": {
      "provenance": [],
      "authorship_tag": "ABX9TyMkZ63afWtg+SmUMo7lWZus",
      "include_colab_link": true
    },
    "kernelspec": {
      "name": "python3",
      "display_name": "Python 3"
    },
    "language_info": {
      "name": "python"
    }
  },
  "cells": [
    {
      "cell_type": "markdown",
      "metadata": {
        "id": "view-in-github",
        "colab_type": "text"
      },
      "source": [
        "<a href=\"https://colab.research.google.com/github/JSJeong-me/AI-Innovation-2024/blob/main/Transformer/5-3-Lamini-finetune.ipynb\" target=\"_parent\"><img src=\"https://colab.research.google.com/assets/colab-badge.svg\" alt=\"Open In Colab\"/></a>"
      ]
    },
    {
      "cell_type": "code",
      "execution_count": null,
      "metadata": {
        "id": "0snRXLAFRCqr"
      },
      "outputs": [],
      "source": [
        "!pip install lamini"
      ]
    },
    {
      "cell_type": "code",
      "source": [
        "import lamini\n",
        "lamini.api_key = \"\"\n",
        "\n",
        "llm = lamini.Lamini(\"6e185c9c108380044919294987957127510e523c43d826d2b73899222a021326\")\n",
        "print(llm.generate(\"\"\"<|begin_of_text|><|start_header_id|>user<|end_header_id|>\n",
        "\n",
        "what is SEC?<|eot_id|>\n",
        "<|start_header_id|>assistant<|end_header_id|>\n",
        "\n",
        "\"\"\"))"
      ],
      "metadata": {
        "colab": {
          "base_uri": "https://localhost:8080/"
        },
        "id": "EcLzHOXzRDpl",
        "outputId": "62c1e8d4-9c53-415b-939d-fbb2f7c02553"
      },
      "execution_count": 2,
      "outputs": [
        {
          "output_type": "stream",
          "name": "stdout",
          "text": [
            "SEC can refer to several things, but here are a few possible interpretations:\n",
            "\n",
            "1. **Securities and Exchange Commission**: SEC is a US government agency responsible for regulating and overseeing the securities industry, including stock exchanges, broker-dealers, and investment companies.\n",
            "2. **Special Education Coalition**: SEC is a non-profit organization that advocates for the rights and interests of students with disabilities in the United States.\n",
            "3. **South East Asia Commission**: SEC is a regional economic organization that aims to promote economic growth and cooperation among its member countries in Southeast Asia.\n",
            "4. **Standard Electronic Commerce**: SEC is a technology company that provides software solutions for electronic commerce, including e-commerce platforms, payment gateways, and more.\n",
            "5. **SEC (Security Executive Council)**: SEC is a professional organization that provides training and certification programs for information security professionals.\n",
            "\n",
            "Without more context, it's difficult to determine which of these interpretations is most relevant. If you have any additional information or clarification, I'd be happy to try and provide a more specific answer!\n"
          ]
        }
      ]
    },
    {
      "cell_type": "code",
      "source": [],
      "metadata": {
        "id": "CdxwAjzDTdfr"
      },
      "execution_count": null,
      "outputs": []
    },
    {
      "cell_type": "code",
      "source": [
        "def get_schema():\n",
        "    return \"\"\"\\\n",
        "0|Team|TEXT\n",
        "1|NAME|TEXT\n",
        "2|Jersey|TEXT\n",
        "3|POS|TEXT\n",
        "4|AGE|INT\n",
        "5|HT|TEXT\n",
        "6|WT|TEXT\n",
        "7|COLLEGE|TEXT\n",
        "8|SALARY|TEXT eg.\n",
        "\"\"\""
      ],
      "metadata": {
        "id": "UqvrGYRATqb9"
      },
      "execution_count": 4,
      "outputs": []
    },
    {
      "cell_type": "code",
      "source": [
        "# Meta Llama 3 Instruct uses a prompt template, with special tags used to indicate the user query and system prompt.\n",
        "# You can find the documentation on this [model card](https://llama.meta.com/docs/model-cards-and-prompt-formats/meta-llama-3/#meta-llama-3-instruct).\n",
        "def make_llama_3_prompt(user, system=\"\"):\n",
        "    system_prompt = \"\"\n",
        "    if system != \"\":\n",
        "        system_prompt = (\n",
        "            f\"<|start_header_id|>system<|end_header_id|>\\n\\n{system}<|eot_id|>\"\n",
        "        )\n",
        "    return f\"<|begin_of_text|>{system_prompt}<|start_header_id|>user<|end_header_id|>\\n\\n{user}<|eot_id|><|start_header_id|>assistant<|end_header_id|>\\n\\n\""
      ],
      "metadata": {
        "id": "EZE7V_frTxOK"
      },
      "execution_count": 6,
      "outputs": []
    },
    {
      "cell_type": "code",
      "source": [
        "# You can replace model_name with your model_id when it's ready!\n",
        "llm = lamini.Lamini(model_name=\"3837bdbbaab1f92ad03efba295ab4b4b0619e56d66db0e68f945b3e0c85ecaef\")\n",
        "\n",
        "question = \"\"\"Who is the highest paid NBA player?\"\"\"\n",
        "system = f\"\"\"You are an NBA analyst with 15 years of experience writing complex SQL queries. Consider the nba_roster table with the following schema:\n",
        "{get_schema()}\n",
        "\n",
        "Write a sqlite query to answer the following question. Follow instructions exactly\"\"\"\n",
        "prompt = make_llama_3_prompt(question, system)\n",
        "print(\"Question:\\n\", question)\n",
        "\n",
        "# Ask the model to generate a sql query to answer the question\n",
        "print(\"Answer:\")\n",
        "print(llm.generate(prompt, max_new_tokens=200))"
      ],
      "metadata": {
        "colab": {
          "base_uri": "https://localhost:8080/"
        },
        "id": "ofb0tCmxTfYx",
        "outputId": "0be154ff-a870-4a86-d3d1-232e1eb1746b"
      },
      "execution_count": 7,
      "outputs": [
        {
          "output_type": "stream",
          "name": "stdout",
          "text": [
            "Question:\n",
            " Who is the highest paid NBA player?\n",
            "Answer:\n",
            "select salary, name from nba_roster order by salary desc limit 1;\n"
          ]
        }
      ]
    }
  ]
}