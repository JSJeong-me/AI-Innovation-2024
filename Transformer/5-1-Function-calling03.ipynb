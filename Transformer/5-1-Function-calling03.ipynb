{
  "cells": [
    {
      "cell_type": "markdown",
      "metadata": {
        "id": "view-in-github",
        "colab_type": "text"
      },
      "source": [
        "<a href=\"https://colab.research.google.com/github/JSJeong-me/AI-Innovation-2024/blob/main/Transformer/5-1-Function-calling03.ipynb\" target=\"_parent\"><img src=\"https://colab.research.google.com/assets/colab-badge.svg\" alt=\"Open In Colab\"/></a>"
      ]
    },
    {
      "cell_type": "code",
      "source": [
        "import matplotlib.pyplot as plt\n",
        "import matplotlib.patches as patches\n",
        "\n",
        "\n",
        "\n",
        "def raven_post(payload):\n",
        "    \"\"\"\n",
        "    Sends a payload to a TGI endpoint.\n",
        "    \"\"\"\n",
        "    # Now, let's prompt Raven!\n",
        "    API_URL = \"http://nexusraven.nexusflow.ai\"\n",
        "    headers = {\n",
        "            \"Content-Type\": \"application/json\"\n",
        "    }\n",
        "    import requests\n",
        "    response = requests.post(API_URL, headers=headers, json=payload)\n",
        "    return response.json()\n",
        "\n",
        "def query_raven(prompt):\n",
        "\t\"\"\"\n",
        "\tThis function sends a request to the TGI endpoint to get Raven's function call.\n",
        "\tThis will not generate Raven's justification and reasoning for the call, to save on latency.\n",
        "\t\"\"\"\n",
        "\timport requests\n",
        "\toutput = raven_post({\n",
        "\t\t\"inputs\": prompt,\n",
        "\t\t\"parameters\" : {\"temperature\" : 0.001, \"stop\" : [\"<bot_end>\"], \"return_full_text\" : False, \"do_sample\" : False, \"max_new_tokens\" : 2048}})\n",
        "\tcall = output[0][\"generated_text\"].replace(\"Call:\", \"\").strip()\n",
        "\treturn call"
      ],
      "metadata": {
        "id": "x-XH4X4fCn25"
      },
      "id": "x-XH4X4fCn25",
      "execution_count": 1,
      "outputs": []
    },
    {
      "cell_type": "markdown",
      "id": "835af266-a7a4-4283-9557-5e06681b3b28",
      "metadata": {
        "id": "835af266-a7a4-4283-9557-5e06681b3b28"
      },
      "source": [
        "# Using Function Calling For Structure"
      ]
    },
    {
      "cell_type": "markdown",
      "id": "cc2ecabf-cd7b-44bf-ae4f-26d75e8dd037",
      "metadata": {
        "id": "cc2ecabf-cd7b-44bf-ae4f-26d75e8dd037"
      },
      "source": [
        "## Simple Example Of Address Extraction"
      ]
    },
    {
      "cell_type": "code",
      "execution_count": 2,
      "id": "344e22ed-9b97-4571-a77f-00dcbbb4189c",
      "metadata": {
        "colab": {
          "base_uri": "https://localhost:8080/"
        },
        "height": 98,
        "id": "344e22ed-9b97-4571-a77f-00dcbbb4189c",
        "outputId": "77d256a3-dbea-453d-be5b-b96045ef3b24"
      },
      "outputs": [
        {
          "output_type": "stream",
          "name": "stdout",
          "text": [
            "\n",
            "John Doe lives at 123 Elm Street, Springfield. Next to him is Jane Smith, residing at 456 Oak Avenue, Lakeview. Not far away, we find Dr. Emily Ryan at 789 Pine Road, Westwood. Meanwhile, in a different part of town, Mr. Alan Turing can be found at 101 Binary Blvd, Computerville. Nearby, Ms. Olivia Newton stays at 202 Music Lane, Harmony. Also, Prof. Charles Xavier is located at 505 Mutant Circle, X-Town.\n",
            "\n"
          ]
        }
      ],
      "source": [
        "text = \\\n",
        "\"\"\"\n",
        "John Doe lives at 123 Elm Street, Springfield. Next to him is Jane Smith, residing at 456 Oak Avenue, Lakeview. Not far away, we find Dr. Emily Ryan at 789 Pine Road, Westwood. Meanwhile, in a different part of town, Mr. Alan Turing can be found at 101 Binary Blvd, Computerville. Nearby, Ms. Olivia Newton stays at 202 Music Lane, Harmony. Also, Prof. Charles Xavier is located at 505 Mutant Circle, X-Town.\n",
        "\"\"\"\n",
        "print (text)"
      ]
    },
    {
      "cell_type": "code",
      "execution_count": 3,
      "id": "e58220bb-b863-4a09-8b4b-4f790ee87206",
      "metadata": {
        "height": 183,
        "id": "e58220bb-b863-4a09-8b4b-4f790ee87206"
      },
      "outputs": [],
      "source": [
        "raven_prompt = \\\n",
        "f'''\n",
        "Function:\n",
        "def address_name_pairs(names : list[str], addresses : list[str]):\n",
        "\"\"\"\n",
        "Give names and associated addresses.\n",
        "\"\"\"\n",
        "\n",
        "{text}<human_end>\n",
        "'''"
      ]
    },
    {
      "cell_type": "code",
      "execution_count": 4,
      "id": "839d2743-0074-42e7-a792-62f6a396fdec",
      "metadata": {
        "colab": {
          "base_uri": "https://localhost:8080/"
        },
        "height": 200,
        "id": "839d2743-0074-42e7-a792-62f6a396fdec",
        "outputId": "492b5695-31a9-4d10-8c37-89ed808e2ed7"
      },
      "outputs": [
        {
          "output_type": "stream",
          "name": "stdout",
          "text": [
            "John Doe :  123 Elm Street, Springfield\n",
            "Jane Smith :  456 Oak Avenue, Lakeview\n",
            "Dr. Emily Ryan :  789 Pine Road, Westwood\n",
            "Mr. Alan Turing :  101 Binary Blvd, Computerville\n",
            "Ms. Olivia Newton :  202 Music Lane, Harmony\n",
            "Prof. Charles Xavier :  505 Mutant Circle, X-Town\n"
          ]
        }
      ],
      "source": [
        "# from utils import query_raven\n",
        "\n",
        "def address_name_pairs(names : list[str], addresses : list[str]):\n",
        "  \"\"\"\n",
        "  Give names and associated addresses.\n",
        "  \"\"\"\n",
        "  for name, addr in zip(names, addresses):\n",
        "    print (name, \": \", addr)\n",
        "\n",
        "result = query_raven(raven_prompt)\n",
        "eval(result)"
      ]
    },
    {
      "cell_type": "markdown",
      "id": "8d38143b-ba80-4b65-9b55-ed65f4fb8d48",
      "metadata": {
        "id": "8d38143b-ba80-4b65-9b55-ed65f4fb8d48"
      },
      "source": [
        "## Alternative Way of Doing Extraction"
      ]
    },
    {
      "cell_type": "code",
      "execution_count": 5,
      "id": "f53d2535-7d34-4ef5-ad70-69a324a888ca",
      "metadata": {
        "height": 98,
        "colab": {
          "base_uri": "https://localhost:8080/"
        },
        "id": "f53d2535-7d34-4ef5-ad70-69a324a888ca",
        "outputId": "d398bc22-341f-4208-c802-4e7374bb3bb4"
      },
      "outputs": [
        {
          "output_type": "stream",
          "name": "stdout",
          "text": [
            "\n",
            "Dr. Susan Hill has a practice at 120 Green Road, Evergreen City, and also consults at 450 Riverdale Drive, Brookside. Mark Twain, the renowned author, once lived at 300 Maple Street, Springfield, but now resides at 200 Writers Block, Literaryville. The famous artist, Emily Carter, showcases her work at 789 Artisan Alley, Paintown, and has a studio at 101 Palette Place, Creativeland. Meanwhile, the tech innovator, John Tech, has his main office at 555 Silicon Street, Techville, and a secondary office at 777 Data Drive, Computown, but he lives at 123 Digital Domain, Innovatown.\n",
            "\n"
          ]
        }
      ],
      "source": [
        "unbalanced_text = \\\n",
        "\"\"\"\n",
        "Dr. Susan Hill has a practice at 120 Green Road, Evergreen City, and also consults at 450 Riverdale Drive, Brookside. Mark Twain, the renowned author, once lived at 300 Maple Street, Springfield, but now resides at 200 Writers Block, Literaryville. The famous artist, Emily Carter, showcases her work at 789 Artisan Alley, Paintown, and has a studio at 101 Palette Place, Creativeland. Meanwhile, the tech innovator, John Tech, has his main office at 555 Silicon Street, Techville, and a secondary office at 777 Data Drive, Computown, but he lives at 123 Digital Domain, Innovatown.\n",
        "\"\"\"\n",
        "print (unbalanced_text)"
      ]
    },
    {
      "cell_type": "code",
      "execution_count": 6,
      "id": "4adef284-c7f2-400f-8bc0-0a4ab3fab238",
      "metadata": {
        "height": 370,
        "tags": [],
        "colab": {
          "base_uri": "https://localhost:8080/"
        },
        "id": "4adef284-c7f2-400f-8bc0-0a4ab3fab238",
        "outputId": "30de8102-4b47-4f40-8b38-45a6b32c6280"
      },
      "outputs": [
        {
          "output_type": "stream",
          "name": "stdout",
          "text": [
            "insert_into_database(names=[Record(name='Dr. Susan Hill', addresses=['120 Green Road', '450 Riverdale Drive']), Record(name='Mark Twain', addresses=['300 Maple Street', '200 Writers Block']), Record(name='Emily Carter', addresses=['789 Artisan Alley', '101 Palette Place']), Record(name='John Tech', addresses=['555 Silicon Street', '777 Data Drive', '123 Digital Domain'])])\n"
          ]
        }
      ],
      "source": [
        "raven_prompt = \\\n",
        "f'''\n",
        "\n",
        "@dataclass\n",
        "class Record:\n",
        "    name : str\n",
        "    addresses : List[str]\n",
        "\n",
        "Function:\n",
        "def insert_into_database(names : List[Record]):\n",
        "\"\"\"\n",
        "Inserts the records into the database.\n",
        "\"\"\"\n",
        "\n",
        "{unbalanced_text}<human_end>\n",
        "\n",
        "'''\n",
        "\n",
        "result = query_raven(raven_prompt)\n",
        "print (result)\n"
      ]
    },
    {
      "cell_type": "markdown",
      "id": "3ca74ee7-d1e1-4ad1-80ff-2625be14246c",
      "metadata": {
        "id": "3ca74ee7-d1e1-4ad1-80ff-2625be14246c"
      },
      "source": [
        "## Generating Valid JSONs"
      ]
    },
    {
      "cell_type": "markdown",
      "id": "7234d7a6-356d-4468-a4a7-86ddfe89dfb0",
      "metadata": {
        "id": "7234d7a6-356d-4468-a4a7-86ddfe89dfb0"
      },
      "source": [
        "```\n",
        "{\n",
        "  \"city_name\" : \"London\"\n",
        "  \"location\" : {\n",
        "      \"country\" : \"United Kingdom\",\n",
        "      \"continent\" : {\n",
        "          \"simple_name\" : \"Europe\",\n",
        "          \"other_name\" : \"Afro-Eur-Asia\"\n",
        "      }\n",
        "  }\n",
        "}\n",
        "```\n"
      ]
    },
    {
      "cell_type": "code",
      "execution_count": 7,
      "id": "edd8ceb8-7b12-4240-ac4b-c5449618639f",
      "metadata": {
        "height": 268,
        "id": "edd8ceb8-7b12-4240-ac4b-c5449618639f"
      },
      "outputs": [],
      "source": [
        "def city_info(city_name : str, location : dict):\n",
        "  \"\"\"\n",
        "  Gets the city info\n",
        "  \"\"\"\n",
        "  return locals()\n",
        "def construct_location_dict(country : str, continent : dict):\n",
        "  \"\"\"\n",
        "  Provides the location dictionary\n",
        "  \"\"\"\n",
        "  return locals()\n",
        "def construct_continent_dict(simple_name : str, other_name : str):\n",
        "  \"\"\"\n",
        "  Provides the continent dict\n",
        "  \"\"\"\n",
        "  return locals()"
      ]
    },
    {
      "cell_type": "code",
      "execution_count": 8,
      "id": "31f84b28-32ad-4db1-a9dd-b6de6c3b731c",
      "metadata": {
        "height": 30,
        "colab": {
          "base_uri": "https://localhost:8080/"
        },
        "id": "31f84b28-32ad-4db1-a9dd-b6de6c3b731c",
        "outputId": "02618a18-0814-473b-c067-2d9d595ec249"
      },
      "outputs": [
        {
          "output_type": "stream",
          "name": "stdout",
          "text": [
            "{'city_name': 'London', 'location': {}}\n"
          ]
        }
      ],
      "source": [
        "print (city_info(\"London\", {}))"
      ]
    },
    {
      "cell_type": "code",
      "execution_count": 9,
      "id": "6a9c33ac-045a-43ac-8e1a-68f4a2b4d514",
      "metadata": {
        "height": 370,
        "id": "6a9c33ac-045a-43ac-8e1a-68f4a2b4d514"
      },
      "outputs": [],
      "source": [
        "raven_prompt = \\\n",
        "'''\n",
        "Function:\n",
        "def city_info(city_name : str, location : dict):\n",
        "\"\"\"\n",
        "Gets the city info\n",
        "\"\"\"\n",
        "\n",
        "Function:\n",
        "def construct_location_dict(country : str, continent : dict):\n",
        "\"\"\"\n",
        "Provides the location dictionary\n",
        "\"\"\"\n",
        "\n",
        "def construct_continent_dict(simple_name : str, other_name : str):\n",
        "\"\"\"\n",
        "Provides the continent dict\n",
        "\"\"\"\n",
        "\n",
        "User Query: {question}<human_end>\n",
        "'''"
      ]
    },
    {
      "cell_type": "code",
      "execution_count": 10,
      "id": "10c9c60b-19b0-4dbb-8a9c-2dc92c5aad05",
      "metadata": {
        "colab": {
          "base_uri": "https://localhost:8080/"
        },
        "height": 115,
        "id": "10c9c60b-19b0-4dbb-8a9c-2dc92c5aad05",
        "outputId": "ebfff5c2-d508-4c90-f50f-5edb30d18da8"
      },
      "outputs": [
        {
          "output_type": "stream",
          "name": "stdout",
          "text": [
            "{'city_name': 'London', 'location': {'country': 'United Kingdom', 'continent': {'simple_name': 'Europe', 'other_name': 'Afro-Eur-Asia'}}}\n"
          ]
        }
      ],
      "source": [
        "question = \"I want the city info for London, \"\\\n",
        "\"which is in the United Kingdom, which is in Europe or Afro-Eur-Asia.\"\n",
        "\n",
        "output = query_raven(raven_prompt.format(question = question))\n",
        "json0 = eval(output)\n",
        "print (json0)"
      ]
    },
    {
      "cell_type": "code",
      "execution_count": 11,
      "id": "9238acd7-388b-4f8c-aed9-f86cbf7f73c4",
      "metadata": {
        "height": 47,
        "colab": {
          "base_uri": "https://localhost:8080/",
          "height": 54
        },
        "id": "9238acd7-388b-4f8c-aed9-f86cbf7f73c4",
        "outputId": "4b4879e4-f244-4b38-f113-fe9af40e55c2"
      },
      "outputs": [
        {
          "output_type": "execute_result",
          "data": {
            "text/plain": [
              "'{\"city_name\": \"London\", \"location\": {\"country\": \"United Kingdom\", \"continent\": {\"simple_name\": \"Europe\", \"other_name\": \"Afro-Eur-Asia\"}}}'"
            ],
            "application/vnd.google.colaboratory.intrinsic+json": {
              "type": "string"
            }
          },
          "metadata": {},
          "execution_count": 11
        }
      ],
      "source": [
        "import json\n",
        "json.dumps(json0)"
      ]
    },
    {
      "cell_type": "markdown",
      "id": "5dd2bf6a-b6cc-44e6-a20e-6f569e8d7577",
      "metadata": {
        "id": "5dd2bf6a-b6cc-44e6-a20e-6f569e8d7577"
      },
      "source": [
        "### Try These yourself!"
      ]
    },
    {
      "cell_type": "code",
      "execution_count": 12,
      "id": "09c43a37-6bf3-453b-b263-e53ab2d6856a",
      "metadata": {
        "colab": {
          "base_uri": "https://localhost:8080/"
        },
        "height": 132,
        "id": "09c43a37-6bf3-453b-b263-e53ab2d6856a",
        "outputId": "750566ac-e7ca-4ed9-aa13-1a953bd6f5e8"
      },
      "outputs": [
        {
          "output_type": "stream",
          "name": "stdout",
          "text": [
            "{'city_name': 'Tokyo', 'location': {'country': 'Japan', 'continent': {'simple_name': 'Asian', 'other_name': 'Eurasia'}}}\n"
          ]
        }
      ],
      "source": [
        "question = \"I need details for the city of Tokyo, \"\\\n",
        "\"situated in Japan, a part of the Asian continent, \"\\\n",
        "\"which is sometimes referred to as Eurasia.\"\n",
        "\n",
        "output = query_raven(raven_prompt.format(question = question))\n",
        "json1 = eval(output)\n",
        "print (json1)"
      ]
    },
    {
      "cell_type": "code",
      "execution_count": 13,
      "id": "2901c617-9688-45e1-b6ae-06c6a8ac01af",
      "metadata": {
        "height": 47,
        "colab": {
          "base_uri": "https://localhost:8080/",
          "height": 54
        },
        "id": "2901c617-9688-45e1-b6ae-06c6a8ac01af",
        "outputId": "590e327a-4ff5-4a3a-a47c-27fb15bb4104"
      },
      "outputs": [
        {
          "output_type": "execute_result",
          "data": {
            "text/plain": [
              "'{\"city_name\": \"London\", \"location\": {\"country\": \"United Kingdom\", \"continent\": {\"simple_name\": \"Europe\", \"other_name\": \"Afro-Eur-Asia\"}}}'"
            ],
            "application/vnd.google.colaboratory.intrinsic+json": {
              "type": "string"
            }
          },
          "metadata": {},
          "execution_count": 13
        }
      ],
      "source": [
        "import json\n",
        "json.dumps(json0)"
      ]
    },
    {
      "cell_type": "code",
      "execution_count": 13,
      "id": "69903cb2-b003-4c51-84b9-a5bf70a911b2",
      "metadata": {
        "height": 30,
        "id": "69903cb2-b003-4c51-84b9-a5bf70a911b2"
      },
      "outputs": [],
      "source": []
    }
  ],
  "metadata": {
    "kernelspec": {
      "display_name": "Python 3 (ipykernel)",
      "language": "python",
      "name": "python3"
    },
    "language_info": {
      "codemirror_mode": {
        "name": "ipython",
        "version": 3
      },
      "file_extension": ".py",
      "mimetype": "text/x-python",
      "name": "python",
      "nbconvert_exporter": "python",
      "pygments_lexer": "ipython3",
      "version": "3.11.9"
    },
    "colab": {
      "provenance": [],
      "include_colab_link": true
    }
  },
  "nbformat": 4,
  "nbformat_minor": 5
}