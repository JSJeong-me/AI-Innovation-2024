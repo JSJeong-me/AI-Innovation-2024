{
  "nbformat": 4,
  "nbformat_minor": 0,
  "metadata": {
    "colab": {
      "provenance": [],
      "authorship_tag": "ABX9TyMHhgwPVuyfoHu8hCU25Xrs",
      "include_colab_link": true
    },
    "kernelspec": {
      "name": "python3",
      "display_name": "Python 3"
    },
    "language_info": {
      "name": "python"
    }
  },
  "cells": [
    {
      "cell_type": "markdown",
      "metadata": {
        "id": "view-in-github",
        "colab_type": "text"
      },
      "source": [
        "<a href=\"https://colab.research.google.com/github/JSJeong-me/AI-Innovation-2024/blob/main/Transformer/5-3-PEFT.ipynb\" target=\"_parent\"><img src=\"https://colab.research.google.com/assets/colab-badge.svg\" alt=\"Open In Colab\"/></a>"
      ]
    },
    {
      "cell_type": "code",
      "source": [
        "!pip install peft\n",
        "!pip install transformers"
      ],
      "metadata": {
        "id": "DCq8mAmHZ_-n"
      },
      "execution_count": null,
      "outputs": []
    },
    {
      "cell_type": "code",
      "source": [
        "from peft import PeftModel, PeftConfig\n",
        "from transformers import AutoModelForCausalLM\n",
        "\n",
        "config = PeftConfig.from_pretrained(\"Leejy0-0/gemma_lora\")\n",
        "base_model = AutoModelForCausalLM.from_pretrained(\"google/gemma-2b-it\")\n",
        "model = PeftModel.from_pretrained(base_model, \"Leejy0-0/gemma_lora\")"
      ],
      "metadata": {
        "id": "BxVliswcZpYd"
      },
      "execution_count": null,
      "outputs": []
    },
    {
      "cell_type": "code",
      "source": [
        "# pipe_finetuned = pipeline(\"text-generation\", model=model, tokenizer=tokenizer, max_new_tokens=512)"
      ],
      "metadata": {
        "id": "aq5DgUtzcx_v"
      },
      "execution_count": null,
      "outputs": []
    },
    {
      "cell_type": "code",
      "source": [
        "from transformers import AutoTokenizer, pipeline\n",
        "# Load the tokenizer\n",
        "tokenizer = AutoTokenizer.from_pretrained(\"google/gemma-2b-it\")\n",
        "\n",
        "# Function for inference\n",
        "def generate_text(prompt, max_length=100):\n",
        "    # Tokenize input\n",
        "    inputs = tokenizer(prompt, return_tensors=\"pt\")\n",
        "\n",
        "    # Generate output\n",
        "    output = model.generate(**inputs, max_length=max_length, num_return_sequences=1)\n",
        "\n",
        "    # Decode the output\n",
        "    decoded_output = tokenizer.decode(output[0], skip_special_tokens=True)\n",
        "    return decoded_output\n",
        "\n",
        "# Example usage\n",
        "prompt = \"Once upon a time\"\n",
        "generated_text = generate_text(prompt)\n",
        "print(generated_text)\n"
      ],
      "metadata": {
        "id": "QVLD6ddZbY4X"
      },
      "execution_count": null,
      "outputs": []
    },
    {
      "cell_type": "code",
      "source": [
        "# doc = \"김건희 여사의 도이치모터스 주가조작 연루 의혹을 수사해온 검찰이 17일 김 여사를 불기소 처분했다. 지난 2020년 4월 고발장을 접수한지 4년 6개월 만이다. 검찰은 김 여사 명의 계좌 3개가 주가조작에 이용된 것으로 볼 수 있다면서도 김 여사가 주가조작 세력과 공모했다거나 이들의 주가조작을 인식했다고 보기 어렵다고 결론 내렸다.\""
      ],
      "metadata": {
        "id": "dODE-Mu-cgQP"
      },
      "execution_count": 8,
      "outputs": []
    },
    {
      "cell_type": "code",
      "source": [
        "# messages = [\n",
        "#     {\n",
        "#         \"role\": \"user\",\n",
        "#         \"content\": \"다음 글을 요약해주세요 : \\n\\n{}\".format(doc)\n",
        "#     }\n",
        "# ]\n",
        "# prompt = pipe_finetuned.tokenizer.apply_chat_template(messages, tokenize=False, add_generation_prompt=True)"
      ],
      "metadata": {
        "id": "3jsw16eFcj1r"
      },
      "execution_count": 9,
      "outputs": []
    },
    {
      "cell_type": "code",
      "source": [
        "prompt"
      ],
      "metadata": {
        "id": "vL-hXvaSa8Tx",
        "outputId": "29c69fd2-4541-4ce4-f86a-b3a77670e12e",
        "colab": {
          "base_uri": "https://localhost:8080/",
          "height": 90
        }
      },
      "execution_count": 10,
      "outputs": [
        {
          "output_type": "execute_result",
          "data": {
            "text/plain": [
              "'<bos><start_of_turn>user\\n다음 글을 요약해주세요 : \\n\\n김건희 여사의 도이치모터스 주가조작 연루 의혹을 수사해온 검찰이 17일 김 여사를 불기소 처분했다. 지난 2020년 4월 고발장을 접수한지 4년 6개월 만이다. 검찰은 김 여사 명의 계좌 3개가 주가조작에 이용된 것으로 볼 수 있다면서도 김 여사가 주가조작 세력과 공모했다거나 이들의 주가조작을 인식했다고 보기 어렵다고 결론 내렸다.<end_of_turn>\\n<start_of_turn>model\\n'"
            ],
            "application/vnd.google.colaboratory.intrinsic+json": {
              "type": "string"
            }
          },
          "metadata": {},
          "execution_count": 10
        }
      ]
    },
    {
      "cell_type": "code",
      "source": [],
      "metadata": {
        "id": "a3bAsL3Ta-Z-"
      },
      "execution_count": null,
      "outputs": []
    }
  ]
}