{
  "nbformat": 4,
  "nbformat_minor": 0,
  "metadata": {
    "colab": {
      "provenance": [],
      "authorship_tag": "ABX9TyMLj2qEz8l4dWWYOh723b0m",
      "include_colab_link": true
    },
    "kernelspec": {
      "name": "python3",
      "display_name": "Python 3"
    },
    "language_info": {
      "name": "python"
    }
  },
  "cells": [
    {
      "cell_type": "markdown",
      "metadata": {
        "id": "view-in-github",
        "colab_type": "text"
      },
      "source": [
        "<a href=\"https://colab.research.google.com/github/JSJeong-me/AI-Innovation-2024/blob/main/Transformer/5-3-PEFT.ipynb\" target=\"_parent\"><img src=\"https://colab.research.google.com/assets/colab-badge.svg\" alt=\"Open In Colab\"/></a>"
      ]
    },
    {
      "cell_type": "code",
      "source": [
        "!pip install peft\n",
        "!pip install transformers"
      ],
      "metadata": {
        "id": "DCq8mAmHZ_-n"
      },
      "execution_count": null,
      "outputs": []
    },
    {
      "cell_type": "code",
      "source": [
        "from peft import PeftModel, PeftConfig\n",
        "from transformers import AutoModelForCausalLM"
      ],
      "metadata": {
        "id": "BxVliswcZpYd"
      },
      "execution_count": null,
      "outputs": []
    },
    {
      "cell_type": "code",
      "source": [
        "config = PeftConfig.from_pretrained(\"Leejy0-0/gemma_lora\")"
      ],
      "metadata": {
        "id": "LTE538p7klRt"
      },
      "execution_count": null,
      "outputs": []
    },
    {
      "cell_type": "code",
      "source": [
        "base_model = AutoModelForCausalLM.from_pretrained(\"google/gemma-2b-it\")\n",
        "model = PeftModel.from_pretrained(base_model, \"Leejy0-0/gemma_lora\")"
      ],
      "metadata": {
        "id": "IzTpmjs3lD5o"
      },
      "execution_count": null,
      "outputs": []
    },
    {
      "cell_type": "code",
      "source": [
        "pipe_finetuned = pipeline(\"text-generation\", model=model, tokenizer=tokenizer, max_new_tokens=512)"
      ],
      "metadata": {
        "id": "aq5DgUtzcx_v"
      },
      "execution_count": null,
      "outputs": []
    },
    {
      "cell_type": "code",
      "source": [
        "from transformers import AutoTokenizer, pipeline\n",
        "# Load the tokenizer\n",
        "tokenizer = AutoTokenizer.from_pretrained(\"google/gemma-2b-it\")"
      ],
      "metadata": {
        "id": "QVLD6ddZbY4X"
      },
      "execution_count": null,
      "outputs": []
    },
    {
      "cell_type": "code",
      "source": [
        "# Function for inference\n",
        "def generate_text(prompt, max_length=100):\n",
        "    # Tokenize input\n",
        "    inputs = tokenizer(prompt, return_tensors=\"pt\")\n",
        "\n",
        "    # Generate output\n",
        "    output = model.generate(**inputs, max_length=max_length, num_return_sequences=1)\n",
        "\n",
        "    # Decode the output\n",
        "    decoded_output = tokenizer.decode(output[0], skip_special_tokens=True)\n",
        "    return decoded_output"
      ],
      "metadata": {
        "id": "jHoF73W4k_g_"
      },
      "execution_count": null,
      "outputs": []
    },
    {
      "cell_type": "code",
      "source": [
        "# Example usage\n",
        "prompt = \"How many legs a dog has?\"\n",
        "generated_text = generate_text(prompt)\n",
        "print(generated_text)"
      ],
      "metadata": {
        "colab": {
          "base_uri": "https://localhost:8080/"
        },
        "id": "Z8NVqgFxlBwx",
        "outputId": "bed1ef14-8a35-42c7-d0e7-1f49c329ca2f"
      },
      "execution_count": 33,
      "outputs": [
        {
          "output_type": "stream",
          "name": "stdout",
          "text": [
            "How many legs a dog has?\n",
            "\n",
            "A dog has four legs. They are used for locomotion, balance, and support.\n"
          ]
        }
      ]
    },
    {
      "cell_type": "code",
      "source": [
        "# doc = \"김건희 여사의 도이치모터스 주가조작 연루 의혹을 수사해온 검찰이 17일 김 여사를 불기소 처분했다. 지난 2020년 4월 고발장을 접수한지 4년 6개월 만이다. 검찰은 김 여사 명의 계좌 3개가 주가조작에 이용된 것으로 볼 수 있다면서도 김 여사가 주가조작 세력과 공모했다거나 이들의 주가조작을 인식했다고 보기 어렵다고 결론 내렸다.\""
      ],
      "metadata": {
        "id": "dODE-Mu-cgQP"
      },
      "execution_count": null,
      "outputs": []
    },
    {
      "cell_type": "code",
      "source": [
        "doc = \"목요일인 19일은 전국이 차차 흐려지겠다. 중부 지방에도\""
      ],
      "metadata": {
        "id": "lufsvHjJmBVj"
      },
      "execution_count": null,
      "outputs": []
    },
    {
      "cell_type": "code",
      "source": [
        "doc = \"Who is the President of United Stated?\""
      ],
      "metadata": {
        "id": "QI8J5c8gouRq"
      },
      "execution_count": 28,
      "outputs": []
    },
    {
      "cell_type": "code",
      "source": [
        "messages = [\n",
        "    {\n",
        "        \"role\": \"user\",\n",
        "        \"content\": \"Please let me know : \\n\\n{}\".format(doc)\n",
        "    }\n",
        "]\n",
        "prompt = pipe_finetuned.tokenizer.apply_chat_template(messages, tokenize=False, add_generation_prompt=True)"
      ],
      "metadata": {
        "id": "3jsw16eFcj1r"
      },
      "execution_count": 29,
      "outputs": []
    },
    {
      "cell_type": "code",
      "source": [
        "prompt"
      ],
      "metadata": {
        "id": "vL-hXvaSa8Tx",
        "outputId": "cab1b11c-1884-46cf-e05f-b3db7d51b2a2",
        "colab": {
          "base_uri": "https://localhost:8080/",
          "height": 54
        }
      },
      "execution_count": 30,
      "outputs": [
        {
          "output_type": "execute_result",
          "data": {
            "text/plain": [
              "'<bos><start_of_turn>user\\nPlease let me know : \\n\\nWho is the President of United Stated?<end_of_turn>\\n<start_of_turn>model\\n'"
            ],
            "application/vnd.google.colaboratory.intrinsic+json": {
              "type": "string"
            }
          },
          "metadata": {},
          "execution_count": 30
        }
      ]
    },
    {
      "cell_type": "code",
      "source": [
        "generated_text = generate_text(prompt)\n",
        "print(generated_text)"
      ],
      "metadata": {
        "id": "a3bAsL3Ta-Z-",
        "colab": {
          "base_uri": "https://localhost:8080/"
        },
        "outputId": "f6ff1aac-5bf3-4d19-d35e-5634aa2d506b"
      },
      "execution_count": 31,
      "outputs": [
        {
          "output_type": "stream",
          "name": "stdout",
          "text": [
            "user\n",
            "Please let me know : \n",
            "\n",
            "Who is the President of United Stated?\n",
            "model\n",
            "As of October 26, 2022, the President of the United States is Joe Biden. \n",
            "He took office on January 20, 2021. \n",
            "Biden is the 46th President of the United States. \n",
            "He is the first Democrat to hold the office since Barack Obama in 201\n"
          ]
        }
      ]
    }
  ]
}