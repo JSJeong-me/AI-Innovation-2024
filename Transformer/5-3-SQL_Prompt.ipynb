{
  "cells": [
    {
      "cell_type": "markdown",
      "metadata": {
        "id": "view-in-github",
        "colab_type": "text"
      },
      "source": [
        "<a href=\"https://colab.research.google.com/github/JSJeong-me/AI-Innovation-2024/blob/main/Transformer/5-3-SQL_Prompt.ipynb\" target=\"_parent\"><img src=\"https://colab.research.google.com/assets/colab-badge.svg\" alt=\"Open In Colab\"/></a>"
      ]
    },
    {
      "cell_type": "markdown",
      "metadata": {
        "id": "v4uiHZNMfv1f"
      },
      "source": [
        "> Note: You can access the `data` and `util` subdirectories used in the course. In Jupyter version 6, this is via the File>Open menu. In Jupyter version 7 this is in View> File Browser\n",
        "\n",
        "> Also note that as models and systems change, the output of the models may shift from the video content."
      ]
    },
    {
      "cell_type": "code",
      "source": [
        "!wget --no-check-certificate 'https://docs.google.com/uc?export=download&id=1kk91GU9DYG4u8HvwEqdyHVD1FgdPOq4D' -O requirements.txt"
      ],
      "metadata": {
        "id": "qCYc7Y9onHJt"
      },
      "execution_count": null,
      "outputs": []
    },
    {
      "cell_type": "code",
      "source": [
        "!pip install -r requirements.txt"
      ],
      "metadata": {
        "id": "NEbRvoSLgWHT"
      },
      "execution_count": null,
      "outputs": []
    },
    {
      "cell_type": "code",
      "execution_count": 3,
      "metadata": {
        "height": 30,
        "id": "77S5dkddfv1g"
      },
      "outputs": [],
      "source": [
        "import lamini"
      ]
    },
    {
      "cell_type": "code",
      "source": [
        "def get_schema():\n",
        "    return \"\"\"\\\n",
        "0|Team|TEXT\n",
        "1|NAME|TEXT\n",
        "2|Jersey|TEXT\n",
        "3|POS|TEXT\n",
        "4|AGE|INT\n",
        "5|HT|TEXT\n",
        "6|WT|TEXT\n",
        "7|COLLEGE|TEXT\n",
        "8|SALARY|TEXT eg.\n",
        "\"\"\""
      ],
      "metadata": {
        "id": "u-4Ar-nOnlg-"
      },
      "execution_count": 5,
      "outputs": []
    },
    {
      "cell_type": "code",
      "source": [
        "# Meta Llama 3 Instruct uses a prompt template, with special tags used to indicate the user query and system prompt.\n",
        "# You can find the documentation on this [model card](https://llama.meta.com/docs/model-cards-and-prompt-formats/meta-llama-3/#meta-llama-3-instruct).\n",
        "def make_llama_3_prompt(user, system=\"\"):\n",
        "    system_prompt = \"\"\n",
        "    if system != \"\":\n",
        "        system_prompt = (\n",
        "            f\"<|start_header_id|>system<|end_header_id|>\\n\\n{system}<|eot_id|>\"\n",
        "        )\n",
        "    return f\"<|begin_of_text|>{system_prompt}<|start_header_id|>user<|end_header_id|>\\n\\n{user}<|eot_id|><|start_header_id|>assistant<|end_header_id|>\\n\\n\""
      ],
      "metadata": {
        "id": "HIZU50wbnvDx"
      },
      "execution_count": 6,
      "outputs": []
    },
    {
      "cell_type": "code",
      "source": [
        "import logging\n",
        "\n",
        "\n",
        "def setup_logging():\n",
        "    # Remove all handlers associated with the root logger object.\n",
        "    for handler in logging.root.handlers[:]:\n",
        "        logging.root.removeHandler(handler)\n",
        "\n",
        "    logging.basicConfig(\n",
        "        level=logging.WARNING,\n",
        "        format=\"%(asctime)s [%(levelname)s] %(message)s\",\n",
        "        handlers=[logging.StreamHandler()],\n",
        "    )\n"
      ],
      "metadata": {
        "id": "aT-5F1enn6D0"
      },
      "execution_count": 7,
      "outputs": []
    },
    {
      "cell_type": "code",
      "source": [
        "!wget https://github.com/meta-llama/llama-recipes/raw/main/recipes/3p_integrations/lamini/text2sql_memory_tuning/nba_roster.db"
      ],
      "metadata": {
        "id": "CdC6rYaTpQyc"
      },
      "execution_count": null,
      "outputs": []
    },
    {
      "cell_type": "code",
      "execution_count": 27,
      "metadata": {
        "height": 183,
        "id": "GBiXfT4Ffv1g"
      },
      "outputs": [],
      "source": [
        "import sqlite3\n",
        "import pandas as pd\n",
        "\n",
        "logger = logging.getLogger(__name__)\n",
        "engine = sqlite3.connect(\"./nba_roster.db\")\n",
        "setup_logging()"
      ]
    },
    {
      "cell_type": "code",
      "source": [
        "from google.colab import userdata\n",
        "lamini.api_key=userdata.get('LAMINI_API_KEY')"
      ],
      "metadata": {
        "id": "JtuT20LSjgX6"
      },
      "execution_count": 10,
      "outputs": []
    },
    {
      "cell_type": "code",
      "execution_count": 11,
      "metadata": {
        "height": 30,
        "id": "8IBHL_4pfv1g"
      },
      "outputs": [],
      "source": [
        "llm = lamini.Lamini(model_name=\"meta-llama/Meta-Llama-3-8B-Instruct\", api_key = lamini.api_key )"
      ]
    },
    {
      "cell_type": "code",
      "execution_count": 28,
      "metadata": {
        "height": 30,
        "id": "BgeeRielfv1h"
      },
      "outputs": [],
      "source": [
        "user = \"\"\"Who is the highest paid NBA player?\"\"\""
      ]
    },
    {
      "cell_type": "code",
      "execution_count": 29,
      "metadata": {
        "height": 96,
        "id": "N15Fn6a8fv1h"
      },
      "outputs": [],
      "source": [
        "system = f\"\"\"You are an NBA analyst with 15 years of experience writing complex SQL queries. Consider the nba_roster table with the following schema:\n",
        "{get_schema()}\n",
        "\n",
        "Write a sqlite query to answer the following question. Follow instructions exactly\"\"\""
      ]
    },
    {
      "cell_type": "code",
      "execution_count": 30,
      "metadata": {
        "height": 30,
        "colab": {
          "base_uri": "https://localhost:8080/"
        },
        "id": "8fJY2YuUfv1h",
        "outputId": "908e0223-2d30-4d52-9192-f3bf6169e921"
      },
      "outputs": [
        {
          "output_type": "stream",
          "name": "stdout",
          "text": [
            "You are an NBA analyst with 15 years of experience writing complex SQL queries. Consider the nba_roster table with the following schema:\n",
            "0|Team|TEXT \n",
            "1|NAME|TEXT  \n",
            "2|Jersey|TEXT \n",
            "3|POS|TEXT\n",
            "4|AGE|INT \n",
            "5|HT|TEXT \n",
            "6|WT|TEXT \n",
            "7|COLLEGE|TEXT \n",
            "8|SALARY|TEXT eg. \n",
            "\n",
            "\n",
            "Write a sqlite query to answer the following question. Follow instructions exactly\n"
          ]
        }
      ],
      "source": [
        "print(system)"
      ]
    },
    {
      "cell_type": "code",
      "execution_count": 31,
      "metadata": {
        "height": 30,
        "id": "5nRLq9UKfv1i"
      },
      "outputs": [],
      "source": [
        "prompt = make_llama_3_prompt(user, system)"
      ]
    },
    {
      "cell_type": "code",
      "execution_count": 32,
      "metadata": {
        "height": 30,
        "colab": {
          "base_uri": "https://localhost:8080/"
        },
        "id": "G-Ttd0KBfv1i",
        "outputId": "ed1875f9-a428-48a7-957a-2dab75fcafb0"
      },
      "outputs": [
        {
          "output_type": "stream",
          "name": "stdout",
          "text": [
            "To answer this question, we can use the following SQLite query:\n",
            "\n",
            "```sql\n",
            "SELECT NAME, SALARY\n",
            "FROM nba_roster\n",
            "ORDER BY SALARY DESC\n",
            "LIMIT 1;\n",
            "```\n",
            "\n",
            "This query will return the name and salary of the highest paid NBA player. The `ORDER BY SALARY DESC` clause sorts the players by their salary in descending order (highest to lowest), and the `LIMIT 1` clause ensures that we only get the top result.\n"
          ]
        }
      ],
      "source": [
        "print(llm.generate(prompt, max_new_tokens=200))"
      ]
    },
    {
      "cell_type": "code",
      "execution_count": 33,
      "metadata": {
        "height": 217,
        "id": "-BqfRm3gfv1i"
      },
      "outputs": [],
      "source": [
        "def get_updated_schema():\n",
        "    return \"\"\"\\\n",
        "0|Team|TEXT eg. \"Toronto Raptors\"\n",
        "1|NAME|TEXT eg. \"Otto Porter Jr.\"\n",
        "2|Jersey|TEXT eg. \"0\" and when null has a value \"NA\"\n",
        "3|POS|TEXT eg. \"PF\"\n",
        "4|AGE|INT eg. \"22\" in years\n",
        "5|HT|TEXT eg. `6' 7\"` or `6' 10\"`\n",
        "6|WT|TEXT eg. \"232 lbs\"\n",
        "7|COLLEGE|TEXT eg. \"Michigan\" and when null has a value \"--\"\n",
        "8|SALARY|TEXT eg. \"$9,945,830\" and when null has a value \"--\"\n",
        "\"\"\""
      ]
    },
    {
      "cell_type": "code",
      "execution_count": 34,
      "metadata": {
        "height": 96,
        "id": "GDhtuYsdfv1i"
      },
      "outputs": [],
      "source": [
        "system = f\"\"\"You are an NBA analyst with 15 years of experience writing complex SQL queries. Consider the nba_roster table with the following schema:\n",
        "{get_updated_schema()}\n",
        "\n",
        "Write a sqlite query to answer the following question. Follow instructions exactly\"\"\""
      ]
    },
    {
      "cell_type": "code",
      "execution_count": 35,
      "metadata": {
        "height": 30,
        "id": "Z46oGWWLfv1i"
      },
      "outputs": [],
      "source": [
        "prompt = make_llama_3_prompt(user, system)"
      ]
    },
    {
      "cell_type": "code",
      "execution_count": 36,
      "metadata": {
        "height": 30,
        "colab": {
          "base_uri": "https://localhost:8080/"
        },
        "id": "fsiG8Vb9fv1i",
        "outputId": "9d7bc26a-ceb1-4615-8f16-49dfd9ed749a"
      },
      "outputs": [
        {
          "output_type": "stream",
          "name": "stdout",
          "text": [
            "<|begin_of_text|><|start_header_id|>system<|end_header_id|>\n",
            "\n",
            "You are an NBA analyst with 15 years of experience writing complex SQL queries. Consider the nba_roster table with the following schema:\n",
            "0|Team|TEXT eg. \"Toronto Raptors\"\n",
            "1|NAME|TEXT eg. \"Otto Porter Jr.\"\n",
            "2|Jersey|TEXT eg. \"0\" and when null has a value \"NA\"\n",
            "3|POS|TEXT eg. \"PF\"\n",
            "4|AGE|INT eg. \"22\" in years\n",
            "5|HT|TEXT eg. `6' 7\"` or `6' 10\"`\n",
            "6|WT|TEXT eg. \"232 lbs\" \n",
            "7|COLLEGE|TEXT eg. \"Michigan\" and when null has a value \"--\"\n",
            "8|SALARY|TEXT eg. \"$9,945,830\" and when null has a value \"--\"\n",
            "\n",
            "\n",
            "Write a sqlite query to answer the following question. Follow instructions exactly<|eot_id|><|start_header_id|>user<|end_header_id|>\n",
            "\n",
            "Who is the highest paid NBA player?<|eot_id|><|start_header_id|>assistant<|end_header_id|>\n",
            "\n",
            "\n"
          ]
        }
      ],
      "source": [
        "print(prompt)"
      ]
    },
    {
      "cell_type": "code",
      "execution_count": 37,
      "metadata": {
        "height": 30,
        "colab": {
          "base_uri": "https://localhost:8080/"
        },
        "id": "dI-q9rYffv1i",
        "outputId": "94caf1ab-5e2e-4333-ff68-866922691dde"
      },
      "outputs": [
        {
          "output_type": "stream",
          "name": "stdout",
          "text": [
            "To answer this question, we can use the following SQL query:\n",
            "\n",
            "```sql\n",
            "SELECT NAME, SALARY\n",
            "FROM nba_roster\n",
            "WHERE SALARY!= '--'\n",
            "ORDER BY CAST(SALARY AS REAL) DESC\n",
            "LIMIT 1;\n",
            "```\n",
            "\n",
            "This query first filters out the rows where the salary is '--' (i.e., the players who don't have a salary listed). Then, it orders the remaining rows by the salary in descending order (highest to lowest). Finally, it returns the top row, which corresponds to the highest paid NBA player.\n"
          ]
        }
      ],
      "source": [
        "print(llm.generate(prompt, max_new_tokens=200))"
      ]
    },
    {
      "cell_type": "markdown",
      "metadata": {
        "id": "J4qBdQNIfv1j"
      },
      "source": [
        "## Structured Output\n",
        "\n",
        "We'd like to be able to get just SQL output so we don't have to parse the query from the model response. For this we can use structured output."
      ]
    },
    {
      "cell_type": "code",
      "execution_count": 38,
      "metadata": {
        "height": 30,
        "id": "rOZ7d1s3fv1j"
      },
      "outputs": [],
      "source": [
        "result = llm.generate(prompt, output_type={\"sqlite_query\": \"str\"}, max_new_tokens=200)"
      ]
    },
    {
      "cell_type": "code",
      "execution_count": 39,
      "metadata": {
        "height": 30,
        "colab": {
          "base_uri": "https://localhost:8080/"
        },
        "id": "DJopiCo2fv1j",
        "outputId": "522aa138-30ff-4fda-f0be-26f95ac6bfba"
      },
      "outputs": [
        {
          "output_type": "execute_result",
          "data": {
            "text/plain": [
              "{'sqlite_query': \"SELECT NAME, SALARY FROM nba_roster WHERE SALARY!= '--' ORDER BY CAST(SALARY AS REAL) DESC LIMIT 1\"}"
            ]
          },
          "metadata": {},
          "execution_count": 39
        }
      ],
      "source": [
        "result"
      ]
    },
    {
      "cell_type": "markdown",
      "metadata": {
        "id": "ug3FMrxtfv1j"
      },
      "source": [
        "This is great, now we can directly query with the output"
      ]
    },
    {
      "cell_type": "code",
      "source": [
        "import pandas as pd\n",
        "from sqlalchemy import create_engine\n",
        "import sqlite3\n",
        "\n",
        "# Create a connection to the SQLite database. If the file doesn't exist it will be created.\n",
        "conn = sqlite3.connect('nba_roster.db')\n",
        "\n",
        "# Create a cursor object to execute SQL commands.\n",
        "cursor = conn.cursor()\n",
        "\n",
        "# Create the nba_roster table if it doesn't exist.\n",
        "# Assuming the table has columns for 'NAME' and 'SALARY'\n",
        "# Please modify the column names and types if they differ in your data.\n",
        "cursor.execute('''\n",
        "CREATE TABLE IF NOT EXISTS nba_roster (\n",
        "    NAME TEXT,\n",
        "    SALARY TEXT\n",
        ")\n",
        "''')\n",
        "\n",
        "# Commit the changes to the database.\n",
        "conn.commit()\n",
        "\n",
        "# Now, proceed with your data loading or other operations.\n",
        "engine = create_engine('sqlite:///nba_roster.db')\n",
        "df = pd.read_sql(result['sqlite_query'], con=engine)"
      ],
      "metadata": {
        "id": "uXY43SE-kbpn"
      },
      "execution_count": 40,
      "outputs": []
    },
    {
      "cell_type": "code",
      "execution_count": null,
      "metadata": {
        "height": 30,
        "id": "BSSQg9orfv1j"
      },
      "outputs": [],
      "source": [
        "# df = pd.read_sql(result['sqlite_query'], con=engine)"
      ]
    },
    {
      "cell_type": "code",
      "execution_count": 41,
      "metadata": {
        "height": 30,
        "colab": {
          "base_uri": "https://localhost:8080/",
          "height": 89
        },
        "id": "aYMbRqHHfv1j",
        "outputId": "b2b6e58c-67f9-4bf2-a5a1-6a07799bb89d"
      },
      "outputs": [
        {
          "output_type": "execute_result",
          "data": {
            "text/plain": [
              "         NAME      SALARY\n",
              "0  Saddiq Bey  $4,556,983"
            ],
            "text/html": [
              "\n",
              "  <div id=\"df-433f9fd4-0756-490e-82c2-5382f80f2a21\" class=\"colab-df-container\">\n",
              "    <div>\n",
              "<style scoped>\n",
              "    .dataframe tbody tr th:only-of-type {\n",
              "        vertical-align: middle;\n",
              "    }\n",
              "\n",
              "    .dataframe tbody tr th {\n",
              "        vertical-align: top;\n",
              "    }\n",
              "\n",
              "    .dataframe thead th {\n",
              "        text-align: right;\n",
              "    }\n",
              "</style>\n",
              "<table border=\"1\" class=\"dataframe\">\n",
              "  <thead>\n",
              "    <tr style=\"text-align: right;\">\n",
              "      <th></th>\n",
              "      <th>NAME</th>\n",
              "      <th>SALARY</th>\n",
              "    </tr>\n",
              "  </thead>\n",
              "  <tbody>\n",
              "    <tr>\n",
              "      <th>0</th>\n",
              "      <td>Saddiq Bey</td>\n",
              "      <td>$4,556,983</td>\n",
              "    </tr>\n",
              "  </tbody>\n",
              "</table>\n",
              "</div>\n",
              "    <div class=\"colab-df-buttons\">\n",
              "\n",
              "  <div class=\"colab-df-container\">\n",
              "    <button class=\"colab-df-convert\" onclick=\"convertToInteractive('df-433f9fd4-0756-490e-82c2-5382f80f2a21')\"\n",
              "            title=\"Convert this dataframe to an interactive table.\"\n",
              "            style=\"display:none;\">\n",
              "\n",
              "  <svg xmlns=\"http://www.w3.org/2000/svg\" height=\"24px\" viewBox=\"0 -960 960 960\">\n",
              "    <path d=\"M120-120v-720h720v720H120Zm60-500h600v-160H180v160Zm220 220h160v-160H400v160Zm0 220h160v-160H400v160ZM180-400h160v-160H180v160Zm440 0h160v-160H620v160ZM180-180h160v-160H180v160Zm440 0h160v-160H620v160Z\"/>\n",
              "  </svg>\n",
              "    </button>\n",
              "\n",
              "  <style>\n",
              "    .colab-df-container {\n",
              "      display:flex;\n",
              "      gap: 12px;\n",
              "    }\n",
              "\n",
              "    .colab-df-convert {\n",
              "      background-color: #E8F0FE;\n",
              "      border: none;\n",
              "      border-radius: 50%;\n",
              "      cursor: pointer;\n",
              "      display: none;\n",
              "      fill: #1967D2;\n",
              "      height: 32px;\n",
              "      padding: 0 0 0 0;\n",
              "      width: 32px;\n",
              "    }\n",
              "\n",
              "    .colab-df-convert:hover {\n",
              "      background-color: #E2EBFA;\n",
              "      box-shadow: 0px 1px 2px rgba(60, 64, 67, 0.3), 0px 1px 3px 1px rgba(60, 64, 67, 0.15);\n",
              "      fill: #174EA6;\n",
              "    }\n",
              "\n",
              "    .colab-df-buttons div {\n",
              "      margin-bottom: 4px;\n",
              "    }\n",
              "\n",
              "    [theme=dark] .colab-df-convert {\n",
              "      background-color: #3B4455;\n",
              "      fill: #D2E3FC;\n",
              "    }\n",
              "\n",
              "    [theme=dark] .colab-df-convert:hover {\n",
              "      background-color: #434B5C;\n",
              "      box-shadow: 0px 1px 3px 1px rgba(0, 0, 0, 0.15);\n",
              "      filter: drop-shadow(0px 1px 2px rgba(0, 0, 0, 0.3));\n",
              "      fill: #FFFFFF;\n",
              "    }\n",
              "  </style>\n",
              "\n",
              "    <script>\n",
              "      const buttonEl =\n",
              "        document.querySelector('#df-433f9fd4-0756-490e-82c2-5382f80f2a21 button.colab-df-convert');\n",
              "      buttonEl.style.display =\n",
              "        google.colab.kernel.accessAllowed ? 'block' : 'none';\n",
              "\n",
              "      async function convertToInteractive(key) {\n",
              "        const element = document.querySelector('#df-433f9fd4-0756-490e-82c2-5382f80f2a21');\n",
              "        const dataTable =\n",
              "          await google.colab.kernel.invokeFunction('convertToInteractive',\n",
              "                                                    [key], {});\n",
              "        if (!dataTable) return;\n",
              "\n",
              "        const docLinkHtml = 'Like what you see? Visit the ' +\n",
              "          '<a target=\"_blank\" href=https://colab.research.google.com/notebooks/data_table.ipynb>data table notebook</a>'\n",
              "          + ' to learn more about interactive tables.';\n",
              "        element.innerHTML = '';\n",
              "        dataTable['output_type'] = 'display_data';\n",
              "        await google.colab.output.renderOutput(dataTable, element);\n",
              "        const docLink = document.createElement('div');\n",
              "        docLink.innerHTML = docLinkHtml;\n",
              "        element.appendChild(docLink);\n",
              "      }\n",
              "    </script>\n",
              "  </div>\n",
              "\n",
              "\n",
              "  <div id=\"id_da9a5abc-14e4-41c3-9cae-e32d684453a3\">\n",
              "    <style>\n",
              "      .colab-df-generate {\n",
              "        background-color: #E8F0FE;\n",
              "        border: none;\n",
              "        border-radius: 50%;\n",
              "        cursor: pointer;\n",
              "        display: none;\n",
              "        fill: #1967D2;\n",
              "        height: 32px;\n",
              "        padding: 0 0 0 0;\n",
              "        width: 32px;\n",
              "      }\n",
              "\n",
              "      .colab-df-generate:hover {\n",
              "        background-color: #E2EBFA;\n",
              "        box-shadow: 0px 1px 2px rgba(60, 64, 67, 0.3), 0px 1px 3px 1px rgba(60, 64, 67, 0.15);\n",
              "        fill: #174EA6;\n",
              "      }\n",
              "\n",
              "      [theme=dark] .colab-df-generate {\n",
              "        background-color: #3B4455;\n",
              "        fill: #D2E3FC;\n",
              "      }\n",
              "\n",
              "      [theme=dark] .colab-df-generate:hover {\n",
              "        background-color: #434B5C;\n",
              "        box-shadow: 0px 1px 3px 1px rgba(0, 0, 0, 0.15);\n",
              "        filter: drop-shadow(0px 1px 2px rgba(0, 0, 0, 0.3));\n",
              "        fill: #FFFFFF;\n",
              "      }\n",
              "    </style>\n",
              "    <button class=\"colab-df-generate\" onclick=\"generateWithVariable('df')\"\n",
              "            title=\"Generate code using this dataframe.\"\n",
              "            style=\"display:none;\">\n",
              "\n",
              "  <svg xmlns=\"http://www.w3.org/2000/svg\" height=\"24px\"viewBox=\"0 0 24 24\"\n",
              "       width=\"24px\">\n",
              "    <path d=\"M7,19H8.4L18.45,9,17,7.55,7,17.6ZM5,21V16.75L18.45,3.32a2,2,0,0,1,2.83,0l1.4,1.43a1.91,1.91,0,0,1,.58,1.4,1.91,1.91,0,0,1-.58,1.4L9.25,21ZM18.45,9,17,7.55Zm-12,3A5.31,5.31,0,0,0,4.9,8.1,5.31,5.31,0,0,0,1,6.5,5.31,5.31,0,0,0,4.9,4.9,5.31,5.31,0,0,0,6.5,1,5.31,5.31,0,0,0,8.1,4.9,5.31,5.31,0,0,0,12,6.5,5.46,5.46,0,0,0,6.5,12Z\"/>\n",
              "  </svg>\n",
              "    </button>\n",
              "    <script>\n",
              "      (() => {\n",
              "      const buttonEl =\n",
              "        document.querySelector('#id_da9a5abc-14e4-41c3-9cae-e32d684453a3 button.colab-df-generate');\n",
              "      buttonEl.style.display =\n",
              "        google.colab.kernel.accessAllowed ? 'block' : 'none';\n",
              "\n",
              "      buttonEl.onclick = () => {\n",
              "        google.colab.notebook.generateWithVariable('df');\n",
              "      }\n",
              "      })();\n",
              "    </script>\n",
              "  </div>\n",
              "\n",
              "    </div>\n",
              "  </div>\n"
            ],
            "application/vnd.google.colaboratory.intrinsic+json": {
              "type": "dataframe",
              "variable_name": "df",
              "summary": "{\n  \"name\": \"df\",\n  \"rows\": 1,\n  \"fields\": [\n    {\n      \"column\": \"NAME\",\n      \"properties\": {\n        \"dtype\": \"string\",\n        \"num_unique_values\": 1,\n        \"samples\": [\n          \"Saddiq Bey\"\n        ],\n        \"semantic_type\": \"\",\n        \"description\": \"\"\n      }\n    },\n    {\n      \"column\": \"SALARY\",\n      \"properties\": {\n        \"dtype\": \"string\",\n        \"num_unique_values\": 1,\n        \"samples\": [\n          \"$4,556,983\"\n        ],\n        \"semantic_type\": \"\",\n        \"description\": \"\"\n      }\n    }\n  ]\n}"
            }
          },
          "metadata": {},
          "execution_count": 41
        }
      ],
      "source": [
        "df"
      ]
    },
    {
      "cell_type": "markdown",
      "metadata": {
        "id": "D32xISlefv1j"
      },
      "source": [
        "## Diagnose Hallucinations"
      ]
    },
    {
      "cell_type": "markdown",
      "metadata": {
        "id": "g2W4NQRHfv1j"
      },
      "source": [
        "The **wrong** query looks like this:\n",
        "\n",
        "```sql\n",
        "SELECT NAME, SALARY\n",
        "FROM nba_roster\n",
        "WHERE salary != '--'\n",
        "ORDER BY CAST(SALARY AS REAL) DESC\n",
        "LIMIT 1;\n",
        "```\n"
      ]
    },
    {
      "cell_type": "markdown",
      "metadata": {
        "id": "rH6uF7sYfv1j"
      },
      "source": [
        "The **correct** query is:\n",
        "\n",
        "```sql\n",
        "SELECT salary, name\n",
        "FROM nba_roster\n",
        "WHERE salary != '--'\n",
        "ORDER BY CAST(REPLACE(REPLACE(salary, '$', ''), ',','') AS INTEGER) DESC\n",
        "LIMIT 1;\n",
        "```"
      ]
    },
    {
      "cell_type": "code",
      "execution_count": 42,
      "metadata": {
        "height": 132,
        "colab": {
          "base_uri": "https://localhost:8080/"
        },
        "id": "2trQ2_UJfv1j",
        "outputId": "a86c5ab5-b900-497d-ef08-2a6d11350457"
      },
      "outputs": [
        {
          "output_type": "stream",
          "name": "stdout",
          "text": [
            "        SALARY           NAME\n",
            "0  $51,915,615  Stephen Curry\n"
          ]
        }
      ],
      "source": [
        "query=\"\"\"SELECT salary, name\n",
        "FROM nba_roster\n",
        "WHERE salary != '--'\n",
        "ORDER BY CAST(REPLACE(REPLACE(salary, '$', ''), ',','') AS INTEGER) DESC\n",
        "LIMIT 1;\"\"\"\n",
        "df = pd.read_sql(query, con=engine)\n",
        "print(df)"
      ]
    },
    {
      "cell_type": "code",
      "execution_count": null,
      "metadata": {
        "height": 30,
        "id": "_LSNdiKzfv1k"
      },
      "outputs": [],
      "source": []
    }
  ],
  "metadata": {
    "kernelspec": {
      "display_name": "Python 3",
      "name": "python3"
    },
    "language_info": {
      "codemirror_mode": {
        "name": "ipython",
        "version": 3
      },
      "file_extension": ".py",
      "mimetype": "text/x-python",
      "name": "python",
      "nbconvert_exporter": "python",
      "pygments_lexer": "ipython3",
      "version": "3.11.9"
    },
    "colab": {
      "provenance": [],
      "gpuType": "T4",
      "include_colab_link": true
    },
    "accelerator": "GPU"
  },
  "nbformat": 4,
  "nbformat_minor": 0
}