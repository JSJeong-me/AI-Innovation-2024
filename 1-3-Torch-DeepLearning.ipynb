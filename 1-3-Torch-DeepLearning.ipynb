{
  "nbformat": 4,
  "nbformat_minor": 0,
  "metadata": {
    "colab": {
      "provenance": [],
      "authorship_tag": "ABX9TyO+JAzoPFyU4LgWbDGor0p7",
      "include_colab_link": true
    },
    "kernelspec": {
      "name": "python3",
      "display_name": "Python 3"
    },
    "language_info": {
      "name": "python"
    }
  },
  "cells": [
    {
      "cell_type": "markdown",
      "metadata": {
        "id": "view-in-github",
        "colab_type": "text"
      },
      "source": [
        "<a href=\"https://colab.research.google.com/github/JSJeong-me/AI-Innovation-2024/blob/main/1-3-Torch-DeepLearning.ipynb\" target=\"_parent\"><img src=\"https://colab.research.google.com/assets/colab-badge.svg\" alt=\"Open In Colab\"/></a>"
      ]
    },
    {
      "cell_type": "code",
      "execution_count": 1,
      "metadata": {
        "id": "6BhIhaVddCq8"
      },
      "outputs": [],
      "source": [
        "import torch\n",
        "import torch.nn as nn\n",
        "import torch.optim as optim\n",
        "from torch.utils.data import DataLoader, TensorDataset\n",
        "import pandas as pd"
      ]
    },
    {
      "cell_type": "code",
      "source": [
        "# Load the CSV file into a pandas DataFrame\n",
        "file_path = './winequality-red.csv'\n",
        "df = pd.read_csv(file_path)\n",
        "\n",
        "# Convert the DataFrame to a PyTorch tensor\n",
        "tensor_data = torch.tensor(df.values, dtype=torch.float32)\n",
        "\n",
        "# Get the shape (dimensions) of the tensor\n",
        "tensor_shape = tensor_data.shape\n",
        "\n",
        "tensor_shape"
      ],
      "metadata": {
        "colab": {
          "base_uri": "https://localhost:8080/"
        },
        "id": "6btTEOo7dL8z",
        "outputId": "1131fd6a-39a2-464a-9384-dedec0063471"
      },
      "execution_count": 2,
      "outputs": [
        {
          "output_type": "execute_result",
          "data": {
            "text/plain": [
              "torch.Size([1599, 12])"
            ]
          },
          "metadata": {},
          "execution_count": 2
        }
      ]
    },
    {
      "cell_type": "code",
      "source": [
        "# Prepare the data\n",
        "X = tensor_data[:, :-1]  # Features (all columns except the last one)\n",
        "y = tensor_data[:, -1]    # Target variable ('quality' column)\n",
        "\n",
        "# Create a dataset and data loader\n",
        "dataset = TensorDataset(X, y)\n",
        "dataloader = DataLoader(dataset, batch_size=32, shuffle=True)"
      ],
      "metadata": {
        "id": "RKlYm2RzdapM"
      },
      "execution_count": 3,
      "outputs": []
    },
    {
      "cell_type": "code",
      "source": [
        "# Define the neural network model\n",
        "class WineQualityModel(nn.Module):\n",
        "    def __init__(self):\n",
        "        super(WineQualityModel, self).__init__()\n",
        "        self.fc1 = nn.Linear(11, 64)  # 11 input features\n",
        "        self.fc2 = nn.Linear(64, 32)\n",
        "        self.fc3 = nn.Linear(32, 1)   # Output layer for regression\n",
        "\n",
        "    def forward(self, x):\n",
        "        x = torch.relu(self.fc1(x))\n",
        "        x = torch.relu(self.fc2(x))\n",
        "        x = self.fc3(x)\n",
        "        return x"
      ],
      "metadata": {
        "id": "Ix_YXKRrdgH0"
      },
      "execution_count": 5,
      "outputs": []
    },
    {
      "cell_type": "code",
      "source": [
        "# Instantiate the model, define the loss function and the optimizer\n",
        "model = WineQualityModel()\n",
        "criterion = nn.MSELoss()  # Mean Squared Error for regression\n",
        "optimizer = optim.Adam(model.parameters(), lr=0.001)"
      ],
      "metadata": {
        "id": "WTpUMoPsdjA7"
      },
      "execution_count": 6,
      "outputs": []
    },
    {
      "cell_type": "code",
      "source": [
        "# Training loop\n",
        "num_epochs = 100\n",
        "for epoch in range(num_epochs):\n",
        "    for inputs, targets in dataloader:\n",
        "        optimizer.zero_grad()\n",
        "        outputs = model(inputs).squeeze()  # Forward pass\n",
        "        loss = criterion(outputs, targets)  # Compute loss\n",
        "        loss.backward()  # Backward pass\n",
        "        optimizer.step()  # Update the weights\n",
        "\n",
        "    # Print loss every 10 epochs\n",
        "    if (epoch + 1) % 10 == 0:\n",
        "        print(f'Epoch [{epoch+1}/{num_epochs}], Loss: {loss.item():.4f}')\n",
        "\n",
        "# The model is now trained and can be used for predictions\n",
        "model\n"
      ],
      "metadata": {
        "colab": {
          "base_uri": "https://localhost:8080/"
        },
        "id": "eenzJJtFdtTF",
        "outputId": "91691d7a-71a6-4ed3-b399-4a2cd8089f40"
      },
      "execution_count": 7,
      "outputs": [
        {
          "output_type": "stream",
          "name": "stdout",
          "text": [
            "Epoch [10/100], Loss: 0.3919\n",
            "Epoch [20/100], Loss: 0.4898\n",
            "Epoch [30/100], Loss: 0.6699\n",
            "Epoch [40/100], Loss: 0.2998\n",
            "Epoch [50/100], Loss: 0.1968\n",
            "Epoch [60/100], Loss: 0.5728\n",
            "Epoch [70/100], Loss: 0.5217\n",
            "Epoch [80/100], Loss: 0.5184\n",
            "Epoch [90/100], Loss: 0.4859\n",
            "Epoch [100/100], Loss: 0.4506\n"
          ]
        },
        {
          "output_type": "execute_result",
          "data": {
            "text/plain": [
              "WineQualityModel(\n",
              "  (fc1): Linear(in_features=11, out_features=64, bias=True)\n",
              "  (fc2): Linear(in_features=64, out_features=32, bias=True)\n",
              "  (fc3): Linear(in_features=32, out_features=1, bias=True)\n",
              ")"
            ]
          },
          "metadata": {},
          "execution_count": 7
        }
      ]
    },
    {
      "cell_type": "code",
      "source": [
        "# Select the first 10 samples as test data\n",
        "test_data = X[:10]\n",
        "test_targets = y[:10]\n",
        "\n",
        "# Make predictions using the trained model\n",
        "model.eval()  # Set the model to evaluation mode\n",
        "with torch.no_grad():\n",
        "    predictions = model(test_data).squeeze()\n",
        "\n",
        "# Compare predictions with actual values\n",
        "predictions, test_targets"
      ],
      "metadata": {
        "colab": {
          "base_uri": "https://localhost:8080/"
        },
        "id": "Qg3ROqeYd18H",
        "outputId": "f4c9d29d-c8a6-4ee2-b53a-d71c0ecc2d7b"
      },
      "execution_count": 8,
      "outputs": [
        {
          "output_type": "execute_result",
          "data": {
            "text/plain": [
              "(tensor([5.2677, 5.3635, 5.3949, 5.7001, 5.2677, 5.3486, 5.2850, 5.3514, 5.2569,\n",
              "         5.5034]),\n",
              " tensor([5., 5., 5., 6., 5., 5., 5., 7., 7., 5.]))"
            ]
          },
          "metadata": {},
          "execution_count": 8
        }
      ]
    },
    {
      "cell_type": "code",
      "source": [
        "# Define the Mean Absolute Error (MAE) loss function\n",
        "mae_loss = nn.L1Loss()\n",
        "\n",
        "# Calculate MAE and MSE for the predictions\n",
        "mae_value = mae_loss(predictions, test_targets)\n",
        "mse_value = criterion(predictions, test_targets)  # MSE was already defined as 'criterion'\n",
        "\n",
        "mae_value.item(), mse_value.item()\n"
      ],
      "metadata": {
        "colab": {
          "base_uri": "https://localhost:8080/"
        },
        "id": "u5Jg_2NSejG6",
        "outputId": "b0dd8d0b-5d1f-4d46-e07e-8951453ae4ff"
      },
      "execution_count": 9,
      "outputs": [
        {
          "output_type": "execute_result",
          "data": {
            "text/plain": [
              "(0.6122401356697083, 0.6733812093734741)"
            ]
          },
          "metadata": {},
          "execution_count": 9
        }
      ]
    }
  ]
}