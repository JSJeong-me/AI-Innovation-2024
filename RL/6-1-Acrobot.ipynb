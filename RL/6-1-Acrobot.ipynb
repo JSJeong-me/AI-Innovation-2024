{
  "nbformat": 4,
  "nbformat_minor": 0,
  "metadata": {
    "colab": {
      "provenance": [],
      "authorship_tag": "ABX9TyP+6p7mjhHq8NiH8Wti1PuX",
      "include_colab_link": true
    },
    "kernelspec": {
      "name": "python3",
      "display_name": "Python 3"
    },
    "language_info": {
      "name": "python"
    }
  },
  "cells": [
    {
      "cell_type": "markdown",
      "metadata": {
        "id": "view-in-github",
        "colab_type": "text"
      },
      "source": [
        "<a href=\"https://colab.research.google.com/github/JSJeong-me/AI-Innovation-2024/blob/main/RL/6-1-Acrobot.ipynb\" target=\"_parent\"><img src=\"https://colab.research.google.com/assets/colab-badge.svg\" alt=\"Open In Colab\"/></a>"
      ]
    },
    {
      "cell_type": "code",
      "source": [
        "!pip install gymnasium\n",
        "!pip install gymnasium[classic_control]"
      ],
      "metadata": {
        "colab": {
          "base_uri": "https://localhost:8080/"
        },
        "id": "GeMIfuhyTead",
        "outputId": "bdcc0cba-f6ce-4ebd-f11c-7544c47f5523"
      },
      "execution_count": 1,
      "outputs": [
        {
          "output_type": "stream",
          "name": "stdout",
          "text": [
            "Collecting gymnasium\n",
            "  Downloading gymnasium-1.0.0-py3-none-any.whl.metadata (9.5 kB)\n",
            "Requirement already satisfied: numpy>=1.21.0 in /usr/local/lib/python3.10/dist-packages (from gymnasium) (1.26.4)\n",
            "Requirement already satisfied: cloudpickle>=1.2.0 in /usr/local/lib/python3.10/dist-packages (from gymnasium) (2.2.1)\n",
            "Requirement already satisfied: typing-extensions>=4.3.0 in /usr/local/lib/python3.10/dist-packages (from gymnasium) (4.12.2)\n",
            "Collecting farama-notifications>=0.0.1 (from gymnasium)\n",
            "  Downloading Farama_Notifications-0.0.4-py3-none-any.whl.metadata (558 bytes)\n",
            "Downloading gymnasium-1.0.0-py3-none-any.whl (958 kB)\n",
            "\u001b[2K   \u001b[90m━━━━━━━━━━━━━━━━━━━━━━━━━━━━━━━━━━━━━━━━\u001b[0m \u001b[32m958.1/958.1 kB\u001b[0m \u001b[31m13.7 MB/s\u001b[0m eta \u001b[36m0:00:00\u001b[0m\n",
            "\u001b[?25hDownloading Farama_Notifications-0.0.4-py3-none-any.whl (2.5 kB)\n",
            "Installing collected packages: farama-notifications, gymnasium\n",
            "Successfully installed farama-notifications-0.0.4 gymnasium-1.0.0\n",
            "Requirement already satisfied: gymnasium[classic_control] in /usr/local/lib/python3.10/dist-packages (1.0.0)\n",
            "Requirement already satisfied: numpy>=1.21.0 in /usr/local/lib/python3.10/dist-packages (from gymnasium[classic_control]) (1.26.4)\n",
            "Requirement already satisfied: cloudpickle>=1.2.0 in /usr/local/lib/python3.10/dist-packages (from gymnasium[classic_control]) (2.2.1)\n",
            "Requirement already satisfied: typing-extensions>=4.3.0 in /usr/local/lib/python3.10/dist-packages (from gymnasium[classic_control]) (4.12.2)\n",
            "Requirement already satisfied: farama-notifications>=0.0.1 in /usr/local/lib/python3.10/dist-packages (from gymnasium[classic_control]) (0.0.4)\n",
            "Requirement already satisfied: pygame>=2.1.3 in /usr/local/lib/python3.10/dist-packages (from gymnasium[classic_control]) (2.6.1)\n"
          ]
        }
      ]
    },
    {
      "cell_type": "code",
      "execution_count": 3,
      "metadata": {
        "colab": {
          "base_uri": "https://localhost:8080/",
          "height": 471
        },
        "id": "Z_ULv17STcD_",
        "outputId": "9b74d4b7-a6e1-4c24-b2fc-45d249d0e78f"
      },
      "outputs": [
        {
          "output_type": "stream",
          "name": "stdout",
          "text": [
            "Initial state: [ 0.997341    0.07287608  0.9841162  -0.17752565 -0.11185605 -0.12625128]\n"
          ]
        },
        {
          "output_type": "display_data",
          "data": {
            "text/plain": [
              "<Figure size 640x480 with 1 Axes>"
            ],
            "image/png": "[encoded data removed]"
          },
          "metadata": {}
        },
        {
          "output_type": "stream",
          "name": "stdout",
          "text": [
            "Total reward: -500.0\n"
          ]
        }
      ],
      "source": [
        "import gymnasium as gym\n",
        "import numpy as np\n",
        "import matplotlib.pyplot as plt\n",
        "\n",
        "# Create the Acrobot environment\n",
        "env = gym.make('Acrobot-v1', render_mode=\"rgb_array\")\n",
        "\n",
        "# Reset the environment with custom initial conditions\n",
        "state, info = env.reset(seed=123, options={\"low\": -0.2, \"high\": 0.2})\n",
        "\n",
        "# Display the initial state\n",
        "print(\"Initial state:\", state)\n",
        "\n",
        "# Example for running one episode\n",
        "done = False\n",
        "total_reward = 0\n",
        "frames = []  # To store frames for visualization\n",
        "\n",
        "# Run the environment for a certain number of steps\n",
        "for _ in range(500):  # You can set a limit on the number of steps\n",
        "    # Render the environment\n",
        "    frames.append(env.render())\n",
        "\n",
        "    # Apply random actions (you can use a policy here)\n",
        "    action = env.action_space.sample()\n",
        "\n",
        "    # Step the environment\n",
        "    next_state, reward, done, truncated, info = env.step(action)\n",
        "\n",
        "    # Accumulate reward\n",
        "    total_reward += reward\n",
        "\n",
        "    # Stop the episode if the task is completed\n",
        "    if done:\n",
        "        break\n",
        "\n",
        "# Close the environment\n",
        "env.close()\n",
        "\n",
        "# Plot one of the rendered frames\n",
        "plt.imshow(frames[0])\n",
        "plt.show()\n",
        "\n",
        "# Print total reward\n",
        "print(\"Total reward:\", total_reward)\n"
      ]
    },
    {
      "cell_type": "code",
      "source": [
        "import gymnasium as gym\n",
        "import numpy as np\n",
        "import matplotlib.pyplot as plt\n",
        "from matplotlib import animation\n",
        "\n",
        "# Create the Acrobot environment\n",
        "env = gym.make('Acrobot-v1', render_mode=\"rgb_array\")\n",
        "\n",
        "# Reset the environment with custom initial conditions\n",
        "state, info = env.reset(seed=123, options={\"low\": -0.2, \"high\": 0.2})\n",
        "\n",
        "# Display the initial state\n",
        "print(\"Initial state:\", state)\n",
        "\n",
        "# Example for running one episode and storing frames for video\n",
        "done = False\n",
        "frames = []  # To store frames for visualization\n",
        "\n",
        "# Run the environment for a certain number of steps\n",
        "for _ in range(500):  # You can set a limit on the number of steps\n",
        "    # Render the environment and collect frames\n",
        "    frame = env.render()\n",
        "    frames.append(frame)\n",
        "\n",
        "    # Apply random actions (you can replace this with a policy)\n",
        "    action = env.action_space.sample()\n",
        "\n",
        "    # Step the environment\n",
        "    next_state, reward, done, truncated, info = env.step(action)\n",
        "\n",
        "    # Stop the episode if the task is completed\n",
        "    if done:\n",
        "        break\n",
        "\n",
        "# Close the environment\n",
        "env.close()\n",
        "\n",
        "# Convert frames to an animation\n",
        "fig = plt.figure()\n",
        "patch = plt.imshow(frames[0])\n",
        "\n",
        "def animate(i):\n",
        "    patch.set_data(frames[i])\n",
        "\n",
        "ani = animation.FuncAnimation(fig, animate, frames=len(frames), interval=50)\n",
        "\n",
        "# Save as video\n",
        "ani.save(\"acrobot_video.mp4\")\n",
        "\n",
        "# Display the animation in notebook (or you can remove this part if not in notebook)\n",
        "plt.show()\n",
        "\n",
        "print(\"Video saved as acrobot_video.mp4\")\n"
      ],
      "metadata": {
        "colab": {
          "base_uri": "https://localhost:8080/",
          "height": 471
        },
        "id": "rf_MM8N3UAnE",
        "outputId": "890c290d-0d72-4d59-8ddd-1d80b67b9cbf"
      },
      "execution_count": 4,
      "outputs": [
        {
          "output_type": "stream",
          "name": "stdout",
          "text": [
            "Initial state: [ 0.997341    0.07287608  0.9841162  -0.17752565 -0.11185605 -0.12625128]\n"
          ]
        },
        {
          "output_type": "display_data",
          "data": {
            "text/plain": [
              "<Figure size 640x480 with 1 Axes>"
            ],
            "image/png": "[encoded data removed]"
          },
          "metadata": {}
        },
        {
          "output_type": "stream",
          "name": "stdout",
          "text": [
            "Video saved as acrobot_video.mp4\n"
          ]
        }
      ]
    }
  ]
}