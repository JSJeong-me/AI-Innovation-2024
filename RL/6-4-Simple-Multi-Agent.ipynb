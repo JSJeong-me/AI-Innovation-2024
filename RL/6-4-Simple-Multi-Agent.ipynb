{
  "nbformat": 4,
  "nbformat_minor": 0,
  "metadata": {
    "colab": {
      "provenance": [],
      "gpuType": "T4",
      "authorship_tag": "ABX9TyNA6a1zFfZB50G7y2dmoIzz",
      "include_colab_link": true
    },
    "kernelspec": {
      "name": "python3",
      "display_name": "Python 3"
    },
    "language_info": {
      "name": "python"
    },
    "accelerator": "GPU"
  },
  "cells": [
    {
      "cell_type": "markdown",
      "metadata": {
        "id": "view-in-github",
        "colab_type": "text"
      },
      "source": [
        "<a href=\"https://colab.research.google.com/github/JSJeong-me/AI-Innovation-2024/blob/main/RL/6-4-Simple-Multi-Agent.ipynb\" target=\"_parent\"><img src=\"https://colab.research.google.com/assets/colab-badge.svg\" alt=\"Open In Colab\"/></a>"
      ]
    },
    {
      "cell_type": "code",
      "execution_count": null,
      "metadata": {
        "id": "rJdEEGkb7aVZ"
      },
      "outputs": [],
      "source": [
        "import numpy as np\n",
        "import random\n",
        "\n",
        "# 환경 정의\n",
        "class SimpleMultiAgentEnv:\n",
        "    def __init__(self):\n",
        "        self.agent_positions = [0, 0]  # 두 에이전트의 초기 위치 (단일 차원 상의 위치)\n",
        "        self.goal_position = 10  # 목표 위치\n",
        "\n",
        "    def reset(self):\n",
        "        self.agent_positions = [0, 0]  # 두 에이전트 초기화\n",
        "        return self.agent_positions\n",
        "\n",
        "    def step(self, actions):\n",
        "        # 각 에이전트의 행동에 따라 위치 이동 (action: 0 -> stay, 1 -> right, -1 -> left)\n",
        "        for i in range(2):\n",
        "            self.agent_positions[i] += actions[i]\n",
        "\n",
        "        # 상태, 보상, 종료 여부 반환\n",
        "        rewards = [-1, -1]  # 기본 보상 (움직이는 에이전트는 비용 발생)\n",
        "\n",
        "        # 만약 에이전트가 목표에 도달하면 큰 보상을 줌\n",
        "        for i in range(2):\n",
        "            if self.agent_positions[i] == self.goal_position:\n",
        "                rewards[i] = 10  # 목표 도달 보상\n",
        "\n",
        "        done = any([pos == self.goal_position for pos in self.agent_positions])  # 목표 도달 시 종료\n",
        "\n",
        "        return self.agent_positions, rewards, done\n",
        "\n",
        "# Q-Learning 알고리즘 정의\n",
        "class QLearningAgent:\n",
        "    def __init__(self, n_actions, learning_rate=0.1, discount_factor=0.99, epsilon=0.1):\n",
        "        self.q_table = {}  # Q 테이블 초기화\n",
        "        self.n_actions = n_actions  # 행동의 개수\n",
        "        self.learning_rate = learning_rate\n",
        "        self.discount_factor = discount_factor\n",
        "        self.epsilon = epsilon\n",
        "\n",
        "    def get_state_action_key(self, state, action):\n",
        "        return str(state) + \"_\" + str(action)\n",
        "\n",
        "    def choose_action(self, state):\n",
        "        if np.random.rand() < self.epsilon:\n",
        "            return random.choice(range(self.n_actions))  # 무작위 탐험\n",
        "        else:\n",
        "            q_values = [self.q_table.get(self.get_state_action_key(state, a), 0) for a in range(self.n_actions)]\n",
        "            return np.argmax(q_values)  # 가장 높은 Q값을 가진 행동 선택\n",
        "\n",
        "    def update(self, state, action, reward, next_state):\n",
        "        current_q = self.q_table.get(self.get_state_action_key(state, action), 0)\n",
        "        next_q = max([self.q_table.get(self.get_state_action_key(next_state, a), 0) for a in range(self.n_actions)])\n",
        "\n",
        "        # Q-러닝 업데이트\n",
        "        new_q = current_q + self.learning_rate * (reward + self.discount_factor * next_q - current_q)\n",
        "        self.q_table[self.get_state_action_key(state, action)] = new_q\n",
        "\n",
        "# 다중 에이전트 학습 실행\n",
        "env = SimpleMultiAgentEnv()\n",
        "agent1 = QLearningAgent(n_actions=3)  # 행동: 0 (stay), 1 (right), 2 (left)\n",
        "agent2 = QLearningAgent(n_actions=3)\n",
        "\n",
        "n_episodes = 1000\n",
        "\n",
        "for episode in range(n_episodes):\n",
        "    state = env.reset()\n",
        "    done = False\n",
        "    while not done:\n",
        "        # 에이전트의 행동 선택\n",
        "        action1 = agent1.choose_action(state)\n",
        "        action2 = agent2.choose_action(state)\n",
        "        actions = [action1 - 1, action2 - 1]  # 행동을 -1, 0, 1로 변환\n",
        "\n",
        "        # 환경에서 한 단계 실행\n",
        "        next_state, rewards, done = env.step(actions)\n",
        "\n",
        "        # 에이전트 학습\n",
        "        agent1.update(state, action1, rewards[0], next_state)\n",
        "        agent2.update(state, action2, rewards[1], next_state)\n",
        "\n",
        "        state = next_state\n",
        "\n",
        "    if (episode + 1) % 100 == 0:\n",
        "        print(f\"Episode {episode + 1} completed\")\n",
        "\n",
        "print(\"Training finished!\")\n"
      ]
    }
  ]
}