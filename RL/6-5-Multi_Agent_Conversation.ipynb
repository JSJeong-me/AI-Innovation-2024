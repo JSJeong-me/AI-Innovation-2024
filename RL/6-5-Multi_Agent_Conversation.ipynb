{
  "cells": [
    {
      "cell_type": "markdown",
      "metadata": {
        "id": "view-in-github",
        "colab_type": "text"
      },
      "source": [
        "<a href=\"https://colab.research.google.com/github/JSJeong-me/AI-Innovation-2024/blob/main/RL/6-5-Multi_Agent_Conversation.ipynb\" target=\"_parent\"><img src=\"https://colab.research.google.com/assets/colab-badge.svg\" alt=\"Open In Colab\"/></a>"
      ]
    },
    {
      "cell_type": "markdown",
      "id": "a81456dd",
      "metadata": {
        "id": "a81456dd"
      },
      "source": [
        "# Lesson 1: Multi-Agent Conversation and Stand-up Comedy"
      ]
    },
    {
      "cell_type": "markdown",
      "id": "4693467e",
      "metadata": {
        "id": "4693467e"
      },
      "source": [
        "Welcome to Lesson 1.\n",
        "\n",
        "To access the `requirements.txt` file and the`utils` modules, please go to the `File` menu and select`Open...`.\n",
        "\n",
        "I hope you enjoy this course!"
      ]
    },
    {
      "cell_type": "code",
      "source": [
        "!wget https://github.com/JSJeong-me/AutoGen/raw/main/requirements.txt"
      ],
      "metadata": {
        "id": "kAwyBFd5uXZz"
      },
      "id": "kAwyBFd5uXZz",
      "execution_count": null,
      "outputs": []
    },
    {
      "cell_type": "code",
      "source": [
        "!pip install -r requirements.txt"
      ],
      "metadata": {
        "id": "fkRztv2mfoD_"
      },
      "id": "fkRztv2mfoD_",
      "execution_count": null,
      "outputs": []
    },
    {
      "cell_type": "code",
      "source": [
        "from google.colab import userdata\n",
        "import openai\n",
        "import os\n",
        "\n",
        "os.environ[\"OPENAI_API_KEY\"] = userdata.get('OPENAI_API_KEY')\n",
        "openai.api_key  = os.environ[\"OPENAI_API_KEY\"]"
      ],
      "metadata": {
        "id": "0VH5aww8RoDx"
      },
      "id": "0VH5aww8RoDx",
      "execution_count": 10,
      "outputs": []
    },
    {
      "cell_type": "code",
      "source": [
        "import os\n",
        "from dotenv import load_dotenv\n",
        "\n",
        "# Load environment variables from .env file\n",
        "load_dotenv()\n",
        "# Access the API key using the variable name defined in the .env file\n",
        "api_key = os.getenv(\"OPENAI_API_KEY\")"
      ],
      "metadata": {
        "id": "SscWfEftwHfG"
      },
      "id": "SscWfEftwHfG",
      "execution_count": 4,
      "outputs": []
    },
    {
      "cell_type": "markdown",
      "id": "742cf649",
      "metadata": {
        "id": "742cf649"
      },
      "source": [
        "## Setup"
      ]
    },
    {
      "cell_type": "code",
      "source": [
        "!wget https://github.com/JSJeong-me/GPT-Agent/blob/main/autogen/utils.py"
      ],
      "metadata": {
        "id": "PvHQuHa_gNgu",
        "outputId": "3a68f0ee-2c38-47d5-81f0-1c1d3e4bbb58",
        "colab": {
          "base_uri": "https://localhost:8080/"
        }
      },
      "id": "PvHQuHa_gNgu",
      "execution_count": 5,
      "outputs": [
        {
          "output_type": "stream",
          "name": "stdout",
          "text": [
            "--2024-10-24 08:08:21--  https://github.com/JSJeong-me/GPT-Agent/blob/main/autogen/utils.py\n",
            "Resolving github.com (github.com)... 20.205.243.166\n",
            "Connecting to github.com (github.com)|20.205.243.166|:443... connected.\n",
            "HTTP request sent, awaiting response... 200 OK\n",
            "Length: unspecified [text/html]\n",
            "Saving to: ‘utils.py’\n",
            "\n",
            "utils.py                [ <=>                ] 165.62K  --.-KB/s    in 0.009s  \n",
            "\n",
            "2024-10-24 08:08:21 (17.0 MB/s) - ‘utils.py’ saved [169600]\n",
            "\n"
          ]
        }
      ]
    },
    {
      "cell_type": "code",
      "source": [
        "import os\n",
        "from dotenv import load_dotenv, find_dotenv\n",
        "\n",
        "# these expect to find a .env file at the directory above the lesson.                                                                                                                     # the format for that file is (without the comment)                                                                                                                                       #API_KEYNAME=AStringThatIsTheLongAPIKeyFromSomeService\n",
        "def load_env():\n",
        "    _ = load_dotenv(find_dotenv())\n",
        "\n",
        "def get_openai_api_key():\n",
        "    load_env()\n",
        "    openai_api_key = os.getenv(\"OPENAI_API_KEY\")\n",
        "    # print(openai_api_key)\n",
        "    return openai_api_key\n",
        "\n",
        "# get_openai_api_key()"
      ],
      "metadata": {
        "id": "wjKa8XXmgVGG"
      },
      "id": "wjKa8XXmgVGG",
      "execution_count": 6,
      "outputs": []
    },
    {
      "cell_type": "code",
      "execution_count": 7,
      "id": "04d006c1-22fa-40ea-b3e0-d543142e0788",
      "metadata": {
        "height": 64,
        "id": "04d006c1-22fa-40ea-b3e0-d543142e0788"
      },
      "outputs": [],
      "source": [
        "OPENAI_API_KEY = get_openai_api_key()\n",
        "llm_config = {\"model\": \"gpt-3.5-turbo\"}"
      ]
    },
    {
      "cell_type": "markdown",
      "id": "116a1c4d",
      "metadata": {
        "id": "116a1c4d"
      },
      "source": [
        "## Define an AutoGen agent"
      ]
    },
    {
      "cell_type": "code",
      "execution_count": 11,
      "id": "6fb8c441-c58c-41a8-a54b-5c387afceac5",
      "metadata": {
        "height": 132,
        "id": "6fb8c441-c58c-41a8-a54b-5c387afceac5"
      },
      "outputs": [],
      "source": [
        "from autogen import ConversableAgent\n",
        "\n",
        "agent = ConversableAgent(\n",
        "    name=\"chatbot\",\n",
        "    llm_config=llm_config,\n",
        "    human_input_mode=\"NEVER\",\n",
        ")"
      ]
    },
    {
      "cell_type": "code",
      "execution_count": 12,
      "id": "47886b5f-fc7c-431a-8036-cff6e88f85c6",
      "metadata": {
        "height": 81,
        "id": "47886b5f-fc7c-431a-8036-cff6e88f85c6",
        "outputId": "78eb2f83-28ae-45f8-bcfa-d12e03ea3c5b",
        "colab": {
          "base_uri": "https://localhost:8080/"
        }
      },
      "outputs": [
        {
          "output_type": "stream",
          "name": "stdout",
          "text": [
            "고래는 심해에서 거대한 고기를 사냥하는 대형 포식성 동물인데, 그 크기는 인간들이 상상하기 힘들 만큼 커요!\n"
          ]
        }
      ],
      "source": [
        "reply = agent.generate_reply(\n",
        "    messages=[{\"content\": \"고래를 주제로 재미난 얘기 1문장으로 해줘\", \"role\": \"user\"}]\n",
        ")\n",
        "print(reply)"
      ]
    },
    {
      "cell_type": "code",
      "execution_count": 13,
      "id": "67f626e9-4cec-40c1-abde-2eff1252b848",
      "metadata": {
        "height": 81,
        "id": "67f626e9-4cec-40c1-abde-2eff1252b848",
        "outputId": "9ad3e7ca-f441-48ba-9afd-b64f8d0c3b08",
        "colab": {
          "base_uri": "https://localhost:8080/"
        }
      },
      "outputs": [
        {
          "output_type": "stream",
          "name": "stdout",
          "text": [
            "물론이죠! 한 번 한 재미난 이야기를 들려드릴게요.\n",
            "\n",
            "옛날 옛적에 한 마을에 화려한 꽃이 피어나는 신비로운 정원이 있었습니다. 이 신비로운 정원에는 사람들이 행복해진다는 전설이 전해지고 있었죠. 그래서 그 신비로운 정원을 찾는 이들이 끊이지 않았습니다.\n",
            "\n",
            "어느 날, 한 소녀가 그 신비로운 정원을 찾기 위해 모험을 떠났습니다. 그녀는 풍성한 꽃들과 아름다운 나무들이 가득한 정원을 찾았지만, 정원에는 무서운 용이 살고 있었습니다. 용은 소녀에게 도전을 내걸었고, 소녀는 어떻게든 용에게 이기고 정원으로 진입했습니다.\n",
            "\n",
            "정원 안에서 소녀는 환상적인 풍경을 마주하게 되었습니다. 사람들의 행복과 상상력이 녹아있는 정원은 그녀의 마음을 감동시켰고, 그녀는 정원의 비밀을 해독하기 위해 노력하기로 결심했습니다.\n",
            "\n",
            "이후에 어떤 일이 일어났는지, 소녀가 정원의 비밀을 해결하면서 어떤 모험을 경험했는지 알고 싶으신가요? 혹은 다른 이야기를 원하신다면 말씀해 주세요!\n"
          ]
        }
      ],
      "source": [
        "reply = agent.generate_reply(\n",
        "    messages=[{\"content\": \"재미난 이야기 계속해 주세요\", \"role\": \"user\"}]\n",
        ")\n",
        "print(reply)"
      ]
    },
    {
      "cell_type": "markdown",
      "id": "8c98a301",
      "metadata": {
        "id": "8c98a301"
      },
      "source": [
        "## Conversation\n",
        "\n",
        "Setting up a conversation between two agents, Cathy and Joe, where the memory of their interactions is retained."
      ]
    },
    {
      "cell_type": "code",
      "execution_count": 14,
      "id": "8f109dcb-824e-40d7-8e86-efee42b75f3c",
      "metadata": {
        "height": 285,
        "id": "8f109dcb-824e-40d7-8e86-efee42b75f3c"
      },
      "outputs": [],
      "source": [
        "cathy = ConversableAgent(\n",
        "    name=\"야옹님\",\n",
        "    system_message=\n",
        "    \"당신의 이름은 야옹님이고 당신은 재미난 이야기를 잘 만드는 코미디언입니다\",\n",
        "    llm_config=llm_config,\n",
        "    human_input_mode=\"NEVER\",\n",
        ")\n",
        "\n",
        "joe = ConversableAgent(\n",
        "    name=\"멍멍님\",\n",
        "    system_message=\n",
        "    \"당신의 이름은 멍멍님이고 당신은 재미난 이야기를 잘 만드는 코미디언입니다\"\n",
        "    \"이전 대화의 내용을 이어서 다음 재미난 이야기를 시작하세요.\",\n",
        "    llm_config=llm_config,\n",
        "    human_input_mode=\"NEVER\",\n",
        ")"
      ]
    },
    {
      "cell_type": "markdown",
      "id": "43f71a61",
      "metadata": {
        "id": "43f71a61"
      },
      "source": [
        "**Note**: You might get a slightly different response (set of jokes) than what is shown in the video"
      ]
    },
    {
      "cell_type": "code",
      "execution_count": 15,
      "id": "46a1c6f6-687e-40de-8819-374201cfed9f",
      "metadata": {
        "height": 98,
        "id": "46a1c6f6-687e-40de-8819-374201cfed9f",
        "outputId": "f9627402-a00e-4915-91d7-97dc0aa93b31",
        "colab": {
          "base_uri": "https://localhost:8080/"
        }
      },
      "outputs": [
        {
          "output_type": "stream",
          "name": "stdout",
          "text": [
            "멍멍님 (to 야옹님):\n",
            "\n",
            "나는 야옹님이야, 우리 재미난 이야기를 이어서 나가 볼까?\n",
            "\n",
            "--------------------------------------------------------------------------------\n",
            "야옹님 (to 멍멍님):\n",
            "\n",
            "네, 그래요! 한 번 웃어볼까요? 왕국에서 한 왕자가 말을 타고 숲 속으로 여행을 떠났어요. 그런데 갑자기 말이 뭐가 되었을까요? \"예~예~예~\" 라고 외치며 노래를 부르기 시작했어요! 이게 무슨 일이야, 왕자는 말 대신 가수를 탔다고 해야 할까요? 어떤 이야기가 떠오르나요? 함께 이어나가 볼까요?\n",
            "\n",
            "--------------------------------------------------------------------------------\n",
            "멍멍님 (to 야옹님):\n",
            "\n",
            "와우, 왕자가 말 대신 가수를 탔다니 정말 재미있는 상상력이야! 그러던 왕자는 숲 속으로 노래를 부르며 걷는다가 갑자기 무언가가 그의 길을 가로막았어요. 그 무언가는 무려 마법공주였다! 마법공주는 왕자에게 귀엽게 웃으며 말했어요. \"안녕, 나는 오늘 생일이야. 내 소원은 바로 바다 속에서 불도저를 몰고 노는 거야. 너... 그걸 되어주면 안 될까?\" 왕자는 놀라워했지만 마법공주의 소원을 이루어주기로 했어요. 함께 물속으로 뛰어드는 재미난 이야기가 펼쳐질 것 같다!\n",
            "\n",
            "--------------------------------------------------------------------------------\n",
            "야옹님 (to 멍멍님):\n",
            "\n",
            "와우, 정말 흥미진진한 이야기네요! 왕자와 마법공주가 바다 속에서 불도저를 몰고 놀기 시작했어요. 불도저는 물결을 일으키며 윙윙거리면서 바다속을 들이키고 다녔어요. 그러던 중에 갑자기 물고기들이 춤을 춰주기 시작했어요! 생일 축하 노래를 불러주며 신나게 춤을 추는 모습이 너무 귀엽고 재미있었어요. 왕자와 마법공주, 그리고 바다속 모두가 행복한 순간을 만끽하며 잊지 못할 추억을 만들었답니다. 어떤 이야기로 더 이어갈까요? 함께 상상하며 색다른 이야기를 만들어보는 건 어때요?\n",
            "\n",
            "--------------------------------------------------------------------------------\n"
          ]
        }
      ],
      "source": [
        "chat_result = joe.initiate_chat(\n",
        "    recipient=cathy,\n",
        "    message=\"나는 야옹님이야, 우리 재미난 이야기를 이어서 나가 볼까?\",\n",
        "    max_turns=2,\n",
        ")"
      ]
    },
    {
      "cell_type": "markdown",
      "id": "78edc810",
      "metadata": {
        "id": "78edc810"
      },
      "source": [
        "## Print some results\n",
        "\n",
        "You can print out:\n",
        "\n",
        "1. Chat history\n",
        "2. Cost\n",
        "3. Summary of the conversation"
      ]
    },
    {
      "cell_type": "code",
      "execution_count": 16,
      "id": "1169ea24-eadd-4909-8d56-9b7ec5677c66",
      "metadata": {
        "height": 64,
        "id": "1169ea24-eadd-4909-8d56-9b7ec5677c66",
        "outputId": "4d811e86-bc8f-47ea-a6bf-516e8ed356be",
        "colab": {
          "base_uri": "https://localhost:8080/"
        }
      },
      "outputs": [
        {
          "output_type": "stream",
          "name": "stdout",
          "text": [
            "[{'content': '나는 야옹님이야, 우리 재미난 이야기를 이어서 나가 볼까?', 'role': 'assistant'},\n",
            " {'content': '네, 그래요! 한 번 웃어볼까요? 왕국에서 한 왕자가 말을 타고 숲 속으로 여행을 떠났어요. 그런데 갑자기 말이 '\n",
            "             '뭐가 되었을까요? \"예~예~예~\" 라고 외치며 노래를 부르기 시작했어요! 이게 무슨 일이야, 왕자는 말 대신 가수를 '\n",
            "             '탔다고 해야 할까요? 어떤 이야기가 떠오르나요? 함께 이어나가 볼까요?',\n",
            "  'role': 'user'},\n",
            " {'content': '와우, 왕자가 말 대신 가수를 탔다니 정말 재미있는 상상력이야! 그러던 왕자는 숲 속으로 노래를 부르며 걷는다가 '\n",
            "             '갑자기 무언가가 그의 길을 가로막았어요. 그 무언가는 무려 마법공주였다! 마법공주는 왕자에게 귀엽게 웃으며 '\n",
            "             '말했어요. \"안녕, 나는 오늘 생일이야. 내 소원은 바로 바다 속에서 불도저를 몰고 노는 거야. 너... 그걸 '\n",
            "             '되어주면 안 될까?\" 왕자는 놀라워했지만 마법공주의 소원을 이루어주기로 했어요. 함께 물속으로 뛰어드는 재미난 '\n",
            "             '이야기가 펼쳐질 것 같다!',\n",
            "  'role': 'assistant'},\n",
            " {'content': '와우, 정말 흥미진진한 이야기네요! 왕자와 마법공주가 바다 속에서 불도저를 몰고 놀기 시작했어요. 불도저는 물결을 '\n",
            "             '일으키며 윙윙거리면서 바다속을 들이키고 다녔어요. 그러던 중에 갑자기 물고기들이 춤을 춰주기 시작했어요! 생일 축하 '\n",
            "             '노래를 불러주며 신나게 춤을 추는 모습이 너무 귀엽고 재미있었어요. 왕자와 마법공주, 그리고 바다속 모두가 행복한 '\n",
            "             '순간을 만끽하며 잊지 못할 추억을 만들었답니다. 어떤 이야기로 더 이어갈까요? 함께 상상하며 색다른 이야기를 '\n",
            "             '만들어보는 건 어때요?',\n",
            "  'role': 'user'}]\n"
          ]
        }
      ],
      "source": [
        "import pprint\n",
        "\n",
        "pprint.pprint(chat_result.chat_history)"
      ]
    },
    {
      "cell_type": "code",
      "execution_count": 17,
      "id": "550267b6-3652-40dc-9997-c5401f6d4c47",
      "metadata": {
        "height": 30,
        "id": "550267b6-3652-40dc-9997-c5401f6d4c47",
        "outputId": "65a9e326-8726-4ae8-ba4f-9c617b2c6f16",
        "colab": {
          "base_uri": "https://localhost:8080/"
        }
      },
      "outputs": [
        {
          "output_type": "stream",
          "name": "stdout",
          "text": [
            "{'usage_excluding_cached_inference': {'gpt-3.5-turbo-0125': {'completion_tokens': 725,\n",
            "                                                             'cost': 0.0015345000000000003,\n",
            "                                                             'prompt_tokens': 894,\n",
            "                                                             'total_tokens': 1619},\n",
            "                                      'total_cost': 0.0015345000000000003},\n",
            " 'usage_including_cached_inference': {'gpt-3.5-turbo-0125': {'completion_tokens': 725,\n",
            "                                                             'cost': 0.0015345000000000003,\n",
            "                                                             'prompt_tokens': 894,\n",
            "                                                             'total_tokens': 1619},\n",
            "                                      'total_cost': 0.0015345000000000003}}\n"
          ]
        }
      ],
      "source": [
        "pprint.pprint(chat_result.cost)"
      ]
    },
    {
      "cell_type": "code",
      "execution_count": 18,
      "id": "dfcf468e-d217-4731-8cb4-3485377230f1",
      "metadata": {
        "height": 30,
        "id": "dfcf468e-d217-4731-8cb4-3485377230f1",
        "outputId": "bc33a5ee-cdf1-474b-fda1-63081bc5ad27",
        "colab": {
          "base_uri": "https://localhost:8080/"
        }
      },
      "outputs": [
        {
          "output_type": "stream",
          "name": "stdout",
          "text": [
            "('와우, 정말 흥미진진한 이야기네요! 왕자와 마법공주가 바다 속에서 불도저를 몰고 놀기 시작했어요. 불도저는 물결을 일으키며 윙윙거리면서 '\n",
            " '바다속을 들이키고 다녔어요. 그러던 중에 갑자기 물고기들이 춤을 춰주기 시작했어요! 생일 축하 노래를 불러주며 신나게 춤을 추는 모습이 '\n",
            " '너무 귀엽고 재미있었어요. 왕자와 마법공주, 그리고 바다속 모두가 행복한 순간을 만끽하며 잊지 못할 추억을 만들었답니다. 어떤 이야기로 '\n",
            " '더 이어갈까요? 함께 상상하며 색다른 이야기를 만들어보는 건 어때요?')\n"
          ]
        }
      ],
      "source": [
        "pprint.pprint(chat_result.summary)"
      ]
    },
    {
      "cell_type": "markdown",
      "id": "ba8c6cf8",
      "metadata": {
        "id": "ba8c6cf8"
      },
      "source": [
        "## Get a better summary of the conversation"
      ]
    },
    {
      "cell_type": "code",
      "execution_count": 19,
      "id": "c1a8fef1-8030-4652-a2d2-1648834f62c2",
      "metadata": {
        "height": 132,
        "id": "c1a8fef1-8030-4652-a2d2-1648834f62c2",
        "outputId": "f12cdbc2-76f1-4616-beb4-3b9c834f0e59",
        "colab": {
          "base_uri": "https://localhost:8080/"
        }
      },
      "outputs": [
        {
          "output_type": "stream",
          "name": "stdout",
          "text": [
            "멍멍님 (to 야옹님):\n",
            "\n",
            "나는 멍멍님이야, 우리 재미난 이야기를 이어서 나가 볼까?\n",
            "\n",
            "--------------------------------------------------------------------------------\n",
            "야옹님 (to 멍멍님):\n",
            "\n",
            "네, 멍멍님! 한 번 즐거운 이야기로 시작해볼까요?\n",
            "\n",
            "어느 날, 숲 속에 살고 있는 야옹님과 멍멍님이 모험을 떠나기로 했어요. 그들은 신비로운 보물을 찾으려고 숲 속을 걷기 시작했죠. 야옹님이는 고양이다 보니 호기심이 많아서 다양한 광경에 흥분을 자아내고, 멍멍님은 집요한 성격으로 모험을 계획하고 주도하는 역할을 맡았어요.\n",
            "\n",
            "그들은 숲 속을 걸으며 다양한 장애물을 만나지만, 야옹님의 유머 감각과 멍멍님의 지혜로 모든 어려움을 극복했어요. 결국, 그들은 신비로운 보물을 찾아내어 함께 행복한 시간을 보냈답니다.\n",
            "\n",
            "그리고 그 이야기는 숲 속에서 전해지며, 야옹님과 멍멍님의 용감한 모험을 칭송하는 노래가 숲속을 울렸답니다! 함께 하나된 코미디와 지혜, 야옹님과 멍멍님의 모험 이야기는 영원히 기억 될 것입니다. 함께 해서 정말 즐거웠어요, 멍멍님! 함께 다른 이야기도 만들어보러 가죠!\n",
            "\n",
            "--------------------------------------------------------------------------------\n",
            "멍멍님 (to 야옹님):\n",
            "\n",
            "네, 정말 재미있는 이야기였죠! 다음 이야기에서는 야옹님과 멍멍님이 우주 모험을 떠나는 것을 상상해보면 어떨까요? 한 번 다른 프리미엄 우주선에 탑승해서 우주를 탐험해보는 건 어때요? 야옹님은 어린 외계 생명체들과 깜짝 놀래우는 상황을 겪을지도 모르고, 멍멍님은 똑똑한 과학 지식으로 위기를 극복할지도요! 어때요, 이 우주 모험 이야기도 재미있을 것 같죠? 함께 만들어보면 더욱 즐거울 거에요!\n",
            "\n",
            "--------------------------------------------------------------------------------\n",
            "야옹님 (to 멍멍님):\n",
            "\n",
            "멋진 아이디어네요, 멍멍님! 그럼 이어서 우주 모험 이야기를 만들어 보도록 할게요!\n",
            "\n",
            "야옹님과 멍멍님이 프리미엄 우주선에 올라타 우주 모험을 떠났어요. 우주는 끝도 없이 넓고 신비로운 곳이었지만, 야옹님과 멍멍님은 호기심 가득한 모험 정신으로 마음을 가다듬고 여정을 시작했어요.\n",
            "\n",
            "한창 탐험을 하던 중, 우주 비행사 야옹님은 어린 외계 생명체들을 만났어요. 이 작은 생명체들은 귀엽고 호기심 많은 모습으로 야옹님의 마음을 사로잡았죠. 한편으로는 멍멍님은 우주선의 시스템에 관한 지식과 똑똑한 전략으로 극적인 위기를 극복했어요.\n",
            "\n",
            "알 수 없는 우주 속에서 새로운 친구들을 만나고 짜릿한 모험을 경험한 야옹님과 멍멍님, 그들의 우주 모험 이야기는 우주를 넘어 인생의 무한한 가능성을 상상하게 해줬답니다!\n",
            "\n",
            "이야기를 만들어가는 것이 얼마나 즐겁고 창의성이 풍부한지 깨달았어요! 함께해 주셔서 정말 감사합니다, 멍멍님! 함께 다른 이야기도 만들어보며 더 많은 재미와 웃음을 주고 싶네요! 함께 계속 만들어볼까요?\n",
            "\n",
            "--------------------------------------------------------------------------------\n"
          ]
        }
      ],
      "source": [
        "chat_result = joe.initiate_chat(\n",
        "    cathy,\n",
        "    message=\"나는 멍멍님이야, 우리 재미난 이야기를 이어서 나가 볼까?\",\n",
        "    max_turns=2,\n",
        "    summary_method=\"reflection_with_llm\",\n",
        "    summary_prompt=\"Summarize the conversation\",\n",
        ")"
      ]
    },
    {
      "cell_type": "code",
      "execution_count": 20,
      "id": "b042de62-bc49-49ee-99f2-4f972e23670b",
      "metadata": {
        "height": 30,
        "id": "b042de62-bc49-49ee-99f2-4f972e23670b",
        "outputId": "ff082057-f3a0-4b9f-ebd8-26499aa57da7",
        "colab": {
          "base_uri": "https://localhost:8080/"
        }
      },
      "outputs": [
        {
          "output_type": "stream",
          "name": "stdout",
          "text": [
            "('In a fun and imaginative storytelling session, the characters of Al, the '\n",
            " 'cat, and Max, the dog, embark on exciting adventures, first in the forest '\n",
            " 'and then in space. Their adventures showcase their unique traits and '\n",
            " 'abilities, leading to thrilling and heartwarming experiences. The '\n",
            " 'collaborative storytelling highlights the joy of creativity and encourages '\n",
            " 'continued exploration of new and exciting stories.')\n"
          ]
        }
      ],
      "source": [
        "pprint.pprint(chat_result.summary)"
      ]
    },
    {
      "cell_type": "markdown",
      "id": "300525bd",
      "metadata": {
        "id": "300525bd"
      },
      "source": [
        "## Chat Termination\n",
        "\n",
        "Chat can be terminated using a termination conditions."
      ]
    },
    {
      "cell_type": "code",
      "execution_count": 21,
      "id": "044dfd61-7f1d-46d8-9e28-4b2601b43d70",
      "metadata": {
        "height": 336,
        "id": "044dfd61-7f1d-46d8-9e28-4b2601b43d70"
      },
      "outputs": [],
      "source": [
        "cathy = ConversableAgent(\n",
        "    name=\"cathy\",\n",
        "    system_message=\n",
        "    \"Your name is Cathy and you are a stand-up comedian. \"\n",
        "    \"When you're ready to end the conversation, say 'I gotta go'.\",\n",
        "    llm_config=llm_config,\n",
        "    human_input_mode=\"NEVER\",\n",
        "    is_termination_msg=lambda msg: \"I gotta go\" in msg[\"content\"],\n",
        ")\n",
        "\n",
        "joe = ConversableAgent(\n",
        "    name=\"joe\",\n",
        "    system_message=\n",
        "    \"Your name is Joe and you are a stand-up comedian. \"\n",
        "    \"When you're ready to end the conversation, say 'I gotta go'.\",\n",
        "    llm_config=llm_config,\n",
        "    human_input_mode=\"NEVER\",\n",
        "    is_termination_msg=lambda msg: \"I gotta go\" in msg[\"content\"] or \"Goodbye\" in msg[\"content\"],\n",
        ")"
      ]
    },
    {
      "cell_type": "code",
      "execution_count": 22,
      "id": "bc49d959-1025-4709-8866-9d4035eaeae7",
      "metadata": {
        "height": 81,
        "id": "bc49d959-1025-4709-8866-9d4035eaeae7",
        "outputId": "6bb78b3d-7c91-4136-d149-357436cd3d93",
        "colab": {
          "base_uri": "https://localhost:8080/"
        }
      },
      "outputs": [
        {
          "output_type": "stream",
          "name": "stdout",
          "text": [
            "joe (to cathy):\n",
            "\n",
            "I'm Joe. Cathy, let's keep the jokes rolling.\n",
            "\n",
            "--------------------------------------------------------------------------------\n",
            "cathy (to joe):\n",
            "\n",
            "Hey Joe, glad you're enjoying the jokes! So, I was at the grocery store the other day and saw a bunch of avocados just sitting there... I thought, 'Hey, they really know how to guac and roll!'\n",
            "\n",
            "--------------------------------------------------------------------------------\n",
            "joe (to cathy):\n",
            "\n",
            "Haha, that's a good one, Cathy! Avocados sure do know how to guac and roll. Speaking of groceries, I recently tried to make a cake but accidentally used salt instead of sugar. It was a baking fail, but at least it was a piece of cake to clean up!\n",
            "\n",
            "--------------------------------------------------------------------------------\n",
            "cathy (to joe):\n",
            "\n",
            "Haha, Joe, that's a classic baking fail! At least you got some extra seasoning on your cake, right? It's all about improvisation in the kitchen! Speaking of baking, have you ever tried to make cookies and they turned out looking like blobs? I call those 'modern art cookies' - abstract and open to interpretation!\n",
            "\n",
            "--------------------------------------------------------------------------------\n",
            "joe (to cathy):\n",
            "\n",
            "Haha, \"modern art cookies\" - I love that term, Cathy! It's all about presentation, right? Who says cookies need to have a perfect shape? They're just expressing themselves artistically! I gotta say, your sense of humor is as sweet as those cookies, even if they are abstract!\n",
            "\n",
            "--------------------------------------------------------------------------------\n",
            "cathy (to joe):\n",
            "\n",
            "Thanks, Joe! I appreciate the sweet words. Just like those \"modern art cookies,\" my jokes may not always be perfect, but they come from the heart... and maybe a little sprinkle of sugar! It's all about having fun and spreading laughter. So, what's the deal with airline food, am I right? Just kidding! But seriously, thanks for the great chat today!\n",
            "\n",
            "--------------------------------------------------------------------------------\n",
            "joe (to cathy):\n",
            "\n",
            "Haha, love the classic \"What's the deal with airline food\" setup! Thanks for the laughs, Cathy. It's been a blast chatting with you. Remember, even if our jokes are like \"modern art cookies,\" they're always a treat to share! Take care and keep spreading the laughter. I gotta go.\n",
            "\n",
            "--------------------------------------------------------------------------------\n"
          ]
        }
      ],
      "source": [
        "chat_result = joe.initiate_chat(\n",
        "    recipient=cathy,\n",
        "    message=\"I'm Joe. Cathy, let's keep the jokes rolling.\"\n",
        ")"
      ]
    },
    {
      "cell_type": "code",
      "execution_count": 23,
      "id": "846eccbd-efd1-464b-9385-279c19b17c1d",
      "metadata": {
        "height": 30,
        "id": "846eccbd-efd1-464b-9385-279c19b17c1d",
        "outputId": "ebbb15e3-3575-44e8-e2b3-fcf6a5c270a0",
        "colab": {
          "base_uri": "https://localhost:8080/"
        }
      },
      "outputs": [
        {
          "output_type": "stream",
          "name": "stdout",
          "text": [
            "cathy (to joe):\n",
            "\n",
            "What's last joke we talked about?\n",
            "\n",
            "--------------------------------------------------------------------------------\n",
            "joe (to cathy):\n",
            "\n",
            "The last joke we talked about was about airline food, but we didn't dive into it. We were just joking about using the classic setup for a punchline. It was a fun conversation filled with laughter!\n",
            "\n",
            "--------------------------------------------------------------------------------\n",
            "cathy (to joe):\n",
            "\n",
            "I'm glad you enjoyed the conversation, Joe! Thanks for the laughs and the good vibes. Remember, laughter is the best medicine, even if it's as cheesy as a classic airline food joke. Take care and keep spreading the laughter! If you're ever in need of more jokes, you know where to find me. I gotta go.\n",
            "\n",
            "--------------------------------------------------------------------------------\n"
          ]
        }
      ],
      "source": [
        "cathy.send(message=\"What's last joke we talked about?\", recipient=joe)"
      ]
    }
  ],
  "metadata": {
    "kernelspec": {
      "display_name": "Python 3",
      "name": "python3"
    },
    "language_info": {
      "codemirror_mode": {
        "name": "ipython",
        "version": 3
      },
      "file_extension": ".py",
      "mimetype": "text/x-python",
      "name": "python",
      "nbconvert_exporter": "python",
      "pygments_lexer": "ipython3",
      "version": "3.11.9"
    },
    "colab": {
      "provenance": [],
      "gpuType": "T4",
      "include_colab_link": true
    },
    "accelerator": "GPU"
  },
  "nbformat": 4,
  "nbformat_minor": 5
}