{
  "nbformat": 4,
  "nbformat_minor": 0,
  "metadata": {
    "colab": {
      "provenance": [],
      "authorship_tag": "ABX9TyOL18IMONRDjHph0KP2YTH+",
      "include_colab_link": true
    },
    "kernelspec": {
      "name": "python3",
      "display_name": "Python 3"
    },
    "language_info": {
      "name": "python"
    }
  },
  "cells": [
    {
      "cell_type": "markdown",
      "metadata": {
        "id": "view-in-github",
        "colab_type": "text"
      },
      "source": [
        "<a href=\"https://colab.research.google.com/github/JSJeong-me/AI-Innovation-2024/blob/main/RL/6-1-State-Transition.ipynb\" target=\"_parent\"><img src=\"https://colab.research.google.com/assets/colab-badge.svg\" alt=\"Open In Colab\"/></a>"
      ]
    },
    {
      "cell_type": "code",
      "execution_count": 1,
      "metadata": {
        "id": "62d3hvnkPxSF"
      },
      "outputs": [],
      "source": [
        "import numpy as np\n",
        "\n",
        "# 상태 리스트 정의\n",
        "states = [\"집\", \"학교\", \"직장\", \"공원\"]"
      ]
    },
    {
      "cell_type": "code",
      "source": [
        "\n",
        "\n",
        "# 상태 전이 확률 행렬 정의\n",
        "transition_matrix = [\n",
        "    [0.1, 0.6, 0.2, 0.1],  # 집에서 다른 상태로의 확률\n",
        "    [0.4, 0.1, 0.4, 0.1],  # 학교에서 다른 상태로의 확률\n",
        "    [0.2, 0.3, 0.4, 0.1],  # 직장에서 다른 상태로의 확률\n",
        "    [0.3, 0.2, 0.1, 0.4],  # 공원에서 다른 상태로의 확률\n",
        "]"
      ],
      "metadata": {
        "id": "xkqRS9-woSkM"
      },
      "execution_count": 2,
      "outputs": []
    },
    {
      "cell_type": "code",
      "source": [
        "\n",
        "\n",
        "# 현재 상태\n",
        "current_state = 0  # 초기 상태를 '집'으로 설정"
      ],
      "metadata": {
        "id": "P0qQq32AoUBr"
      },
      "execution_count": 3,
      "outputs": []
    },
    {
      "cell_type": "code",
      "source": [
        "\n",
        "\n",
        "# 마을에서의 이동을 추적하는 함수\n",
        "def next_state(current_state):\n",
        "    return np.random.choice([0, 1, 2, 3], p=transition_matrix[current_state])"
      ],
      "metadata": {
        "id": "RlNetCdEoU8y"
      },
      "execution_count": 4,
      "outputs": []
    },
    {
      "cell_type": "code",
      "source": [
        "\n",
        "\n",
        "# 예시: 10번의 상태 변화를 시뮬레이션\n",
        "num_steps = 10\n",
        "state_history = [states[current_state]]  # 상태 기록"
      ],
      "metadata": {
        "id": "6ThpQMqQoV2T"
      },
      "execution_count": 5,
      "outputs": []
    },
    {
      "cell_type": "code",
      "source": [
        "\n",
        "\n",
        "for _ in range(num_steps):\n",
        "    current_state = next_state(current_state)\n",
        "    state_history.append(states[current_state])"
      ],
      "metadata": {
        "id": "6frsO6qxoXXr"
      },
      "execution_count": 6,
      "outputs": []
    },
    {
      "cell_type": "code",
      "source": [
        "\n",
        "\n",
        "# 결과 출력\n",
        "print(\"상태 변화 기록:\", state_history)\n"
      ],
      "metadata": {
        "id": "nxfxjTBCoYHb",
        "outputId": "55442765-13aa-4f49-ce6b-2f6ef932d323",
        "colab": {
          "base_uri": "https://localhost:8080/"
        }
      },
      "execution_count": 7,
      "outputs": [
        {
          "output_type": "stream",
          "name": "stdout",
          "text": [
            "상태 변화 기록: ['집', '공원', '공원', '학교', '직장', '공원', '집', '직장', '집', '직장', '직장']\n"
          ]
        }
      ]
    }
  ]
}