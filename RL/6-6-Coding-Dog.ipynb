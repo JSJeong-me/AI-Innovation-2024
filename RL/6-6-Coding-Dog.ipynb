{
  "nbformat": 4,
  "nbformat_minor": 0,
  "metadata": {
    "colab": {
      "provenance": [],
      "authorship_tag": "ABX9TyN9o9BDez1dKcPSuWQr4/x7",
      "include_colab_link": true
    },
    "kernelspec": {
      "name": "python3",
      "display_name": "Python 3"
    },
    "language_info": {
      "name": "python"
    }
  },
  "cells": [
    {
      "cell_type": "markdown",
      "metadata": {
        "id": "view-in-github",
        "colab_type": "text"
      },
      "source": [
        "<a href=\"https://colab.research.google.com/github/JSJeong-me/AI-Innovation-2024/blob/main/RL/6-6-Coding-Dog.ipynb\" target=\"_parent\"><img src=\"https://colab.research.google.com/assets/colab-badge.svg\" alt=\"Open In Colab\"/></a>"
      ]
    },
    {
      "cell_type": "code",
      "execution_count": null,
      "metadata": {
        "id": "nCaL03rDKveq"
      },
      "outputs": [],
      "source": [
        "!pip install autogen"
      ]
    },
    {
      "cell_type": "code",
      "source": [
        "from google.colab import userdata\n",
        "import openai\n",
        "import os\n",
        "\n",
        "os.environ[\"OPENAI_API_KEY\"] = userdata.get('OPENAI_API_KEY')\n",
        "openai.api_key  = os.environ[\"OPENAI_API_KEY\"]"
      ],
      "metadata": {
        "id": "g_8UBxW_KzrD"
      },
      "execution_count": 2,
      "outputs": []
    },
    {
      "cell_type": "code",
      "source": [
        "from pathlib import Path\n",
        "\n",
        "from autogen.coding import CodeBlock, LocalCommandLineCodeExecutor\n",
        "\n",
        "work_dir = Path(\"coding\")\n",
        "work_dir.mkdir(exist_ok=True)"
      ],
      "metadata": {
        "colab": {
          "base_uri": "https://localhost:8080/"
        },
        "id": "-hq5eeZIKwAG",
        "outputId": "fb82c58c-c434-4490-d62c-7aa004329a10"
      },
      "execution_count": 3,
      "outputs": [
        {
          "output_type": "stream",
          "name": "stderr",
          "text": [
            "/usr/local/lib/python3.10/dist-packages/dask/dataframe/__init__.py:42: FutureWarning: \n",
            "Dask dataframe query planning is disabled because dask-expr is not installed.\n",
            "\n",
            "You can install it with `pip install dask[dataframe]` or `conda install dask`.\n",
            "This will raise in a future version.\n",
            "\n",
            "  warnings.warn(msg, FutureWarning)\n"
          ]
        }
      ]
    },
    {
      "cell_type": "code",
      "source": [
        "\n",
        "\n",
        "executor = LocalCommandLineCodeExecutor(work_dir=work_dir)\n",
        "# print(\n",
        "#     executor.execute_code_blocks(\n",
        "#         code_blocks=[\n",
        "#             CodeBlock(language=\"python\", code=\"print('Hello, World!')\"),\n",
        "#         ]\n",
        "#     )\n",
        "# )"
      ],
      "metadata": {
        "id": "d5OuIUzILN8K"
      },
      "execution_count": 4,
      "outputs": []
    },
    {
      "cell_type": "code",
      "source": [
        "executor.execute_code_blocks(\n",
        "        code_blocks=[\n",
        "            CodeBlock(language=\"python\", code=\"print('Hello, World!')\"),\n",
        "        ]\n",
        ")"
      ],
      "metadata": {
        "colab": {
          "base_uri": "https://localhost:8080/"
        },
        "id": "lSkjAN9lLbmk",
        "outputId": "51bbfee8-0d01-4e64-dda9-896bcc1ceba1"
      },
      "execution_count": 5,
      "outputs": [
        {
          "output_type": "execute_result",
          "data": {
            "text/plain": [
              "CommandLineCodeResult(exit_code=0, output='Hello, World!\\n', code_file='/content/coding/tmp_code_07da107bb575cc4e02b0e1d6d99cc204.py')"
            ]
          },
          "metadata": {},
          "execution_count": 5
        }
      ]
    },
    {
      "cell_type": "code",
      "source": [
        "from pathlib import Path\n",
        "\n",
        "from autogen import ConversableAgent\n",
        "from autogen.coding import LocalCommandLineCodeExecutor\n",
        "\n",
        "work_dir = Path(\"coding\")\n",
        "work_dir.mkdir(exist_ok=True)\n",
        "\n",
        "executor = LocalCommandLineCodeExecutor(work_dir=work_dir)\n",
        "\n",
        "code_executor_agent = ConversableAgent(\n",
        "    name=\"coding_dog\",\n",
        "    llm_config=False,\n",
        "    code_execution_config={\n",
        "        \"executor\": executor,\n",
        "    },\n",
        "    human_input_mode=\"NEVER\",\n",
        ")"
      ],
      "metadata": {
        "id": "sSQJfjotLz-d"
      },
      "execution_count": 6,
      "outputs": []
    },
    {
      "cell_type": "code",
      "source": [
        "# The code writer agent's system message is to instruct the LLM on how to\n",
        "# use the Jupyter code executor with IPython kernel.\n",
        "code_writer_system_message = \"\"\"\n",
        "You have been given coding capability to solve tasks using Python code.\n",
        "In the following cases, suggest python code (in a python coding block) or shell script (in a sh coding block) for the user to execute.\n",
        "    1. When you need to collect info, use the code to output the info you need, for example, browse or search the web, download/read a file, print the content of a webpage or a file, get the current date/time, check the operating system. After sufficient info is printed and the task is ready to be solved based on your language skill, you can solve the task by yourself.\n",
        "    2. When you need to perform some task with code, use the code to perform the task and output the result. Finish the task smartly.\n",
        "Solve the task step by step if you need to. If a plan is not provided, explain your plan first. Be clear which step uses code, and which step uses your language skill.\n",
        "When using code, you must indicate the script type in the code block. The user cannot provide any other feedback or perform any other action beyond executing the code you suggest. The user can't modify your code. So do not suggest incomplete code which requires users to modify. Don't use a code block if it's not intended to be executed by the user.\n",
        "If you want the user to save the code in a file before executing it, put # filename: <filename> inside the code block as the first line. Don't include multiple code blocks in one response. Do not ask users to copy and paste the result. Instead, use 'print' function for the output when relevant. Check the execution result returned by the user.\n",
        "\"\"\"\n",
        "\n",
        "import os\n",
        "\n",
        "code_writer_agent = ConversableAgent(\n",
        "    \"code_writer\",\n",
        "    system_message=code_writer_system_message,\n",
        "    llm_config={\"config_list\": [{\"model\": \"gpt-4\", \"api_key\": os.environ[\"OPENAI_API_KEY\"]}]},\n",
        "    code_execution_config=False,  # Turn off code execution for this agent.\n",
        "    max_consecutive_auto_reply=2,\n",
        "    human_input_mode=\"NEVER\",\n",
        ")"
      ],
      "metadata": {
        "id": "NtH3K0y8NOWo"
      },
      "execution_count": 7,
      "outputs": []
    },
    {
      "cell_type": "code",
      "source": [
        "import pprint\n",
        "\n",
        "chat_result = code_executor_agent.initiate_chat(\n",
        "    code_writer_agent, message=\"Write Python code to calculate the 14th Fibonacci number.\"\n",
        ")\n",
        "\n",
        "pprint.pprint(chat_result)"
      ],
      "metadata": {
        "colab": {
          "base_uri": "https://localhost:8080/"
        },
        "id": "w0ivGlSSMmXo",
        "outputId": "800f1b81-9f5e-41b1-a906-c7c6e99cf645"
      },
      "execution_count": 8,
      "outputs": [
        {
          "output_type": "stream",
          "name": "stdout",
          "text": [
            "coding_dog (to code_writer):\n",
            "\n",
            "Write Python code to calculate the 14th Fibonacci number.\n",
            "\n",
            "--------------------------------------------------------------------------------\n",
            "code_writer (to coding_dog):\n",
            "\n",
            "Here is a simple Python code snippet to calculate the 14th Fibonacci number:\n",
            "\n",
            "```python\n",
            "def fibonacci(n):\n",
            "    if n<=0:\n",
            "        print(\"Incorrect input\")\n",
            "    elif n==1:\n",
            "        return 0\n",
            "    elif n==2:\n",
            "        return 1\n",
            "    else:\n",
            "        a, b = 0, 1\n",
            "        for i in range(2, n):\n",
            "            a, b = b, a+b\n",
            "        return b\n",
            "\n",
            "\n",
            "print(fibonacci(14))\n",
            "```\n",
            "\n",
            "This code uses the iterative approach to find the n-th Fibonacci number. The function `fibonacci(n)` calculates the n-th Fibonacci number where `n` is the function argument. It checks if `n` is less than or equal to 0, if `n` is 1 and if `n` is 2 and returns the respective Fibonacci numbers. For values of `n` greater than 2, it performs the calculations to find the n-th Fibonacci number and returns it. The `print()` function is used to print the 14th Fibonacci number which is calculated by the `fibonacci(14)` function call.\n",
            "\n",
            "The time complexity of this code is O(n) and it uses O(1) extra space.\n",
            "\n",
            "--------------------------------------------------------------------------------\n",
            "\n",
            ">>>>>>>> EXECUTING CODE BLOCK (inferred language is python)...\n",
            "coding_dog (to code_writer):\n",
            "\n",
            "exitcode: 0 (execution succeeded)\n",
            "Code output: 233\n",
            "\n",
            "\n",
            "--------------------------------------------------------------------------------\n",
            "code_writer (to coding_dog):\n",
            "\n",
            "The execution of the code was successful and the 14th Fibonacci number was calculated properly, which is 233. \n",
            "The Fibonacci sequence is as follows: 0, 1, 1, 2, 3, 5, 8, 13, 21, 34, 55, 89, 144, 233... Here, 233 is the 14th term in the sequence.\n",
            "\n",
            "--------------------------------------------------------------------------------\n",
            "coding_dog (to code_writer):\n",
            "\n",
            "\n",
            "\n",
            "--------------------------------------------------------------------------------\n",
            "ChatResult(chat_id=None,\n",
            "           chat_history=[{'content': 'Write Python code to calculate the 14th '\n",
            "                                     'Fibonacci number.',\n",
            "                          'name': 'coding_dog',\n",
            "                          'role': 'assistant'},\n",
            "                         {'content': 'Here is a simple Python code snippet to '\n",
            "                                     'calculate the 14th Fibonacci number:\\n'\n",
            "                                     '\\n'\n",
            "                                     '```python\\n'\n",
            "                                     'def fibonacci(n):\\n'\n",
            "                                     '    if n<=0:\\n'\n",
            "                                     '        print(\"Incorrect input\")\\n'\n",
            "                                     '    elif n==1:\\n'\n",
            "                                     '        return 0\\n'\n",
            "                                     '    elif n==2:\\n'\n",
            "                                     '        return 1\\n'\n",
            "                                     '    else:\\n'\n",
            "                                     '        a, b = 0, 1\\n'\n",
            "                                     '        for i in range(2, n):\\n'\n",
            "                                     '            a, b = b, a+b\\n'\n",
            "                                     '        return b\\n'\n",
            "                                     '\\n'\n",
            "                                     '\\n'\n",
            "                                     'print(fibonacci(14))\\n'\n",
            "                                     '```\\n'\n",
            "                                     '\\n'\n",
            "                                     'This code uses the iterative approach to '\n",
            "                                     'find the n-th Fibonacci number. The '\n",
            "                                     'function `fibonacci(n)` calculates the '\n",
            "                                     'n-th Fibonacci number where `n` is the '\n",
            "                                     'function argument. It checks if `n` is '\n",
            "                                     'less than or equal to 0, if `n` is 1 and '\n",
            "                                     'if `n` is 2 and returns the respective '\n",
            "                                     'Fibonacci numbers. For values of `n` '\n",
            "                                     'greater than 2, it performs the '\n",
            "                                     'calculations to find the n-th Fibonacci '\n",
            "                                     'number and returns it. The `print()` '\n",
            "                                     'function is used to print the 14th '\n",
            "                                     'Fibonacci number which is calculated by '\n",
            "                                     'the `fibonacci(14)` function call.\\n'\n",
            "                                     '\\n'\n",
            "                                     'The time complexity of this code is O(n) '\n",
            "                                     'and it uses O(1) extra space.',\n",
            "                          'name': 'code_writer',\n",
            "                          'role': 'user'},\n",
            "                         {'content': 'exitcode: 0 (execution succeeded)\\n'\n",
            "                                     'Code output: 233\\n',\n",
            "                          'name': 'coding_dog',\n",
            "                          'role': 'assistant'},\n",
            "                         {'content': 'The execution of the code was successful '\n",
            "                                     'and the 14th Fibonacci number was '\n",
            "                                     'calculated properly, which is 233. \\n'\n",
            "                                     'The Fibonacci sequence is as follows: 0, '\n",
            "                                     '1, 1, 2, 3, 5, 8, 13, 21, 34, 55, 89, '\n",
            "                                     '144, 233... Here, 233 is the 14th term '\n",
            "                                     'in the sequence.',\n",
            "                          'name': 'code_writer',\n",
            "                          'role': 'user'},\n",
            "                         {'content': '',\n",
            "                          'name': 'coding_dog',\n",
            "                          'role': 'assistant'}],\n",
            "           summary='',\n",
            "           cost={'usage_excluding_cached_inference': {'gpt-4-0613': {'completion_tokens': 339,\n",
            "                                                                     'cost': 0.051179999999999996,\n",
            "                                                                     'prompt_tokens': 1028,\n",
            "                                                                     'total_tokens': 1367},\n",
            "                                                      'total_cost': 0.051179999999999996},\n",
            "                 'usage_including_cached_inference': {'gpt-4-0613': {'completion_tokens': 339,\n",
            "                                                                     'cost': 0.051179999999999996,\n",
            "                                                                     'prompt_tokens': 1028,\n",
            "                                                                     'total_tokens': 1367},\n",
            "                                                      'total_cost': 0.051179999999999996}},\n",
            "           human_input=[])\n"
          ]
        }
      ]
    }
  ]
}