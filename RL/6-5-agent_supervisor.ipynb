{
  "cells": [
    {
      "cell_type": "markdown",
      "metadata": {
        "id": "view-in-github",
        "colab_type": "text"
      },
      "source": [
        "<a href=\"https://colab.research.google.com/github/JSJeong-me/AI-Innovation-2024/blob/main/RL/6-5-agent_supervisor.ipynb\" target=\"_parent\"><img src=\"https://colab.research.google.com/assets/colab-badge.svg\" alt=\"Open In Colab\"/></a>"
      ]
    },
    {
      "cell_type": "markdown",
      "id": "a3e3ebc4-57af-4fe4-bdd3-36aff67bf276",
      "metadata": {
        "id": "a3e3ebc4-57af-4fe4-bdd3-36aff67bf276"
      },
      "source": [
        "## Agent Supervisor\n",
        "\n",
        "The [previous example](multi-agent-collaboration.ipynb) routed messages automatically based on the output of the initial researcher agent.\n",
        "\n",
        "We can also choose to use an LLM to orchestrate the different agents.\n",
        "\n",
        "Below, we will create an agent group, with an agent supervisor to help delegate tasks.\n",
        "\n",
        "![diagram](https://github.com/langchain-ai/langgraph/blob/main/examples/multi_agent/img/supervisor-diagram.png?raw=1)\n",
        "\n",
        "To simplify the code in each agent node, we will use the AgentExecutor class from LangChain. This and other \"advanced agent\" notebooks are designed to show how you can implement certain design patterns in LangGraph. If the pattern suits your needs, we recommend combining it with some of the other fundamental patterns described elsewhere in the docs for best performance.\n",
        "\n",
        "Before we build, let's configure our environment:"
      ]
    },
    {
      "cell_type": "code",
      "source": [
        "!pip install python-dotenv"
      ],
      "metadata": {
        "id": "EWaPCY_Y3LW4",
        "outputId": "274721fb-54e3-450b-cf50-2622b2acf6ab",
        "colab": {
          "base_uri": "https://localhost:8080/"
        }
      },
      "id": "EWaPCY_Y3LW4",
      "execution_count": 1,
      "outputs": [
        {
          "output_type": "stream",
          "name": "stdout",
          "text": [
            "Collecting python-dotenv\n",
            "  Downloading python_dotenv-1.0.1-py3-none-any.whl.metadata (23 kB)\n",
            "Downloading python_dotenv-1.0.1-py3-none-any.whl (19 kB)\n",
            "Installing collected packages: python-dotenv\n",
            "Successfully installed python-dotenv-1.0.1\n"
          ]
        }
      ]
    },
    {
      "cell_type": "code",
      "source": [
        "import os\n",
        "from dotenv import load_dotenv\n",
        "\n",
        "# Load environment variables from .env file\n",
        "load_dotenv()\n",
        "# Access the API key using the variable name defined in the .env file\n",
        "api_key = os.getenv(\"OPENAI_API_KEY\")\n",
        "api_key = os.getenv(\"LANGCHAIN_API_KEY\")\n",
        "api_key = os.getenv(\"OPENAI_API_KEY\")"
      ],
      "metadata": {
        "id": "t9QA4TlE3PvL"
      },
      "id": "t9QA4TlE3PvL",
      "execution_count": 2,
      "outputs": []
    },
    {
      "cell_type": "code",
      "execution_count": 3,
      "id": "0d30b6f7-3bec-4d9f-af50-43dfdc81ae6c",
      "metadata": {
        "id": "0d30b6f7-3bec-4d9f-af50-43dfdc81ae6c"
      },
      "outputs": [],
      "source": [
        "%%capture --no-stderr\n",
        "%pip install -U langchain langchain_openai langchain_experimental langsmith pandas"
      ]
    },
    {
      "cell_type": "code",
      "source": [
        "!pip install langgraph"
      ],
      "metadata": {
        "id": "R4csNofc3y15",
        "outputId": "1f79c1d0-8cb9-4704-e0f7-da38e83ead48",
        "colab": {
          "base_uri": "https://localhost:8080/"
        }
      },
      "id": "R4csNofc3y15",
      "execution_count": 4,
      "outputs": [
        {
          "output_type": "stream",
          "name": "stdout",
          "text": [
            "Collecting langgraph\n",
            "  Downloading langgraph-0.2.39-py3-none-any.whl.metadata (13 kB)\n",
            "Requirement already satisfied: langchain-core<0.4,>=0.2.39 in /usr/local/lib/python3.10/dist-packages (from langgraph) (0.3.12)\n",
            "Collecting langgraph-checkpoint<3.0.0,>=2.0.0 (from langgraph)\n",
            "  Downloading langgraph_checkpoint-2.0.1-py3-none-any.whl.metadata (4.6 kB)\n",
            "Collecting langgraph-sdk<0.2.0,>=0.1.32 (from langgraph)\n",
            "  Downloading langgraph_sdk-0.1.33-py3-none-any.whl.metadata (1.8 kB)\n",
            "Requirement already satisfied: PyYAML>=5.3 in /usr/local/lib/python3.10/dist-packages (from langchain-core<0.4,>=0.2.39->langgraph) (6.0.2)\n",
            "Requirement already satisfied: jsonpatch<2.0,>=1.33 in /usr/local/lib/python3.10/dist-packages (from langchain-core<0.4,>=0.2.39->langgraph) (1.33)\n",
            "Requirement already satisfied: langsmith<0.2.0,>=0.1.125 in /usr/local/lib/python3.10/dist-packages (from langchain-core<0.4,>=0.2.39->langgraph) (0.1.137)\n",
            "Requirement already satisfied: packaging<25,>=23.2 in /usr/local/lib/python3.10/dist-packages (from langchain-core<0.4,>=0.2.39->langgraph) (24.1)\n",
            "Requirement already satisfied: pydantic<3.0.0,>=2.5.2 in /usr/local/lib/python3.10/dist-packages (from langchain-core<0.4,>=0.2.39->langgraph) (2.9.2)\n",
            "Requirement already satisfied: tenacity!=8.4.0,<10.0.0,>=8.1.0 in /usr/local/lib/python3.10/dist-packages (from langchain-core<0.4,>=0.2.39->langgraph) (9.0.0)\n",
            "Requirement already satisfied: typing-extensions>=4.7 in /usr/local/lib/python3.10/dist-packages (from langchain-core<0.4,>=0.2.39->langgraph) (4.12.2)\n",
            "Requirement already satisfied: msgpack<2.0.0,>=1.1.0 in /usr/local/lib/python3.10/dist-packages (from langgraph-checkpoint<3.0.0,>=2.0.0->langgraph) (1.1.0)\n",
            "Requirement already satisfied: httpx>=0.25.2 in /usr/local/lib/python3.10/dist-packages (from langgraph-sdk<0.2.0,>=0.1.32->langgraph) (0.27.2)\n",
            "Collecting httpx-sse>=0.4.0 (from langgraph-sdk<0.2.0,>=0.1.32->langgraph)\n",
            "  Downloading httpx_sse-0.4.0-py3-none-any.whl.metadata (9.0 kB)\n",
            "Requirement already satisfied: orjson>=3.10.1 in /usr/local/lib/python3.10/dist-packages (from langgraph-sdk<0.2.0,>=0.1.32->langgraph) (3.10.10)\n",
            "Requirement already satisfied: anyio in /usr/local/lib/python3.10/dist-packages (from httpx>=0.25.2->langgraph-sdk<0.2.0,>=0.1.32->langgraph) (3.7.1)\n",
            "Requirement already satisfied: certifi in /usr/local/lib/python3.10/dist-packages (from httpx>=0.25.2->langgraph-sdk<0.2.0,>=0.1.32->langgraph) (2024.8.30)\n",
            "Requirement already satisfied: httpcore==1.* in /usr/local/lib/python3.10/dist-packages (from httpx>=0.25.2->langgraph-sdk<0.2.0,>=0.1.32->langgraph) (1.0.6)\n",
            "Requirement already satisfied: idna in /usr/local/lib/python3.10/dist-packages (from httpx>=0.25.2->langgraph-sdk<0.2.0,>=0.1.32->langgraph) (3.10)\n",
            "Requirement already satisfied: sniffio in /usr/local/lib/python3.10/dist-packages (from httpx>=0.25.2->langgraph-sdk<0.2.0,>=0.1.32->langgraph) (1.3.1)\n",
            "Requirement already satisfied: h11<0.15,>=0.13 in /usr/local/lib/python3.10/dist-packages (from httpcore==1.*->httpx>=0.25.2->langgraph-sdk<0.2.0,>=0.1.32->langgraph) (0.14.0)\n",
            "Requirement already satisfied: jsonpointer>=1.9 in /usr/local/lib/python3.10/dist-packages (from jsonpatch<2.0,>=1.33->langchain-core<0.4,>=0.2.39->langgraph) (3.0.0)\n",
            "Requirement already satisfied: requests<3,>=2 in /usr/local/lib/python3.10/dist-packages (from langsmith<0.2.0,>=0.1.125->langchain-core<0.4,>=0.2.39->langgraph) (2.32.3)\n",
            "Requirement already satisfied: requests-toolbelt<2.0.0,>=1.0.0 in /usr/local/lib/python3.10/dist-packages (from langsmith<0.2.0,>=0.1.125->langchain-core<0.4,>=0.2.39->langgraph) (1.0.0)\n",
            "Requirement already satisfied: annotated-types>=0.6.0 in /usr/local/lib/python3.10/dist-packages (from pydantic<3.0.0,>=2.5.2->langchain-core<0.4,>=0.2.39->langgraph) (0.7.0)\n",
            "Requirement already satisfied: pydantic-core==2.23.4 in /usr/local/lib/python3.10/dist-packages (from pydantic<3.0.0,>=2.5.2->langchain-core<0.4,>=0.2.39->langgraph) (2.23.4)\n",
            "Requirement already satisfied: charset-normalizer<4,>=2 in /usr/local/lib/python3.10/dist-packages (from requests<3,>=2->langsmith<0.2.0,>=0.1.125->langchain-core<0.4,>=0.2.39->langgraph) (3.4.0)\n",
            "Requirement already satisfied: urllib3<3,>=1.21.1 in /usr/local/lib/python3.10/dist-packages (from requests<3,>=2->langsmith<0.2.0,>=0.1.125->langchain-core<0.4,>=0.2.39->langgraph) (2.2.3)\n",
            "Requirement already satisfied: exceptiongroup in /usr/local/lib/python3.10/dist-packages (from anyio->httpx>=0.25.2->langgraph-sdk<0.2.0,>=0.1.32->langgraph) (1.2.2)\n",
            "Downloading langgraph-0.2.39-py3-none-any.whl (113 kB)\n",
            "\u001b[2K   \u001b[90m━━━━━━━━━━━━━━━━━━━━━━━━━━━━━━━━━━━━━━━━\u001b[0m \u001b[32m113.5/113.5 kB\u001b[0m \u001b[31m7.3 MB/s\u001b[0m eta \u001b[36m0:00:00\u001b[0m\n",
            "\u001b[?25hDownloading langgraph_checkpoint-2.0.1-py3-none-any.whl (22 kB)\n",
            "Downloading langgraph_sdk-0.1.33-py3-none-any.whl (28 kB)\n",
            "Downloading httpx_sse-0.4.0-py3-none-any.whl (7.8 kB)\n",
            "Installing collected packages: httpx-sse, langgraph-sdk, langgraph-checkpoint, langgraph\n",
            "Successfully installed httpx-sse-0.4.0 langgraph-0.2.39 langgraph-checkpoint-2.0.1 langgraph-sdk-0.1.33\n"
          ]
        }
      ]
    },
    {
      "cell_type": "code",
      "execution_count": 5,
      "id": "30c2f3de-c730-4aec-85a6-af2c2f058803",
      "metadata": {
        "id": "30c2f3de-c730-4aec-85a6-af2c2f058803",
        "outputId": "d5f4833b-093c-43c7-9fe6-941aaa4be491",
        "colab": {
          "base_uri": "https://localhost:8080/"
        }
      },
      "outputs": [
        {
          "name": "stdout",
          "output_type": "stream",
          "text": [
            "Please provide your OPENAI_API_KEY··········\n",
            "Please provide your LANGCHAIN_API_KEY··········\n",
            "Please provide your TAVILY_API_KEY··········\n"
          ]
        }
      ],
      "source": [
        "import getpass\n",
        "import os\n",
        "\n",
        "\n",
        "def _set_if_undefined(var: str):\n",
        "    if not os.environ.get(var):\n",
        "        os.environ[var] = getpass.getpass(f\"Please provide your {var}\")\n",
        "\n",
        "\n",
        "_set_if_undefined(\"OPENAI_API_KEY\")\n",
        "_set_if_undefined(\"LANGCHAIN_API_KEY\")\n",
        "_set_if_undefined(\"TAVILY_API_KEY\")\n",
        "\n",
        "# Optional, add tracing in LangSmith\n",
        "os.environ[\"LANGCHAIN_TRACING_V2\"] = \"true\"\n",
        "os.environ[\"LANGCHAIN_PROJECT\"] = \"Agent Supersivor Collaboration\""
      ]
    },
    {
      "cell_type": "markdown",
      "id": "1ac25624-4d83-45a4-b9ef-a10589aacfb7",
      "metadata": {
        "id": "1ac25624-4d83-45a4-b9ef-a10589aacfb7"
      },
      "source": [
        "## Create tools\n",
        "\n",
        "For this example, you will make an agent to do web research with a search engine, and one agent to create plots. Define the tools they'll use below:"
      ]
    },
    {
      "cell_type": "code",
      "execution_count": 6,
      "id": "f04c6778-403b-4b49-9b93-678e910d5cec",
      "metadata": {
        "id": "f04c6778-403b-4b49-9b93-678e910d5cec"
      },
      "outputs": [],
      "source": [
        "from typing import Annotated, List, Tuple, Union\n",
        "\n",
        "from langchain_community.tools.tavily_search import TavilySearchResults\n",
        "from langchain_core.tools import tool\n",
        "from langchain_experimental.tools import PythonREPLTool\n",
        "\n",
        "tavily_tool = TavilySearchResults(max_results=5)\n",
        "\n",
        "# This executes code locally, which can be unsafe\n",
        "python_repl_tool = PythonREPLTool()"
      ]
    },
    {
      "cell_type": "markdown",
      "id": "d58d1e85-22d4-4c22-9062-72a346a0d709",
      "metadata": {
        "id": "d58d1e85-22d4-4c22-9062-72a346a0d709"
      },
      "source": [
        "## Helper Utilities\n",
        "\n",
        "Define a helper function below, which make it easier to add new agent worker nodes."
      ]
    },
    {
      "cell_type": "code",
      "execution_count": 7,
      "id": "c4823dd9-26bd-4e1a-8117-b97b2860211a",
      "metadata": {
        "id": "c4823dd9-26bd-4e1a-8117-b97b2860211a"
      },
      "outputs": [],
      "source": [
        "from langchain.agents import AgentExecutor, create_openai_tools_agent\n",
        "from langchain_core.messages import BaseMessage, HumanMessage\n",
        "from langchain_openai import ChatOpenAI\n",
        "\n",
        "\n",
        "def create_agent(llm: ChatOpenAI, tools: list, system_prompt: str):\n",
        "    # Each worker node will be given a name and some tools.\n",
        "    prompt = ChatPromptTemplate.from_messages(\n",
        "        [\n",
        "            (\n",
        "                \"system\",\n",
        "                system_prompt,\n",
        "            ),\n",
        "            MessagesPlaceholder(variable_name=\"messages\"),\n",
        "            MessagesPlaceholder(variable_name=\"agent_scratchpad\"),\n",
        "        ]\n",
        "    )\n",
        "    agent = create_openai_tools_agent(llm, tools, prompt)\n",
        "    executor = AgentExecutor(agent=agent, tools=tools)\n",
        "    return executor"
      ]
    },
    {
      "cell_type": "markdown",
      "id": "b7c302b0-cd57-4913-986f-5dc7d6d77386",
      "metadata": {
        "id": "b7c302b0-cd57-4913-986f-5dc7d6d77386"
      },
      "source": [
        "We can also define a function that we will use to be the nodes in the graph - it takes care of converting the agent response to a human message. This is important because that is how we will add it the global state of the graph"
      ]
    },
    {
      "cell_type": "code",
      "execution_count": 8,
      "id": "80862241-a1a7-4726-bce5-f867b233832e",
      "metadata": {
        "id": "80862241-a1a7-4726-bce5-f867b233832e"
      },
      "outputs": [],
      "source": [
        "def agent_node(state, agent, name):\n",
        "    result = agent.invoke(state)\n",
        "    return {\"messages\": [HumanMessage(content=result[\"output\"], name=name)]}"
      ]
    },
    {
      "cell_type": "markdown",
      "id": "d32962d2-5487-496d-aefc-2a3b0d194985",
      "metadata": {
        "id": "d32962d2-5487-496d-aefc-2a3b0d194985"
      },
      "source": [
        "### Create Agent Supervisor\n",
        "\n",
        "It will use function calling to choose the next worker node OR finish processing."
      ]
    },
    {
      "cell_type": "code",
      "execution_count": 9,
      "id": "311f0a58-b425-4496-adac-dc4cd8ffb912",
      "metadata": {
        "id": "311f0a58-b425-4496-adac-dc4cd8ffb912",
        "outputId": "aaa14ab5-96b7-4d2e-c6fd-c8fdab9c8674",
        "colab": {
          "base_uri": "https://localhost:8080/"
        }
      },
      "outputs": [
        {
          "output_type": "stream",
          "name": "stderr",
          "text": [
            "<ipython-input-9-a419c472fa38>:49: LangChainDeprecationWarning: The method `BaseChatOpenAI.bind_functions` was deprecated in langchain-openai 0.2.1 and will be removed in 0.3.0. Use :meth:`~langchain_openai.chat_models.base.ChatOpenAI.bind_tools` instead.\n",
            "  | llm.bind_functions(functions=[function_def], function_call=\"route\")\n"
          ]
        }
      ],
      "source": [
        "from langchain_core.prompts import ChatPromptTemplate, MessagesPlaceholder\n",
        "from langchain_core.output_parsers.openai_functions import JsonOutputFunctionsParser\n",
        "\n",
        "members = [\"Researcher\", \"Coder\"]\n",
        "system_prompt = (\n",
        "    \"You are a supervisor tasked with managing a conversation between the\"\n",
        "    \" following workers:  {members}. Given the following user request,\"\n",
        "    \" respond with the worker to act next. Each worker will perform a\"\n",
        "    \" task and respond with their results and status. When finished,\"\n",
        "    \" respond with FINISH.\"\n",
        ")\n",
        "# Our team supervisor is an LLM node. It just picks the next agent to process\n",
        "# and decides when the work is completed\n",
        "options = [\"FINISH\"] + members\n",
        "# Using openai function calling can make output parsing easier for us\n",
        "function_def = {\n",
        "    \"name\": \"route\",\n",
        "    \"description\": \"Select the next role.\",\n",
        "    \"parameters\": {\n",
        "        \"title\": \"routeSchema\",\n",
        "        \"type\": \"object\",\n",
        "        \"properties\": {\n",
        "            \"next\": {\n",
        "                \"title\": \"Next\",\n",
        "                \"anyOf\": [\n",
        "                    {\"enum\": options},\n",
        "                ],\n",
        "            }\n",
        "        },\n",
        "        \"required\": [\"next\"],\n",
        "    },\n",
        "}\n",
        "prompt = ChatPromptTemplate.from_messages(\n",
        "    [\n",
        "        (\"system\", system_prompt),\n",
        "        MessagesPlaceholder(variable_name=\"messages\"),\n",
        "        (\n",
        "            \"system\",\n",
        "            \"Given the conversation above, who should act next?\"\n",
        "            \" Or should we FINISH? Select one of: {options}\",\n",
        "        ),\n",
        "    ]\n",
        ").partial(options=str(options), members=\", \".join(members))\n",
        "\n",
        "llm = ChatOpenAI(model=\"gpt-4-1106-preview\")\n",
        "\n",
        "supervisor_chain = (\n",
        "    prompt\n",
        "    | llm.bind_functions(functions=[function_def], function_call=\"route\")\n",
        "    | JsonOutputFunctionsParser()\n",
        ")"
      ]
    },
    {
      "cell_type": "markdown",
      "id": "a07d507f-34d1-4f1b-8dde-5e58d17b2166",
      "metadata": {
        "id": "a07d507f-34d1-4f1b-8dde-5e58d17b2166"
      },
      "source": [
        "## Construct Graph\n",
        "\n",
        "We're ready to start building the graph. Below, define the state and worker nodes using the function we just defined."
      ]
    },
    {
      "cell_type": "code",
      "execution_count": 10,
      "id": "6a430af7-8fce-4e66-ba9e-d940c1bc48e8",
      "metadata": {
        "id": "6a430af7-8fce-4e66-ba9e-d940c1bc48e8",
        "outputId": "df7c374a-614d-4953-8b8d-d2f4106131f1",
        "colab": {
          "base_uri": "https://localhost:8080/"
        }
      },
      "outputs": [
        {
          "output_type": "execute_result",
          "data": {
            "text/plain": [
              "<langgraph.graph.state.StateGraph at 0x7a57b5fb6a70>"
            ]
          },
          "metadata": {},
          "execution_count": 10
        }
      ],
      "source": [
        "import operator\n",
        "from typing import Annotated, Any, Dict, List, Optional, Sequence, TypedDict\n",
        "import functools\n",
        "\n",
        "from langchain_core.prompts import ChatPromptTemplate, MessagesPlaceholder\n",
        "from langgraph.graph import StateGraph, END\n",
        "\n",
        "\n",
        "# The agent state is the input to each node in the graph\n",
        "class AgentState(TypedDict):\n",
        "    # The annotation tells the graph that new messages will always\n",
        "    # be added to the current states\n",
        "    messages: Annotated[Sequence[BaseMessage], operator.add]\n",
        "    # The 'next' field indicates where to route to next\n",
        "    next: str\n",
        "\n",
        "\n",
        "research_agent = create_agent(llm, [tavily_tool], \"You are a web researcher.\")\n",
        "research_node = functools.partial(agent_node, agent=research_agent, name=\"Researcher\")\n",
        "\n",
        "# NOTE: THIS PERFORMS ARBITRARY CODE EXECUTION. PROCEED WITH CAUTION\n",
        "code_agent = create_agent(\n",
        "    llm,\n",
        "    [python_repl_tool],\n",
        "    \"You may generate safe python code to analyze data and generate charts using matplotlib.\",\n",
        ")\n",
        "code_node = functools.partial(agent_node, agent=code_agent, name=\"Coder\")\n",
        "\n",
        "workflow = StateGraph(AgentState)\n",
        "workflow.add_node(\"Researcher\", research_node)\n",
        "workflow.add_node(\"Coder\", code_node)\n",
        "workflow.add_node(\"supervisor\", supervisor_chain)"
      ]
    },
    {
      "cell_type": "markdown",
      "id": "2c1593d5-39f7-4819-96d2-4ad7d7991d72",
      "metadata": {
        "id": "2c1593d5-39f7-4819-96d2-4ad7d7991d72"
      },
      "source": [
        "Now connect all the edges in the graph."
      ]
    },
    {
      "cell_type": "code",
      "execution_count": 11,
      "id": "14778e86-077b-4e6a-893c-400e59b0cdbf",
      "metadata": {
        "id": "14778e86-077b-4e6a-893c-400e59b0cdbf"
      },
      "outputs": [],
      "source": [
        "for member in members:\n",
        "    # We want our workers to ALWAYS \"report back\" to the supervisor when done\n",
        "    workflow.add_edge(member, \"supervisor\")\n",
        "# The supervisor populates the \"next\" field in the graph state\n",
        "# which routes to a node or finishes\n",
        "conditional_map = {k: k for k in members}\n",
        "conditional_map[\"FINISH\"] = END\n",
        "workflow.add_conditional_edges(\"supervisor\", lambda x: x[\"next\"], conditional_map)\n",
        "# Finally, add entrypoint\n",
        "workflow.set_entry_point(\"supervisor\")\n",
        "\n",
        "graph = workflow.compile()"
      ]
    },
    {
      "cell_type": "markdown",
      "id": "d36496de-7121-4c49-8cb6-58c943c66628",
      "metadata": {
        "id": "d36496de-7121-4c49-8cb6-58c943c66628"
      },
      "source": [
        "## Invoke the team\n",
        "\n",
        "With the graph created, we can now invoke it and see how it performs!"
      ]
    },
    {
      "cell_type": "code",
      "execution_count": 12,
      "id": "56ba78e9-d9c1-457c-a073-d606d5d3e013",
      "metadata": {
        "id": "56ba78e9-d9c1-457c-a073-d606d5d3e013",
        "outputId": "f9703eef-0093-43fd-d987-d3aace7f855a",
        "colab": {
          "base_uri": "https://localhost:8080/"
        }
      },
      "outputs": [
        {
          "output_type": "stream",
          "name": "stderr",
          "text": [
            "WARNING:langsmith.client:Failed to multipart ingest runs: langsmith.utils.LangSmithAuthError: Authentication failed for https://api.smith.langchain.com/runs/multipart. HTTPError('401 Client Error: Unauthorized for url: https://api.smith.langchain.com/runs/multipart', '{\"detail\":\"Using legacy API key. Please generate a new API key.\"}')trace=64ac93ee-4b23-4be9-99e7-af42bc92a31f,id=64ac93ee-4b23-4be9-99e7-af42bc92a31f; trace=64ac93ee-4b23-4be9-99e7-af42bc92a31f,id=9c9faa30-a4dd-4062-a815-53effd89e863; trace=64ac93ee-4b23-4be9-99e7-af42bc92a31f,id=f49829ce-82d7-406a-b3a8-d33aba1b633f; trace=64ac93ee-4b23-4be9-99e7-af42bc92a31f,id=4a1c0650-54d4-476d-8f0d-78e9989fa51e; trace=64ac93ee-4b23-4be9-99e7-af42bc92a31f,id=43125039-78a5-40d5-b40f-6f3294b7c8ec\n",
            "WARNING:langsmith.client:Failed to multipart ingest runs: langsmith.utils.LangSmithAuthError: Authentication failed for https://api.smith.langchain.com/runs/multipart. HTTPError('401 Client Error: Unauthorized for url: https://api.smith.langchain.com/runs/multipart', '{\"detail\":\"Using legacy API key. Please generate a new API key.\"}')trace=64ac93ee-4b23-4be9-99e7-af42bc92a31f,id=64ac93ee-4b23-4be9-99e7-af42bc92a31f; trace=64ac93ee-4b23-4be9-99e7-af42bc92a31f,id=9c9faa30-a4dd-4062-a815-53effd89e863; trace=64ac93ee-4b23-4be9-99e7-af42bc92a31f,id=f49829ce-82d7-406a-b3a8-d33aba1b633f; trace=64ac93ee-4b23-4be9-99e7-af42bc92a31f,id=4a1c0650-54d4-476d-8f0d-78e9989fa51e; trace=64ac93ee-4b23-4be9-99e7-af42bc92a31f,id=43125039-78a5-40d5-b40f-6f3294b7c8ec\n",
            "WARNING:langsmith.client:Failed to multipart ingest runs: langsmith.utils.LangSmithAuthError: Authentication failed for https://api.smith.langchain.com/runs/multipart. HTTPError('401 Client Error: Unauthorized for url: https://api.smith.langchain.com/runs/multipart', '{\"detail\":\"Using legacy API key. Please generate a new API key.\"}')trace=64ac93ee-4b23-4be9-99e7-af42bc92a31f,id=64ac93ee-4b23-4be9-99e7-af42bc92a31f; trace=64ac93ee-4b23-4be9-99e7-af42bc92a31f,id=9c9faa30-a4dd-4062-a815-53effd89e863; trace=64ac93ee-4b23-4be9-99e7-af42bc92a31f,id=f49829ce-82d7-406a-b3a8-d33aba1b633f; trace=64ac93ee-4b23-4be9-99e7-af42bc92a31f,id=4a1c0650-54d4-476d-8f0d-78e9989fa51e; trace=64ac93ee-4b23-4be9-99e7-af42bc92a31f,id=43125039-78a5-40d5-b40f-6f3294b7c8ec\n"
          ]
        },
        {
          "output_type": "stream",
          "name": "stdout",
          "text": [
            "{'supervisor': {'next': 'Coder'}}\n",
            "----\n"
          ]
        },
        {
          "output_type": "stream",
          "name": "stderr",
          "text": [
            "WARNING:langsmith.client:Failed to multipart ingest runs: langsmith.utils.LangSmithAuthError: Authentication failed for https://api.smith.langchain.com/runs/multipart. HTTPError('401 Client Error: Unauthorized for url: https://api.smith.langchain.com/runs/multipart', '{\"detail\":\"Using legacy API key. Please generate a new API key.\"}')trace=64ac93ee-4b23-4be9-99e7-af42bc92a31f,id=ffb95cc4-8014-4b76-bf9a-e409173317fe; trace=64ac93ee-4b23-4be9-99e7-af42bc92a31f,id=4999b5b2-879a-4b2e-ae7a-dc9ce1b8cc62; trace=64ac93ee-4b23-4be9-99e7-af42bc92a31f,id=ba14e598-e7de-4a31-8a11-0f836570f8d7; trace=64ac93ee-4b23-4be9-99e7-af42bc92a31f,id=9b351c0c-7aec-422c-84a7-a06127f8292f; trace=64ac93ee-4b23-4be9-99e7-af42bc92a31f,id=57675994-3838-469c-b0ba-3f0ecd80e9b6; trace=64ac93ee-4b23-4be9-99e7-af42bc92a31f,id=37fd1428-a3a3-4f95-a4f4-13342b8e6e92; trace=64ac93ee-4b23-4be9-99e7-af42bc92a31f,id=b9930642-1771-41c2-9894-589c6c10c162; trace=64ac93ee-4b23-4be9-99e7-af42bc92a31f,id=a0550082-9f1e-4226-a741-4de6c74e00a3; trace=64ac93ee-4b23-4be9-99e7-af42bc92a31f,id=0475296b-a7f1-441b-815d-cd8d179eaa32; trace=64ac93ee-4b23-4be9-99e7-af42bc92a31f,id=bcd3091d-a22c-4040-a068-d1d95ac417cb; trace=64ac93ee-4b23-4be9-99e7-af42bc92a31f,id=0531c5b3-c10d-461e-8562-a62cbeaa1602; trace=64ac93ee-4b23-4be9-99e7-af42bc92a31f,id=43125039-78a5-40d5-b40f-6f3294b7c8ec; trace=64ac93ee-4b23-4be9-99e7-af42bc92a31f,id=f49829ce-82d7-406a-b3a8-d33aba1b633f\n",
            "WARNING:langsmith.client:Failed to multipart ingest runs: langsmith.utils.LangSmithAuthError: Authentication failed for https://api.smith.langchain.com/runs/multipart. HTTPError('401 Client Error: Unauthorized for url: https://api.smith.langchain.com/runs/multipart', '{\"detail\":\"Using legacy API key. Please generate a new API key.\"}')trace=64ac93ee-4b23-4be9-99e7-af42bc92a31f,id=ffb95cc4-8014-4b76-bf9a-e409173317fe; trace=64ac93ee-4b23-4be9-99e7-af42bc92a31f,id=4999b5b2-879a-4b2e-ae7a-dc9ce1b8cc62; trace=64ac93ee-4b23-4be9-99e7-af42bc92a31f,id=ba14e598-e7de-4a31-8a11-0f836570f8d7; trace=64ac93ee-4b23-4be9-99e7-af42bc92a31f,id=9b351c0c-7aec-422c-84a7-a06127f8292f; trace=64ac93ee-4b23-4be9-99e7-af42bc92a31f,id=57675994-3838-469c-b0ba-3f0ecd80e9b6; trace=64ac93ee-4b23-4be9-99e7-af42bc92a31f,id=37fd1428-a3a3-4f95-a4f4-13342b8e6e92; trace=64ac93ee-4b23-4be9-99e7-af42bc92a31f,id=b9930642-1771-41c2-9894-589c6c10c162; trace=64ac93ee-4b23-4be9-99e7-af42bc92a31f,id=a0550082-9f1e-4226-a741-4de6c74e00a3; trace=64ac93ee-4b23-4be9-99e7-af42bc92a31f,id=0475296b-a7f1-441b-815d-cd8d179eaa32; trace=64ac93ee-4b23-4be9-99e7-af42bc92a31f,id=bcd3091d-a22c-4040-a068-d1d95ac417cb; trace=64ac93ee-4b23-4be9-99e7-af42bc92a31f,id=0531c5b3-c10d-461e-8562-a62cbeaa1602; trace=64ac93ee-4b23-4be9-99e7-af42bc92a31f,id=43125039-78a5-40d5-b40f-6f3294b7c8ec; trace=64ac93ee-4b23-4be9-99e7-af42bc92a31f,id=f49829ce-82d7-406a-b3a8-d33aba1b633f\n",
            "WARNING:langsmith.client:Failed to multipart ingest runs: langsmith.utils.LangSmithAuthError: Authentication failed for https://api.smith.langchain.com/runs/multipart. HTTPError('401 Client Error: Unauthorized for url: https://api.smith.langchain.com/runs/multipart', '{\"detail\":\"Using legacy API key. Please generate a new API key.\"}')trace=64ac93ee-4b23-4be9-99e7-af42bc92a31f,id=ffb95cc4-8014-4b76-bf9a-e409173317fe; trace=64ac93ee-4b23-4be9-99e7-af42bc92a31f,id=4999b5b2-879a-4b2e-ae7a-dc9ce1b8cc62; trace=64ac93ee-4b23-4be9-99e7-af42bc92a31f,id=ba14e598-e7de-4a31-8a11-0f836570f8d7; trace=64ac93ee-4b23-4be9-99e7-af42bc92a31f,id=9b351c0c-7aec-422c-84a7-a06127f8292f; trace=64ac93ee-4b23-4be9-99e7-af42bc92a31f,id=57675994-3838-469c-b0ba-3f0ecd80e9b6; trace=64ac93ee-4b23-4be9-99e7-af42bc92a31f,id=37fd1428-a3a3-4f95-a4f4-13342b8e6e92; trace=64ac93ee-4b23-4be9-99e7-af42bc92a31f,id=b9930642-1771-41c2-9894-589c6c10c162; trace=64ac93ee-4b23-4be9-99e7-af42bc92a31f,id=a0550082-9f1e-4226-a741-4de6c74e00a3; trace=64ac93ee-4b23-4be9-99e7-af42bc92a31f,id=0475296b-a7f1-441b-815d-cd8d179eaa32; trace=64ac93ee-4b23-4be9-99e7-af42bc92a31f,id=bcd3091d-a22c-4040-a068-d1d95ac417cb; trace=64ac93ee-4b23-4be9-99e7-af42bc92a31f,id=0531c5b3-c10d-461e-8562-a62cbeaa1602; trace=64ac93ee-4b23-4be9-99e7-af42bc92a31f,id=43125039-78a5-40d5-b40f-6f3294b7c8ec; trace=64ac93ee-4b23-4be9-99e7-af42bc92a31f,id=f49829ce-82d7-406a-b3a8-d33aba1b633f\n",
            "WARNING:langchain_experimental.utilities.python:Python REPL can execute arbitrary code. Use with caution.\n",
            "WARNING:langsmith.client:Failed to multipart ingest runs: langsmith.utils.LangSmithAuthError: Authentication failed for https://api.smith.langchain.com/runs/multipart. HTTPError('401 Client Error: Unauthorized for url: https://api.smith.langchain.com/runs/multipart', '{\"detail\":\"Using legacy API key. Please generate a new API key.\"}')trace=64ac93ee-4b23-4be9-99e7-af42bc92a31f,id=2c28d23a-1d2f-42b9-80c0-5a13957f10a9; trace=64ac93ee-4b23-4be9-99e7-af42bc92a31f,id=96a57830-6b64-4522-ab3e-d68778c280d7; trace=64ac93ee-4b23-4be9-99e7-af42bc92a31f,id=025d1aa6-bb6f-46eb-a044-4174c53280f9; trace=64ac93ee-4b23-4be9-99e7-af42bc92a31f,id=ca5e0f78-516e-4c18-a923-0089faba5678; trace=64ac93ee-4b23-4be9-99e7-af42bc92a31f,id=f3d3bf40-33db-4a2f-ae4d-a659f67b1f54; trace=64ac93ee-4b23-4be9-99e7-af42bc92a31f,id=2d935d08-179a-4979-a5e9-9fa4874b74b0; trace=64ac93ee-4b23-4be9-99e7-af42bc92a31f,id=1eea0ef3-fc7b-45e4-98f2-77eefcafa009; trace=64ac93ee-4b23-4be9-99e7-af42bc92a31f,id=3e66b91c-5ff5-4c74-9903-fa3cb9dbe288; trace=64ac93ee-4b23-4be9-99e7-af42bc92a31f,id=0531c5b3-c10d-461e-8562-a62cbeaa1602; trace=64ac93ee-4b23-4be9-99e7-af42bc92a31f,id=37fd1428-a3a3-4f95-a4f4-13342b8e6e92\n",
            "WARNING:langsmith.client:Failed to multipart ingest runs: langsmith.utils.LangSmithAuthError: Authentication failed for https://api.smith.langchain.com/runs/multipart. HTTPError('401 Client Error: Unauthorized for url: https://api.smith.langchain.com/runs/multipart', '{\"detail\":\"Using legacy API key. Please generate a new API key.\"}')trace=64ac93ee-4b23-4be9-99e7-af42bc92a31f,id=2c28d23a-1d2f-42b9-80c0-5a13957f10a9; trace=64ac93ee-4b23-4be9-99e7-af42bc92a31f,id=96a57830-6b64-4522-ab3e-d68778c280d7; trace=64ac93ee-4b23-4be9-99e7-af42bc92a31f,id=025d1aa6-bb6f-46eb-a044-4174c53280f9; trace=64ac93ee-4b23-4be9-99e7-af42bc92a31f,id=ca5e0f78-516e-4c18-a923-0089faba5678; trace=64ac93ee-4b23-4be9-99e7-af42bc92a31f,id=f3d3bf40-33db-4a2f-ae4d-a659f67b1f54; trace=64ac93ee-4b23-4be9-99e7-af42bc92a31f,id=2d935d08-179a-4979-a5e9-9fa4874b74b0; trace=64ac93ee-4b23-4be9-99e7-af42bc92a31f,id=1eea0ef3-fc7b-45e4-98f2-77eefcafa009; trace=64ac93ee-4b23-4be9-99e7-af42bc92a31f,id=3e66b91c-5ff5-4c74-9903-fa3cb9dbe288; trace=64ac93ee-4b23-4be9-99e7-af42bc92a31f,id=0531c5b3-c10d-461e-8562-a62cbeaa1602; trace=64ac93ee-4b23-4be9-99e7-af42bc92a31f,id=37fd1428-a3a3-4f95-a4f4-13342b8e6e92\n",
            "WARNING:langsmith.client:Failed to multipart ingest runs: langsmith.utils.LangSmithAuthError: Authentication failed for https://api.smith.langchain.com/runs/multipart. HTTPError('401 Client Error: Unauthorized for url: https://api.smith.langchain.com/runs/multipart', '{\"detail\":\"Using legacy API key. Please generate a new API key.\"}')trace=64ac93ee-4b23-4be9-99e7-af42bc92a31f,id=2c28d23a-1d2f-42b9-80c0-5a13957f10a9; trace=64ac93ee-4b23-4be9-99e7-af42bc92a31f,id=96a57830-6b64-4522-ab3e-d68778c280d7; trace=64ac93ee-4b23-4be9-99e7-af42bc92a31f,id=025d1aa6-bb6f-46eb-a044-4174c53280f9; trace=64ac93ee-4b23-4be9-99e7-af42bc92a31f,id=ca5e0f78-516e-4c18-a923-0089faba5678; trace=64ac93ee-4b23-4be9-99e7-af42bc92a31f,id=f3d3bf40-33db-4a2f-ae4d-a659f67b1f54; trace=64ac93ee-4b23-4be9-99e7-af42bc92a31f,id=2d935d08-179a-4979-a5e9-9fa4874b74b0; trace=64ac93ee-4b23-4be9-99e7-af42bc92a31f,id=1eea0ef3-fc7b-45e4-98f2-77eefcafa009; trace=64ac93ee-4b23-4be9-99e7-af42bc92a31f,id=3e66b91c-5ff5-4c74-9903-fa3cb9dbe288; trace=64ac93ee-4b23-4be9-99e7-af42bc92a31f,id=0531c5b3-c10d-461e-8562-a62cbeaa1602; trace=64ac93ee-4b23-4be9-99e7-af42bc92a31f,id=37fd1428-a3a3-4f95-a4f4-13342b8e6e92\n"
          ]
        },
        {
          "output_type": "stream",
          "name": "stdout",
          "text": [
            "{'Coder': {'messages': [HumanMessage(content='The code `print(\\'Hello, World!\\')` was executed, and it printed \"Hello, World!\" to the terminal.', additional_kwargs={}, response_metadata={}, name='Coder')]}}\n",
            "----\n"
          ]
        },
        {
          "output_type": "stream",
          "name": "stderr",
          "text": [
            "WARNING:langsmith.client:Failed to multipart ingest runs: langsmith.utils.LangSmithAuthError: Authentication failed for https://api.smith.langchain.com/runs/multipart. HTTPError('401 Client Error: Unauthorized for url: https://api.smith.langchain.com/runs/multipart', '{\"detail\":\"Using legacy API key. Please generate a new API key.\"}')trace=64ac93ee-4b23-4be9-99e7-af42bc92a31f,id=8110d288-8595-4db5-acfa-c75e6aae520c; trace=64ac93ee-4b23-4be9-99e7-af42bc92a31f,id=638b60cc-638e-4149-b266-2c9e46cd05d7; trace=64ac93ee-4b23-4be9-99e7-af42bc92a31f,id=eae592fd-95d9-47f2-ba4e-1ee74fefe5b0; trace=64ac93ee-4b23-4be9-99e7-af42bc92a31f,id=5a0517f6-0bf8-48f8-987d-7017710160d9; trace=64ac93ee-4b23-4be9-99e7-af42bc92a31f,id=b2e3f8c7-c3d8-4808-8f25-fe8ccb5d71e1; trace=64ac93ee-4b23-4be9-99e7-af42bc92a31f,id=9b351c0c-7aec-422c-84a7-a06127f8292f; trace=64ac93ee-4b23-4be9-99e7-af42bc92a31f,id=57675994-3838-469c-b0ba-3f0ecd80e9b6; trace=64ac93ee-4b23-4be9-99e7-af42bc92a31f,id=025d1aa6-bb6f-46eb-a044-4174c53280f9; trace=64ac93ee-4b23-4be9-99e7-af42bc92a31f,id=3e66b91c-5ff5-4c74-9903-fa3cb9dbe288\n",
            "WARNING:langsmith.client:Failed to multipart ingest runs: langsmith.utils.LangSmithAuthError: Authentication failed for https://api.smith.langchain.com/runs/multipart. HTTPError('401 Client Error: Unauthorized for url: https://api.smith.langchain.com/runs/multipart', '{\"detail\":\"Using legacy API key. Please generate a new API key.\"}')trace=64ac93ee-4b23-4be9-99e7-af42bc92a31f,id=8110d288-8595-4db5-acfa-c75e6aae520c; trace=64ac93ee-4b23-4be9-99e7-af42bc92a31f,id=638b60cc-638e-4149-b266-2c9e46cd05d7; trace=64ac93ee-4b23-4be9-99e7-af42bc92a31f,id=eae592fd-95d9-47f2-ba4e-1ee74fefe5b0; trace=64ac93ee-4b23-4be9-99e7-af42bc92a31f,id=5a0517f6-0bf8-48f8-987d-7017710160d9; trace=64ac93ee-4b23-4be9-99e7-af42bc92a31f,id=b2e3f8c7-c3d8-4808-8f25-fe8ccb5d71e1; trace=64ac93ee-4b23-4be9-99e7-af42bc92a31f,id=9b351c0c-7aec-422c-84a7-a06127f8292f; trace=64ac93ee-4b23-4be9-99e7-af42bc92a31f,id=57675994-3838-469c-b0ba-3f0ecd80e9b6; trace=64ac93ee-4b23-4be9-99e7-af42bc92a31f,id=025d1aa6-bb6f-46eb-a044-4174c53280f9; trace=64ac93ee-4b23-4be9-99e7-af42bc92a31f,id=3e66b91c-5ff5-4c74-9903-fa3cb9dbe288\n",
            "WARNING:langsmith.client:Failed to multipart ingest runs: langsmith.utils.LangSmithAuthError: Authentication failed for https://api.smith.langchain.com/runs/multipart. HTTPError('401 Client Error: Unauthorized for url: https://api.smith.langchain.com/runs/multipart', '{\"detail\":\"Using legacy API key. Please generate a new API key.\"}')trace=64ac93ee-4b23-4be9-99e7-af42bc92a31f,id=8110d288-8595-4db5-acfa-c75e6aae520c; trace=64ac93ee-4b23-4be9-99e7-af42bc92a31f,id=638b60cc-638e-4149-b266-2c9e46cd05d7; trace=64ac93ee-4b23-4be9-99e7-af42bc92a31f,id=eae592fd-95d9-47f2-ba4e-1ee74fefe5b0; trace=64ac93ee-4b23-4be9-99e7-af42bc92a31f,id=5a0517f6-0bf8-48f8-987d-7017710160d9; trace=64ac93ee-4b23-4be9-99e7-af42bc92a31f,id=b2e3f8c7-c3d8-4808-8f25-fe8ccb5d71e1; trace=64ac93ee-4b23-4be9-99e7-af42bc92a31f,id=9b351c0c-7aec-422c-84a7-a06127f8292f; trace=64ac93ee-4b23-4be9-99e7-af42bc92a31f,id=57675994-3838-469c-b0ba-3f0ecd80e9b6; trace=64ac93ee-4b23-4be9-99e7-af42bc92a31f,id=025d1aa6-bb6f-46eb-a044-4174c53280f9; trace=64ac93ee-4b23-4be9-99e7-af42bc92a31f,id=3e66b91c-5ff5-4c74-9903-fa3cb9dbe288\n"
          ]
        },
        {
          "output_type": "stream",
          "name": "stdout",
          "text": [
            "{'supervisor': {'next': 'FINISH'}}\n",
            "----\n"
          ]
        }
      ],
      "source": [
        "for s in graph.stream(\n",
        "    {\n",
        "        \"messages\": [\n",
        "            HumanMessage(content=\"Code hello world and print it to the terminal\")\n",
        "        ]\n",
        "    }\n",
        "):\n",
        "    if \"__end__\" not in s:\n",
        "        print(s)\n",
        "        print(\"----\")"
      ]
    },
    {
      "cell_type": "code",
      "execution_count": 13,
      "id": "45a92dfd-0e11-47f5-aad4-b68d24990e34",
      "metadata": {
        "id": "45a92dfd-0e11-47f5-aad4-b68d24990e34",
        "outputId": "ecf68584-7f7d-454e-b27a-5af3d5b073e9",
        "colab": {
          "base_uri": "https://localhost:8080/"
        }
      },
      "outputs": [
        {
          "output_type": "stream",
          "name": "stderr",
          "text": [
            "WARNING:langsmith.client:Failed to multipart ingest runs: langsmith.utils.LangSmithAuthError: Authentication failed for https://api.smith.langchain.com/runs/multipart. HTTPError('401 Client Error: Unauthorized for url: https://api.smith.langchain.com/runs/multipart', '{\"detail\":\"Using legacy API key. Please generate a new API key.\"}')trace=64ac93ee-4b23-4be9-99e7-af42bc92a31f,id=f044f257-3704-4b1c-be5d-731eb09a0a9e; trace=64ac93ee-4b23-4be9-99e7-af42bc92a31f,id=12cd4204-6b6d-4821-ba4c-e3984ecbf0d9; trace=64ac93ee-4b23-4be9-99e7-af42bc92a31f,id=01f23c4d-faf9-4760-9384-64860219acef; trace=ab89b343-bba3-4e2d-9314-8d42a2dfccaf,id=ab89b343-bba3-4e2d-9314-8d42a2dfccaf; trace=ab89b343-bba3-4e2d-9314-8d42a2dfccaf,id=89e175d0-0cb5-4e98-9cdb-4bae6a8864fa; trace=ab89b343-bba3-4e2d-9314-8d42a2dfccaf,id=f62e142e-1117-455d-8a15-434213836e4c; trace=ab89b343-bba3-4e2d-9314-8d42a2dfccaf,id=81e1b47c-2092-40b6-8942-18d410b01b02; trace=ab89b343-bba3-4e2d-9314-8d42a2dfccaf,id=afcc1f10-b892-4535-927c-66be5adc5841; trace=64ac93ee-4b23-4be9-99e7-af42bc92a31f,id=b2e3f8c7-c3d8-4808-8f25-fe8ccb5d71e1; trace=64ac93ee-4b23-4be9-99e7-af42bc92a31f,id=eae592fd-95d9-47f2-ba4e-1ee74fefe5b0; trace=64ac93ee-4b23-4be9-99e7-af42bc92a31f,id=64ac93ee-4b23-4be9-99e7-af42bc92a31f\n",
            "WARNING:langsmith.client:Failed to multipart ingest runs: langsmith.utils.LangSmithAuthError: Authentication failed for https://api.smith.langchain.com/runs/multipart. HTTPError('401 Client Error: Unauthorized for url: https://api.smith.langchain.com/runs/multipart', '{\"detail\":\"Using legacy API key. Please generate a new API key.\"}')trace=64ac93ee-4b23-4be9-99e7-af42bc92a31f,id=f044f257-3704-4b1c-be5d-731eb09a0a9e; trace=64ac93ee-4b23-4be9-99e7-af42bc92a31f,id=12cd4204-6b6d-4821-ba4c-e3984ecbf0d9; trace=64ac93ee-4b23-4be9-99e7-af42bc92a31f,id=01f23c4d-faf9-4760-9384-64860219acef; trace=ab89b343-bba3-4e2d-9314-8d42a2dfccaf,id=ab89b343-bba3-4e2d-9314-8d42a2dfccaf; trace=ab89b343-bba3-4e2d-9314-8d42a2dfccaf,id=89e175d0-0cb5-4e98-9cdb-4bae6a8864fa; trace=ab89b343-bba3-4e2d-9314-8d42a2dfccaf,id=f62e142e-1117-455d-8a15-434213836e4c; trace=ab89b343-bba3-4e2d-9314-8d42a2dfccaf,id=81e1b47c-2092-40b6-8942-18d410b01b02; trace=ab89b343-bba3-4e2d-9314-8d42a2dfccaf,id=afcc1f10-b892-4535-927c-66be5adc5841; trace=64ac93ee-4b23-4be9-99e7-af42bc92a31f,id=b2e3f8c7-c3d8-4808-8f25-fe8ccb5d71e1; trace=64ac93ee-4b23-4be9-99e7-af42bc92a31f,id=eae592fd-95d9-47f2-ba4e-1ee74fefe5b0; trace=64ac93ee-4b23-4be9-99e7-af42bc92a31f,id=64ac93ee-4b23-4be9-99e7-af42bc92a31f\n",
            "WARNING:langsmith.client:Failed to multipart ingest runs: langsmith.utils.LangSmithAuthError: Authentication failed for https://api.smith.langchain.com/runs/multipart. HTTPError('401 Client Error: Unauthorized for url: https://api.smith.langchain.com/runs/multipart', '{\"detail\":\"Using legacy API key. Please generate a new API key.\"}')trace=64ac93ee-4b23-4be9-99e7-af42bc92a31f,id=f044f257-3704-4b1c-be5d-731eb09a0a9e; trace=64ac93ee-4b23-4be9-99e7-af42bc92a31f,id=12cd4204-6b6d-4821-ba4c-e3984ecbf0d9; trace=64ac93ee-4b23-4be9-99e7-af42bc92a31f,id=01f23c4d-faf9-4760-9384-64860219acef; trace=ab89b343-bba3-4e2d-9314-8d42a2dfccaf,id=ab89b343-bba3-4e2d-9314-8d42a2dfccaf; trace=ab89b343-bba3-4e2d-9314-8d42a2dfccaf,id=89e175d0-0cb5-4e98-9cdb-4bae6a8864fa; trace=ab89b343-bba3-4e2d-9314-8d42a2dfccaf,id=f62e142e-1117-455d-8a15-434213836e4c; trace=ab89b343-bba3-4e2d-9314-8d42a2dfccaf,id=81e1b47c-2092-40b6-8942-18d410b01b02; trace=ab89b343-bba3-4e2d-9314-8d42a2dfccaf,id=afcc1f10-b892-4535-927c-66be5adc5841; trace=64ac93ee-4b23-4be9-99e7-af42bc92a31f,id=b2e3f8c7-c3d8-4808-8f25-fe8ccb5d71e1; trace=64ac93ee-4b23-4be9-99e7-af42bc92a31f,id=eae592fd-95d9-47f2-ba4e-1ee74fefe5b0; trace=64ac93ee-4b23-4be9-99e7-af42bc92a31f,id=64ac93ee-4b23-4be9-99e7-af42bc92a31f\n"
          ]
        },
        {
          "output_type": "stream",
          "name": "stdout",
          "text": [
            "{'supervisor': {'next': 'Researcher'}}\n",
            "----\n"
          ]
        },
        {
          "output_type": "stream",
          "name": "stderr",
          "text": [
            "WARNING:langsmith.client:Failed to multipart ingest runs: langsmith.utils.LangSmithAuthError: Authentication failed for https://api.smith.langchain.com/runs/multipart. HTTPError('401 Client Error: Unauthorized for url: https://api.smith.langchain.com/runs/multipart', '{\"detail\":\"Using legacy API key. Please generate a new API key.\"}')trace=ab89b343-bba3-4e2d-9314-8d42a2dfccaf,id=ab7b2f6a-bba7-468e-8374-7a7b9413d1eb; trace=ab89b343-bba3-4e2d-9314-8d42a2dfccaf,id=44ad395f-b5db-4f31-b3bf-8b5c5fd2aa6b; trace=ab89b343-bba3-4e2d-9314-8d42a2dfccaf,id=551b4b46-8610-4ebd-96c7-c298835e970d; trace=ab89b343-bba3-4e2d-9314-8d42a2dfccaf,id=812320e9-0829-4456-bd88-2db54d2e3728; trace=ab89b343-bba3-4e2d-9314-8d42a2dfccaf,id=fa509145-c5fd-4662-82c3-d50d8e0b5155; trace=ab89b343-bba3-4e2d-9314-8d42a2dfccaf,id=9512a5e4-3188-413e-8340-33ff369fa877; trace=ab89b343-bba3-4e2d-9314-8d42a2dfccaf,id=3f4ac6da-e917-4ed4-ad56-ead8f3814cc7; trace=ab89b343-bba3-4e2d-9314-8d42a2dfccaf,id=5d43ff04-5919-4b57-a546-c96ccad8e194; trace=ab89b343-bba3-4e2d-9314-8d42a2dfccaf,id=056473f4-f227-4af9-86c4-61b2a6ba40d6; trace=ab89b343-bba3-4e2d-9314-8d42a2dfccaf,id=fdeab443-d39d-4cea-ab6d-68a4f57ede87; trace=ab89b343-bba3-4e2d-9314-8d42a2dfccaf,id=0d12a6ad-3bb3-4001-a45c-62b3ec1d4f17; trace=ab89b343-bba3-4e2d-9314-8d42a2dfccaf,id=afcc1f10-b892-4535-927c-66be5adc5841; trace=ab89b343-bba3-4e2d-9314-8d42a2dfccaf,id=f62e142e-1117-455d-8a15-434213836e4c\n",
            "WARNING:langsmith.client:Failed to multipart ingest runs: langsmith.utils.LangSmithAuthError: Authentication failed for https://api.smith.langchain.com/runs/multipart. HTTPError('401 Client Error: Unauthorized for url: https://api.smith.langchain.com/runs/multipart', '{\"detail\":\"Using legacy API key. Please generate a new API key.\"}')trace=ab89b343-bba3-4e2d-9314-8d42a2dfccaf,id=ab7b2f6a-bba7-468e-8374-7a7b9413d1eb; trace=ab89b343-bba3-4e2d-9314-8d42a2dfccaf,id=44ad395f-b5db-4f31-b3bf-8b5c5fd2aa6b; trace=ab89b343-bba3-4e2d-9314-8d42a2dfccaf,id=551b4b46-8610-4ebd-96c7-c298835e970d; trace=ab89b343-bba3-4e2d-9314-8d42a2dfccaf,id=812320e9-0829-4456-bd88-2db54d2e3728; trace=ab89b343-bba3-4e2d-9314-8d42a2dfccaf,id=fa509145-c5fd-4662-82c3-d50d8e0b5155; trace=ab89b343-bba3-4e2d-9314-8d42a2dfccaf,id=9512a5e4-3188-413e-8340-33ff369fa877; trace=ab89b343-bba3-4e2d-9314-8d42a2dfccaf,id=3f4ac6da-e917-4ed4-ad56-ead8f3814cc7; trace=ab89b343-bba3-4e2d-9314-8d42a2dfccaf,id=5d43ff04-5919-4b57-a546-c96ccad8e194; trace=ab89b343-bba3-4e2d-9314-8d42a2dfccaf,id=056473f4-f227-4af9-86c4-61b2a6ba40d6; trace=ab89b343-bba3-4e2d-9314-8d42a2dfccaf,id=fdeab443-d39d-4cea-ab6d-68a4f57ede87; trace=ab89b343-bba3-4e2d-9314-8d42a2dfccaf,id=0d12a6ad-3bb3-4001-a45c-62b3ec1d4f17; trace=ab89b343-bba3-4e2d-9314-8d42a2dfccaf,id=afcc1f10-b892-4535-927c-66be5adc5841; trace=ab89b343-bba3-4e2d-9314-8d42a2dfccaf,id=f62e142e-1117-455d-8a15-434213836e4c\n",
            "WARNING:langsmith.client:Failed to multipart ingest runs: langsmith.utils.LangSmithAuthError: Authentication failed for https://api.smith.langchain.com/runs/multipart. HTTPError('401 Client Error: Unauthorized for url: https://api.smith.langchain.com/runs/multipart', '{\"detail\":\"Using legacy API key. Please generate a new API key.\"}')trace=ab89b343-bba3-4e2d-9314-8d42a2dfccaf,id=ab7b2f6a-bba7-468e-8374-7a7b9413d1eb; trace=ab89b343-bba3-4e2d-9314-8d42a2dfccaf,id=44ad395f-b5db-4f31-b3bf-8b5c5fd2aa6b; trace=ab89b343-bba3-4e2d-9314-8d42a2dfccaf,id=551b4b46-8610-4ebd-96c7-c298835e970d; trace=ab89b343-bba3-4e2d-9314-8d42a2dfccaf,id=812320e9-0829-4456-bd88-2db54d2e3728; trace=ab89b343-bba3-4e2d-9314-8d42a2dfccaf,id=fa509145-c5fd-4662-82c3-d50d8e0b5155; trace=ab89b343-bba3-4e2d-9314-8d42a2dfccaf,id=9512a5e4-3188-413e-8340-33ff369fa877; trace=ab89b343-bba3-4e2d-9314-8d42a2dfccaf,id=3f4ac6da-e917-4ed4-ad56-ead8f3814cc7; trace=ab89b343-bba3-4e2d-9314-8d42a2dfccaf,id=5d43ff04-5919-4b57-a546-c96ccad8e194; trace=ab89b343-bba3-4e2d-9314-8d42a2dfccaf,id=056473f4-f227-4af9-86c4-61b2a6ba40d6; trace=ab89b343-bba3-4e2d-9314-8d42a2dfccaf,id=fdeab443-d39d-4cea-ab6d-68a4f57ede87; trace=ab89b343-bba3-4e2d-9314-8d42a2dfccaf,id=0d12a6ad-3bb3-4001-a45c-62b3ec1d4f17; trace=ab89b343-bba3-4e2d-9314-8d42a2dfccaf,id=afcc1f10-b892-4535-927c-66be5adc5841; trace=ab89b343-bba3-4e2d-9314-8d42a2dfccaf,id=f62e142e-1117-455d-8a15-434213836e4c\n",
            "WARNING:langsmith.client:Failed to multipart ingest runs: langsmith.utils.LangSmithAuthError: Authentication failed for https://api.smith.langchain.com/runs/multipart. HTTPError('401 Client Error: Unauthorized for url: https://api.smith.langchain.com/runs/multipart', '{\"detail\":\"Using legacy API key. Please generate a new API key.\"}')trace=ab89b343-bba3-4e2d-9314-8d42a2dfccaf,id=3a6488cc-3482-4af9-b10a-118756427ce2; trace=ab89b343-bba3-4e2d-9314-8d42a2dfccaf,id=bb55c747-5355-4d38-9f01-efdebd0f9412; trace=ab89b343-bba3-4e2d-9314-8d42a2dfccaf,id=9512a5e4-3188-413e-8340-33ff369fa877; trace=ab89b343-bba3-4e2d-9314-8d42a2dfccaf,id=0d12a6ad-3bb3-4001-a45c-62b3ec1d4f17\n",
            "WARNING:langsmith.client:Failed to multipart ingest runs: langsmith.utils.LangSmithAuthError: Authentication failed for https://api.smith.langchain.com/runs/multipart. HTTPError('401 Client Error: Unauthorized for url: https://api.smith.langchain.com/runs/multipart', '{\"detail\":\"Using legacy API key. Please generate a new API key.\"}')trace=ab89b343-bba3-4e2d-9314-8d42a2dfccaf,id=3a6488cc-3482-4af9-b10a-118756427ce2; trace=ab89b343-bba3-4e2d-9314-8d42a2dfccaf,id=bb55c747-5355-4d38-9f01-efdebd0f9412; trace=ab89b343-bba3-4e2d-9314-8d42a2dfccaf,id=9512a5e4-3188-413e-8340-33ff369fa877; trace=ab89b343-bba3-4e2d-9314-8d42a2dfccaf,id=0d12a6ad-3bb3-4001-a45c-62b3ec1d4f17\n",
            "WARNING:langsmith.client:Failed to multipart ingest runs: langsmith.utils.LangSmithAuthError: Authentication failed for https://api.smith.langchain.com/runs/multipart. HTTPError('401 Client Error: Unauthorized for url: https://api.smith.langchain.com/runs/multipart', '{\"detail\":\"Using legacy API key. Please generate a new API key.\"}')trace=ab89b343-bba3-4e2d-9314-8d42a2dfccaf,id=3a6488cc-3482-4af9-b10a-118756427ce2; trace=ab89b343-bba3-4e2d-9314-8d42a2dfccaf,id=bb55c747-5355-4d38-9f01-efdebd0f9412; trace=ab89b343-bba3-4e2d-9314-8d42a2dfccaf,id=9512a5e4-3188-413e-8340-33ff369fa877; trace=ab89b343-bba3-4e2d-9314-8d42a2dfccaf,id=0d12a6ad-3bb3-4001-a45c-62b3ec1d4f17\n",
            "WARNING:langsmith.client:Failed to multipart ingest runs: langsmith.utils.LangSmithAuthError: Authentication failed for https://api.smith.langchain.com/runs/multipart. HTTPError('401 Client Error: Unauthorized for url: https://api.smith.langchain.com/runs/multipart', '{\"detail\":\"Using legacy API key. Please generate a new API key.\"}')trace=ab89b343-bba3-4e2d-9314-8d42a2dfccaf,id=dee43ffb-5e83-424e-8751-cd2df384cb16; trace=ab89b343-bba3-4e2d-9314-8d42a2dfccaf,id=6eb1b365-af51-4ba7-8d38-8a2a33d9c16e; trace=ab89b343-bba3-4e2d-9314-8d42a2dfccaf,id=dfa21317-0424-413f-9f84-7cd14d5e7393; trace=ab89b343-bba3-4e2d-9314-8d42a2dfccaf,id=217ac7d1-db18-42aa-9d45-9ffe833a2074; trace=ab89b343-bba3-4e2d-9314-8d42a2dfccaf,id=49184ec3-9bda-4272-8c45-5da077809141; trace=ab89b343-bba3-4e2d-9314-8d42a2dfccaf,id=44cbe41a-0e13-42e5-9e78-a8d4f7bac4b3; trace=ab89b343-bba3-4e2d-9314-8d42a2dfccaf,id=bb55c747-5355-4d38-9f01-efdebd0f9412\n",
            "WARNING:langsmith.client:Failed to multipart ingest runs: langsmith.utils.LangSmithAuthError: Authentication failed for https://api.smith.langchain.com/runs/multipart. HTTPError('401 Client Error: Unauthorized for url: https://api.smith.langchain.com/runs/multipart', '{\"detail\":\"Using legacy API key. Please generate a new API key.\"}')trace=ab89b343-bba3-4e2d-9314-8d42a2dfccaf,id=dee43ffb-5e83-424e-8751-cd2df384cb16; trace=ab89b343-bba3-4e2d-9314-8d42a2dfccaf,id=6eb1b365-af51-4ba7-8d38-8a2a33d9c16e; trace=ab89b343-bba3-4e2d-9314-8d42a2dfccaf,id=dfa21317-0424-413f-9f84-7cd14d5e7393; trace=ab89b343-bba3-4e2d-9314-8d42a2dfccaf,id=217ac7d1-db18-42aa-9d45-9ffe833a2074; trace=ab89b343-bba3-4e2d-9314-8d42a2dfccaf,id=49184ec3-9bda-4272-8c45-5da077809141; trace=ab89b343-bba3-4e2d-9314-8d42a2dfccaf,id=44cbe41a-0e13-42e5-9e78-a8d4f7bac4b3; trace=ab89b343-bba3-4e2d-9314-8d42a2dfccaf,id=bb55c747-5355-4d38-9f01-efdebd0f9412\n",
            "WARNING:langsmith.client:Failed to multipart ingest runs: langsmith.utils.LangSmithAuthError: Authentication failed for https://api.smith.langchain.com/runs/multipart. HTTPError('401 Client Error: Unauthorized for url: https://api.smith.langchain.com/runs/multipart', '{\"detail\":\"Using legacy API key. Please generate a new API key.\"}')trace=ab89b343-bba3-4e2d-9314-8d42a2dfccaf,id=dee43ffb-5e83-424e-8751-cd2df384cb16; trace=ab89b343-bba3-4e2d-9314-8d42a2dfccaf,id=6eb1b365-af51-4ba7-8d38-8a2a33d9c16e; trace=ab89b343-bba3-4e2d-9314-8d42a2dfccaf,id=dfa21317-0424-413f-9f84-7cd14d5e7393; trace=ab89b343-bba3-4e2d-9314-8d42a2dfccaf,id=217ac7d1-db18-42aa-9d45-9ffe833a2074; trace=ab89b343-bba3-4e2d-9314-8d42a2dfccaf,id=49184ec3-9bda-4272-8c45-5da077809141; trace=ab89b343-bba3-4e2d-9314-8d42a2dfccaf,id=44cbe41a-0e13-42e5-9e78-a8d4f7bac4b3; trace=ab89b343-bba3-4e2d-9314-8d42a2dfccaf,id=bb55c747-5355-4d38-9f01-efdebd0f9412\n"
          ]
        },
        {
          "output_type": "stream",
          "name": "stdout",
          "text": [
            "{'Researcher': {'messages': [HumanMessage(content='### Pikas Research Report\\n\\nPikas are small mammals belonging to the family Ochotonidae and the order Lagomorpha, which also includes rabbits and hares. They are known for their round ears and dense coats, resembling hamsters in appearance. Pikas do not hibernate and remain active throughout the winter by traveling in tunnels under rocks and snow. They forage for grasses and other plant matter, storing these in dens in a process called \"haying.\"\\n\\n#### Distribution and Habitat\\nPikas are found in mountainous regions, preferring cooler climates. The American pika, for example, is found throughout the mountains of western North America. They live high in the mountains and have retreated to higher ground over time due to changing climate conditions. As they are sensitive to high temperatures, pikas are considered an indicator species for the potential effects of climate change. They are most comfortable foraging in temperatures below 25°C (77°F) and tend to avoid direct sunlight when temperatures are high.\\n\\n#### Behavior and Ecology\\nPikas are known for their two methods of foraging: direct consumption of food and gathering of plants to store in a \"haypile\" of cached plants. Eurasian pikas commonly live in family groups and share duties of gathering food and keeping watch. American pikas and the collared pika (O. collaris) are believed to have descended from the same ancestor as the steppe pika (O. pusilla).\\n\\n#### Species Diversity\\nThere are currently 34 recognized species of pikas, all grouped under the genus Ochotona. Among them are the American pika (O. princeps), the collared pika (O. collaris), and others like the Glover\\'s pika (O. gloveri) and the Ili pika (O. iliensis).\\n\\n#### Conservation Status\\nThe International Union for Conservation of Nature (IUCN) lists the American pika as a species of Least Concern but notes that declining populations are unlikely to rebound due to their inability to return to habitats lost to extreme temperatures. Studies have shown that some populations are declining, possibly due to global warming, with patterns of widespread extirpations and range retractions at lower, warmer elevations.\\n\\n#### Human Impact\\nHuman activity has impacted the ecosystems where pikas live, limiting their foraging time and consequently the amount of food they can stockpile for winter months. Increased temperatures have been linked to lost foraging time for pikas, with a 1°C increase in ambient temperature resulting in a 3% loss of foraging time.\\n\\n#### Fossil Record and Evolution\\nThe genus Ochotona is the only currently living genus of the family Ochotonidae, but extinct genera have been identified through fossils. Ochotonids appeared in Asia between the late Eocene and the early Oligocene and have a fossil record extending back to the middle Eocene. The range of Ochotona was historically larger, with species inhabiting Western Europe and Eastern North America, which are currently free of pikas.\\n\\n### References\\n- [Wikipedia - Pika](https://en.wikipedia.org/wiki/Pika)\\n- [Animal Fact Guide - Pikas](https://animalfact.com/pikas/)\\n- [Treehugger - Surprising Facts About American Pika](https://www.treehugger.com/surprising-facts-about-american-pika-4864528)\\n- [National Park Service - Pikas](https://www.nps.gov/romo/learn/nature/pikas.htm)\\n- [Wikipedia - American Pika](https://en.wikipedia.org/wiki/American_pika)\\n\\nPikas are a fascinating subject of study due to their unique adaptations, their role as a climate change indicator species, and their evolutionary history. The ongoing monitoring and research on pikas can provide valuable insights into the health of mountain ecosystems and the broader impacts of environmental changes.', additional_kwargs={}, response_metadata={}, name='Researcher')]}}\n",
            "----\n"
          ]
        },
        {
          "output_type": "stream",
          "name": "stderr",
          "text": [
            "WARNING:langsmith.client:Failed to multipart ingest runs: langsmith.utils.LangSmithAuthError: Authentication failed for https://api.smith.langchain.com/runs/multipart. HTTPError('401 Client Error: Unauthorized for url: https://api.smith.langchain.com/runs/multipart', '{\"detail\":\"Using legacy API key. Please generate a new API key.\"}')trace=ab89b343-bba3-4e2d-9314-8d42a2dfccaf,id=5fa25533-4e38-4a29-a9c0-67c624e41eb5; trace=ab89b343-bba3-4e2d-9314-8d42a2dfccaf,id=5e7e8308-4b04-40dd-932a-5b7ff474e021; trace=ab89b343-bba3-4e2d-9314-8d42a2dfccaf,id=abf4afdc-9869-4c28-8439-8d6fcf63c6b6; trace=ab89b343-bba3-4e2d-9314-8d42a2dfccaf,id=ef060379-cee4-4b4d-97a5-da43e14e5c57; trace=ab89b343-bba3-4e2d-9314-8d42a2dfccaf,id=ea916a31-139e-4795-8da3-ae96e18a5fed; trace=ab89b343-bba3-4e2d-9314-8d42a2dfccaf,id=812320e9-0829-4456-bd88-2db54d2e3728; trace=ab89b343-bba3-4e2d-9314-8d42a2dfccaf,id=fa509145-c5fd-4662-82c3-d50d8e0b5155; trace=ab89b343-bba3-4e2d-9314-8d42a2dfccaf,id=dee43ffb-5e83-424e-8751-cd2df384cb16; trace=ab89b343-bba3-4e2d-9314-8d42a2dfccaf,id=44cbe41a-0e13-42e5-9e78-a8d4f7bac4b3\n",
            "WARNING:langsmith.client:Failed to multipart ingest runs: langsmith.utils.LangSmithAuthError: Authentication failed for https://api.smith.langchain.com/runs/multipart. HTTPError('401 Client Error: Unauthorized for url: https://api.smith.langchain.com/runs/multipart', '{\"detail\":\"Using legacy API key. Please generate a new API key.\"}')trace=ab89b343-bba3-4e2d-9314-8d42a2dfccaf,id=5fa25533-4e38-4a29-a9c0-67c624e41eb5; trace=ab89b343-bba3-4e2d-9314-8d42a2dfccaf,id=5e7e8308-4b04-40dd-932a-5b7ff474e021; trace=ab89b343-bba3-4e2d-9314-8d42a2dfccaf,id=abf4afdc-9869-4c28-8439-8d6fcf63c6b6; trace=ab89b343-bba3-4e2d-9314-8d42a2dfccaf,id=ef060379-cee4-4b4d-97a5-da43e14e5c57; trace=ab89b343-bba3-4e2d-9314-8d42a2dfccaf,id=ea916a31-139e-4795-8da3-ae96e18a5fed; trace=ab89b343-bba3-4e2d-9314-8d42a2dfccaf,id=812320e9-0829-4456-bd88-2db54d2e3728; trace=ab89b343-bba3-4e2d-9314-8d42a2dfccaf,id=fa509145-c5fd-4662-82c3-d50d8e0b5155; trace=ab89b343-bba3-4e2d-9314-8d42a2dfccaf,id=dee43ffb-5e83-424e-8751-cd2df384cb16; trace=ab89b343-bba3-4e2d-9314-8d42a2dfccaf,id=44cbe41a-0e13-42e5-9e78-a8d4f7bac4b3\n",
            "WARNING:langsmith.client:Failed to multipart ingest runs: langsmith.utils.LangSmithAuthError: Authentication failed for https://api.smith.langchain.com/runs/multipart. HTTPError('401 Client Error: Unauthorized for url: https://api.smith.langchain.com/runs/multipart', '{\"detail\":\"Using legacy API key. Please generate a new API key.\"}')trace=ab89b343-bba3-4e2d-9314-8d42a2dfccaf,id=5fa25533-4e38-4a29-a9c0-67c624e41eb5; trace=ab89b343-bba3-4e2d-9314-8d42a2dfccaf,id=5e7e8308-4b04-40dd-932a-5b7ff474e021; trace=ab89b343-bba3-4e2d-9314-8d42a2dfccaf,id=abf4afdc-9869-4c28-8439-8d6fcf63c6b6; trace=ab89b343-bba3-4e2d-9314-8d42a2dfccaf,id=ef060379-cee4-4b4d-97a5-da43e14e5c57; trace=ab89b343-bba3-4e2d-9314-8d42a2dfccaf,id=ea916a31-139e-4795-8da3-ae96e18a5fed; trace=ab89b343-bba3-4e2d-9314-8d42a2dfccaf,id=812320e9-0829-4456-bd88-2db54d2e3728; trace=ab89b343-bba3-4e2d-9314-8d42a2dfccaf,id=fa509145-c5fd-4662-82c3-d50d8e0b5155; trace=ab89b343-bba3-4e2d-9314-8d42a2dfccaf,id=dee43ffb-5e83-424e-8751-cd2df384cb16; trace=ab89b343-bba3-4e2d-9314-8d42a2dfccaf,id=44cbe41a-0e13-42e5-9e78-a8d4f7bac4b3\n"
          ]
        },
        {
          "output_type": "stream",
          "name": "stdout",
          "text": [
            "{'supervisor': {'next': 'FINISH'}}\n",
            "----\n"
          ]
        }
      ],
      "source": [
        "for s in graph.stream(\n",
        "    {\"messages\": [HumanMessage(content=\"Write a brief research report on pikas.\")]},\n",
        "    {\"recursion_limit\": 100},\n",
        "):\n",
        "    if \"__end__\" not in s:\n",
        "        print(s)\n",
        "        print(\"----\")"
      ]
    },
    {
      "cell_type": "code",
      "execution_count": 13,
      "id": "1d363d2c-e0da-4cce-ba47-ad2aa9df0fef",
      "metadata": {
        "id": "1d363d2c-e0da-4cce-ba47-ad2aa9df0fef"
      },
      "outputs": [],
      "source": []
    }
  ],
  "metadata": {
    "kernelspec": {
      "display_name": "Python 3",
      "name": "python3"
    },
    "language_info": {
      "codemirror_mode": {
        "name": "ipython",
        "version": 3
      },
      "file_extension": ".py",
      "mimetype": "text/x-python",
      "name": "python",
      "nbconvert_exporter": "python",
      "pygments_lexer": "ipython3",
      "version": "3.11.1"
    },
    "colab": {
      "provenance": [],
      "gpuType": "T4",
      "include_colab_link": true
    },
    "accelerator": "GPU"
  },
  "nbformat": 4,
  "nbformat_minor": 5
}