{
  "cells": [
    {
      "cell_type": "markdown",
      "metadata": {
        "id": "view-in-github",
        "colab_type": "text"
      },
      "source": [
        "<a href=\"https://colab.research.google.com/github/JSJeong-me/AI-Innovation-2024/blob/main/RL/6-6-agentchat_groupchat_stateflow.ipynb\" target=\"_parent\"><img src=\"https://colab.research.google.com/assets/colab-badge.svg\" alt=\"Open In Colab\"/></a>"
      ]
    },
    {
      "cell_type": "markdown",
      "metadata": {
        "id": "PL6YY-XZCzRx"
      },
      "source": [
        "# StateFlow: Build Workflows through State-Oriented Actions\n",
        "\n",
        "AutoGen offers conversable agents powered by LLM, tool or human, which can be used to perform tasks collectively via automated chat. In this notebook, we introduce how to use groupchat to build workflows with AutoGen agents from a state-oriented perspective.\n",
        "\n",
        "\n",
        "````{=mdx}\n",
        ":::info Requirements\n",
        "Install `autogen-agentchat`:\n",
        "```bash\n",
        "pip install autogen-agentchat~=0.2\n",
        "```\n",
        "\n",
        "For more information, please refer to the [installation guide](/docs/installation/).\n",
        ":::\n",
        "````"
      ]
    },
    {
      "cell_type": "markdown",
      "metadata": {
        "id": "sDJ-5S3TCzRz"
      },
      "source": [
        "## Set your API Endpoint\n",
        "\n",
        "The [`config_list_from_json`](https://microsoft.github.io/autogen/docs/reference/oai/openai_utils#config_list_from_json) function loads a list of configurations from an environment variable or a json file."
      ]
    },
    {
      "cell_type": "code",
      "source": [
        "!pip install autogen-agentchat~=0.2"
      ],
      "metadata": {
        "id": "HQy6c4nUC2l_"
      },
      "execution_count": null,
      "outputs": []
    },
    {
      "cell_type": "code",
      "source": [
        "from google.colab import userdata\n",
        "import openai\n",
        "import os\n",
        "\n",
        "os.environ[\"OPENAI_API_KEY\"] = userdata.get('OPENAI_API_KEY')\n",
        "openai.api_key  = os.environ[\"OPENAI_API_KEY\"]"
      ],
      "metadata": {
        "id": "-CfNC4jGDHGZ"
      },
      "execution_count": 2,
      "outputs": []
    },
    {
      "cell_type": "code",
      "source": [
        "# gpt4_config = {\n",
        "#     \"cache_seed\": False,  # change the cache_seed for different trials\n",
        "#     \"temperature\": 0,\n",
        "#     \"config_list\": [{\"model\": \"gpt-4\", \"api_key\": os.environ.get(\"OPENAI_API_KEY\")}],\n",
        "#     \"timeout\": 1200,\n",
        "# }"
      ],
      "metadata": {
        "id": "XcQV7cBBDLrg"
      },
      "execution_count": null,
      "outputs": []
    },
    {
      "cell_type": "code",
      "source": [
        "import autogen\n",
        "\n",
        "config_list =[{\"model\": \"gpt-4\", \"api_key\": os.environ.get(\"OPENAI_API_KEY\")}]"
      ],
      "metadata": {
        "id": "OwEt3_jEDdce"
      },
      "execution_count": 5,
      "outputs": []
    },
    {
      "cell_type": "code",
      "execution_count": null,
      "metadata": {
        "id": "yEE2zeAYCzRz"
      },
      "outputs": [],
      "source": [
        "# import autogen\n",
        "\n",
        "# config_list = autogen.config_list_from_json(\n",
        "#     \"OAI_CONFIG_LIST\",\n",
        "#     filter_dict={\n",
        "#         \"tags\": [\"gpt-4o\"],\n",
        "#     },\n",
        "# )"
      ]
    },
    {
      "cell_type": "markdown",
      "metadata": {
        "id": "kpLkMD87CzR0"
      },
      "source": [
        "````{=mdx}\n",
        ":::tip\n",
        "Learn more about configuring LLMs for agents [here](/docs/topics/llm_configuration).\n",
        ":::\n",
        "````\n",
        "\n",
        "## A workflow for research\n",
        "\n",
        "<figure>\n",
        "    <img src=\"https://github.com/microsoft/autogen/blob/0.2/website/blog/2024-02-29-StateFlow/img/sf_example_1.png?raw=1\"  width=\"700\"\n",
        "         alt=\"SF_Example_1\">\n",
        "    </img>\n",
        "</figure>\n",
        "\n",
        "We define the following agents:\n",
        "- Initializer: Start the workflow by sending a task.\n",
        "- Coder: Retrieve papers from the internet by writing code.\n",
        "- Executor: Execute the code.\n",
        "- Scientist: Read the papers and write a summary.\n",
        "\n",
        "\n",
        "In the Figure, we define a simple workflow for research with 4 states: Init, Retrieve, Research and End. Within each state, we will call different agents to perform the tasks.\n",
        "- Init: We use the initializer to start the workflow.\n",
        "- Retrieve: We will first call the coder to write code and then call the executor to execute the code.\n",
        "- Research: We will call the scientist to read the papers and write a summary.\n",
        "- End: We will end the workflow.\n",
        "\n",
        "Through customizing the speaker selection method, we can easily realize the state-oriented workflow by defining the transitions between different agents."
      ]
    },
    {
      "cell_type": "code",
      "execution_count": 6,
      "metadata": {
        "id": "XGQQGKDACzR0"
      },
      "outputs": [],
      "source": [
        "import tempfile\n",
        "\n",
        "from autogen.coding import LocalCommandLineCodeExecutor\n",
        "\n",
        "temp_dir = tempfile.TemporaryDirectory()\n",
        "executor = LocalCommandLineCodeExecutor(\n",
        "    timeout=10,  # Timeout for each code execution in seconds.\n",
        "    work_dir=temp_dir.name,  # Use the temporary directory to store the code files.\n",
        ")\n",
        "\n",
        "gpt4_config = {\n",
        "    \"cache_seed\": False,  # change the cache_seed for different trials\n",
        "    \"temperature\": 0,\n",
        "    \"config_list\": config_list,\n",
        "    \"timeout\": 120,\n",
        "}\n",
        "\n",
        "initializer = autogen.UserProxyAgent(\n",
        "    name=\"Init\",\n",
        "    code_execution_config=False,\n",
        ")\n",
        "\n",
        "\n",
        "coder = autogen.AssistantAgent(\n",
        "    name=\"Retrieve_Action_1\",\n",
        "    llm_config=gpt4_config,\n",
        "    system_message=\"\"\"You are the Coder. Given a topic, write code to retrieve related papers from the arXiv API, print their title, authors, abstract, and link.\n",
        "You write python/shell code to solve tasks. Wrap the code in a code block that specifies the script type. The user can't modify your code. So do not suggest incomplete code which requires others to modify. Don't use a code block if it's not intended to be executed by the executor.\n",
        "Don't include multiple code blocks in one response. Do not ask others to copy and paste the result. Check the execution result returned by the executor.\n",
        "If the result indicates there is an error, fix the error and output the code again. Suggest the full code instead of partial code or code changes. If the error can't be fixed or if the task is not solved even after the code is executed successfully, analyze the problem, revisit your assumption, collect additional info you need, and think of a different approach to try.\n",
        "\"\"\",\n",
        ")\n",
        "executor = autogen.UserProxyAgent(\n",
        "    name=\"Retrieve_Action_2\",\n",
        "    system_message=\"Executor. Execute the code written by the Coder and report the result.\",\n",
        "    human_input_mode=\"NEVER\",\n",
        "    code_execution_config={\"executor\": executor},\n",
        ")\n",
        "scientist = autogen.AssistantAgent(\n",
        "    name=\"Research_Action_1\",\n",
        "    llm_config=gpt4_config,\n",
        "    system_message=\"\"\"You are the Scientist. Please categorize papers after seeing their abstracts printed and create a markdown table with Domain, Title, Authors, Summary and Link\"\"\",\n",
        ")\n",
        "\n",
        "\n",
        "def state_transition(last_speaker, groupchat):\n",
        "    messages = groupchat.messages\n",
        "\n",
        "    if last_speaker is initializer:\n",
        "        # init -> retrieve\n",
        "        return coder\n",
        "    elif last_speaker is coder:\n",
        "        # retrieve: action 1 -> action 2\n",
        "        return executor\n",
        "    elif last_speaker is executor:\n",
        "        if messages[-1][\"content\"] == \"exitcode: 1\":\n",
        "            # retrieve --(execution failed)--> retrieve\n",
        "            return coder\n",
        "        else:\n",
        "            # retrieve --(execution sucess)--> research\n",
        "            return scientist\n",
        "    elif last_speaker == \"Scientist\":\n",
        "        # research -> end\n",
        "        return None\n",
        "\n",
        "\n",
        "groupchat = autogen.GroupChat(\n",
        "    agents=[initializer, coder, executor, scientist],\n",
        "    messages=[],\n",
        "    max_round=20,\n",
        "    speaker_selection_method=state_transition,\n",
        ")\n",
        "manager = autogen.GroupChatManager(groupchat=groupchat, llm_config=gpt4_config)"
      ]
    },
    {
      "cell_type": "code",
      "execution_count": 7,
      "metadata": {
        "id": "YK4wiiQ0CzR1",
        "outputId": "0b7da7d1-5ecc-46cb-d773-64e7c6898caf",
        "colab": {
          "base_uri": "https://localhost:8080/"
        }
      },
      "outputs": [
        {
          "output_type": "stream",
          "name": "stdout",
          "text": [
            "Init (to chat_manager):\n",
            "\n",
            "Topic: LLM applications papers from last week. Requirement: 5 - 10 papers from different domains.\n",
            "\n",
            "--------------------------------------------------------------------------------\n",
            "\n",
            "Next speaker: Retrieve_Action_1\n",
            "\n",
            "Retrieve_Action_1 (to chat_manager):\n",
            "\n",
            "To retrieve papers from the arXiv API, we will use the `feedparser` library in Python. This library can parse Atom and RSS feeds. The arXiv API provides an Atom feed that we can use to retrieve papers.\n",
            "\n",
            "Here is a Python script that retrieves the 10 most recent papers on the topic of \"LLM applications\" from the arXiv API:\n",
            "\n",
            "```python\n",
            "import feedparser\n",
            "import datetime\n",
            "import time\n",
            "\n",
            "# Define the base URL for the arXiv API\n",
            "base_url = 'http://export.arxiv.org/api/query?'\n",
            "\n",
            "# Define the search parameters\n",
            "search_params = 'search_query=all:LLM applications&start=0&max_results=10'\n",
            "\n",
            "# Combine the base URL and the search parameters to create the complete URL\n",
            "url = base_url + search_params\n",
            "\n",
            "# Use feedparser to retrieve the data from the URL\n",
            "feed = feedparser.parse(url)\n",
            "\n",
            "# Get the current date and time\n",
            "now = datetime.datetime.now()\n",
            "\n",
            "# Define the date one week ago\n",
            "one_week_ago = now - datetime.timedelta(weeks=1)\n",
            "\n",
            "# Convert the date one week ago to a timestamp\n",
            "one_week_ago_timestamp = time.mktime(one_week_ago.timetuple())\n",
            "\n",
            "# Initialize a counter for the number of papers\n",
            "num_papers = 0\n",
            "\n",
            "# Loop through the entries in the feed\n",
            "for entry in feed.entries:\n",
            "    # Get the published date of the entry and convert it to a timestamp\n",
            "    entry_published_timestamp = time.mktime(entry.published_parsed)\n",
            "\n",
            "    # If the entry was published within the last week\n",
            "    if entry_published_timestamp > one_week_ago_timestamp:\n",
            "        # Print the title, authors, abstract, and link of the entry\n",
            "        print('Title: ', entry.title)\n",
            "        print('Authors: ', ', '.join(author.name for author in entry.authors))\n",
            "        print('Abstract: ', entry.summary)\n",
            "        print('Link: ', entry.link)\n",
            "        print()\n",
            "\n",
            "        # Increment the counter for the number of papers\n",
            "        num_papers += 1\n",
            "\n",
            "        # If we have found 10 papers, break the loop\n",
            "        if num_papers == 10:\n",
            "            break\n",
            "```\n",
            "\n",
            "This script first defines the base URL for the arXiv API and the search parameters for the topic of \"LLM applications\". It then combines these to create the complete URL for the API request.\n",
            "\n",
            "The script uses the `feedparser.parse` function to retrieve the data from the URL. This returns a feed object that contains the data from the API.\n",
            "\n",
            "The script then gets the current date and time and calculates the date one week ago. It converts these dates to timestamps so that they can be compared with the published dates of the entries in the feed.\n",
            "\n",
            "The script loops through the entries in the feed and checks if each entry was published within the last week. If it was, the script prints the title, authors, abstract, and link of the entry and increments a counter for the number of papers.\n",
            "\n",
            "The loop continues until it has found 10 papers that were published within the last week.\n",
            "\n",
            "--------------------------------------------------------------------------------\n",
            "\n",
            "Next speaker: Retrieve_Action_2\n",
            "\n",
            "\n",
            ">>>>>>>> EXECUTING CODE BLOCK (inferred language is python)...\n",
            "Retrieve_Action_2 (to chat_manager):\n",
            "\n",
            "exitcode: 1 (execution failed)\n",
            "Code output: Traceback (most recent call last):\n",
            "  File \"/tmp/tmpxxx1lf4v/tmp_code_b6aa8eb7b9b593838940cfc942a488b8.py\", line 1, in <module>\n",
            "    import feedparser\n",
            "ModuleNotFoundError: No module named 'feedparser'\n",
            "\n",
            "\n",
            "--------------------------------------------------------------------------------\n",
            "\n",
            "Next speaker: Research_Action_1\n",
            "\n",
            "Research_Action_1 (to chat_manager):\n",
            "\n",
            "I apologize for the confusion, but as an AI, I'm unable to execute Python code or directly interact with external APIs or databases. However, I can guide you on how to do it. \n",
            "\n",
            "You can use the Python script provided in the previous message to retrieve the papers. You'll need to have Python installed on your machine, along with the `feedparser` library. If you don't have `feedparser` installed, you can add it using pip:\n",
            "\n",
            "```bash\n",
            "pip install feedparser\n",
            "```\n",
            "\n",
            "Once you have Python and `feedparser` set up, you can run the script. It will print out the titles, authors, abstracts, and links of the 10 most recent papers on the topic of \"LLM applications\" that were published within the last week.\n",
            "\n",
            "If you encounter any issues or need further assistance, feel free to ask!\n",
            "\n",
            "--------------------------------------------------------------------------------\n"
          ]
        }
      ],
      "source": [
        "chat_result = initializer.initiate_chat(\n",
        "    manager, message=\"Topic: LLM applications papers from last week. Requirement: 5 - 10 papers from different domains.\"\n",
        ")"
      ]
    }
  ],
  "metadata": {
    "front_matter": {
      "description": "StateFlow: Build Workflows through State-Oriented Actions",
      "tags": [
        "orchestration",
        "group chat",
        "research"
      ]
    },
    "kernelspec": {
      "display_name": "flaml",
      "language": "python",
      "name": "python3"
    },
    "language_info": {
      "codemirror_mode": {
        "name": "ipython",
        "version": 3
      },
      "file_extension": ".py",
      "mimetype": "text/x-python",
      "name": "python",
      "nbconvert_exporter": "python",
      "pygments_lexer": "ipython3",
      "version": "3.9.18"
    },
    "orig_nbformat": 4,
    "colab": {
      "provenance": [],
      "include_colab_link": true
    }
  },
  "nbformat": 4,
  "nbformat_minor": 0
}