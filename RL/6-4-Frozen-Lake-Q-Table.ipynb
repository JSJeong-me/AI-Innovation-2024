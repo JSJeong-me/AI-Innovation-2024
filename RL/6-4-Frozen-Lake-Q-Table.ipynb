{
  "nbformat": 4,
  "nbformat_minor": 0,
  "metadata": {
    "colab": {
      "provenance": [],
      "authorship_tag": "ABX9TyNwS6e7synJkqt57gD3YC11",
      "include_colab_link": true
    },
    "kernelspec": {
      "name": "python3",
      "display_name": "Python 3"
    },
    "language_info": {
      "name": "python"
    }
  },
  "cells": [
    {
      "cell_type": "markdown",
      "metadata": {
        "id": "view-in-github",
        "colab_type": "text"
      },
      "source": [
        "<a href=\"https://colab.research.google.com/github/JSJeong-me/AI-Innovation-2024/blob/main/RL/6-4-Frozen-Lake-Q-Table.ipynb\" target=\"_parent\"><img src=\"https://colab.research.google.com/assets/colab-badge.svg\" alt=\"Open In Colab\"/></a>"
      ]
    },
    {
      "cell_type": "code",
      "execution_count": 1,
      "metadata": {
        "colab": {
          "base_uri": "https://localhost:8080/"
        },
        "id": "cOfQykndFpUd",
        "outputId": "6ceebe2e-c921-4f74-aa28-78d629bd74c6"
      },
      "outputs": [
        {
          "output_type": "stream",
          "name": "stderr",
          "text": [
            "/usr/local/lib/python3.10/dist-packages/gym/core.py:317: DeprecationWarning: \u001b[33mWARN: Initializing wrapper in old step API which returns one bool instead of two. It is recommended to set `new_step_api=True` to use new step API. This will be the default behaviour in future.\u001b[0m\n",
            "  deprecation(\n",
            "/usr/local/lib/python3.10/dist-packages/gym/wrappers/step_api_compatibility.py:39: DeprecationWarning: \u001b[33mWARN: Initializing environment in old step API which returns one bool instead of two. It is recommended to set `new_step_api=True` to use new step API. This will be the default behaviour in future.\u001b[0m\n",
            "  deprecation(\n",
            "/usr/local/lib/python3.10/dist-packages/gym/utils/passive_env_checker.py:241: DeprecationWarning: `np.bool8` is a deprecated alias for `np.bool_`.  (Deprecated NumPy 1.24)\n",
            "  if not isinstance(terminated, (bool, np.bool8)):\n"
          ]
        },
        {
          "output_type": "stream",
          "name": "stdout",
          "text": [
            "******** 평균 리워드 ********\n",
            "\n",
            "1000 :  0.03300000000000002\n",
            "2000 :  0.21100000000000016\n",
            "3000 :  0.4140000000000003\n",
            "4000 :  0.5610000000000004\n",
            "5000 :  0.6360000000000005\n",
            "6000 :  0.6390000000000005\n",
            "7000 :  0.6760000000000005\n",
            "8000 :  0.6690000000000005\n",
            "9000 :  0.6620000000000005\n",
            "10000 :  0.6890000000000005\n",
            "\n",
            "\n",
            "******** 최종 Q 테이블 ********\n",
            "\n",
            "[[0.57966561 0.51741236 0.50806741 0.52250704]\n",
            " [0.35216096 0.25829468 0.32001542 0.5127292 ]\n",
            " [0.44540407 0.28653831 0.26320102 0.30290423]\n",
            " [0.03820051 0.16383636 0.02965983 0.07225523]\n",
            " [0.60115621 0.39286599 0.49665928 0.37971481]\n",
            " [0.         0.         0.         0.        ]\n",
            " [0.13091692 0.08015433 0.4022208  0.1041386 ]\n",
            " [0.         0.         0.         0.        ]\n",
            " [0.40882497 0.33501742 0.41347084 0.61991955]\n",
            " [0.39492826 0.63640498 0.43869335 0.39154075]\n",
            " [0.58180128 0.44700355 0.43838244 0.30192312]\n",
            " [0.         0.         0.         0.        ]\n",
            " [0.         0.         0.         0.        ]\n",
            " [0.33804413 0.64599841 0.75972848 0.47577761]\n",
            " [0.68956045 0.8473103  0.78789775 0.74848848]\n",
            " [0.         0.         0.         0.        ]]\n"
          ]
        }
      ],
      "source": [
        "import gym\n",
        "import numpy as np\n",
        "\n",
        "# Frozen Lake 환경 불러오기\n",
        "env = gym.make('FrozenLake-v1', is_slippery=True)\n",
        "\n",
        "# Q 테이블 초기화\n",
        "action_space_size = env.action_space.n\n",
        "state_space_size = env.observation_space.n\n",
        "q_table = np.zeros((state_space_size, action_space_size))\n",
        "\n",
        "# 하이퍼파라미터 설정\n",
        "num_episodes = 10000\n",
        "max_steps_per_episode = 100\n",
        "\n",
        "learning_rate = 0.1  # 학습률\n",
        "discount_rate = 0.99  # 감가율\n",
        "exploration_rate = 1  # 탐험 비율\n",
        "max_exploration_rate = 1\n",
        "min_exploration_rate = 0.01\n",
        "exploration_decay_rate = 0.001\n",
        "\n",
        "# 리워드 저장 리스트\n",
        "rewards_all_episodes = []\n",
        "\n",
        "# Q-learning 알고리즘\n",
        "for episode in range(num_episodes):\n",
        "    state = env.reset()\n",
        "    done = False\n",
        "    rewards_current_episode = 0\n",
        "\n",
        "    for step in range(max_steps_per_episode):\n",
        "        # 탐험-탐사 결정\n",
        "        exploration_rate_threshold = np.random.uniform(0, 1)\n",
        "        if exploration_rate_threshold > exploration_rate:\n",
        "            action = np.argmax(q_table[state, :])  # Q값 기반 행동 선택 (탐사)\n",
        "        else:\n",
        "            action = env.action_space.sample()  # 랜덤 행동 선택 (탐험)\n",
        "\n",
        "        # 환경에 행동 적용\n",
        "        new_state, reward, done, info = env.step(action)\n",
        "\n",
        "        # Q 테이블 업데이트\n",
        "        q_table[state, action] = q_table[state, action] * (1 - learning_rate) + \\\n",
        "            learning_rate * (reward + discount_rate * np.max(q_table[new_state, :]))\n",
        "\n",
        "        state = new_state\n",
        "        rewards_current_episode += reward\n",
        "\n",
        "        if done == True:\n",
        "            break\n",
        "\n",
        "    # 탐험 비율 점진적 감소\n",
        "    exploration_rate = min_exploration_rate + \\\n",
        "        (max_exploration_rate - min_exploration_rate) * np.exp(-exploration_decay_rate * episode)\n",
        "\n",
        "    rewards_all_episodes.append(rewards_current_episode)\n",
        "\n",
        "# 평균 리워드 계산\n",
        "rewards_per_thousand_episodes = np.split(np.array(rewards_all_episodes), num_episodes / 1000)\n",
        "count = 1000\n",
        "print(\"******** 평균 리워드 ********\\n\")\n",
        "for r in rewards_per_thousand_episodes:\n",
        "    print(count, \": \", str(sum(r / 1000)))\n",
        "    count += 1000\n",
        "\n",
        "# 최종 Q 테이블 출력\n",
        "print(\"\\n\\n******** 최종 Q 테이블 ********\\n\")\n",
        "print(q_table)\n",
        "\n"
      ]
    }
  ]
}