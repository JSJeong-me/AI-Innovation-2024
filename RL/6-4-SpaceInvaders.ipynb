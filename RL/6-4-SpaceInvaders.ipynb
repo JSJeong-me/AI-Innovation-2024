{
  "nbformat": 4,
  "nbformat_minor": 0,
  "metadata": {
    "colab": {
      "provenance": [],
      "gpuType": "T4",
      "machine_shape": "hm",
      "authorship_tag": "ABX9TyMgzSWbxqEzwzezOttDXqtp",
      "include_colab_link": true
    },
    "kernelspec": {
      "name": "python3",
      "display_name": "Python 3"
    },
    "language_info": {
      "name": "python"
    },
    "accelerator": "GPU"
  },
  "cells": [
    {
      "cell_type": "markdown",
      "metadata": {
        "id": "view-in-github",
        "colab_type": "text"
      },
      "source": [
        "<a href=\"https://colab.research.google.com/github/JSJeong-me/AI-Innovation-2024/blob/main/RL/6-4-SpaceInvaders.ipynb\" target=\"_parent\"><img src=\"https://colab.research.google.com/assets/colab-badge.svg\" alt=\"Open In Colab\"/></a>"
      ]
    },
    {
      "cell_type": "code",
      "source": [
        "!pip install gymnasium[atari]\n",
        "!pip install autorom[accept-rom-license]\n",
        "!AutoROM"
      ],
      "metadata": {
        "id": "XbF1vVOvCrxE",
        "colab": {
          "base_uri": "https://localhost:8080/"
        },
        "outputId": "ef64b458-00e6-4fcc-9c10-0b91484b9a1d"
      },
      "execution_count": null,
      "outputs": [
        {
          "output_type": "stream",
          "name": "stdout",
          "text": [
            "Collecting gymnasium[atari]\n",
            "  Downloading gymnasium-1.0.0-py3-none-any.whl.metadata (9.5 kB)\n",
            "Requirement already satisfied: numpy>=1.21.0 in /usr/local/lib/python3.10/dist-packages (from gymnasium[atari]) (1.26.4)\n",
            "Requirement already satisfied: cloudpickle>=1.2.0 in /usr/local/lib/python3.10/dist-packages (from gymnasium[atari]) (3.1.0)\n",
            "Requirement already satisfied: typing-extensions>=4.3.0 in /usr/local/lib/python3.10/dist-packages (from gymnasium[atari]) (4.12.2)\n",
            "Collecting farama-notifications>=0.0.1 (from gymnasium[atari])\n",
            "  Downloading Farama_Notifications-0.0.4-py3-none-any.whl.metadata (558 bytes)\n",
            "Collecting ale-py>=0.9 (from gymnasium[atari])\n",
            "  Downloading ale_py-0.10.1-cp310-cp310-manylinux_2_17_x86_64.manylinux2014_x86_64.whl.metadata (7.6 kB)\n",
            "Downloading ale_py-0.10.1-cp310-cp310-manylinux_2_17_x86_64.manylinux2014_x86_64.whl (2.1 MB)\n",
            "\u001b[2K   \u001b[90m━━━━━━━━━━━━━━━━━━━━━━━━━━━━━━━━━━━━━━━━\u001b[0m \u001b[32m2.1/2.1 MB\u001b[0m \u001b[31m67.1 MB/s\u001b[0m eta \u001b[36m0:00:00\u001b[0m\n",
            "\u001b[?25hDownloading Farama_Notifications-0.0.4-py3-none-any.whl (2.5 kB)\n",
            "Downloading gymnasium-1.0.0-py3-none-any.whl (958 kB)\n",
            "\u001b[2K   \u001b[90m━━━━━━━━━━━━━━━━━━━━━━━━━━━━━━━━━━━━━━━━\u001b[0m \u001b[32m958.1/958.1 kB\u001b[0m \u001b[31m58.2 MB/s\u001b[0m eta \u001b[36m0:00:00\u001b[0m\n",
            "\u001b[?25hInstalling collected packages: farama-notifications, gymnasium, ale-py\n",
            "Successfully installed ale-py-0.10.1 farama-notifications-0.0.4 gymnasium-1.0.0\n",
            "Collecting autorom[accept-rom-license]\n",
            "  Downloading AutoROM-0.6.1-py3-none-any.whl.metadata (2.4 kB)\n",
            "Requirement already satisfied: click in /usr/local/lib/python3.10/dist-packages (from autorom[accept-rom-license]) (8.1.7)\n",
            "Requirement already satisfied: requests in /usr/local/lib/python3.10/dist-packages (from autorom[accept-rom-license]) (2.32.3)\n",
            "Collecting AutoROM.accept-rom-license (from autorom[accept-rom-license])\n",
            "  Downloading AutoROM.accept-rom-license-0.6.1.tar.gz (434 kB)\n",
            "\u001b[2K     \u001b[90m━━━━━━━━━━━━━━━━━━━━━━━━━━━━━━━━━━━━━━━━\u001b[0m \u001b[32m434.7/434.7 kB\u001b[0m \u001b[31m21.5 MB/s\u001b[0m eta \u001b[36m0:00:00\u001b[0m\n",
            "\u001b[?25h  Installing build dependencies ... \u001b[?25l\u001b[?25hdone\n",
            "  Getting requirements to build wheel ... \u001b[?25l\u001b[?25hdone\n",
            "  Preparing metadata (pyproject.toml) ... \u001b[?25l\u001b[?25hdone\n",
            "Requirement already satisfied: charset-normalizer<4,>=2 in /usr/local/lib/python3.10/dist-packages (from requests->autorom[accept-rom-license]) (3.4.0)\n",
            "Requirement already satisfied: idna<4,>=2.5 in /usr/local/lib/python3.10/dist-packages (from requests->autorom[accept-rom-license]) (3.10)\n",
            "Requirement already satisfied: urllib3<3,>=1.21.1 in /usr/local/lib/python3.10/dist-packages (from requests->autorom[accept-rom-license]) (2.2.3)\n",
            "Requirement already satisfied: certifi>=2017.4.17 in /usr/local/lib/python3.10/dist-packages (from requests->autorom[accept-rom-license]) (2024.8.30)\n",
            "Downloading AutoROM-0.6.1-py3-none-any.whl (9.4 kB)\n",
            "Building wheels for collected packages: AutoROM.accept-rom-license\n",
            "  Building wheel for AutoROM.accept-rom-license (pyproject.toml) ... \u001b[?25l\u001b[?25hdone\n",
            "  Created wheel for AutoROM.accept-rom-license: filename=AutoROM.accept_rom_license-0.6.1-py3-none-any.whl size=446660 sha256=87c695eb82bb39d6cc901c72b9f9fc97735c2971eaa5dfbb4fd9ab70ddd1a051\n",
            "  Stored in directory: /root/.cache/pip/wheels/6b/1b/ef/a43ff1a2f1736d5711faa1ba4c1f61be1131b8899e6a057811\n",
            "Successfully built AutoROM.accept-rom-license\n",
            "Installing collected packages: AutoROM.accept-rom-license, autorom\n",
            "Successfully installed AutoROM.accept-rom-license-0.6.1 autorom-0.6.1\n",
            "AutoROM will download the Atari 2600 ROMs.\n",
            "They will be installed to:\n",
            "\t/usr/local/lib/python3.10/dist-packages/AutoROM/roms\n",
            "\n",
            "Existing ROMs will be overwritten.\n",
            "\n",
            "I own a license to these Atari 2600 ROMs.\n",
            "I agree to not distribute these ROMs and wish to proceed: [Y/n]: "
          ]
        }
      ]
    },
    {
      "cell_type": "code",
      "source": [
        "# import gymnasium as gym\n",
        "# import numpy as np\n",
        "# import tensorflow as tf\n",
        "# from tensorflow import keras\n",
        "# from collections import deque\n",
        "# import random\n",
        "import gymnasium as gym\n",
        "import numpy as np\n",
        "import tensorflow as tf\n",
        "from tensorflow import keras\n",
        "from collections import deque\n",
        "import random\n",
        "import ale_py # import ale_py to register the ALE namespace\n",
        "\n",
        "# Hyperparameters\n",
        "state_size = (210, 160, 3)  # Image size of the Atari games\n",
        "action_size = 6  # Number of possible actions in reduced space\n",
        "batch_size = 32\n",
        "gamma = 0.95  # Discount factor\n",
        "epsilon = 1.0  # Exploration rate\n",
        "epsilon_min = 0.01\n",
        "epsilon_decay = 0.995\n",
        "learning_rate = 0.001\n",
        "\n",
        "# Create environment\n",
        "# env = gym.make(\"ALE/SpaceInvaders-v5\")\n",
        "env = gym.make(\"ALE/SpaceInvaders-v5\", render_mode=\"rgb_array\")\n",
        "\n",
        "# Define Q-Network model\n",
        "# def build_model():\n",
        "#     model = keras.Sequential()\n",
        "#     model.add(keras.layers.Conv2D(32, (8, 8), strides=(4, 4), activation='relu', input_shape=state_size))\n",
        "#     model.add(keras.layers.Conv2D(64, (4, 4), strides=(2, 2), activation='relu'))\n",
        "#     model.add(keras.layers.Conv2D(64, (3, 3), activation='relu'))\n",
        "#     model.add(keras.layers.Flatten())\n",
        "#     model.add(keras.layers.Dense(512, activation='relu'))\n",
        "#     model.add(keras.layers.Dense(action_size, activation='linear'))\n",
        "#     model.compile(optimizer=keras.optimizers.Adam(lr=learning_rate), loss='mse')\n",
        "#     return model\n",
        "# Define Q-Network model\n",
        "def build_model():\n",
        "    model = keras.Sequential()\n",
        "    model.add(keras.layers.Conv2D(32, (8, 8), strides=(4, 4), activation='relu', input_shape=state_size))\n",
        "    model.add(keras.layers.Conv2D(64, (4, 4), strides=(2, 2), activation='relu'))\n",
        "    model.add(keras.layers.Conv2D(64, (3, 3), activation='relu'))\n",
        "    model.add(keras.layers.Flatten())\n",
        "    model.add(keras.layers.Dense(512, activation='relu'))\n",
        "    model.add(keras.layers.Dense(action_size, activation='linear'))\n",
        "    # Change 'lr' to 'learning_rate' in the Adam optimizer\n",
        "    model.compile(optimizer=keras.optimizers.Adam(learning_rate=learning_rate), loss='mse')\n",
        "    return model\n"
      ],
      "metadata": {
        "id": "IfdH_vd9CgQQ"
      },
      "execution_count": null,
      "outputs": []
    },
    {
      "cell_type": "code",
      "source": [
        "# Training the agent\n",
        "def train_dqn(episodes):\n",
        "    model = build_model()\n",
        "    memory = deque(maxlen=2000)\n",
        "    # Add this line to declare epsilon as a global variable inside the function\n",
        "    global epsilon\n",
        "    for e in range(episodes):\n",
        "        # state = env.reset()\n",
        "        # state = np.reshape(state, (1, *state_size))\n",
        "        state, _ = env.reset() # Get the observation from the tuple returned by env.reset()\n",
        "        state = np.reshape(state, (1, *state_size)) # Reshape the observation\n",
        "\n",
        "        for time in range(5000):\n",
        "            if np.random.rand() <= epsilon:\n",
        "                action = random.randrange(action_size)\n",
        "            else:\n",
        "                q_values = model.predict(state)\n",
        "                action = np.argmax(q_values[0])\n",
        "\n",
        "            # Change this line to handle the additional 'truncated' argument\n",
        "            next_state, reward, terminated, truncated, _ = env.step(action)\n",
        "\n",
        "            # Set done based on both 'terminated' and 'truncated'\n",
        "            done = terminated or truncated\n",
        "\n",
        "            next_state = np.reshape(next_state, (1, *state_size))\n",
        "            memory.append((state, action, reward, next_state, done))\n",
        "            state = next_state\n",
        "\n",
        "            if done:\n",
        "                print(f\"Episode: {e+1}/{episodes}, score: {time}, epsilon: {epsilon:.2}\")\n",
        "                break\n",
        "\n",
        "            if len(memory) > batch_size:\n",
        "                minibatch = random.sample(memory, batch_size)\n",
        "                for state, action, reward, next_state, done in minibatch:\n",
        "                    target = reward\n",
        "                    if not done:\n",
        "                        target = reward + gamma * np.amax(model.predict(next_state)[0])\n",
        "                    q_values = model.predict(state)\n",
        "                    q_values[0][action] = target\n",
        "                    model.fit(state, q_values, epochs=1, verbose=0)\n",
        "\n",
        "        if epsilon > epsilon_min:\n",
        "            epsilon *= epsilon_decay\n",
        "\n",
        "    return model\n",
        "\n",
        "# Run training\n",
        "trained_model = train_dqn(100)"
      ],
      "metadata": {
        "id": "RImMn5cnF_GR"
      },
      "execution_count": null,
      "outputs": []
    }
  ]
}